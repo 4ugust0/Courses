{
 "cells": [
  {
   "cell_type": "markdown",
   "metadata": {},
   "source": [
    "# HTTP Verbs"
   ]
  },
  {
   "cell_type": "markdown",
   "metadata": {},
   "source": [
    "A web server is a piece of software designed to accept incoming web requests.\n",
    "\n",
    "- Example of accessing Google.com:\n",
    "\n",
    "GET / HTTP/1.1\n",
    "\n",
    "Host: www.google.com\n",
    "\n",
    "GET = Verb\n",
    "/ = Path\n",
    "HTTP/1.1 - Protocol\n",
    "\n",
    "\n",
    "- Example of Twitter:\n",
    "\n",
    "http://twitter.com/login\n",
    "\n",
    "GET /login HTTP/1.1\n",
    "\n",
    "Other verbs / acitivies:\n",
    "- POST\n",
    "- DELETE\n",
    "- PUT\n",
    "- OPTIONS\n",
    "- HEAD\n",
    "- and more\n",
    "\n",
    "Meaning of the most important verbs:\n",
    "- GET = Retrieve some data\n",
    "- POST = Receive data (as input), and use it\n",
    "- PUT = Make sure that something is there. It might create it or update something\n",
    "- DELETE = Remove something"
   ]
  }
 ],
 "metadata": {
  "kernelspec": {
   "display_name": "Python 3",
   "language": "python",
   "name": "python3"
  },
  "language_info": {
   "codemirror_mode": {
    "name": "ipython",
    "version": 3
   },
   "file_extension": ".py",
   "mimetype": "text/x-python",
   "name": "python",
   "nbconvert_exporter": "python",
   "pygments_lexer": "ipython3",
   "version": "3.6.1"
  }
 },
 "nbformat": 4,
 "nbformat_minor": 2
}
