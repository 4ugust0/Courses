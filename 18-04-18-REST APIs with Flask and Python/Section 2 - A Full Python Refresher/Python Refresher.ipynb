{
 "cells": [
  {
   "cell_type": "markdown",
   "metadata": {},
   "source": [
    "# Python Refresher"
   ]
  },
  {
   "cell_type": "markdown",
   "metadata": {},
   "source": [
    "## Variables"
   ]
  },
  {
   "cell_type": "code",
   "execution_count": 1,
   "metadata": {},
   "outputs": [],
   "source": [
    "# Numbers\n",
    "a = 5\n",
    "b = 10\n",
    "my_variable = 56\n",
    "my_10_variable = 10"
   ]
  },
  {
   "cell_type": "code",
   "execution_count": 2,
   "metadata": {},
   "outputs": [],
   "source": [
    "# 10variable will not work"
   ]
  },
  {
   "cell_type": "code",
   "execution_count": 3,
   "metadata": {},
   "outputs": [],
   "source": [
    "# Strings\n",
    "string_variable = \"hello\"\n",
    "single_quote_variable = 'strings can have single quotes'"
   ]
  },
  {
   "cell_type": "code",
   "execution_count": 4,
   "metadata": {},
   "outputs": [
    {
     "name": "stdout",
     "output_type": "stream",
     "text": [
      "56\n",
      "hello\n"
     ]
    }
   ],
   "source": [
    "# Printing variables\n",
    "print(my_variable)\n",
    "print(string_variable)"
   ]
  },
  {
   "cell_type": "markdown",
   "metadata": {},
   "source": [
    "### Exercise:"
   ]
  },
  {
   "cell_type": "code",
   "execution_count": 5,
   "metadata": {},
   "outputs": [],
   "source": [
    "# Create two variables, var1 and var2, both with the same value.\n",
    "var1 = 'hello'\n",
    "var2 = var1\n",
    "# Create two variables, num1 and num2, which multiply together to give 16.\n",
    "num1 = 8\n",
    "num2 = 2"
   ]
  },
  {
   "cell_type": "markdown",
   "metadata": {},
   "source": [
    "## Methods"
   ]
  },
  {
   "cell_type": "code",
   "execution_count": 6,
   "metadata": {},
   "outputs": [],
   "source": [
    "# Replicate print method\n",
    "def my_print_method():\n",
    "    print('Hello')\n",
    "    print('World')"
   ]
  },
  {
   "cell_type": "code",
   "execution_count": 7,
   "metadata": {},
   "outputs": [
    {
     "name": "stdout",
     "output_type": "stream",
     "text": [
      "Hello\n",
      "World\n"
     ]
    }
   ],
   "source": [
    "my_print_method()"
   ]
  },
  {
   "cell_type": "code",
   "execution_count": 8,
   "metadata": {},
   "outputs": [],
   "source": [
    "def my_multiply_method(number_one, number_two):\n",
    "    return number_one * number_two"
   ]
  },
  {
   "cell_type": "code",
   "execution_count": 9,
   "metadata": {},
   "outputs": [
    {
     "name": "stdout",
     "output_type": "stream",
     "text": [
      "15\n"
     ]
    }
   ],
   "source": [
    "result = my_multiply_method(5, 3)\n",
    "print(result)"
   ]
  },
  {
   "cell_type": "code",
   "execution_count": 10,
   "metadata": {},
   "outputs": [
    {
     "name": "stdout",
     "output_type": "stream",
     "text": [
      "15\n"
     ]
    }
   ],
   "source": [
    "print(my_multiply_method(5, 3))"
   ]
  },
  {
   "cell_type": "markdown",
   "metadata": {},
   "source": [
    "### Exercise:"
   ]
  },
  {
   "cell_type": "code",
   "execution_count": 11,
   "metadata": {},
   "outputs": [],
   "source": [
    "# Complete the method by making sure it returns 42. .\n",
    "def return_42():\n",
    "    # Complete method here\n",
    "    return 42\n",
    "\n",
    "# Create a method below, called my_method, that takes two arguments and returns the result of its two arguments multiplied together.\n",
    "def my_method(n1, n2):\n",
    "    return n1 * n2"
   ]
  },
  {
   "cell_type": "code",
   "execution_count": 12,
   "metadata": {},
   "outputs": [
    {
     "name": "stdout",
     "output_type": "stream",
     "text": [
      "42\n",
      "30\n"
     ]
    }
   ],
   "source": [
    "print(return_42())\n",
    "print(my_method(5, 6))"
   ]
  },
  {
   "cell_type": "markdown",
   "metadata": {},
   "source": [
    "## List, tuplets and sets"
   ]
  },
  {
   "cell_type": "code",
   "execution_count": 13,
   "metadata": {},
   "outputs": [
    {
     "name": "stdout",
     "output_type": "stream",
     "text": [
      "5\n",
      "442\n",
      "88.4\n"
     ]
    }
   ],
   "source": [
    "# List\n",
    "grades = [77, 80, 90, 95, 100]\n",
    "print(len(grades))\n",
    "print(sum(grades))\n",
    "# Calculating average\n",
    "print(sum(grades) / len(grades))\n",
    "grades.append(199)"
   ]
  },
  {
   "cell_type": "code",
   "execution_count": 14,
   "metadata": {},
   "outputs": [],
   "source": [
    "# Tuple\n",
    "# Tuples are immutable (changed), which means we cannot increase the size of the tuple.\n",
    "grades_tuple = (77, 80, 90, 95, 100)"
   ]
  },
  {
   "cell_type": "code",
   "execution_count": 15,
   "metadata": {},
   "outputs": [
    {
     "name": "stdout",
     "output_type": "stream",
     "text": [
      "{192, 100, 77, 80, 95}\n"
     ]
    }
   ],
   "source": [
    "# Set \n",
    "# Set is a list of unique and unordered values\n",
    "grades_set = {77, 80, 192, 95, 100, 100}\n",
    "# Duplicate of 100 will be removed.\n",
    "print(grades_set)"
   ]
  },
  {
   "cell_type": "code",
   "execution_count": 16,
   "metadata": {},
   "outputs": [
    {
     "name": "stdout",
     "output_type": "stream",
     "text": [
      "(77, 80, 90, 95, 100)\n",
      "(77, 80, 90, 95, 100, 100)\n"
     ]
    }
   ],
   "source": [
    "# However, the tuple can be changed in a specific way.\n",
    "# It achieved by re-assigning value for the whole tuple\n",
    "print(grades_tuple)\n",
    "grades_tuple = grades_tuple + (100, )\n",
    "print(grades_tuple)"
   ]
  },
  {
   "cell_type": "code",
   "execution_count": 17,
   "metadata": {},
   "outputs": [
    {
     "name": "stdout",
     "output_type": "stream",
     "text": [
      "77\n",
      "[60, 80, 90, 95, 100, 199]\n"
     ]
    }
   ],
   "source": [
    "# Re-assigning values in a list\n",
    "print(grades[0])\n",
    "grades[0] = 60\n",
    "print(grades)"
   ]
  },
  {
   "cell_type": "code",
   "execution_count": 18,
   "metadata": {},
   "outputs": [
    {
     "name": "stdout",
     "output_type": "stream",
     "text": [
      "{192, 100, 77, 80, 95}\n",
      "{192, 100, 77, 80, 22, 95}\n"
     ]
    }
   ],
   "source": [
    "# It cannot be done with either tuple nor set.\n",
    "# Tuple is immutable\n",
    "# Set is unordered.\n",
    "# However, set supports adding new values.\n",
    "print(grades_set)\n",
    "grades_set.add(22)\n",
    "print(grades_set)"
   ]
  },
  {
   "cell_type": "code",
   "execution_count": 19,
   "metadata": {},
   "outputs": [
    {
     "name": "stdout",
     "output_type": "stream",
     "text": [
      "{192, 100, 77, 80, 22, 95}\n",
      "{192, 3, 100, 77, 80, 22, 95}\n"
     ]
    }
   ],
   "source": [
    "# Adding the same value to the set will not throw an error and the value will appear only once since set contains only unique values\n",
    "print(grades_set)\n",
    "grades_set.add(3)\n",
    "grades_set.add(3)\n",
    "grades_set.add(3)\n",
    "print(grades_set)"
   ]
  },
  {
   "cell_type": "code",
   "execution_count": 20,
   "metadata": {},
   "outputs": [],
   "source": [
    "# Set operations\n",
    "set_one = {1, 2, 3, 4, 5}\n",
    "set_two = {1, 3, 5, 7, 9, 11}"
   ]
  },
  {
   "cell_type": "code",
   "execution_count": 21,
   "metadata": {},
   "outputs": [
    {
     "name": "stdout",
     "output_type": "stream",
     "text": [
      "{1, 3, 5}\n"
     ]
    }
   ],
   "source": [
    "print(set_two.intersection(set_one))"
   ]
  },
  {
   "cell_type": "code",
   "execution_count": 22,
   "metadata": {},
   "outputs": [
    {
     "name": "stdout",
     "output_type": "stream",
     "text": [
      "{1, 2, 3, 4, 5, 7, 9, 11}\n"
     ]
    }
   ],
   "source": [
    "print(set_two.union(set_one))"
   ]
  },
  {
   "cell_type": "code",
   "execution_count": 23,
   "metadata": {},
   "outputs": [
    {
     "name": "stdout",
     "output_type": "stream",
     "text": [
      "{9, 11, 7}\n"
     ]
    }
   ],
   "source": [
    "print(set_two.difference(set_one))"
   ]
  },
  {
   "cell_type": "markdown",
   "metadata": {},
   "source": [
    "### Exercise:"
   ]
  },
  {
   "cell_type": "code",
   "execution_count": 24,
   "metadata": {},
   "outputs": [],
   "source": [
    "# Create a list, called my_list, with three numbers. The total of the numbers added together should be 100.\n",
    "my_list = [11, 22, 67]\n",
    "# Create a tuple, called my_tuple, with a single value in it\n",
    "my_tuple = (100, )\n",
    "# Modify set2 so that set1.intersection(set2) returns {5, 77, 9, 12}\n",
    "set1 = {14, 5, 9, 31, 12, 77, 67, 8}\n",
    "set2 = {5, 77, 9, 12, 33}"
   ]
  },
  {
   "cell_type": "markdown",
   "metadata": {},
   "source": [
    "## Loops"
   ]
  },
  {
   "cell_type": "markdown",
   "metadata": {},
   "source": [
    "#### For loop"
   ]
  },
  {
   "cell_type": "code",
   "execution_count": 25,
   "metadata": {},
   "outputs": [
    {
     "name": "stdout",
     "output_type": "stream",
     "text": [
      "h\n",
      "e\n",
      "l\n",
      "l\n",
      "o\n",
      "1\n",
      "3\n",
      "5\n",
      "7\n",
      "9\n"
     ]
    }
   ],
   "source": [
    "my_string = 'hello'\n",
    "\n",
    "# My string is iterable\n",
    "# Strings, lists, sets, tuples (and many more) are iterable.\n",
    "for character in my_string:\n",
    "    print(character)\n",
    "    \n",
    "my_list = [1, 3, 5, 7, 9]\n",
    "\n",
    "for number in my_list:\n",
    "    print(number)"
   ]
  },
  {
   "cell_type": "markdown",
   "metadata": {},
   "source": [
    "#### While loop"
   ]
  },
  {
   "cell_type": "code",
   "execution_count": 26,
   "metadata": {},
   "outputs": [
    {
     "name": "stdout",
     "output_type": "stream",
     "text": [
      "10\n",
      "10\n"
     ]
    }
   ],
   "source": [
    "user_wants_number = True\n",
    "\n",
    "while (user_wants_number == True):\n",
    "    print(10)\n",
    "    user_input = input(\"Shoudl we print again? (y/n) \")\n",
    "    if(user_input == 'n'):\n",
    "        user_wants_number = False\n",
    "    "
   ]
  },
  {
   "cell_type": "markdown",
   "metadata": {},
   "source": [
    "## If statement"
   ]
  },
  {
   "cell_type": "code",
   "execution_count": 27,
   "metadata": {},
   "outputs": [
    {
     "name": "stdout",
     "output_type": "stream",
     "text": [
      "Hello <3\n"
     ]
    }
   ],
   "source": [
    "should_continue = True\n",
    "\n",
    "if(should_continue):\n",
    "    print('Hello <3')"
   ]
  },
  {
   "cell_type": "markdown",
   "metadata": {},
   "source": [
    "\"if(should_continue)\" is equal to \"if(should_continue == True)\""
   ]
  },
  {
   "cell_type": "code",
   "execution_count": 28,
   "metadata": {},
   "outputs": [
    {
     "name": "stdout",
     "output_type": "stream",
     "text": [
      "You know Sara.\n"
     ]
    }
   ],
   "source": [
    "known_people = [\"John\", \"Anna\", \"Sara\"]\n",
    "\n",
    "person = input(\"Enter the person you know: \")\n",
    "\n",
    "if(person in known_people):\n",
    "    print(\"You know {}.\".format(person))\n",
    "else:\n",
    "    print(\"You don't know {}.\".format(person))"
   ]
  },
  {
   "cell_type": "markdown",
   "metadata": {},
   "source": [
    "### Exercise:"
   ]
  },
  {
   "cell_type": "code",
   "execution_count": 29,
   "metadata": {},
   "outputs": [],
   "source": [
    "numbers = [1, 2, 3, 4, 5, 6, 7, 8, 9]\n",
    "\n",
    "# Modify the method below to make sure only even numbers are returned.\n",
    "def even_numbers():\n",
    "    evens = []\n",
    "    for number in numbers:\n",
    "        if(number % 2 == 0):\n",
    "            evens.append(number)\n",
    "    return evens\n",
    "\n",
    "\n",
    "# Modify the below method so that \"Quit\" is returned if the choice parameter is \"q\".\n",
    "# Don't remove the existing code\n",
    "def user_menu(choice):\n",
    "    if choice == \"a\":\n",
    "        return \"Add\"\n",
    "    elif (choice == \"q\"):\n",
    "        return \"Quit\""
   ]
  },
  {
   "cell_type": "code",
   "execution_count": 30,
   "metadata": {},
   "outputs": [
    {
     "name": "stdout",
     "output_type": "stream",
     "text": [
      "[2, 4, 6, 8]\n",
      "Quit\n",
      "Add\n"
     ]
    }
   ],
   "source": [
    "print(even_numbers())\n",
    "print(user_menu(\"q\"))\n",
    "print(user_menu(\"a\"))"
   ]
  },
  {
   "cell_type": "markdown",
   "metadata": {},
   "source": [
    "## Programming exercise"
   ]
  },
  {
   "cell_type": "code",
   "execution_count": 31,
   "metadata": {},
   "outputs": [
    {
     "name": "stdout",
     "output_type": "stream",
     "text": [
      "You know Sara\n"
     ]
    }
   ],
   "source": [
    "# Ask the user for a list of people they know\n",
    "# Split the string into a list\n",
    "# Ask user for a name\n",
    "# See if the name is in the list of people they know\n",
    "# Print out \"You know _\" or \"You do not know _\"\n",
    "def who_do_you_know():\n",
    "    know_people_input = input(\"List of people you know, separated by comma: \")\n",
    "    know_people_list = know_people_input.split(\",\")\n",
    "    return know_people_list\n",
    "\n",
    "def ask_user(know_people_list):\n",
    "    new_name = input (\"Give a name of a person: \")\n",
    "    if(new_name in know_people_list):\n",
    "        print(\"You know {}\".format(new_name))\n",
    "    else:\n",
    "        print(\"You don't know {}\".format(new_name))\n",
    "        \n",
    "know_people_list = who_do_you_know()\n",
    "ask_user(know_people_list)"
   ]
  },
  {
   "cell_type": "markdown",
   "metadata": {},
   "source": [
    "## List comprehension"
   ]
  },
  {
   "cell_type": "code",
   "execution_count": 32,
   "metadata": {},
   "outputs": [],
   "source": [
    "my_list = [0, 1, 2, 3, 4]\n",
    "an_equal_list = [x for x in range(5)]\n",
    "\n",
    "multiply_list = [x * 3 for x in range(5)]"
   ]
  },
  {
   "cell_type": "code",
   "execution_count": 33,
   "metadata": {},
   "outputs": [
    {
     "name": "stdout",
     "output_type": "stream",
     "text": [
      "[0, 2, 4, 6, 8]\n"
     ]
    }
   ],
   "source": [
    "new_list = [n for n in range(10) if (n % 2) == 0]\n",
    "print(new_list)"
   ]
  },
  {
   "cell_type": "code",
   "execution_count": 34,
   "metadata": {},
   "outputs": [
    {
     "name": "stdout",
     "output_type": "stream",
     "text": [
      "['rolf', 'john', 'anna', 'greg']\n"
     ]
    }
   ],
   "source": [
    "people_you_know_list = [\"Rolf\", \" John\", \"anna\", \"GREG\"]\n",
    "normalised_people_list = [person.strip().lower() for person in people_you_know_list]\n",
    "print(normalised_people_list)"
   ]
  },
  {
   "cell_type": "markdown",
   "metadata": {},
   "source": [
    "## Dictionaries"
   ]
  },
  {
   "cell_type": "code",
   "execution_count": 35,
   "metadata": {},
   "outputs": [],
   "source": [
    "my_dict = {'name': 'Wojciech',\n",
    "           'age': 26, \n",
    "           'grades' : [90, 100, 95]}\n",
    "# Dictionary can have a numeric key \n",
    "another_dict = {1 : 25, \n",
    "                2 : 50, \n",
    "                3 : 75}"
   ]
  },
  {
   "cell_type": "code",
   "execution_count": 36,
   "metadata": {},
   "outputs": [
    {
     "data": {
      "text/plain": [
       "'Wojciech'"
      ]
     },
     "execution_count": 36,
     "metadata": {},
     "output_type": "execute_result"
    }
   ],
   "source": [
    "my_dict['name']"
   ]
  },
  {
   "cell_type": "code",
   "execution_count": 37,
   "metadata": {},
   "outputs": [
    {
     "data": {
      "text/plain": [
       "'Wojciech'"
      ]
     },
     "execution_count": 37,
     "metadata": {},
     "output_type": "execute_result"
    }
   ],
   "source": [
    "my_dict.get('name')"
   ]
  },
  {
   "cell_type": "code",
   "execution_count": 38,
   "metadata": {},
   "outputs": [],
   "source": [
    "# We can have dictionary inside a dictionary\n",
    "dict_in_dict = {\n",
    "    'dict' : {\n",
    "        'name' : 'dictionary'\n",
    "    }\n",
    "}"
   ]
  },
  {
   "cell_type": "code",
   "execution_count": 39,
   "metadata": {},
   "outputs": [
    {
     "name": "stdout",
     "output_type": "stream",
     "text": [
      "{'name': 'Wojciech', 'age': 26, 'grades': [90, 100, 95]}\n",
      "{'name': 'Wojciech', 'age': 26, 'grades': [95, 100, 95]}\n"
     ]
    }
   ],
   "source": [
    "print(my_dict)\n",
    "my_dict['grades'][0] = 95\n",
    "print(my_dict)"
   ]
  },
  {
   "cell_type": "code",
   "execution_count": 40,
   "metadata": {},
   "outputs": [
    {
     "name": "stdout",
     "output_type": "stream",
     "text": [
      "Help on class dict in module builtins:\n",
      "\n",
      "class dict(object)\n",
      " |  dict() -> new empty dictionary\n",
      " |  dict(mapping) -> new dictionary initialized from a mapping object's\n",
      " |      (key, value) pairs\n",
      " |  dict(iterable) -> new dictionary initialized as if via:\n",
      " |      d = {}\n",
      " |      for k, v in iterable:\n",
      " |          d[k] = v\n",
      " |  dict(**kwargs) -> new dictionary initialized with the name=value pairs\n",
      " |      in the keyword argument list.  For example:  dict(one=1, two=2)\n",
      " |  \n",
      " |  Methods defined here:\n",
      " |  \n",
      " |  __contains__(self, key, /)\n",
      " |      True if D has a key k, else False.\n",
      " |  \n",
      " |  __delitem__(self, key, /)\n",
      " |      Delete self[key].\n",
      " |  \n",
      " |  __eq__(self, value, /)\n",
      " |      Return self==value.\n",
      " |  \n",
      " |  __ge__(self, value, /)\n",
      " |      Return self>=value.\n",
      " |  \n",
      " |  __getattribute__(self, name, /)\n",
      " |      Return getattr(self, name).\n",
      " |  \n",
      " |  __getitem__(...)\n",
      " |      x.__getitem__(y) <==> x[y]\n",
      " |  \n",
      " |  __gt__(self, value, /)\n",
      " |      Return self>value.\n",
      " |  \n",
      " |  __init__(self, /, *args, **kwargs)\n",
      " |      Initialize self.  See help(type(self)) for accurate signature.\n",
      " |  \n",
      " |  __iter__(self, /)\n",
      " |      Implement iter(self).\n",
      " |  \n",
      " |  __le__(self, value, /)\n",
      " |      Return self<=value.\n",
      " |  \n",
      " |  __len__(self, /)\n",
      " |      Return len(self).\n",
      " |  \n",
      " |  __lt__(self, value, /)\n",
      " |      Return self<value.\n",
      " |  \n",
      " |  __ne__(self, value, /)\n",
      " |      Return self!=value.\n",
      " |  \n",
      " |  __new__(*args, **kwargs) from builtins.type\n",
      " |      Create and return a new object.  See help(type) for accurate signature.\n",
      " |  \n",
      " |  __repr__(self, /)\n",
      " |      Return repr(self).\n",
      " |  \n",
      " |  __setitem__(self, key, value, /)\n",
      " |      Set self[key] to value.\n",
      " |  \n",
      " |  __sizeof__(...)\n",
      " |      D.__sizeof__() -> size of D in memory, in bytes\n",
      " |  \n",
      " |  clear(...)\n",
      " |      D.clear() -> None.  Remove all items from D.\n",
      " |  \n",
      " |  copy(...)\n",
      " |      D.copy() -> a shallow copy of D\n",
      " |  \n",
      " |  fromkeys(iterable, value=None, /) from builtins.type\n",
      " |      Returns a new dict with keys from iterable and values equal to value.\n",
      " |  \n",
      " |  get(...)\n",
      " |      D.get(k[,d]) -> D[k] if k in D, else d.  d defaults to None.\n",
      " |  \n",
      " |  items(...)\n",
      " |      D.items() -> a set-like object providing a view on D's items\n",
      " |  \n",
      " |  keys(...)\n",
      " |      D.keys() -> a set-like object providing a view on D's keys\n",
      " |  \n",
      " |  pop(...)\n",
      " |      D.pop(k[,d]) -> v, remove specified key and return the corresponding value.\n",
      " |      If key is not found, d is returned if given, otherwise KeyError is raised\n",
      " |  \n",
      " |  popitem(...)\n",
      " |      D.popitem() -> (k, v), remove and return some (key, value) pair as a\n",
      " |      2-tuple; but raise KeyError if D is empty.\n",
      " |  \n",
      " |  setdefault(...)\n",
      " |      D.setdefault(k[,d]) -> D.get(k,d), also set D[k]=d if k not in D\n",
      " |  \n",
      " |  update(...)\n",
      " |      D.update([E, ]**F) -> None.  Update D from dict/iterable E and F.\n",
      " |      If E is present and has a .keys() method, then does:  for k in E: D[k] = E[k]\n",
      " |      If E is present and lacks a .keys() method, then does:  for k, v in E: D[k] = v\n",
      " |      In either case, this is followed by: for k in F:  D[k] = F[k]\n",
      " |  \n",
      " |  values(...)\n",
      " |      D.values() -> an object providing a view on D's values\n",
      " |  \n",
      " |  ----------------------------------------------------------------------\n",
      " |  Data and other attributes defined here:\n",
      " |  \n",
      " |  __hash__ = None\n",
      "\n"
     ]
    }
   ],
   "source": [
    "help(dict)"
   ]
  },
  {
   "cell_type": "markdown",
   "metadata": {},
   "source": [
    "### Exercise"
   ]
  },
  {
   "cell_type": "code",
   "execution_count": 41,
   "metadata": {},
   "outputs": [],
   "source": [
    "# Create a variable called student, with a dictionary.\n",
    "# The dictionary must contain three keys: 'name', 'school', and 'grades'.\n",
    "# The values for each must be 'Jose', 'Computing', and a tuple with the values 66, 77, and 88.\n",
    "student = {'name' : 'Jose', \n",
    "           'school' : 'Computing', \n",
    "           'grades' : (66, 77, 88)}\n",
    "\n",
    "# Assume the argument, data, is a dictionary.\n",
    "# Modify the grades variable so it accesses the 'grades' key of the data dictionary.\n",
    "def average_grade(data):\n",
    "    # Change below\n",
    "    grades = data['grades']\n",
    "    return sum(grades) / len(grades)\n",
    "\n",
    "\n",
    "# Implement the function below\n",
    "# Given a list of students (dictionaries), calculate the average grade of the class\n",
    "# You must add all the grades of all the students together\n",
    "# You must also count how many grades there are in total in the entire list\n",
    "def average_grade_all_students(student_list):\n",
    "    total = 0\n",
    "    count = 0\n",
    "    for student in student_list:\n",
    "        # Implement here\n",
    "        total += sum(student['grades'])\n",
    "        count += len(student['grades'])\n",
    "    return total / count"
   ]
  },
  {
   "cell_type": "markdown",
   "metadata": {},
   "source": [
    "## Classes and objects"
   ]
  },
  {
   "cell_type": "code",
   "execution_count": 42,
   "metadata": {},
   "outputs": [
    {
     "name": "stdout",
     "output_type": "stream",
     "text": [
      "John\n",
      "(5, 9, 12, 3, 1, 21)\n"
     ]
    }
   ],
   "source": [
    "lottery_player_dict = {\n",
    "    'name' : 'John',\n",
    "    'numbers' : (5, 9, 12, 3, 1, 21)\n",
    "}\n",
    "print(lottery_player_dict['name'])\n",
    "print(lottery_player_dict['numbers'])"
   ]
  },
  {
   "cell_type": "code",
   "execution_count": 43,
   "metadata": {},
   "outputs": [],
   "source": [
    "class LotteryPlayer:\n",
    "    def __init__(self):\n",
    "        self.name = 'John'\n",
    "        self.numbers = (5, 9, 12, 3, 1, 21)"
   ]
  },
  {
   "cell_type": "code",
   "execution_count": 44,
   "metadata": {},
   "outputs": [
    {
     "name": "stdout",
     "output_type": "stream",
     "text": [
      "John\n",
      "(5, 9, 12, 3, 1, 21)\n"
     ]
    }
   ],
   "source": [
    "player = LotteryPlayer()\n",
    "print(player.name)\n",
    "print(player.numbers)"
   ]
  },
  {
   "cell_type": "markdown",
   "metadata": {},
   "source": [
    "Dictionary cannot do operations on its own data. However, we can define methods accessing that data."
   ]
  },
  {
   "cell_type": "code",
   "execution_count": 45,
   "metadata": {},
   "outputs": [
    {
     "name": "stdout",
     "output_type": "stream",
     "text": [
      "51\n"
     ]
    }
   ],
   "source": [
    "class LotteryPlayer:\n",
    "    def __init__(self):\n",
    "        self.name = 'John'\n",
    "        self.numbers = (5, 9, 12, 3, 1, 21)\n",
    "    \n",
    "    def total(self):\n",
    "        return sum(self.numbers)\n",
    "    \n",
    "player = LotteryPlayer()\n",
    "print(player.total())"
   ]
  },
  {
   "cell_type": "markdown",
   "metadata": {},
   "source": [
    "Objects not only have data, but can have methods as well."
   ]
  },
  {
   "cell_type": "code",
   "execution_count": 46,
   "metadata": {},
   "outputs": [
    {
     "name": "stdout",
     "output_type": "stream",
     "text": [
      "<__main__.LotteryPlayer object at 0x0000012ED8ECFF28>\n",
      "<__main__.LotteryPlayer object at 0x0000012ED8ECFEF0>\n"
     ]
    }
   ],
   "source": [
    "# player_one and player_two are two different instances of the same class\n",
    "player_one = LotteryPlayer()\n",
    "player_two = LotteryPlayer()\n",
    "print(player_one)\n",
    "print(player_two)"
   ]
  },
  {
   "cell_type": "code",
   "execution_count": 47,
   "metadata": {},
   "outputs": [
    {
     "name": "stdout",
     "output_type": "stream",
     "text": [
      "True\n"
     ]
    }
   ],
   "source": [
    "print(player_one.name == player_two.name)"
   ]
  },
  {
   "cell_type": "code",
   "execution_count": 48,
   "metadata": {},
   "outputs": [],
   "source": [
    "class LotteryPlayer:\n",
    "    def __init__(self, name):\n",
    "        self.name = name\n",
    "        self.numbers = (5, 9, 12, 3, 1, 21)\n",
    "    \n",
    "    def total(self):\n",
    "        return sum(self.numbers)\n",
    "    \n",
    "player_one = LotteryPlayer('John')\n",
    "player_two = LotteryPlayer('Sara')"
   ]
  },
  {
   "cell_type": "code",
   "execution_count": 49,
   "metadata": {},
   "outputs": [
    {
     "name": "stdout",
     "output_type": "stream",
     "text": [
      "False\n"
     ]
    }
   ],
   "source": [
    "print(player_one.name == player_two.name)"
   ]
  },
  {
   "cell_type": "markdown",
   "metadata": {},
   "source": [
    "## Use case : Student class"
   ]
  },
  {
   "cell_type": "code",
   "execution_count": 50,
   "metadata": {},
   "outputs": [
    {
     "name": "stdout",
     "output_type": "stream",
     "text": [
      "[90]\n",
      "[90, 70]\n",
      "80.0\n"
     ]
    }
   ],
   "source": [
    "class Student():\n",
    "    def __init__(self, name, school):\n",
    "        self.name = name\n",
    "        self.school = school\n",
    "        self.marks = []\n",
    "    def avg_marks(self):\n",
    "        return sum(self.marks) / len(self.marks)\n",
    "    \n",
    "anna = Student(\"Anna\", \"KTH\")\n",
    "anna.marks.append(90)\n",
    "print(anna.marks)\n",
    "anna.marks.append(70)\n",
    "print(anna.marks)\n",
    "print(anna.avg_marks())"
   ]
  },
  {
   "cell_type": "markdown",
   "metadata": {},
   "source": [
    "### Exercise"
   ]
  },
  {
   "cell_type": "code",
   "execution_count": 51,
   "metadata": {},
   "outputs": [],
   "source": [
    "class Store:\n",
    "    def __init__(self, name):\n",
    "        # You'll need 'name' as an argument to this method.\n",
    "        # Then, initialise 'self.name' to be the argument, and 'self.items' to be an empty list.\n",
    "        self.name = name\n",
    "        self.items = []\n",
    "    \n",
    "    def add_item(self, name, price):\n",
    "        # Create a dictionary with keys name and price, and append that to self.items.\n",
    "        item_dict = {'name' : name, \n",
    "                     'price' : price}\n",
    "        self.items.append(item_dict)\n",
    "        \n",
    "\n",
    "    def stock_price(self):\n",
    "        # Add together all item prices in self.items and return the total.\n",
    "        total_sum = 0\n",
    "        for item in self.items: \n",
    "            total_sum += item['price']\n",
    "        return total_sum"
   ]
  },
  {
   "cell_type": "code",
   "execution_count": 52,
   "metadata": {},
   "outputs": [],
   "source": [
    "Asda = Store('ASDA')"
   ]
  },
  {
   "cell_type": "code",
   "execution_count": 53,
   "metadata": {},
   "outputs": [],
   "source": [
    "Asda.add_item('Something', 33)\n",
    "Asda.add_item('Something2', 34)"
   ]
  },
  {
   "cell_type": "code",
   "execution_count": 54,
   "metadata": {},
   "outputs": [
    {
     "name": "stdout",
     "output_type": "stream",
     "text": [
      "[{'name': 'Something', 'price': 33}, {'name': 'Something2', 'price': 34}]\n"
     ]
    }
   ],
   "source": [
    "print(Asda.items)"
   ]
  },
  {
   "cell_type": "code",
   "execution_count": 55,
   "metadata": {},
   "outputs": [
    {
     "data": {
      "text/plain": [
       "[{'name': 'Something', 'price': 33}, {'name': 'Something2', 'price': 34}]"
      ]
     },
     "execution_count": 55,
     "metadata": {},
     "output_type": "execute_result"
    }
   ],
   "source": [
    "Asda.items[:]"
   ]
  },
  {
   "cell_type": "code",
   "execution_count": 56,
   "metadata": {},
   "outputs": [
    {
     "data": {
      "text/plain": [
       "67"
      ]
     },
     "execution_count": 56,
     "metadata": {},
     "output_type": "execute_result"
    }
   ],
   "source": [
    "Asda.stock_price()"
   ]
  },
  {
   "cell_type": "markdown",
   "metadata": {},
   "source": [
    "## @classmethod and @staticmethod"
   ]
  },
  {
   "cell_type": "code",
   "execution_count": 57,
   "metadata": {},
   "outputs": [
    {
     "name": "stdout",
     "output_type": "stream",
     "text": [
      "I'm going to school.\n",
      "I'm <class '__main__.Student'>.\n",
      "I'm on my way back from school.\n"
     ]
    }
   ],
   "source": [
    "class Student():\n",
    "    def __init__(self, name, school):\n",
    "        self.name = name\n",
    "        self.school = school\n",
    "        self.marks = []\n",
    "    def avg_marks(self):\n",
    "        return sum(self.marks) / len(self.marks)\n",
    "    \n",
    "    # Self can be excluded from passing to the method\n",
    "    # However, we need to pass the class, instead of the object\n",
    "    @classmethod\n",
    "    def go_to_school(cls):\n",
    "        # A very generic method\n",
    "        # In this scenario, since, self is not used - it does not matter on which object it is called on.\n",
    "        # Self is always passed\n",
    "        print(\"I'm going to school.\")\n",
    "        print(\"I'm {}.\".format(cls))\n",
    "        # In some cases passing the class is useful,\n",
    "        # Otherwise, we should use @staticmethod\n",
    "    \n",
    "    @staticmethod\n",
    "    def back_from_school():\n",
    "        print(\"I'm on my way back from school.\")\n",
    "    \n",
    "anna = Student(\"Anna\", \"KTH\")\n",
    "anna.go_to_school()\n",
    "anna.back_from_school()"
   ]
  },
  {
   "cell_type": "code",
   "execution_count": 58,
   "metadata": {},
   "outputs": [
    {
     "name": "stdout",
     "output_type": "stream",
     "text": [
      "Using static method:\n",
      "I'm on my way back from school.\n"
     ]
    }
   ],
   "source": [
    "# Static method can be called directly from the class\n",
    "print('Using static method:')\n",
    "Student.back_from_school()"
   ]
  },
  {
   "cell_type": "markdown",
   "metadata": {},
   "source": [
    "### Exercise:"
   ]
  },
  {
   "cell_type": "code",
   "execution_count": 59,
   "metadata": {},
   "outputs": [],
   "source": [
    "class Store:\n",
    "    def __init__(self, name):\n",
    "        self.name = name\n",
    "        self.items = []\n",
    "\n",
    "    def add_item(self, name, price):\n",
    "        self.items.append({\n",
    "            'name': name,\n",
    "            'price': price\n",
    "        })\n",
    "\n",
    "    def stock_price(self):\n",
    "        total = 0\n",
    "        for item in self.items:\n",
    "            total += item['price']\n",
    "        return total\n",
    "\n",
    "    @classmethod\n",
    "    def franchise(cls, store):\n",
    "        # Return another store, with the same name as the argument's name, plus \" - franchise\" \n",
    "        return cls(store.name + \" - franchise\")\n",
    "    \n",
    "    @staticmethod\n",
    "    def store_details(store):\n",
    "        # Return a string representing the argument\n",
    "        # It should be in the format 'NAME, total stock price: TOTAL'\n",
    "        return '{}, total stock price: {}'.format(store.name, int(store.stock_price()))"
   ]
  },
  {
   "cell_type": "code",
   "execution_count": 60,
   "metadata": {},
   "outputs": [
    {
     "name": "stdout",
     "output_type": "stream",
     "text": [
      "<__main__.Store object at 0x0000012ED8E8AF28>\n",
      "<__main__.Store object at 0x0000012ED8E8AC88>\n",
      "Store1, total stock price: 0\n",
      "Store2, total stock price: 160\n"
     ]
    }
   ],
   "source": [
    "store = Store(\"Store1\")\n",
    "store2 = Store(\"Store2\")\n",
    "store2.add_item(\"Keyboard\", 160)\n",
    "\n",
    "print(Store.franchise(store))\n",
    "print(Store.franchise(store2))\n",
    "\n",
    "print(Store.store_details(store))\n",
    "print(Store.store_details(store2))"
   ]
  },
  {
   "cell_type": "markdown",
   "metadata": {},
   "source": [
    "## Inheritance"
   ]
  },
  {
   "cell_type": "code",
   "execution_count": 61,
   "metadata": {},
   "outputs": [
    {
     "name": "stdout",
     "output_type": "stream",
     "text": [
      "Johan\n",
      "KTH\n"
     ]
    }
   ],
   "source": [
    "class Student():\n",
    "    def __init__(self, name, school):\n",
    "        self.name = name\n",
    "        self.school = school\n",
    "        self.marks = []\n",
    "        \n",
    "    def avg_marks(self):\n",
    "        return sum(self.marks) / len(self.marks)\n",
    "    \n",
    "    def friend(self, friend_name):\n",
    "        # Return a new Student called 'friend_name in the same school as self.\n",
    "        return (Student(friend_name, self.school))\n",
    "    \n",
    "anna = Student(\"Anna\", \"KTH\")\n",
    "\n",
    "friend = anna.friend(\"Johan\")\n",
    "print(friend.name)\n",
    "print(friend.school)"
   ]
  },
  {
   "cell_type": "code",
   "execution_count": 62,
   "metadata": {},
   "outputs": [],
   "source": [
    "# Class Working student contains everything from class Student.\n",
    "class WorkingStudent(Student):\n",
    "    def __init__(self, name, school, salary):\n",
    "        super().__init__(name, school)\n",
    "        self.salary = salary\n",
    "        '''\n",
    "        That is equal to:\n",
    "        self.name = name\n",
    "        self.school = school\n",
    "        self.marks = []\n",
    "        \n",
    "        self.salary = salary\n",
    "        '''"
   ]
  },
  {
   "cell_type": "code",
   "execution_count": 63,
   "metadata": {},
   "outputs": [
    {
     "name": "stdout",
     "output_type": "stream",
     "text": [
      "Anna\n",
      "KTH\n",
      "100\n"
     ]
    }
   ],
   "source": [
    "anna = WorkingStudent(\"Anna\", \"KTH\", \"100\")\n",
    "print(anna.name)\n",
    "print(anna.school)\n",
    "print(anna.salary)"
   ]
  },
  {
   "cell_type": "markdown",
   "metadata": {},
   "source": [
    "## *args and **kwargs"
   ]
  },
  {
   "cell_type": "code",
   "execution_count": 64,
   "metadata": {},
   "outputs": [
    {
     "data": {
      "text/plain": [
       "11"
      ]
     },
     "execution_count": 64,
     "metadata": {},
     "output_type": "execute_result"
    }
   ],
   "source": [
    "def my_method(arg1, arg2):\n",
    "    return arg1 + arg2\n",
    "\n",
    "my_method(5, 6)"
   ]
  },
  {
   "cell_type": "code",
   "execution_count": 65,
   "metadata": {},
   "outputs": [],
   "source": [
    "def my_long_method(arg1, arg2, arg3, arg4, arg5, arg6, arg7):\n",
    "    return arg1 + arg2 + arg3 + arg4 + arg5 + arg6 + arg7"
   ]
  },
  {
   "cell_type": "code",
   "execution_count": 66,
   "metadata": {},
   "outputs": [],
   "source": [
    "def my_list_method(list_arg):\n",
    "    return sum(list_arg)"
   ]
  },
  {
   "cell_type": "code",
   "execution_count": 67,
   "metadata": {},
   "outputs": [
    {
     "data": {
      "text/plain": [
       "28"
      ]
     },
     "execution_count": 67,
     "metadata": {},
     "output_type": "execute_result"
    }
   ],
   "source": [
    "my_long_method(1, 2, 3, 4, 5, 6, 7)"
   ]
  },
  {
   "cell_type": "code",
   "execution_count": 68,
   "metadata": {},
   "outputs": [
    {
     "data": {
      "text/plain": [
       "28"
      ]
     },
     "execution_count": 68,
     "metadata": {},
     "output_type": "execute_result"
    }
   ],
   "source": [
    "my_list_method([1, 2, 3, 4, 5, 6, 7])"
   ]
  },
  {
   "cell_type": "code",
   "execution_count": 69,
   "metadata": {},
   "outputs": [],
   "source": [
    "# *args\n",
    "def addition_simplified(*args):\n",
    "    # args are converter to a list\n",
    "    # but we do not need to pass to it a list.\n",
    "    return sum(args)"
   ]
  },
  {
   "cell_type": "code",
   "execution_count": 70,
   "metadata": {},
   "outputs": [
    {
     "data": {
      "text/plain": [
       "6"
      ]
     },
     "execution_count": 70,
     "metadata": {},
     "output_type": "execute_result"
    }
   ],
   "source": [
    "addition_simplified(1, 2, 3)"
   ]
  },
  {
   "cell_type": "code",
   "execution_count": 71,
   "metadata": {},
   "outputs": [],
   "source": [
    "def what_are_kwargs(*args, **kwargs):\n",
    "    print(args)\n",
    "    print(kwargs)"
   ]
  },
  {
   "cell_type": "code",
   "execution_count": 72,
   "metadata": {},
   "outputs": [
    {
     "name": "stdout",
     "output_type": "stream",
     "text": [
      "(1, 2, 3)\n",
      "{}\n"
     ]
    }
   ],
   "source": [
    "what_are_kwargs(1, 2, 3)\n",
    "# That returns a tuple of arguments \n",
    "# and an empty set."
   ]
  },
  {
   "cell_type": "code",
   "execution_count": 73,
   "metadata": {},
   "outputs": [
    {
     "name": "stdout",
     "output_type": "stream",
     "text": [
      "(1, 2, 3)\n",
      "{'name': 'Wojciech', 'location': 'UK'}\n"
     ]
    }
   ],
   "source": [
    "what_are_kwargs(1, 2, 3, name = 'Wojciech', location = 'UK')"
   ]
  },
  {
   "cell_type": "markdown",
   "metadata": {},
   "source": [
    "## Passing functions as parameters"
   ]
  },
  {
   "cell_type": "code",
   "execution_count": 74,
   "metadata": {},
   "outputs": [
    {
     "name": "stdout",
     "output_type": "stream",
     "text": [
      "110\n"
     ]
    }
   ],
   "source": [
    "def methodception(another):\n",
    "    return another()\n",
    "\n",
    "def add_two_numbers():\n",
    "    return 33 + 77\n",
    "\n",
    "print(methodception(add_two_numbers))"
   ]
  },
  {
   "cell_type": "code",
   "execution_count": 75,
   "metadata": {},
   "outputs": [
    {
     "name": "stdout",
     "output_type": "stream",
     "text": [
      "110\n"
     ]
    }
   ],
   "source": [
    "# Lambda (anonymous) function\n",
    "print(methodception(lambda: 33 + 77))"
   ]
  },
  {
   "cell_type": "code",
   "execution_count": 76,
   "metadata": {},
   "outputs": [
    {
     "data": {
      "text/plain": [
       "[56, 77, 484]"
      ]
     },
     "execution_count": 76,
     "metadata": {},
     "output_type": "execute_result"
    }
   ],
   "source": [
    "# Example of using native filter function\n",
    "my_list = [13, 56, 77, 484]\n",
    "\n",
    "list(filter(lambda x : x != 13, my_list))"
   ]
  },
  {
   "cell_type": "code",
   "execution_count": 77,
   "metadata": {},
   "outputs": [
    {
     "data": {
      "text/plain": [
       "15"
      ]
     },
     "execution_count": 77,
     "metadata": {},
     "output_type": "execute_result"
    }
   ],
   "source": [
    "(lambda x : x * 3)(5)"
   ]
  },
  {
   "cell_type": "markdown",
   "metadata": {},
   "source": [
    "## Decorators in Python"
   ]
  },
  {
   "cell_type": "markdown",
   "metadata": {},
   "source": [
    "A decorator is a function that is called before the given decorated function."
   ]
  },
  {
   "cell_type": "code",
   "execution_count": 78,
   "metadata": {},
   "outputs": [],
   "source": [
    "import functools"
   ]
  },
  {
   "cell_type": "code",
   "execution_count": 79,
   "metadata": {},
   "outputs": [],
   "source": [
    "def my_decorator(f):\n",
    "    @functools.wraps(f)\n",
    "    def functiona_that_runs_f():\n",
    "        print(\"In the decorator\")\n",
    "        f()\n",
    "        print(\"After the decorator\")\n",
    "    return functiona_that_runs_f"
   ]
  },
  {
   "cell_type": "code",
   "execution_count": 80,
   "metadata": {},
   "outputs": [
    {
     "name": "stdout",
     "output_type": "stream",
     "text": [
      "In the decorator\n",
      "Something done here inside the function!\n",
      "After the decorator\n"
     ]
    }
   ],
   "source": [
    "@my_decorator\n",
    "def my_function():\n",
    "    print(\"Something done here inside the function!\")\n",
    "    \n",
    "my_function()"
   ]
  },
  {
   "cell_type": "markdown",
   "metadata": {},
   "source": [
    "## Advanced decorators"
   ]
  },
  {
   "cell_type": "code",
   "execution_count": 81,
   "metadata": {},
   "outputs": [],
   "source": [
    "def my_decorator(f):\n",
    "    @functools.wraps(f)\n",
    "    def functiona_that_runs_f():\n",
    "        print(\"In the decorator\")\n",
    "        f()\n",
    "        print(\"After the decorator\")\n",
    "    return functiona_that_runs_f\n",
    "\n",
    "def decorator_with_arguments(number):\n",
    "    def my_decorator(f):\n",
    "        @functools.wraps(f)\n",
    "        # Adding *args, **kwargs so if the function uses that, the decorator will accept it as well.\n",
    "        def function_that_runs_f(*args, **kwargs):\n",
    "            if number == 56:\n",
    "                print(\"Got 56.\")\n",
    "            print(\"Something1\")\n",
    "            f(*args, **kwargs)\n",
    "            print(\"Something2\")\n",
    "        return function_that_runs_f\n",
    "    return my_decorator"
   ]
  },
  {
   "cell_type": "code",
   "execution_count": 82,
   "metadata": {},
   "outputs": [
    {
     "name": "stdout",
     "output_type": "stream",
     "text": [
      "Got 56.\n",
      "Something1\n",
      "Hello\n",
      "x: 11\n",
      "Something2\n"
     ]
    }
   ],
   "source": [
    "@decorator_with_arguments(56)\n",
    "def my_new_function(x):\n",
    "    print(\"Hello\")\n",
    "    print(\"x: \" + str(x))\n",
    "    \n",
    "my_new_function(11)"
   ]
  }
 ],
 "metadata": {
  "kernelspec": {
   "display_name": "Python 3",
   "language": "python",
   "name": "python3"
  },
  "language_info": {
   "codemirror_mode": {
    "name": "ipython",
    "version": 3
   },
   "file_extension": ".py",
   "mimetype": "text/x-python",
   "name": "python",
   "nbconvert_exporter": "python",
   "pygments_lexer": "ipython3",
   "version": "3.6.1"
  }
 },
 "nbformat": 4,
 "nbformat_minor": 2
}
