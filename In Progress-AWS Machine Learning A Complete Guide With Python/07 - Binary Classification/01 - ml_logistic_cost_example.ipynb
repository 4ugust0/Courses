{
 "cells": [
  {
   "cell_type": "code",
   "execution_count": 1,
   "metadata": {
    "collapsed": true
   },
   "outputs": [],
   "source": [
    "%matplotlib inline\n",
    "import sys\n",
    "import numpy as np\n",
    "import pandas as pd\n",
    "import matplotlib.pyplot as plt\n",
    "import math\n",
    "import os"
   ]
  },
  {
   "cell_type": "markdown",
   "metadata": {},
   "source": [
    "<h4>Classification Overview</h4>\n",
    "<ul>\n",
    "<li>Predict a binary class as output based on given features.\n",
    "</li>\n",
    "\n",
    "<li>Examples: Do we need to follow up on a customer review? Is this transaction fraudulent or valid one? Are there signs of onset of a medical condition or disease? Is this considered junk food or not?</li>\n",
    "\n",
    "<li>Linear Model. Estimated Target = w<sub>0</sub> + w<sub>1</sub>x<sub>1</sub> \n",
    "+ w<sub>2</sub>x<sub>2</sub> + w<sub>3</sub>x<sub>3</sub> \n",
    "+ … + w<sub>n</sub>x<sub>n</sub><br>\n",
    "where, w is the weight and x is the feature\n",
    "</li>\n",
    "\n",
    "<li><b>Logistic Regression</b>. Estimated Probability = <b>sigmoid</b>(w<sub>0</sub> + w<sub>1</sub>x<sub>1</sub> \n",
    "+ w<sub>2</sub>x<sub>2</sub> + w<sub>3</sub>x<sub>3</sub> \n",
    "+ … + w<sub>n</sub>x<sub>n</sub>)<br>\n",
    "where, w is the weight and x is the feature\n",
    "</li>\n",
    "<li>Linear model output is fed thru a sigmoid or logistic function to produce the probability.</li>\n",
    "<li>Predicted Value: Probability of a binary outcome.  Closer to 1 is positive class, closer to 0 is negative class</li>\n",
    "<li>Algorithm Used: Logistic Regression. Objective is to find the weights w that maximizes separation between the two classes</li>\n",
    "<li>Optimization: Stochastic Gradient Descent. Seeks to minimize loss/cost so that predicted value is as close to actual as possible</li>\n",
    "<li>Cost/Loss Calculation: Logistic loss function</li>\n",
    "</ul>"
   ]
  },
  {
   "cell_type": "code",
   "execution_count": 2,
   "metadata": {
    "collapsed": true
   },
   "outputs": [],
   "source": [
    "# Sigmoid or logistic function\n",
    "# For any x, output is bounded to 0 & 1.\n",
    "def sigmoid_func(x):\n",
    "    return 1.0/(1 + math.exp(-x))"
   ]
  },
  {
   "cell_type": "code",
   "execution_count": 3,
   "metadata": {},
   "outputs": [
    {
     "data": {
      "text/plain": [
       "0.9999546021312976"
      ]
     },
     "execution_count": 3,
     "metadata": {},
     "output_type": "execute_result"
    }
   ],
   "source": [
    "sigmoid_func(10)"
   ]
  },
  {
   "cell_type": "code",
   "execution_count": 4,
   "metadata": {},
   "outputs": [
    {
     "data": {
      "text/plain": [
       "3.7200759760208356e-44"
      ]
     },
     "execution_count": 4,
     "metadata": {},
     "output_type": "execute_result"
    }
   ],
   "source": [
    "sigmoid_func(-100)"
   ]
  },
  {
   "cell_type": "code",
   "execution_count": 5,
   "metadata": {},
   "outputs": [
    {
     "data": {
      "text/plain": [
       "0.5"
      ]
     },
     "execution_count": 5,
     "metadata": {},
     "output_type": "execute_result"
    }
   ],
   "source": [
    "sigmoid_func(0)"
   ]
  },
  {
   "cell_type": "code",
   "execution_count": 6,
   "metadata": {
    "collapsed": true
   },
   "outputs": [],
   "source": [
    "# Sigmoid function example\n",
    "x = pd.Series(np.arange(-8, 8, 0.5))\n",
    "y = x.map(sigmoid_func)"
   ]
  },
  {
   "cell_type": "code",
   "execution_count": 7,
   "metadata": {},
   "outputs": [
    {
     "data": {
      "text/plain": [
       "0   -8.0\n",
       "1   -7.5\n",
       "2   -7.0\n",
       "3   -6.5\n",
       "4   -6.0\n",
       "dtype: float64"
      ]
     },
     "execution_count": 7,
     "metadata": {},
     "output_type": "execute_result"
    }
   ],
   "source": [
    "x.head()"
   ]
  },
  {
   "cell_type": "code",
   "execution_count": 8,
   "metadata": {},
   "outputs": [
    {
     "data": {
      "text/plain": [
       "<matplotlib.text.Text at 0x1f1f7ae50f0>"
      ]
     },
     "execution_count": 8,
     "metadata": {},
     "output_type": "execute_result"
    },
    {
     "data": {
      "image/png": "[encoded data removed]",
      "text/plain": [
       "<matplotlib.figure.Figure at 0x1f1f7a4e208>"
      ]
     },
     "metadata": {},
     "output_type": "display_data"
    }
   ],
   "source": [
    "fig = plt.figure(figsize = (12, 8))\n",
    "plt.plot(x,y)\n",
    "plt.ylim((-0.2, 1.2))\n",
    "plt.xlabel('input')\n",
    "plt.ylabel('sigmoid output')\n",
    "plt.grid(True)\n",
    "\n",
    "plt.axvline(x = 0, ymin = 0, ymax = 1, ls = 'dashed')\n",
    "plt.axhline(y = 0.5, xmin = 0, xmax = 10, ls = 'dashed')\n",
    "plt.axhline(y = 1.0, xmin = 0, xmax = 10, color = 'r')\n",
    "plt.axhline(y = 0.0, xmin = 0, xmax = 10, color = 'r')\n",
    "plt.title('Sigmoid')"
   ]
  },
  {
   "cell_type": "markdown",
   "metadata": {},
   "source": [
    "Example Dataset - Hours spent and Exam Results: \n",
    "https://en.wikipedia.org/wiki/Logistic_regression"
   ]
  },
  {
   "cell_type": "markdown",
   "metadata": {},
   "source": [
    "Sigmoid function produces an output between 0 and 1 no.  Input closer to 0 produces and output of 0.5 probability.  Negative input produces value less than 0.5 while positive input produces value greater than 0.5"
   ]
  },
  {
   "cell_type": "code",
   "execution_count": 9,
   "metadata": {
    "collapsed": true
   },
   "outputs": [],
   "source": [
    "data_path = r'..\\Data\\ClassExamples\\HoursExam\\HoursExamResult.csv'"
   ]
  },
  {
   "cell_type": "code",
   "execution_count": 10,
   "metadata": {},
   "outputs": [],
   "source": [
    "df = pd.read_csv(data_path)"
   ]
  },
  {
   "cell_type": "markdown",
   "metadata": {},
   "source": [
    "Input Feature: Hours<br>\n",
    "Output: Pass (1 = pass, 0 = fail)"
   ]
  },
  {
   "cell_type": "code",
   "execution_count": 11,
   "metadata": {},
   "outputs": [
    {
     "data": {
      "text/html": [
       "<div>\n",
       "<style>\n",
       "    .dataframe thead tr:only-child th {\n",
       "        text-align: right;\n",
       "    }\n",
       "\n",
       "    .dataframe thead th {\n",
       "        text-align: left;\n",
       "    }\n",
       "\n",
       "    .dataframe tbody tr th {\n",
       "        vertical-align: top;\n",
       "    }\n",
       "</style>\n",
       "<table border=\"1\" class=\"dataframe\">\n",
       "  <thead>\n",
       "    <tr style=\"text-align: right;\">\n",
       "      <th></th>\n",
       "      <th>Hours</th>\n",
       "      <th>Pass</th>\n",
       "    </tr>\n",
       "  </thead>\n",
       "  <tbody>\n",
       "    <tr>\n",
       "      <th>0</th>\n",
       "      <td>0.50</td>\n",
       "      <td>0</td>\n",
       "    </tr>\n",
       "    <tr>\n",
       "      <th>1</th>\n",
       "      <td>0.75</td>\n",
       "      <td>0</td>\n",
       "    </tr>\n",
       "    <tr>\n",
       "      <th>2</th>\n",
       "      <td>1.00</td>\n",
       "      <td>0</td>\n",
       "    </tr>\n",
       "    <tr>\n",
       "      <th>3</th>\n",
       "      <td>1.25</td>\n",
       "      <td>0</td>\n",
       "    </tr>\n",
       "    <tr>\n",
       "      <th>4</th>\n",
       "      <td>1.50</td>\n",
       "      <td>0</td>\n",
       "    </tr>\n",
       "  </tbody>\n",
       "</table>\n",
       "</div>"
      ],
      "text/plain": [
       "   Hours  Pass\n",
       "0   0.50     0\n",
       "1   0.75     0\n",
       "2   1.00     0\n",
       "3   1.25     0\n",
       "4   1.50     0"
      ]
     },
     "execution_count": 11,
     "metadata": {},
     "output_type": "execute_result"
    }
   ],
   "source": [
    "df.head()"
   ]
  },
  {
   "cell_type": "code",
   "execution_count": 12,
   "metadata": {
    "collapsed": true
   },
   "outputs": [],
   "source": [
    "# optimal weights given in the wiki dataset\n",
    "def straight_line(x):\n",
    "    return 1.5046 * x - 4.0777 "
   ]
  },
  {
   "cell_type": "code",
   "execution_count": 13,
   "metadata": {
    "collapsed": true
   },
   "outputs": [],
   "source": [
    "# How does weight affect outcome\n",
    "def straight_line_weight(weight1, x):\n",
    "    return weight1 * x - 4.0777 "
   ]
  },
  {
   "cell_type": "code",
   "execution_count": 14,
   "metadata": {
    "collapsed": true
   },
   "outputs": [],
   "source": [
    "# Generate probability by running feature thru the linear model and then thru sigmoid function\n",
    "y_vals = df.Hours.map(straight_line).map(sigmoid_func)"
   ]
  },
  {
   "cell_type": "code",
   "execution_count": 15,
   "metadata": {},
   "outputs": [
    {
     "data": {
      "text/plain": [
       "<matplotlib.legend.Legend at 0x1f1f7d40ef0>"
      ]
     },
     "execution_count": 15,
     "metadata": {},
     "output_type": "execute_result"
    },
    {
     "data": {
      "image/png": "[encoded data removed]",
      "text/plain": [
       "<matplotlib.figure.Figure at 0x1f1f7aaa940>"
      ]
     },
     "metadata": {},
     "output_type": "display_data"
    }
   ],
   "source": [
    "fig = plt.figure(figsize = (12, 8))\n",
    "plt.scatter(x = df.Hours,\n",
    "            y = y_vals,\n",
    "            color = 'b',\n",
    "            label = 'logistic')\n",
    "plt.scatter(x = df[df.Pass == 1].Hours,\n",
    "            y = df[df.Pass == 1].Pass, \n",
    "            color = 'g', \n",
    "            label = 'pass')\n",
    "plt.scatter(x = df[df.Pass == 0].Hours,\n",
    "            y = df[df.Pass == 0].Pass, \n",
    "            color = 'r',\n",
    "            label = 'fail')\n",
    "plt.title('Hours Spent Reading - Pass Probability')\n",
    "plt.xlabel('Hours')\n",
    "plt.ylabel('Pass Probability')\n",
    "plt.grid(True)\n",
    "\n",
    "plt.xlim((0,7))\n",
    "plt.ylim((-0.2,1.5))\n",
    "\n",
    "plt.axvline(x = 2.75,\n",
    "            ymin = 0,\n",
    "            ymax=1)\n",
    "plt.axhline(y = 0.5,\n",
    "            xmin = 0,\n",
    "            xmax = 6, \n",
    "            label = 'cutoff at 0.5',\n",
    "            ls = 'dashed')\n",
    "\n",
    "plt.axvline(x = 2,\n",
    "            ymin = 0,\n",
    "            ymax = 1)\n",
    "plt.axhline(y = 0.3,\n",
    "            xmin = 0,\n",
    "            xmax = 6, \n",
    "            label = 'cutoff at 0.3', \n",
    "            ls = 'dashed')\n",
    "\n",
    "plt.axvline(x = 3,\n",
    "            ymin = 0,\n",
    "            ymax=1)\n",
    "plt.axhline(y = 0.6,\n",
    "            xmin = 0,\n",
    "            xmax = 6, \n",
    "            label='cutoff at 0.6', \n",
    "            ls = 'dashed')\n",
    "plt.legend()"
   ]
  },
  {
   "cell_type": "markdown",
   "metadata": {},
   "source": [
    "At 2.7 hours of study time, we hit 0.5 probability.  So, any student who spent 2.7 hours or more would have a higher probability of passing the exam.\n",
    "\n",
    "In the above example,<br>\n",
    "1. Top right quadrant = true positive. pass got classified correctly as pass\n",
    "2. Bottom left quadrant = true negative. fail got classified correctly as fail\n",
    "3. Top left quadrant = false negative. pass got classified as fail\n",
    "4. Bottom right quadrant = false positive. fail got classified as pass\n",
    "\n",
    "Cutoff can be adjusted; instead of 0.5, cutoff could be established at 0.4 or 0.6 depending on the nature of problem and impact of misclassification"
   ]
  },
  {
   "cell_type": "code",
   "execution_count": 16,
   "metadata": {
    "collapsed": true
   },
   "outputs": [],
   "source": [
    "weights = [0, 1, 2]\n",
    "y_at_weight = {}\n",
    "\n",
    "for w in weights:\n",
    "    y_calculated = []\n",
    "    y_at_weight[w] = y_calculated\n",
    "\n",
    "    for x in df.Hours:\n",
    "        y_calculated.append(sigmoid_func(straight_line_weight(w, x)))"
   ]
  },
  {
   "cell_type": "code",
   "execution_count": 17,
   "metadata": {
    "collapsed": true
   },
   "outputs": [],
   "source": [
    "y_sig_vals = y_vals.map(sigmoid_func)"
   ]
  },
  {
   "cell_type": "code",
   "execution_count": 18,
   "metadata": {},
   "outputs": [
    {
     "data": {
      "text/plain": [
       "<matplotlib.legend.Legend at 0x1f1f7e48518>"
      ]
     },
     "execution_count": 18,
     "metadata": {},
     "output_type": "execute_result"
    },
    {
     "data": {
      "image/png": "[encoded data removed]",
      "text/plain": [
       "<matplotlib.figure.Figure at 0x1f1f7da9780>"
      ]
     },
     "metadata": {},
     "output_type": "display_data"
    }
   ],
   "source": [
    "fig = plt.figure(figsize = (12, 8))\n",
    "plt.scatter(x = df.Hours,\n",
    "            y = y_vals,\n",
    "            color = 'b', \n",
    "            label = 'logistic curve')\n",
    "plt.scatter(x = df[df.Pass==1].Hours,\n",
    "            y = df[df.Pass==1].Pass, \n",
    "            color = 'g', \n",
    "            label = 'pass')\n",
    "plt.scatter(x = df[df.Pass==0].Hours,\n",
    "            y = df[df.Pass==0].Pass, \n",
    "            color = 'r',\n",
    "            label = 'fail')\n",
    "\n",
    "plt.scatter(x = df.Hours,\n",
    "            y = y_at_weight[0],\n",
    "            color = 'k', \n",
    "            label = 'at wt 0')\n",
    "plt.scatter(x = df.Hours,\n",
    "            y = y_at_weight[1],\n",
    "            color = 'm', \n",
    "            label = 'at wt 1')\n",
    "plt.scatter(x = df.Hours,\n",
    "            y = y_at_weight[2],\n",
    "            color = 'y', \n",
    "            label = 'at wt 2')\n",
    "plt.xlim((0,8))\n",
    "plt.ylim((-0.2, 1.5))\n",
    "\n",
    "plt.axhline(y = 0.5,\n",
    "            xmin = 0,\n",
    "            xmax = 6, \n",
    "            color = 'b', \n",
    "            ls = 'dashed')\n",
    "\n",
    "plt.axvline(x = 4,\n",
    "            ymin = 0,\n",
    "            ymax = 1, \n",
    "            color = 'm', \n",
    "            ls = 'dashed')\n",
    "plt.xlabel('Hours')\n",
    "plt.ylabel('Pass Probability')\n",
    "plt.grid(True)\n",
    "plt.title('How weights impact classification - cutoff 0.5')\n",
    "plt.legend()"
   ]
  },
  {
   "cell_type": "markdown",
   "metadata": {},
   "source": [
    "Logistic Regression Cost/Loss Function<br>"
   ]
  },
  {
   "cell_type": "code",
   "execution_count": 19,
   "metadata": {},
   "outputs": [],
   "source": [
    "# Cost Function\n",
    "z = pd.Series(np.linspace(0.000001, 0.999999, 100))\n",
    "ypositive = -z.map(math.log)\n",
    "ynegative = -z.map(lambda x: math.log(1-x))"
   ]
  },
  {
   "cell_type": "code",
   "execution_count": 20,
   "metadata": {},
   "outputs": [
    {
     "data": {
      "text/plain": [
       "<matplotlib.legend.Legend at 0x1f1f83ed668>"
      ]
     },
     "execution_count": 20,
     "metadata": {},
     "output_type": "execute_result"
    },
    {
     "data": {
      "image/png": "[encoded data removed]",
      "text/plain": [
       "<matplotlib.figure.Figure at 0x1f1f7cc0240>"
      ]
     },
     "metadata": {},
     "output_type": "display_data"
    }
   ],
   "source": [
    "fig = plt.figure(figsize = (12, 8))\n",
    "plt.plot(z,\n",
    "         ypositive, \n",
    "         label = 'Loss curve for positive example')\n",
    "plt.plot(z,\n",
    "         ynegative, \n",
    "         label = 'Loss curve for negative example')\n",
    "plt.ylabel('Loss')\n",
    "plt.xlabel('Class')\n",
    "plt.title('Loss Curve')\n",
    "plt.legend()"
   ]
  },
  {
   "cell_type": "markdown",
   "metadata": {},
   "source": [
    "Cost function is a log curve<br>\n",
    "1. positive example correctly classified as positive is given a lower loss/cost\n",
    "2. positive example incorrectly classified as negative is given a higher loss/cost\n",
    "3. Negative example correctly classified as negative is given a lower loss/cost\n",
    "4. Negative example incorrectly classifed as positive is given a higher loss/cost "
   ]
  },
  {
   "cell_type": "code",
   "execution_count": 21,
   "metadata": {},
   "outputs": [],
   "source": [
    "def compute_logisitic_cost(y_actual, y_predicted):\n",
    "    y_pos_cost = y_predicted[y_actual == 1]\n",
    "    y_neg_cost = y_predicted[y_actual == 0]\n",
    "    \n",
    "    positive_cost = (-y_pos_cost.map(math.log)).sum()\n",
    "    negative_cost = -y_neg_cost.map(lambda x: math.log(1 - x)).sum()\n",
    "    return positive_cost + negative_cost"
   ]
  },
  {
   "cell_type": "code",
   "execution_count": 22,
   "metadata": {},
   "outputs": [
    {
     "name": "stdout",
     "output_type": "stream",
     "text": [
      "Loss: 25.328\n"
     ]
    }
   ],
   "source": [
    "# Example of how prediction vs actual impact loss\n",
    "# Prediction is exact opposite of actual. Loss/Cost should be very high\n",
    "actual = pd.Series([1, 0, 1])\n",
    "predicted = pd.Series([0.001, .9999, 0.0001])\n",
    "print('Loss: {0:0.3f}'.format(compute_logisitic_cost(actual, predicted)))"
   ]
  },
  {
   "cell_type": "code",
   "execution_count": 23,
   "metadata": {},
   "outputs": [
    {
     "name": "stdout",
     "output_type": "stream",
     "text": [
      "Loss: 0.434\n"
     ]
    }
   ],
   "source": [
    "# Prediction is close to actual. Loss/Cost should be very low\n",
    "y_actual = pd.Series([1, 0, 1])\n",
    "y_predicted = pd.Series([0.9, 0.1, 0.8])\n",
    "print('Loss: {0:0.3f}'.format(compute_logisitic_cost(y_actual, y_predicted)))"
   ]
  },
  {
   "cell_type": "code",
   "execution_count": 24,
   "metadata": {},
   "outputs": [
    {
     "name": "stdout",
     "output_type": "stream",
     "text": [
      "Loss: 2.079\n"
     ]
    }
   ],
   "source": [
    "# Prediction is midpoint. Loss/Cost should be high\n",
    "y_actual = pd.Series([1, 0, 1])\n",
    "y_predicted = pd.Series([0.5, 0.5, 0.5])\n",
    "print('Loss: {0:0.3f}'.format(compute_logisitic_cost(y_actual, y_predicted)))"
   ]
  },
  {
   "cell_type": "code",
   "execution_count": 25,
   "metadata": {},
   "outputs": [
    {
     "name": "stdout",
     "output_type": "stream",
     "text": [
      "Loss: 1.091\n"
     ]
    }
   ],
   "source": [
    "# Prediction is midpoint. Loss/Cost should be high\n",
    "y_actual = pd.Series([1, 0, 1])\n",
    "y_predicted = pd.Series([0.8, 0.4, 0.7])\n",
    "print('Loss: {0:0.3f}'.format(compute_logisitic_cost(y_actual, y_predicted)))"
   ]
  },
  {
   "cell_type": "code",
   "execution_count": 26,
   "metadata": {},
   "outputs": [],
   "source": [
    "weight = pd.Series(np.linspace(-1.5, 5, num = 100))\n",
    "cost = []\n",
    "cost_at_wt = []\n",
    "for w1 in weight:\n",
    "    y_calculated = []\n",
    "    for x in df.Hours:\n",
    "        y_calculated.append (sigmoid_func(straight_line_weight(w1, x)))\n",
    "    \n",
    "    cost_at_wt.append(compute_logisitic_cost(df.Pass, pd.Series(y_calculated)))    "
   ]
  },
  {
   "cell_type": "code",
   "execution_count": 27,
   "metadata": {},
   "outputs": [
    {
     "data": {
      "text/plain": [
       "<matplotlib.legend.Legend at 0x1f1f8466b38>"
      ]
     },
     "execution_count": 27,
     "metadata": {},
     "output_type": "execute_result"
    },
    {
     "data": {
      "image/png": "[encoded data removed]",
      "text/plain": [
       "<matplotlib.figure.Figure at 0x1f1f80b1390>"
      ]
     },
     "metadata": {},
     "output_type": "display_data"
    }
   ],
   "source": [
    "fig = plt.figure(figsize = (12, 8))\n",
    "plt.scatter(x = weight, y = cost_at_wt)\n",
    "plt.xlabel('Weight')\n",
    "plt.ylabel('Cost')\n",
    "plt.grid(True)\n",
    "plt.axvline(x = 1.5,\n",
    "            ymin = 0,\n",
    "            ymax = 100, \n",
    "            label = 'Minimal loss')\n",
    "plt.axhline(y = 6.5,\n",
    "            xmin = 0,\n",
    "            xmax = 6)\n",
    "plt.title('Finding optimal weights')\n",
    "plt.legend()"
   ]
  },
  {
   "cell_type": "markdown",
   "metadata": {
    "collapsed": true
   },
   "source": [
    "<h4>Summary</h4>\n",
    "<p><b>Binary Classifier</b> Predicts positive class probability of an observation </p>\n",
    "<p><b>Logistic or Sigmod function</b> has an important property where output is between 0 and 1 for any input.  This output is used by binary classifiers as a probability of positive class</p>\n",
    "\n",
    "<p><b>True Positive</b> - Samples that are actual-positives correctly predicted as positive </p>\n",
    "<p><b>True Negative</b> - Samples that are actual-negatives correctly predicted as negative </p>\n",
    "<p><b>False Negative</b> - Samples that are actual-positives incorrectly predicted as negative </p>\n",
    "<p><b>False Positive</b> - Samples that are actual-negatives incorrectly predicted as positive </p>\n",
    "\n",
    "<p><b>Logistic Loss Function</b> is parabolic in nature. It has an important property of not only telling us the loss at a given weight, but also tells us which way to go to minimize loss</p>\n",
    "<p><b>Gradient Descent</b> optimization alogrithm uses loss function to move the weights of all the features and iteratively adjusts the weights until optimal value is reached</p>\n",
    "\n",
    "<p><b>Batch Gradient Descent</b> predicts y value for all training examples and then adjusts the value of weights based on loss. It can converge much slower when training set is very large. Training set order does not matter as every single example in the training set is considered before making adjustments</p>\n",
    "\n",
    "<p><b>Stochastic Gradient Descent</b> predicts y value for next training example and immediately adjusts the value of weights.</p> It can converge faster when training set is very large.  Training set should be random order otherwise model will not learn correctly.  <b>AWS ML uses Stochastic Gradient Descent</b>"
   ]
  }
 ],
 "metadata": {
  "kernelspec": {
   "display_name": "Python 3",
   "language": "python",
   "name": "python3"
  },
  "language_info": {
   "codemirror_mode": {
    "name": "ipython",
    "version": 3
   },
   "file_extension": ".py",
   "mimetype": "text/x-python",
   "name": "python",
   "nbconvert_exporter": "python",
   "pygments_lexer": "ipython3",
   "version": "3.6.1"
  }
 },
 "nbformat": 4,
 "nbformat_minor": 1
}
