{
 "cells": [
  {
   "cell_type": "code",
   "execution_count": 1,
   "metadata": {
    "collapsed": true
   },
   "outputs": [],
   "source": [
    "%matplotlib inline\n",
    "import sys\n",
    "import numpy as np\n",
    "import pandas as pd\n",
    "import matplotlib.pyplot as plt\n",
    "import math\n",
    "import os"
   ]
  },
  {
   "cell_type": "markdown",
   "metadata": {},
   "source": [
    "<h4>Kaggle - Bike Example Linear Regression</h4>\n",
    "<h5>Training and Test Data: https://www.kaggle.com/c/bike-sharing-demand/data</h5>\n",
    "<h5>Evaluation: https://www.kaggle.com/c/bike-sharing-demand/details/evaluation</h5>\n",
    "<h5>Kaggle site requires free registration in order to download the data</h5>\n",
    "\n",
    "<p>Objective (from Kaggle site):</p>\n",
    "<ol>\n",
    "<li>Dataset consists of hourly rental data spanning two years. </li>\n",
    "<li>Training set is comprised of the first 19 days of each month</li>\n",
    "<li>Test set is the 20th to the end of the month. </li>\n",
    "<li>Model should predict the total count of bikes rented during each hour covered by the test set</li>\n",
    "</ol>\n",
    "\n",
    "<p>This problem was discussed in AWS Machine Learning resources:\n",
    "https://blogs.aws.amazon.com/bigdata/post/Tx2OZ63RJ6Z41A0/Building-a-Numeric-Regression-Model-with-Amazon-Machine-Learning\n",
    "</p>\n",
    "<p>Strategy:  <br>\n",
    "\n",
    "We will create two separate Linear Regression models:<br>\n",
    "1. Casual Rental Prediction<br>\n",
    "2. Registered Rental Prediction<br>\n",
    "\n",
    "We will then combine the results to find the total count for submission to Kaggle. Competition is already over, but we can submit to check accuracy of the model.\n",
    "</p>\n",
    "\n",
    "<p>Download Train.csv, Test.csv, samplesubmission.csv files from above Kaggle link and store it in C:\\AWSMLCourse\\Data\\RegressionExamples\\BikeTrain </p>\n",
    "\n",
    "<p>This notebook file reads the Train.csv file and creates two separate training files one for registered user rentals and another file for casual user rentals</p>\n",
    "<p>Following additional features are added: Month, Day, Hour, DayofWeek</p>\n",
    "\n",
    "<p>Test.csv file is read and additional features are created</p>\n",
    "\n",
    "Following files are generated:\n",
    "1. Casual Training - bike_rental_train_casual.csv\n",
    "2. Registered Training - bike_rental_train_registered.csv\n",
    "3. Test - bike_rental_test.csv\n",
    "\n",
    "Following schema files are provided for creating datasource. Copy these schema files to the S3 bucket/folder where you kept the csv training files.\n",
    "1. bike_rental_train_casual.csv.schema\n",
    "2. bike_rental_train_registered.csv.schema\n",
    "\n"
   ]
  },
  {
   "cell_type": "code",
   "execution_count": 2,
   "metadata": {
    "collapsed": true
   },
   "outputs": [],
   "source": [
    "data_path = r'..\\Data\\RegressionExamples\\BikeTrain'"
   ]
  },
  {
   "cell_type": "code",
   "execution_count": 3,
   "metadata": {},
   "outputs": [],
   "source": [
    "df = pd.read_csv(os.path.join(data_path,'train.csv'), \n",
    "                 parse_dates = ['datetime'])"
   ]
  },
  {
   "cell_type": "code",
   "execution_count": 4,
   "metadata": {},
   "outputs": [
    {
     "data": {
      "text/html": [
       "<div>\n",
       "<style>\n",
       "    .dataframe thead tr:only-child th {\n",
       "        text-align: right;\n",
       "    }\n",
       "\n",
       "    .dataframe thead th {\n",
       "        text-align: left;\n",
       "    }\n",
       "\n",
       "    .dataframe tbody tr th {\n",
       "        vertical-align: top;\n",
       "    }\n",
       "</style>\n",
       "<table border=\"1\" class=\"dataframe\">\n",
       "  <thead>\n",
       "    <tr style=\"text-align: right;\">\n",
       "      <th></th>\n",
       "      <th>datetime</th>\n",
       "      <th>season</th>\n",
       "      <th>holiday</th>\n",
       "      <th>workingday</th>\n",
       "      <th>weather</th>\n",
       "      <th>temp</th>\n",
       "      <th>atemp</th>\n",
       "      <th>humidity</th>\n",
       "      <th>windspeed</th>\n",
       "      <th>casual</th>\n",
       "      <th>registered</th>\n",
       "      <th>count</th>\n",
       "    </tr>\n",
       "  </thead>\n",
       "  <tbody>\n",
       "    <tr>\n",
       "      <th>0</th>\n",
       "      <td>2011-01-01 00:00:00</td>\n",
       "      <td>1</td>\n",
       "      <td>0</td>\n",
       "      <td>0</td>\n",
       "      <td>1</td>\n",
       "      <td>9.84</td>\n",
       "      <td>14.395</td>\n",
       "      <td>81</td>\n",
       "      <td>0.0</td>\n",
       "      <td>3</td>\n",
       "      <td>13</td>\n",
       "      <td>16</td>\n",
       "    </tr>\n",
       "    <tr>\n",
       "      <th>1</th>\n",
       "      <td>2011-01-01 01:00:00</td>\n",
       "      <td>1</td>\n",
       "      <td>0</td>\n",
       "      <td>0</td>\n",
       "      <td>1</td>\n",
       "      <td>9.02</td>\n",
       "      <td>13.635</td>\n",
       "      <td>80</td>\n",
       "      <td>0.0</td>\n",
       "      <td>8</td>\n",
       "      <td>32</td>\n",
       "      <td>40</td>\n",
       "    </tr>\n",
       "    <tr>\n",
       "      <th>2</th>\n",
       "      <td>2011-01-01 02:00:00</td>\n",
       "      <td>1</td>\n",
       "      <td>0</td>\n",
       "      <td>0</td>\n",
       "      <td>1</td>\n",
       "      <td>9.02</td>\n",
       "      <td>13.635</td>\n",
       "      <td>80</td>\n",
       "      <td>0.0</td>\n",
       "      <td>5</td>\n",
       "      <td>27</td>\n",
       "      <td>32</td>\n",
       "    </tr>\n",
       "    <tr>\n",
       "      <th>3</th>\n",
       "      <td>2011-01-01 03:00:00</td>\n",
       "      <td>1</td>\n",
       "      <td>0</td>\n",
       "      <td>0</td>\n",
       "      <td>1</td>\n",
       "      <td>9.84</td>\n",
       "      <td>14.395</td>\n",
       "      <td>75</td>\n",
       "      <td>0.0</td>\n",
       "      <td>3</td>\n",
       "      <td>10</td>\n",
       "      <td>13</td>\n",
       "    </tr>\n",
       "    <tr>\n",
       "      <th>4</th>\n",
       "      <td>2011-01-01 04:00:00</td>\n",
       "      <td>1</td>\n",
       "      <td>0</td>\n",
       "      <td>0</td>\n",
       "      <td>1</td>\n",
       "      <td>9.84</td>\n",
       "      <td>14.395</td>\n",
       "      <td>75</td>\n",
       "      <td>0.0</td>\n",
       "      <td>0</td>\n",
       "      <td>1</td>\n",
       "      <td>1</td>\n",
       "    </tr>\n",
       "  </tbody>\n",
       "</table>\n",
       "</div>"
      ],
      "text/plain": [
       "             datetime  season  holiday  workingday  weather  temp   atemp  \\\n",
       "0 2011-01-01 00:00:00       1        0           0        1  9.84  14.395   \n",
       "1 2011-01-01 01:00:00       1        0           0        1  9.02  13.635   \n",
       "2 2011-01-01 02:00:00       1        0           0        1  9.02  13.635   \n",
       "3 2011-01-01 03:00:00       1        0           0        1  9.84  14.395   \n",
       "4 2011-01-01 04:00:00       1        0           0        1  9.84  14.395   \n",
       "\n",
       "   humidity  windspeed  casual  registered  count  \n",
       "0        81        0.0       3          13     16  \n",
       "1        80        0.0       8          32     40  \n",
       "2        80        0.0       5          27     32  \n",
       "3        75        0.0       3          10     13  \n",
       "4        75        0.0       0           1      1  "
      ]
     },
     "execution_count": 4,
     "metadata": {},
     "output_type": "execute_result"
    }
   ],
   "source": [
    "df.head()"
   ]
  },
  {
   "cell_type": "code",
   "execution_count": 5,
   "metadata": {
    "collapsed": true
   },
   "outputs": [],
   "source": [
    "# Add some additional features to look at data\n",
    "df['month'] = df.datetime.dt.month\n",
    "df['day'] = df.datetime.dt.day\n",
    "df['hour'] = df.datetime.dt.hour\n",
    "df['dayofweek'] = df.datetime.dt.dayofweek  # The day of the week with Monday=0, Sunday=6"
   ]
  },
  {
   "cell_type": "code",
   "execution_count": 6,
   "metadata": {},
   "outputs": [
    {
     "data": {
      "text/plain": [
       "dayofweek\n",
       "0    49524\n",
       "1    43186\n",
       "2    52689\n",
       "3    47941\n",
       "4    48875\n",
       "5    78654\n",
       "6    71266\n",
       "Name: casual, dtype: int64"
      ]
     },
     "execution_count": 6,
     "metadata": {},
     "output_type": "execute_result"
    }
   ],
   "source": [
    "df.groupby([df.dayofweek])['casual'].sum()"
   ]
  },
  {
   "cell_type": "code",
   "execution_count": 7,
   "metadata": {},
   "outputs": [
    {
     "data": {
      "text/plain": [
       "dayofweek\n",
       "0    249566\n",
       "1    241037\n",
       "2    250465\n",
       "3    246559\n",
       "4    246023\n",
       "5    228480\n",
       "6    231211\n",
       "Name: registered, dtype: int64"
      ]
     },
     "execution_count": 7,
     "metadata": {},
     "output_type": "execute_result"
    }
   ],
   "source": [
    "df.groupby([df.dayofweek])['registered'].sum()"
   ]
  },
  {
   "cell_type": "code",
   "execution_count": 8,
   "metadata": {},
   "outputs": [
    {
     "data": {
      "text/plain": [
       "count    10886.000000\n",
       "mean        36.021955\n",
       "std         49.960477\n",
       "min          0.000000\n",
       "25%          4.000000\n",
       "50%         17.000000\n",
       "75%         49.000000\n",
       "max        367.000000\n",
       "Name: casual, dtype: float64"
      ]
     },
     "execution_count": 8,
     "metadata": {},
     "output_type": "execute_result"
    }
   ],
   "source": [
    "df.casual.describe()"
   ]
  },
  {
   "cell_type": "code",
   "execution_count": 9,
   "metadata": {},
   "outputs": [
    {
     "data": {
      "text/plain": [
       "count    10886.000000\n",
       "mean       155.552177\n",
       "std        151.039033\n",
       "min          0.000000\n",
       "25%         36.000000\n",
       "50%        118.000000\n",
       "75%        222.000000\n",
       "max        886.000000\n",
       "Name: registered, dtype: float64"
      ]
     },
     "execution_count": 9,
     "metadata": {},
     "output_type": "execute_result"
    }
   ],
   "source": [
    "df.registered.describe()"
   ]
  },
  {
   "cell_type": "code",
   "execution_count": 10,
   "metadata": {},
   "outputs": [
    {
     "data": {
      "text/html": [
       "<div>\n",
       "<style>\n",
       "    .dataframe thead tr:only-child th {\n",
       "        text-align: right;\n",
       "    }\n",
       "\n",
       "    .dataframe thead th {\n",
       "        text-align: left;\n",
       "    }\n",
       "\n",
       "    .dataframe tbody tr th {\n",
       "        vertical-align: top;\n",
       "    }\n",
       "</style>\n",
       "<table border=\"1\" class=\"dataframe\">\n",
       "  <thead>\n",
       "    <tr style=\"text-align: right;\">\n",
       "      <th></th>\n",
       "      <th>season</th>\n",
       "      <th>holiday</th>\n",
       "      <th>workingday</th>\n",
       "      <th>weather</th>\n",
       "      <th>temp</th>\n",
       "      <th>atemp</th>\n",
       "      <th>humidity</th>\n",
       "      <th>windspeed</th>\n",
       "      <th>casual</th>\n",
       "      <th>registered</th>\n",
       "      <th>count</th>\n",
       "      <th>month</th>\n",
       "      <th>day</th>\n",
       "      <th>hour</th>\n",
       "      <th>dayofweek</th>\n",
       "    </tr>\n",
       "  </thead>\n",
       "  <tbody>\n",
       "    <tr>\n",
       "      <th>season</th>\n",
       "      <td>1.000000</td>\n",
       "      <td>0.029368</td>\n",
       "      <td>-0.008126</td>\n",
       "      <td>0.008879</td>\n",
       "      <td>0.258689</td>\n",
       "      <td>0.264744</td>\n",
       "      <td>0.190610</td>\n",
       "      <td>-0.147121</td>\n",
       "      <td>0.096758</td>\n",
       "      <td>0.164011</td>\n",
       "      <td>0.163439</td>\n",
       "      <td>0.357510</td>\n",
       "      <td>0.388493</td>\n",
       "      <td>-0.006546</td>\n",
       "      <td>-0.013622</td>\n",
       "    </tr>\n",
       "    <tr>\n",
       "      <th>holiday</th>\n",
       "      <td>0.029368</td>\n",
       "      <td>1.000000</td>\n",
       "      <td>-0.250491</td>\n",
       "      <td>-0.007074</td>\n",
       "      <td>0.000295</td>\n",
       "      <td>-0.005215</td>\n",
       "      <td>0.001929</td>\n",
       "      <td>0.008409</td>\n",
       "      <td>0.043799</td>\n",
       "      <td>-0.020956</td>\n",
       "      <td>-0.005393</td>\n",
       "      <td>-0.059126</td>\n",
       "      <td>0.022477</td>\n",
       "      <td>-0.000354</td>\n",
       "      <td>-0.079888</td>\n",
       "    </tr>\n",
       "    <tr>\n",
       "      <th>workingday</th>\n",
       "      <td>-0.008126</td>\n",
       "      <td>-0.250491</td>\n",
       "      <td>1.000000</td>\n",
       "      <td>0.033772</td>\n",
       "      <td>0.029966</td>\n",
       "      <td>0.024660</td>\n",
       "      <td>-0.010880</td>\n",
       "      <td>0.013373</td>\n",
       "      <td>-0.319111</td>\n",
       "      <td>0.119460</td>\n",
       "      <td>0.011594</td>\n",
       "      <td>0.027378</td>\n",
       "      <td>-0.009560</td>\n",
       "      <td>0.002780</td>\n",
       "      <td>-0.288204</td>\n",
       "    </tr>\n",
       "    <tr>\n",
       "      <th>weather</th>\n",
       "      <td>0.008879</td>\n",
       "      <td>-0.007074</td>\n",
       "      <td>0.033772</td>\n",
       "      <td>1.000000</td>\n",
       "      <td>-0.055035</td>\n",
       "      <td>-0.055376</td>\n",
       "      <td>0.406244</td>\n",
       "      <td>0.007261</td>\n",
       "      <td>-0.135918</td>\n",
       "      <td>-0.109340</td>\n",
       "      <td>-0.128655</td>\n",
       "      <td>-0.010926</td>\n",
       "      <td>0.006640</td>\n",
       "      <td>-0.022740</td>\n",
       "      <td>-0.043467</td>\n",
       "    </tr>\n",
       "    <tr>\n",
       "      <th>temp</th>\n",
       "      <td>0.258689</td>\n",
       "      <td>0.000295</td>\n",
       "      <td>0.029966</td>\n",
       "      <td>-0.055035</td>\n",
       "      <td>1.000000</td>\n",
       "      <td>0.984948</td>\n",
       "      <td>-0.064949</td>\n",
       "      <td>-0.017852</td>\n",
       "      <td>0.467097</td>\n",
       "      <td>0.318571</td>\n",
       "      <td>0.394454</td>\n",
       "      <td>0.041829</td>\n",
       "      <td>0.151535</td>\n",
       "      <td>0.145430</td>\n",
       "      <td>-0.040066</td>\n",
       "    </tr>\n",
       "    <tr>\n",
       "      <th>atemp</th>\n",
       "      <td>0.264744</td>\n",
       "      <td>-0.005215</td>\n",
       "      <td>0.024660</td>\n",
       "      <td>-0.055376</td>\n",
       "      <td>0.984948</td>\n",
       "      <td>1.000000</td>\n",
       "      <td>-0.043536</td>\n",
       "      <td>-0.057473</td>\n",
       "      <td>0.462067</td>\n",
       "      <td>0.314635</td>\n",
       "      <td>0.389784</td>\n",
       "      <td>0.039383</td>\n",
       "      <td>0.153536</td>\n",
       "      <td>0.140343</td>\n",
       "      <td>-0.043954</td>\n",
       "    </tr>\n",
       "    <tr>\n",
       "      <th>humidity</th>\n",
       "      <td>0.190610</td>\n",
       "      <td>0.001929</td>\n",
       "      <td>-0.010880</td>\n",
       "      <td>0.406244</td>\n",
       "      <td>-0.064949</td>\n",
       "      <td>-0.043536</td>\n",
       "      <td>1.000000</td>\n",
       "      <td>-0.318607</td>\n",
       "      <td>-0.348187</td>\n",
       "      <td>-0.265458</td>\n",
       "      <td>-0.317371</td>\n",
       "      <td>0.037052</td>\n",
       "      <td>0.094173</td>\n",
       "      <td>-0.278011</td>\n",
       "      <td>-0.006178</td>\n",
       "    </tr>\n",
       "    <tr>\n",
       "      <th>windspeed</th>\n",
       "      <td>-0.147121</td>\n",
       "      <td>0.008409</td>\n",
       "      <td>0.013373</td>\n",
       "      <td>0.007261</td>\n",
       "      <td>-0.017852</td>\n",
       "      <td>-0.057473</td>\n",
       "      <td>-0.318607</td>\n",
       "      <td>1.000000</td>\n",
       "      <td>0.092276</td>\n",
       "      <td>0.091052</td>\n",
       "      <td>0.101369</td>\n",
       "      <td>-0.021811</td>\n",
       "      <td>-0.044665</td>\n",
       "      <td>0.146631</td>\n",
       "      <td>-0.026118</td>\n",
       "    </tr>\n",
       "    <tr>\n",
       "      <th>casual</th>\n",
       "      <td>0.096758</td>\n",
       "      <td>0.043799</td>\n",
       "      <td>-0.319111</td>\n",
       "      <td>-0.135918</td>\n",
       "      <td>0.467097</td>\n",
       "      <td>0.462067</td>\n",
       "      <td>-0.348187</td>\n",
       "      <td>0.092276</td>\n",
       "      <td>1.000000</td>\n",
       "      <td>0.497250</td>\n",
       "      <td>0.690414</td>\n",
       "      <td>0.012798</td>\n",
       "      <td>0.064500</td>\n",
       "      <td>0.302045</td>\n",
       "      <td>0.117431</td>\n",
       "    </tr>\n",
       "    <tr>\n",
       "      <th>registered</th>\n",
       "      <td>0.164011</td>\n",
       "      <td>-0.020956</td>\n",
       "      <td>0.119460</td>\n",
       "      <td>-0.109340</td>\n",
       "      <td>0.318571</td>\n",
       "      <td>0.314635</td>\n",
       "      <td>-0.265458</td>\n",
       "      <td>0.091052</td>\n",
       "      <td>0.497250</td>\n",
       "      <td>1.000000</td>\n",
       "      <td>0.970948</td>\n",
       "      <td>0.063207</td>\n",
       "      <td>0.086072</td>\n",
       "      <td>0.380540</td>\n",
       "      <td>-0.031338</td>\n",
       "    </tr>\n",
       "    <tr>\n",
       "      <th>count</th>\n",
       "      <td>0.163439</td>\n",
       "      <td>-0.005393</td>\n",
       "      <td>0.011594</td>\n",
       "      <td>-0.128655</td>\n",
       "      <td>0.394454</td>\n",
       "      <td>0.389784</td>\n",
       "      <td>-0.317371</td>\n",
       "      <td>0.101369</td>\n",
       "      <td>0.690414</td>\n",
       "      <td>0.970948</td>\n",
       "      <td>1.000000</td>\n",
       "      <td>0.056232</td>\n",
       "      <td>0.089556</td>\n",
       "      <td>0.400601</td>\n",
       "      <td>0.006258</td>\n",
       "    </tr>\n",
       "    <tr>\n",
       "      <th>month</th>\n",
       "      <td>0.357510</td>\n",
       "      <td>-0.059126</td>\n",
       "      <td>0.027378</td>\n",
       "      <td>-0.010926</td>\n",
       "      <td>0.041829</td>\n",
       "      <td>0.039383</td>\n",
       "      <td>0.037052</td>\n",
       "      <td>-0.021811</td>\n",
       "      <td>0.012798</td>\n",
       "      <td>0.063207</td>\n",
       "      <td>0.056232</td>\n",
       "      <td>1.000000</td>\n",
       "      <td>0.004678</td>\n",
       "      <td>-0.001817</td>\n",
       "      <td>-0.000755</td>\n",
       "    </tr>\n",
       "    <tr>\n",
       "      <th>day</th>\n",
       "      <td>0.388493</td>\n",
       "      <td>0.022477</td>\n",
       "      <td>-0.009560</td>\n",
       "      <td>0.006640</td>\n",
       "      <td>0.151535</td>\n",
       "      <td>0.153536</td>\n",
       "      <td>0.094173</td>\n",
       "      <td>-0.044665</td>\n",
       "      <td>0.064500</td>\n",
       "      <td>0.086072</td>\n",
       "      <td>0.089556</td>\n",
       "      <td>0.004678</td>\n",
       "      <td>1.000000</td>\n",
       "      <td>-0.002016</td>\n",
       "      <td>-0.010228</td>\n",
       "    </tr>\n",
       "    <tr>\n",
       "      <th>hour</th>\n",
       "      <td>-0.006546</td>\n",
       "      <td>-0.000354</td>\n",
       "      <td>0.002780</td>\n",
       "      <td>-0.022740</td>\n",
       "      <td>0.145430</td>\n",
       "      <td>0.140343</td>\n",
       "      <td>-0.278011</td>\n",
       "      <td>0.146631</td>\n",
       "      <td>0.302045</td>\n",
       "      <td>0.380540</td>\n",
       "      <td>0.400601</td>\n",
       "      <td>-0.001817</td>\n",
       "      <td>-0.002016</td>\n",
       "      <td>1.000000</td>\n",
       "      <td>-0.001007</td>\n",
       "    </tr>\n",
       "    <tr>\n",
       "      <th>dayofweek</th>\n",
       "      <td>-0.013622</td>\n",
       "      <td>-0.079888</td>\n",
       "      <td>-0.288204</td>\n",
       "      <td>-0.043467</td>\n",
       "      <td>-0.040066</td>\n",
       "      <td>-0.043954</td>\n",
       "      <td>-0.006178</td>\n",
       "      <td>-0.026118</td>\n",
       "      <td>0.117431</td>\n",
       "      <td>-0.031338</td>\n",
       "      <td>0.006258</td>\n",
       "      <td>-0.000755</td>\n",
       "      <td>-0.010228</td>\n",
       "      <td>-0.001007</td>\n",
       "      <td>1.000000</td>\n",
       "    </tr>\n",
       "  </tbody>\n",
       "</table>\n",
       "</div>"
      ],
      "text/plain": [
       "              season   holiday  workingday   weather      temp     atemp  \\\n",
       "season      1.000000  0.029368   -0.008126  0.008879  0.258689  0.264744   \n",
       "holiday     0.029368  1.000000   -0.250491 -0.007074  0.000295 -0.005215   \n",
       "workingday -0.008126 -0.250491    1.000000  0.033772  0.029966  0.024660   \n",
       "weather     0.008879 -0.007074    0.033772  1.000000 -0.055035 -0.055376   \n",
       "temp        0.258689  0.000295    0.029966 -0.055035  1.000000  0.984948   \n",
       "atemp       0.264744 -0.005215    0.024660 -0.055376  0.984948  1.000000   \n",
       "humidity    0.190610  0.001929   -0.010880  0.406244 -0.064949 -0.043536   \n",
       "windspeed  -0.147121  0.008409    0.013373  0.007261 -0.017852 -0.057473   \n",
       "casual      0.096758  0.043799   -0.319111 -0.135918  0.467097  0.462067   \n",
       "registered  0.164011 -0.020956    0.119460 -0.109340  0.318571  0.314635   \n",
       "count       0.163439 -0.005393    0.011594 -0.128655  0.394454  0.389784   \n",
       "month       0.357510 -0.059126    0.027378 -0.010926  0.041829  0.039383   \n",
       "day         0.388493  0.022477   -0.009560  0.006640  0.151535  0.153536   \n",
       "hour       -0.006546 -0.000354    0.002780 -0.022740  0.145430  0.140343   \n",
       "dayofweek  -0.013622 -0.079888   -0.288204 -0.043467 -0.040066 -0.043954   \n",
       "\n",
       "            humidity  windspeed    casual  registered     count     month  \\\n",
       "season      0.190610  -0.147121  0.096758    0.164011  0.163439  0.357510   \n",
       "holiday     0.001929   0.008409  0.043799   -0.020956 -0.005393 -0.059126   \n",
       "workingday -0.010880   0.013373 -0.319111    0.119460  0.011594  0.027378   \n",
       "weather     0.406244   0.007261 -0.135918   -0.109340 -0.128655 -0.010926   \n",
       "temp       -0.064949  -0.017852  0.467097    0.318571  0.394454  0.041829   \n",
       "atemp      -0.043536  -0.057473  0.462067    0.314635  0.389784  0.039383   \n",
       "humidity    1.000000  -0.318607 -0.348187   -0.265458 -0.317371  0.037052   \n",
       "windspeed  -0.318607   1.000000  0.092276    0.091052  0.101369 -0.021811   \n",
       "casual     -0.348187   0.092276  1.000000    0.497250  0.690414  0.012798   \n",
       "registered -0.265458   0.091052  0.497250    1.000000  0.970948  0.063207   \n",
       "count      -0.317371   0.101369  0.690414    0.970948  1.000000  0.056232   \n",
       "month       0.037052  -0.021811  0.012798    0.063207  0.056232  1.000000   \n",
       "day         0.094173  -0.044665  0.064500    0.086072  0.089556  0.004678   \n",
       "hour       -0.278011   0.146631  0.302045    0.380540  0.400601 -0.001817   \n",
       "dayofweek  -0.006178  -0.026118  0.117431   -0.031338  0.006258 -0.000755   \n",
       "\n",
       "                 day      hour  dayofweek  \n",
       "season      0.388493 -0.006546  -0.013622  \n",
       "holiday     0.022477 -0.000354  -0.079888  \n",
       "workingday -0.009560  0.002780  -0.288204  \n",
       "weather     0.006640 -0.022740  -0.043467  \n",
       "temp        0.151535  0.145430  -0.040066  \n",
       "atemp       0.153536  0.140343  -0.043954  \n",
       "humidity    0.094173 -0.278011  -0.006178  \n",
       "windspeed  -0.044665  0.146631  -0.026118  \n",
       "casual      0.064500  0.302045   0.117431  \n",
       "registered  0.086072  0.380540  -0.031338  \n",
       "count       0.089556  0.400601   0.006258  \n",
       "month       0.004678 -0.001817  -0.000755  \n",
       "day         1.000000 -0.002016  -0.010228  \n",
       "hour       -0.002016  1.000000  -0.001007  \n",
       "dayofweek  -0.010228 -0.001007   1.000000  "
      ]
     },
     "execution_count": 10,
     "metadata": {},
     "output_type": "execute_result"
    }
   ],
   "source": [
    "df.corr()"
   ]
  },
  {
   "cell_type": "code",
   "execution_count": 11,
   "metadata": {
    "collapsed": true
   },
   "outputs": [],
   "source": [
    "# Pre-shuffle the data for consistency\n",
    "# Shuffled data would be used for training\n",
    "np.random.seed(5)\n",
    "l = list(range(df.shape[0]))\n",
    "np.random.shuffle(l)"
   ]
  },
  {
   "cell_type": "code",
   "execution_count": 12,
   "metadata": {},
   "outputs": [],
   "source": [
    "# randomize\n",
    "df = df.iloc[l]"
   ]
  },
  {
   "cell_type": "code",
   "execution_count": 13,
   "metadata": {},
   "outputs": [
    {
     "data": {
      "text/html": [
       "<div>\n",
       "<style>\n",
       "    .dataframe thead tr:only-child th {\n",
       "        text-align: right;\n",
       "    }\n",
       "\n",
       "    .dataframe thead th {\n",
       "        text-align: left;\n",
       "    }\n",
       "\n",
       "    .dataframe tbody tr th {\n",
       "        vertical-align: top;\n",
       "    }\n",
       "</style>\n",
       "<table border=\"1\" class=\"dataframe\">\n",
       "  <thead>\n",
       "    <tr style=\"text-align: right;\">\n",
       "      <th></th>\n",
       "      <th>datetime</th>\n",
       "      <th>season</th>\n",
       "      <th>holiday</th>\n",
       "      <th>workingday</th>\n",
       "      <th>weather</th>\n",
       "      <th>temp</th>\n",
       "      <th>atemp</th>\n",
       "      <th>humidity</th>\n",
       "      <th>windspeed</th>\n",
       "      <th>casual</th>\n",
       "      <th>registered</th>\n",
       "      <th>count</th>\n",
       "      <th>month</th>\n",
       "      <th>day</th>\n",
       "      <th>hour</th>\n",
       "      <th>dayofweek</th>\n",
       "    </tr>\n",
       "  </thead>\n",
       "  <tbody>\n",
       "    <tr>\n",
       "      <th>3650</th>\n",
       "      <td>2011-03-09 00:00:00</td>\n",
       "      <td>3</td>\n",
       "      <td>0</td>\n",
       "      <td>0</td>\n",
       "      <td>2</td>\n",
       "      <td>26.24</td>\n",
       "      <td>30.305</td>\n",
       "      <td>73</td>\n",
       "      <td>7.0015</td>\n",
       "      <td>22</td>\n",
       "      <td>65</td>\n",
       "      <td>87</td>\n",
       "      <td>3</td>\n",
       "      <td>9</td>\n",
       "      <td>0</td>\n",
       "      <td>2</td>\n",
       "    </tr>\n",
       "    <tr>\n",
       "      <th>8909</th>\n",
       "      <td>2012-08-13 14:00:00</td>\n",
       "      <td>3</td>\n",
       "      <td>0</td>\n",
       "      <td>1</td>\n",
       "      <td>1</td>\n",
       "      <td>32.80</td>\n",
       "      <td>34.850</td>\n",
       "      <td>33</td>\n",
       "      <td>7.0015</td>\n",
       "      <td>85</td>\n",
       "      <td>163</td>\n",
       "      <td>248</td>\n",
       "      <td>8</td>\n",
       "      <td>13</td>\n",
       "      <td>14</td>\n",
       "      <td>0</td>\n",
       "    </tr>\n",
       "    <tr>\n",
       "      <th>4623</th>\n",
       "      <td>2011-05-11 17:00:00</td>\n",
       "      <td>4</td>\n",
       "      <td>0</td>\n",
       "      <td>0</td>\n",
       "      <td>1</td>\n",
       "      <td>15.58</td>\n",
       "      <td>19.695</td>\n",
       "      <td>40</td>\n",
       "      <td>11.0014</td>\n",
       "      <td>100</td>\n",
       "      <td>234</td>\n",
       "      <td>334</td>\n",
       "      <td>5</td>\n",
       "      <td>11</td>\n",
       "      <td>17</td>\n",
       "      <td>2</td>\n",
       "    </tr>\n",
       "    <tr>\n",
       "      <th>8818</th>\n",
       "      <td>2012-09-08 19:00:00</td>\n",
       "      <td>3</td>\n",
       "      <td>0</td>\n",
       "      <td>1</td>\n",
       "      <td>1</td>\n",
       "      <td>32.80</td>\n",
       "      <td>37.880</td>\n",
       "      <td>55</td>\n",
       "      <td>12.9980</td>\n",
       "      <td>90</td>\n",
       "      <td>533</td>\n",
       "      <td>623</td>\n",
       "      <td>9</td>\n",
       "      <td>8</td>\n",
       "      <td>19</td>\n",
       "      <td>5</td>\n",
       "    </tr>\n",
       "    <tr>\n",
       "      <th>1640</th>\n",
       "      <td>2011-04-14 06:00:00</td>\n",
       "      <td>2</td>\n",
       "      <td>0</td>\n",
       "      <td>1</td>\n",
       "      <td>1</td>\n",
       "      <td>13.94</td>\n",
       "      <td>17.425</td>\n",
       "      <td>76</td>\n",
       "      <td>7.0015</td>\n",
       "      <td>4</td>\n",
       "      <td>66</td>\n",
       "      <td>70</td>\n",
       "      <td>4</td>\n",
       "      <td>14</td>\n",
       "      <td>6</td>\n",
       "      <td>3</td>\n",
       "    </tr>\n",
       "  </tbody>\n",
       "</table>\n",
       "</div>"
      ],
      "text/plain": [
       "                datetime  season  holiday  workingday  weather   temp   atemp  \\\n",
       "3650 2011-03-09 00:00:00       3        0           0        2  26.24  30.305   \n",
       "8909 2012-08-13 14:00:00       3        0           1        1  32.80  34.850   \n",
       "4623 2011-05-11 17:00:00       4        0           0        1  15.58  19.695   \n",
       "8818 2012-09-08 19:00:00       3        0           1        1  32.80  37.880   \n",
       "1640 2011-04-14 06:00:00       2        0           1        1  13.94  17.425   \n",
       "\n",
       "      humidity  windspeed  casual  registered  count  month  day  hour  \\\n",
       "3650        73     7.0015      22          65     87      3    9     0   \n",
       "8909        33     7.0015      85         163    248      8   13    14   \n",
       "4623        40    11.0014     100         234    334      5   11    17   \n",
       "8818        55    12.9980      90         533    623      9    8    19   \n",
       "1640        76     7.0015       4          66     70      4   14     6   \n",
       "\n",
       "      dayofweek  \n",
       "3650          2  \n",
       "8909          0  \n",
       "4623          2  \n",
       "8818          5  \n",
       "1640          3  "
      ]
     },
     "execution_count": 13,
     "metadata": {},
     "output_type": "execute_result"
    }
   ],
   "source": [
    "df.head()"
   ]
  },
  {
   "cell_type": "code",
   "execution_count": 14,
   "metadata": {
    "collapsed": true
   },
   "outputs": [],
   "source": [
    "# Create the following files:\n",
    "# We need to create two separate models: \n",
    "#   Model 1: casual/non-registered users rental count by hour, \n",
    "#   Model 2: registered users rental count by hour\n",
    "\n",
    "# casual users training data\n",
    "df.to_csv(os.path.join(data_path,'bike_rental_train_casual.csv'), \n",
    "          index = False,\n",
    "          columns=['datetime', 'month', 'day', 'hour', 'dayofweek', 'season', 'holiday', \n",
    "                   'workingday', 'weather', 'temp','atemp', 'humidity', 'windspeed', 'casual'])\n",
    "\n",
    "# registered users training data\n",
    "df.to_csv(os.path.join(data_path,'bike_rental_train_registered.csv'), \n",
    "          index = False,\n",
    "          columns=['datetime', 'month', 'day', 'hour', 'dayofweek', 'season', 'holiday', \n",
    "                   'workingday', 'weather', 'temp', 'atemp', 'humidity', 'windspeed', 'registered'])\n",
    "\n",
    "# save all data - for reference\n",
    "df.to_csv(os.path.join(data_path,'bike_rental_all.csv'), \n",
    "          index = False, \n",
    "          columns = ['datetime', 'month', 'day', 'hour', 'dayofweek', 'season', 'holiday', \n",
    "                     'workingday', 'weather', 'temp','atemp', 'humidity', 'windspeed', 'casual', 'registered', 'count'])"
   ]
  },
  {
   "cell_type": "code",
   "execution_count": 15,
   "metadata": {
    "collapsed": true
   },
   "outputs": [],
   "source": [
    "# Create the test set with new features\n",
    "# test set provided by kaggle.\n",
    "df_test = pd.read_csv(os.path.join(data_path,'test.csv'), \n",
    "                      parse_dates = ['datetime'])\n",
    "df_test['month'] = df_test.datetime.dt.month\n",
    "df_test['day'] = df_test.datetime.dt.day\n",
    "df_test['hour'] = df_test.datetime.dt.hour\n",
    "df_test['dayofweek'] = df_test.datetime.dt.dayofweek"
   ]
  },
  {
   "cell_type": "code",
   "execution_count": 16,
   "metadata": {
    "collapsed": true
   },
   "outputs": [],
   "source": [
    "df_test.to_csv(os.path.join(data_path,'bike_rental_test.csv'), \n",
    "               index=False,\n",
    "               columns=['datetime', 'month', 'day', 'hour', 'dayofweek', 'season', 'holiday', \n",
    "                        'workingday', 'weather', 'temp','atemp', 'humidity', 'windspeed'])"
   ]
  },
  {
   "cell_type": "code",
   "execution_count": 17,
   "metadata": {},
   "outputs": [
    {
     "data": {
      "text/plain": [
       "(6493, 13)"
      ]
     },
     "execution_count": 17,
     "metadata": {},
     "output_type": "execute_result"
    }
   ],
   "source": [
    "df_test.shape"
   ]
  },
  {
   "cell_type": "code",
   "execution_count": 18,
   "metadata": {},
   "outputs": [
    {
     "data": {
      "text/plain": [
       "0    10575\n",
       "1      311\n",
       "Name: holiday, dtype: int64"
      ]
     },
     "execution_count": 18,
     "metadata": {},
     "output_type": "execute_result"
    }
   ],
   "source": [
    "df.holiday.value_counts()"
   ]
  },
  {
   "cell_type": "code",
   "execution_count": 19,
   "metadata": {},
   "outputs": [
    {
     "data": {
      "text/plain": [
       "1    7412\n",
       "0    3474\n",
       "Name: workingday, dtype: int64"
      ]
     },
     "execution_count": 19,
     "metadata": {},
     "output_type": "execute_result"
    }
   ],
   "source": [
    "df.workingday.value_counts()"
   ]
  },
  {
   "cell_type": "code",
   "execution_count": 20,
   "metadata": {},
   "outputs": [
    {
     "data": {
      "text/plain": [
       "1    7192\n",
       "2    2834\n",
       "3     859\n",
       "4       1\n",
       "Name: weather, dtype: int64"
      ]
     },
     "execution_count": 20,
     "metadata": {},
     "output_type": "execute_result"
    }
   ],
   "source": [
    "df.weather.value_counts()"
   ]
  },
  {
   "cell_type": "markdown",
   "metadata": {},
   "source": [
    "<h4>Training and Evaluation Summary</h4>\n",
    "1. Casual Model:     Training RMSE: 32.69,Eval RMSE: 31.38, Baseline RMSE:  49.21\n",
    "2. Registered Model: Training RMSE: 92.49,Eval RMSE: 92.28, Baseline RMSE: 149.34"
   ]
  },
  {
   "cell_type": "code",
   "execution_count": 21,
   "metadata": {},
   "outputs": [],
   "source": [
    "# read predicted values for casual and registered users.\n",
    "# sum it up and prepare for submission\n",
    "df_casual_predicted = pd.read_csv(os.path.join(data_path,\n",
    "                                               'output_casual',\n",
    "                                               'bp-jLEzJYrQqDj-bike_rental_test.csv.gz'))"
   ]
  },
  {
   "cell_type": "code",
   "execution_count": 22,
   "metadata": {},
   "outputs": [
    {
     "data": {
      "text/html": [
       "<div>\n",
       "<style>\n",
       "    .dataframe thead tr:only-child th {\n",
       "        text-align: right;\n",
       "    }\n",
       "\n",
       "    .dataframe thead th {\n",
       "        text-align: left;\n",
       "    }\n",
       "\n",
       "    .dataframe tbody tr th {\n",
       "        vertical-align: top;\n",
       "    }\n",
       "</style>\n",
       "<table border=\"1\" class=\"dataframe\">\n",
       "  <thead>\n",
       "    <tr style=\"text-align: right;\">\n",
       "      <th></th>\n",
       "      <th>tag</th>\n",
       "      <th>score</th>\n",
       "    </tr>\n",
       "  </thead>\n",
       "  <tbody>\n",
       "    <tr>\n",
       "      <th>0</th>\n",
       "      <td>2011-01-20 00:00:00</td>\n",
       "      <td>-20.96109</td>\n",
       "    </tr>\n",
       "    <tr>\n",
       "      <th>1</th>\n",
       "      <td>2011-01-20 01:00:00</td>\n",
       "      <td>-26.02126</td>\n",
       "    </tr>\n",
       "    <tr>\n",
       "      <th>2</th>\n",
       "      <td>2011-01-20 02:00:00</td>\n",
       "      <td>-28.45723</td>\n",
       "    </tr>\n",
       "    <tr>\n",
       "      <th>3</th>\n",
       "      <td>2011-01-20 03:00:00</td>\n",
       "      <td>-29.15169</td>\n",
       "    </tr>\n",
       "    <tr>\n",
       "      <th>4</th>\n",
       "      <td>2011-01-20 04:00:00</td>\n",
       "      <td>-28.62972</td>\n",
       "    </tr>\n",
       "  </tbody>\n",
       "</table>\n",
       "</div>"
      ],
      "text/plain": [
       "                   tag     score\n",
       "0  2011-01-20 00:00:00 -20.96109\n",
       "1  2011-01-20 01:00:00 -26.02126\n",
       "2  2011-01-20 02:00:00 -28.45723\n",
       "3  2011-01-20 03:00:00 -29.15169\n",
       "4  2011-01-20 04:00:00 -28.62972"
      ]
     },
     "execution_count": 22,
     "metadata": {},
     "output_type": "execute_result"
    }
   ],
   "source": [
    "df_casual_predicted.head()"
   ]
  },
  {
   "cell_type": "code",
   "execution_count": 23,
   "metadata": {
    "collapsed": true
   },
   "outputs": [],
   "source": [
    "def adjust_score(x):\n",
    "    if x < 0:\n",
    "        return 0\n",
    "    else:\n",
    "        return x"
   ]
  },
  {
   "cell_type": "code",
   "execution_count": 24,
   "metadata": {
    "collapsed": true
   },
   "outputs": [],
   "source": [
    "df_casual_predicted['casual_rental'] = df_casual_predicted.score.map(adjust_score)"
   ]
  },
  {
   "cell_type": "code",
   "execution_count": 25,
   "metadata": {},
   "outputs": [
    {
     "data": {
      "text/html": [
       "<div>\n",
       "<style>\n",
       "    .dataframe thead tr:only-child th {\n",
       "        text-align: right;\n",
       "    }\n",
       "\n",
       "    .dataframe thead th {\n",
       "        text-align: left;\n",
       "    }\n",
       "\n",
       "    .dataframe tbody tr th {\n",
       "        vertical-align: top;\n",
       "    }\n",
       "</style>\n",
       "<table border=\"1\" class=\"dataframe\">\n",
       "  <thead>\n",
       "    <tr style=\"text-align: right;\">\n",
       "      <th></th>\n",
       "      <th>tag</th>\n",
       "      <th>score</th>\n",
       "      <th>casual_rental</th>\n",
       "    </tr>\n",
       "  </thead>\n",
       "  <tbody>\n",
       "    <tr>\n",
       "      <th>6488</th>\n",
       "      <td>2012-12-31 19:00:00</td>\n",
       "      <td>3.942249</td>\n",
       "      <td>3.942249</td>\n",
       "    </tr>\n",
       "    <tr>\n",
       "      <th>6489</th>\n",
       "      <td>2012-12-31 20:00:00</td>\n",
       "      <td>-5.686156</td>\n",
       "      <td>0.000000</td>\n",
       "    </tr>\n",
       "    <tr>\n",
       "      <th>6490</th>\n",
       "      <td>2012-12-31 21:00:00</td>\n",
       "      <td>-8.456192</td>\n",
       "      <td>0.000000</td>\n",
       "    </tr>\n",
       "    <tr>\n",
       "      <th>6491</th>\n",
       "      <td>2012-12-31 22:00:00</td>\n",
       "      <td>-18.586340</td>\n",
       "      <td>0.000000</td>\n",
       "    </tr>\n",
       "    <tr>\n",
       "      <th>6492</th>\n",
       "      <td>2012-12-31 23:00:00</td>\n",
       "      <td>-25.622160</td>\n",
       "      <td>0.000000</td>\n",
       "    </tr>\n",
       "  </tbody>\n",
       "</table>\n",
       "</div>"
      ],
      "text/plain": [
       "                      tag      score  casual_rental\n",
       "6488  2012-12-31 19:00:00   3.942249       3.942249\n",
       "6489  2012-12-31 20:00:00  -5.686156       0.000000\n",
       "6490  2012-12-31 21:00:00  -8.456192       0.000000\n",
       "6491  2012-12-31 22:00:00 -18.586340       0.000000\n",
       "6492  2012-12-31 23:00:00 -25.622160       0.000000"
      ]
     },
     "execution_count": 25,
     "metadata": {},
     "output_type": "execute_result"
    }
   ],
   "source": [
    "df_casual_predicted.tail()"
   ]
  },
  {
   "cell_type": "code",
   "execution_count": 26,
   "metadata": {},
   "outputs": [
    {
     "data": {
      "text/plain": [
       "<matplotlib.axes._subplots.AxesSubplot at 0x23b16024438>"
      ]
     },
     "execution_count": 26,
     "metadata": {},
     "output_type": "execute_result"
    },
    {
     "data": {
      "image/png": "[encoded data removed]",
      "text/plain": [
       "<matplotlib.figure.Figure at 0x23b169520f0>"
      ]
     },
     "metadata": {},
     "output_type": "display_data"
    }
   ],
   "source": [
    "df_casual_predicted.casual_rental.hist(bins = 20)"
   ]
  },
  {
   "cell_type": "code",
   "execution_count": 27,
   "metadata": {
    "collapsed": true
   },
   "outputs": [],
   "source": [
    "df_registered_predicted = pd.read_csv(os.path.join(data_path,\n",
    "                                               'output_registered',\n",
    "                                               'bp-CnT4idlhEIa-bike_rental_test.csv.gz'))"
   ]
  },
  {
   "cell_type": "code",
   "execution_count": 28,
   "metadata": {
    "collapsed": true
   },
   "outputs": [],
   "source": [
    "df_registered_predicted['registered_rental'] = df_registered_predicted.score.map(adjust_score)"
   ]
  },
  {
   "cell_type": "code",
   "execution_count": 29,
   "metadata": {},
   "outputs": [
    {
     "data": {
      "text/html": [
       "<div>\n",
       "<style>\n",
       "    .dataframe thead tr:only-child th {\n",
       "        text-align: right;\n",
       "    }\n",
       "\n",
       "    .dataframe thead th {\n",
       "        text-align: left;\n",
       "    }\n",
       "\n",
       "    .dataframe tbody tr th {\n",
       "        vertical-align: top;\n",
       "    }\n",
       "</style>\n",
       "<table border=\"1\" class=\"dataframe\">\n",
       "  <thead>\n",
       "    <tr style=\"text-align: right;\">\n",
       "      <th></th>\n",
       "      <th>tag</th>\n",
       "      <th>score</th>\n",
       "      <th>registered_rental</th>\n",
       "    </tr>\n",
       "  </thead>\n",
       "  <tbody>\n",
       "    <tr>\n",
       "      <th>0</th>\n",
       "      <td>2011-01-20 00:00:00</td>\n",
       "      <td>-4.680015</td>\n",
       "      <td>0.0</td>\n",
       "    </tr>\n",
       "    <tr>\n",
       "      <th>1</th>\n",
       "      <td>2011-01-20 01:00:00</td>\n",
       "      <td>-24.619430</td>\n",
       "      <td>0.0</td>\n",
       "    </tr>\n",
       "    <tr>\n",
       "      <th>2</th>\n",
       "      <td>2011-01-20 02:00:00</td>\n",
       "      <td>-29.868420</td>\n",
       "      <td>0.0</td>\n",
       "    </tr>\n",
       "    <tr>\n",
       "      <th>3</th>\n",
       "      <td>2011-01-20 03:00:00</td>\n",
       "      <td>-21.793060</td>\n",
       "      <td>0.0</td>\n",
       "    </tr>\n",
       "    <tr>\n",
       "      <th>4</th>\n",
       "      <td>2011-01-20 04:00:00</td>\n",
       "      <td>-21.624700</td>\n",
       "      <td>0.0</td>\n",
       "    </tr>\n",
       "  </tbody>\n",
       "</table>\n",
       "</div>"
      ],
      "text/plain": [
       "                   tag      score  registered_rental\n",
       "0  2011-01-20 00:00:00  -4.680015                0.0\n",
       "1  2011-01-20 01:00:00 -24.619430                0.0\n",
       "2  2011-01-20 02:00:00 -29.868420                0.0\n",
       "3  2011-01-20 03:00:00 -21.793060                0.0\n",
       "4  2011-01-20 04:00:00 -21.624700                0.0"
      ]
     },
     "execution_count": 29,
     "metadata": {},
     "output_type": "execute_result"
    }
   ],
   "source": [
    "df_registered_predicted.head()"
   ]
  },
  {
   "cell_type": "code",
   "execution_count": 30,
   "metadata": {},
   "outputs": [
    {
     "data": {
      "text/plain": [
       "count    6493.000000\n",
       "mean      158.140855\n",
       "std       119.320534\n",
       "min         0.000000\n",
       "25%        58.508530\n",
       "50%       146.273500\n",
       "75%       233.290400\n",
       "max       504.923100\n",
       "Name: registered_rental, dtype: float64"
      ]
     },
     "execution_count": 30,
     "metadata": {},
     "output_type": "execute_result"
    }
   ],
   "source": [
    "df_registered_predicted.registered_rental.describe()"
   ]
  },
  {
   "cell_type": "code",
   "execution_count": 31,
   "metadata": {},
   "outputs": [
    {
     "data": {
      "text/plain": [
       "<matplotlib.axes._subplots.AxesSubplot at 0x23b164027f0>"
      ]
     },
     "execution_count": 31,
     "metadata": {},
     "output_type": "execute_result"
    },
    {
     "data": {
      "image/png": "[encoded data removed]",
      "text/plain": [
       "<matplotlib.figure.Figure at 0x23b164130b8>"
      ]
     },
     "metadata": {},
     "output_type": "display_data"
    }
   ],
   "source": [
    "df_registered_predicted.registered_rental.hist(bins = 20)"
   ]
  },
  {
   "cell_type": "code",
   "execution_count": 32,
   "metadata": {},
   "outputs": [],
   "source": [
    "df_registered_predicted[\"casual_rental\"] = df_casual_predicted.casual_rental"
   ]
  },
  {
   "cell_type": "code",
   "execution_count": 33,
   "metadata": {},
   "outputs": [],
   "source": [
    "df_registered_predicted['count'] = df_registered_predicted.registered_rental + df_registered_predicted.casual_rental"
   ]
  },
  {
   "cell_type": "code",
   "execution_count": 34,
   "metadata": {},
   "outputs": [
    {
     "data": {
      "text/html": [
       "<div>\n",
       "<style>\n",
       "    .dataframe thead tr:only-child th {\n",
       "        text-align: right;\n",
       "    }\n",
       "\n",
       "    .dataframe thead th {\n",
       "        text-align: left;\n",
       "    }\n",
       "\n",
       "    .dataframe tbody tr th {\n",
       "        vertical-align: top;\n",
       "    }\n",
       "</style>\n",
       "<table border=\"1\" class=\"dataframe\">\n",
       "  <thead>\n",
       "    <tr style=\"text-align: right;\">\n",
       "      <th></th>\n",
       "      <th>tag</th>\n",
       "      <th>score</th>\n",
       "      <th>registered_rental</th>\n",
       "      <th>casual_rental</th>\n",
       "      <th>count</th>\n",
       "    </tr>\n",
       "  </thead>\n",
       "  <tbody>\n",
       "    <tr>\n",
       "      <th>6488</th>\n",
       "      <td>2012-12-31 19:00:00</td>\n",
       "      <td>243.5891</td>\n",
       "      <td>243.5891</td>\n",
       "      <td>3.942249</td>\n",
       "      <td>247.531349</td>\n",
       "    </tr>\n",
       "    <tr>\n",
       "      <th>6489</th>\n",
       "      <td>2012-12-31 20:00:00</td>\n",
       "      <td>170.1125</td>\n",
       "      <td>170.1125</td>\n",
       "      <td>0.000000</td>\n",
       "      <td>170.112500</td>\n",
       "    </tr>\n",
       "    <tr>\n",
       "      <th>6490</th>\n",
       "      <td>2012-12-31 21:00:00</td>\n",
       "      <td>133.2613</td>\n",
       "      <td>133.2613</td>\n",
       "      <td>0.000000</td>\n",
       "      <td>133.261300</td>\n",
       "    </tr>\n",
       "    <tr>\n",
       "      <th>6491</th>\n",
       "      <td>2012-12-31 22:00:00</td>\n",
       "      <td>63.5018</td>\n",
       "      <td>63.5018</td>\n",
       "      <td>0.000000</td>\n",
       "      <td>63.501800</td>\n",
       "    </tr>\n",
       "    <tr>\n",
       "      <th>6492</th>\n",
       "      <td>2012-12-31 23:00:00</td>\n",
       "      <td>39.6737</td>\n",
       "      <td>39.6737</td>\n",
       "      <td>0.000000</td>\n",
       "      <td>39.673700</td>\n",
       "    </tr>\n",
       "  </tbody>\n",
       "</table>\n",
       "</div>"
      ],
      "text/plain": [
       "                      tag     score  registered_rental  casual_rental  \\\n",
       "6488  2012-12-31 19:00:00  243.5891           243.5891       3.942249   \n",
       "6489  2012-12-31 20:00:00  170.1125           170.1125       0.000000   \n",
       "6490  2012-12-31 21:00:00  133.2613           133.2613       0.000000   \n",
       "6491  2012-12-31 22:00:00   63.5018            63.5018       0.000000   \n",
       "6492  2012-12-31 23:00:00   39.6737            39.6737       0.000000   \n",
       "\n",
       "           count  \n",
       "6488  247.531349  \n",
       "6489  170.112500  \n",
       "6490  133.261300  \n",
       "6491   63.501800  \n",
       "6492   39.673700  "
      ]
     },
     "execution_count": 34,
     "metadata": {},
     "output_type": "execute_result"
    }
   ],
   "source": [
    "df_registered_predicted.tail()"
   ]
  },
  {
   "cell_type": "code",
   "execution_count": 35,
   "metadata": {},
   "outputs": [],
   "source": [
    "df_registered_predicted.columns = ['datetime',\n",
    "                                   'score',\n",
    "                                   'registered_rental',\n",
    "                                   'casual_rental',\n",
    "                                   'count']"
   ]
  },
  {
   "cell_type": "code",
   "execution_count": 36,
   "metadata": {},
   "outputs": [
    {
     "data": {
      "text/html": [
       "<div>\n",
       "<style>\n",
       "    .dataframe thead tr:only-child th {\n",
       "        text-align: right;\n",
       "    }\n",
       "\n",
       "    .dataframe thead th {\n",
       "        text-align: left;\n",
       "    }\n",
       "\n",
       "    .dataframe tbody tr th {\n",
       "        vertical-align: top;\n",
       "    }\n",
       "</style>\n",
       "<table border=\"1\" class=\"dataframe\">\n",
       "  <thead>\n",
       "    <tr style=\"text-align: right;\">\n",
       "      <th></th>\n",
       "      <th>datetime</th>\n",
       "      <th>score</th>\n",
       "      <th>registered_rental</th>\n",
       "      <th>casual_rental</th>\n",
       "      <th>count</th>\n",
       "    </tr>\n",
       "  </thead>\n",
       "  <tbody>\n",
       "    <tr>\n",
       "      <th>6488</th>\n",
       "      <td>2012-12-31 19:00:00</td>\n",
       "      <td>243.5891</td>\n",
       "      <td>243.5891</td>\n",
       "      <td>3.942249</td>\n",
       "      <td>247.531349</td>\n",
       "    </tr>\n",
       "    <tr>\n",
       "      <th>6489</th>\n",
       "      <td>2012-12-31 20:00:00</td>\n",
       "      <td>170.1125</td>\n",
       "      <td>170.1125</td>\n",
       "      <td>0.000000</td>\n",
       "      <td>170.112500</td>\n",
       "    </tr>\n",
       "    <tr>\n",
       "      <th>6490</th>\n",
       "      <td>2012-12-31 21:00:00</td>\n",
       "      <td>133.2613</td>\n",
       "      <td>133.2613</td>\n",
       "      <td>0.000000</td>\n",
       "      <td>133.261300</td>\n",
       "    </tr>\n",
       "    <tr>\n",
       "      <th>6491</th>\n",
       "      <td>2012-12-31 22:00:00</td>\n",
       "      <td>63.5018</td>\n",
       "      <td>63.5018</td>\n",
       "      <td>0.000000</td>\n",
       "      <td>63.501800</td>\n",
       "    </tr>\n",
       "    <tr>\n",
       "      <th>6492</th>\n",
       "      <td>2012-12-31 23:00:00</td>\n",
       "      <td>39.6737</td>\n",
       "      <td>39.6737</td>\n",
       "      <td>0.000000</td>\n",
       "      <td>39.673700</td>\n",
       "    </tr>\n",
       "  </tbody>\n",
       "</table>\n",
       "</div>"
      ],
      "text/plain": [
       "                 datetime     score  registered_rental  casual_rental  \\\n",
       "6488  2012-12-31 19:00:00  243.5891           243.5891       3.942249   \n",
       "6489  2012-12-31 20:00:00  170.1125           170.1125       0.000000   \n",
       "6490  2012-12-31 21:00:00  133.2613           133.2613       0.000000   \n",
       "6491  2012-12-31 22:00:00   63.5018            63.5018       0.000000   \n",
       "6492  2012-12-31 23:00:00   39.6737            39.6737       0.000000   \n",
       "\n",
       "           count  \n",
       "6488  247.531349  \n",
       "6489  170.112500  \n",
       "6490  133.261300  \n",
       "6491   63.501800  \n",
       "6492   39.673700  "
      ]
     },
     "execution_count": 36,
     "metadata": {},
     "output_type": "execute_result"
    }
   ],
   "source": [
    "df_registered_predicted.tail()"
   ]
  },
  {
   "cell_type": "code",
   "execution_count": 37,
   "metadata": {
    "collapsed": true
   },
   "outputs": [],
   "source": [
    "# File ready to submit on Kaggle\n",
    "df_registered_predicted.to_csv(os.path.join(data_path,\n",
    "                                            'predicted_test_kaggle.csv'),\n",
    "                               index = False,\n",
    "                               columns = ['datetime', 'count'])"
   ]
  }
 ],
 "metadata": {
  "kernelspec": {
   "display_name": "Python 3",
   "language": "python",
   "name": "python3"
  },
  "language_info": {
   "codemirror_mode": {
    "name": "ipython",
    "version": 3
   },
   "file_extension": ".py",
   "mimetype": "text/x-python",
   "name": "python",
   "nbconvert_exporter": "python",
   "pygments_lexer": "ipython3",
   "version": "3.6.1"
  }
 },
 "nbformat": 4,
 "nbformat_minor": 1
}
