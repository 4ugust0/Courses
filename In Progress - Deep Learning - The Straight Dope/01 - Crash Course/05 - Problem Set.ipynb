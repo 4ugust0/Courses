{
 "cells": [
  {
   "cell_type": "markdown",
   "metadata": {},
   "source": [
    "# Problem Set \n",
    "\n",
    "\"For the things we have to learn before we can do them, we learn by doing them.\" - Aristotle\n",
    "\n",
    "There's nothing quite like working with a new tool to really understand it, so we have put together some exercises through this book to give you a chance to put into practice what you learned in the previous lesson(s). "
   ]
  },
  {
   "cell_type": "code",
   "execution_count": 1,
   "metadata": {},
   "outputs": [],
   "source": [
    "import mxnet as mx\n",
    "mx.random.seed(1)"
   ]
  },
  {
   "cell_type": "markdown",
   "metadata": {},
   "source": [
    "## Problems using NDarray [(Official Documentation)](https://mxnet.incubator.apache.org/api/python/ndarray/ndarray.html) \n",
    "\n",
    "\n",
    "Problem 1: Initialize an ndarray of dimension 1x256 on the GPU without overwriting its memory. Then, find the index corresponding to the maximum value in the array (argmax)"
   ]
  },
  {
   "cell_type": "code",
   "execution_count": 2,
   "metadata": {},
   "outputs": [
    {
     "data": {
      "text/plain": [
       "\n",
       "[[-5.20646629e+01  6.17857016e-18  6.50521176e-37  2.01177979e+00\n",
       "   9.22943798e-32  5.66248488e+14 -6.82432352e-43  2.00000000e+00\n",
       "  -7.47108833e+36  5.87298235e-23  2.13557886e-42  2.00000000e+00\n",
       "   5.97994170e-39 -1.50463277e-36  1.03877092e-38 -5.24288000e+05\n",
       "  -1.21375542e+02  2.63394457e-17 -7.47108833e+36  5.87298235e-23\n",
       "  -3.69250441e+19  3.68934881e+19  2.13557886e-42  2.00000000e+00\n",
       "   5.20095636e-29  3.67707868e-24  1.17451302e-38 -5.24288000e+05\n",
       "   1.36150159e-41  2.00000000e+00  5.97994170e-39 -1.50463277e-36\n",
       "   2.75439649e+11  6.14976443e-18  1.03877092e-38 -5.24288000e+05\n",
       "   8.67091829e-32  4.77720904e-34  6.57870976e-37 -5.24288000e+05\n",
       "   6.68511999e-28  2.93649117e-23  6.57870976e-37 -5.24288250e+05\n",
       "   1.02728924e-38 -5.24288000e+05  1.02728924e-38 -5.24288250e+05\n",
       "  -9.51773214e+30  1.76861844e-18  1.02728924e-38 -5.24288500e+05\n",
       "   1.02728924e-38 -5.24288750e+05  2.11736198e-42 -0.00000000e+00\n",
       "   1.07451566e-41  2.00000000e+00  1.00802894e-32  3.71096609e+19\n",
       "   3.69250441e+19  2.41785337e+24 -7.65557797e-39  1.28960831e-19\n",
       "   2.58360232e+30  1.76197453e-18 -1.25517106e-40  7.11930938e-15\n",
       "   1.00543165e-41  3.68935057e+19  1.64946002e-07  1.31072000e+05\n",
       "   1.61284631e-31  3.71096609e+19  5.68133447e+19  2.01953244e+00\n",
       "   2.44323360e+29  2.24463860e-19  1.42679767e+10  1.32096000e+05\n",
       "   2.85072963e-37  5.25867253e-18  4.34304290e+36  5.66248488e+14\n",
       "   3.38203587e+12  1.31072000e+05  2.17200047e+05  1.32096000e+05\n",
       "   5.14747000e+07  1.31072000e+05  3.30639720e+00  1.32096000e+05\n",
       "   7.83441589e+02  1.31072000e+05  5.30663498e+19  2.01953244e+00\n",
       "  -1.21005791e+02  1.73826753e-18  2.28230140e+29  2.24463860e-19\n",
       "   1.45645918e-39  9.57979034e+09  1.21800863e-41  2.00000000e+00\n",
       "  -2.75009885e+35  3.67061397e-24  2.13557886e-42  2.00000000e+00\n",
       "  -2.75009885e+35  5.87298235e-23 -2.71799627e+36  7.10542736e-15\n",
       "   6.07272168e-39  3.06288479e-18 -2.71280398e+36  7.10542736e-15\n",
       "  -2.70761168e+36  7.10542736e-15 -2.70241938e+36  7.10542736e-15\n",
       "  -2.69722709e+36  7.10542736e-15 -2.69203479e+36  7.10542736e-15\n",
       "  -2.68684249e+36  7.10542736e-15 -2.68165019e+36  7.10542736e-15\n",
       "   6.14830211e-39  1.97868261e-18  2.11736198e-42 -7.10542736e-15\n",
       "   1.07451566e-41  2.00000000e+00  8.66487910e+09  7.10542736e-15\n",
       "   2.22250402e+12  7.10542736e-15  1.32727562e+05  7.10542736e-15\n",
       "   3.40437920e+07  7.10542736e-15  2.03307438e+00  7.10542736e-15\n",
       "   7.06681325e-10  1.76448585e-18  5.21467041e+02  7.10542736e-15\n",
       "   3.11414624e-05  7.10542736e-15  7.98747316e-03  7.10542736e-15\n",
       "   5.97994170e-39 -1.50463277e-36  8.96459533e-39 -1.50463277e-36\n",
       "   1.19492490e-38 -1.50463277e-36  1.49339026e-38 -1.50463277e-36\n",
       "   3.20653954e+01  1.73822410e-18  1.07269397e-41 -7.10542736e-15\n",
       "   1.07139214e-35  3.69000101e-24 -2.96722652e+36  7.10542736e-15\n",
       "  -2.96203422e+36  7.10542736e-15 -2.95684193e+36  7.10542736e-15\n",
       "  -2.95164963e+36  7.10542736e-15 -2.88414977e+36  7.10542736e-15\n",
       "  -2.40703308e+29  5.27196036e-18 -2.87895748e+36  7.10542736e-15\n",
       "  -2.94645733e+36  7.10542736e-15 -2.94126504e+36  7.10542736e-15\n",
       "   1.08439746e-19  2.00001144e+00 -6.11287069e+00  8.60671693e+09\n",
       "  -1.99153911e-38  3.85185989e-34 -3.86011355e-19  2.01953244e+00\n",
       "   6.10715999e-39  3.27972522e-18 -1.63609248e-09  2.24463860e-19\n",
       "   7.85014406e-03  7.10542736e-15  2.99528808e-39 -1.50463277e-36\n",
       "   5.96025531e+37  5.66248488e+14  1.01779026e-31  1.65436123e-24\n",
       "  -2.06041813e+00  7.11930938e-15 -1.79179691e-38  3.85185989e-34\n",
       "   1.64325309e-19  3.27972522e-18 -2.64227998e-38  2.52435475e-29\n",
       "  -4.06020793e+19  7.11930938e-15  6.34239237e-24  3.71096609e+19\n",
       "  -1.70361298e+29  7.11930938e-15 -6.14412069e+00  8.60671693e+09\n",
       "  -2.93088044e+36  7.10542736e-15  3.26806308e-31  3.71096609e+19\n",
       "   1.64325309e-19  2.84858545e-18  3.89124328e-38  1.66920198e-36\n",
       "   1.89285855e-39 -1.31072000e+05  7.87213976e+12  1.32096000e+05\n",
       "  -2.96722652e+36  7.10542736e-15  1.75590943e+37  5.66248488e+14\n",
       "  -2.76991924e+36  7.10542736e-15  1.35506411e+37  5.66248488e+14\n",
       "   7.05771830e-10  2.41490458e-18  1.36839031e-33  2.62156697e-19\n",
       "  -2.96203422e+36  7.10542736e-15 -5.08012312e-31  3.71817141e+19\n",
       "   2.94070394e-29 -1.31072000e+05  2.07716493e+32  5.66248488e+14\n",
       "  -2.95684193e+36  7.10542736e-15  3.00613661e-31  3.71096609e+19]]\n",
       "<NDArray 1x256 @gpu(0)>"
      ]
     },
     "execution_count": 2,
     "metadata": {},
     "output_type": "execute_result"
    }
   ],
   "source": [
    "# Problem 1 Work Area\n",
    "x = mx.nd.empty(shape=[1, 256], ctx=mx.gpu(0), dtype='float32')\n",
    "x"
   ]
  },
  {
   "cell_type": "code",
   "execution_count": 3,
   "metadata": {},
   "outputs": [
    {
     "data": {
      "text/plain": [
       "\n",
       "[200.]\n",
       "<NDArray 1 @gpu(0)>"
      ]
     },
     "execution_count": 3,
     "metadata": {},
     "output_type": "execute_result"
    }
   ],
   "source": [
    "mx.nd.argmax(x, axis=1)"
   ]
  },
  {
   "cell_type": "markdown",
   "metadata": {},
   "source": [
    "## Problems from Linear Algebra\n",
    "\n",
    "Problem 2: Create a 4x4 matrix of random values (where values are uniformly random on the iterval [0,1]. Then create an 4x4 identity matrix (an identity of size n is the n × n square matrix with ones on the main diagonal and zeros elsewhere). Multiply the two together and verify that you get the original matrix back."
   ]
  },
  {
   "cell_type": "code",
   "execution_count": 4,
   "metadata": {},
   "outputs": [
    {
     "data": {
      "text/plain": [
       "\n",
       "[[0.52383333 0.05501367 0.03996297 0.59453225]\n",
       " [0.18596531 0.6903532  0.7727907  0.98788726]\n",
       " [0.5521489  0.01780298 0.0862769  0.3745286 ]\n",
       " [0.44139475 0.4481566  0.7155492  0.38271946]]\n",
       "<NDArray 4x4 @cpu(0)>"
      ]
     },
     "execution_count": 4,
     "metadata": {},
     "output_type": "execute_result"
    }
   ],
   "source": [
    "# Problem 2 Work Area\n",
    "random_x = mx.nd.random_uniform(shape=[4, 4], low = 0, high = 1)\n",
    "random_x"
   ]
  },
  {
   "cell_type": "code",
   "execution_count": 5,
   "metadata": {},
   "outputs": [
    {
     "data": {
      "text/plain": [
       "\n",
       "[[1. 0. 0. 0.]\n",
       " [0. 1. 0. 0.]\n",
       " [0. 0. 1. 0.]\n",
       " [0. 0. 0. 1.]]\n",
       "<NDArray 4x4 @cpu(0)>"
      ]
     },
     "execution_count": 5,
     "metadata": {},
     "output_type": "execute_result"
    }
   ],
   "source": [
    "identity_m = mx.nd.one_hot(mx.nd.arange(4), depth=4)\n",
    "identity_m"
   ]
  },
  {
   "cell_type": "code",
   "execution_count": 6,
   "metadata": {},
   "outputs": [
    {
     "data": {
      "text/plain": [
       "\n",
       "[[0.52383333 0.05501367 0.03996297 0.59453225]\n",
       " [0.18596531 0.6903532  0.7727907  0.98788726]\n",
       " [0.5521489  0.01780298 0.0862769  0.3745286 ]\n",
       " [0.44139475 0.4481566  0.7155492  0.38271946]]\n",
       "<NDArray 4x4 @cpu(0)>"
      ]
     },
     "execution_count": 6,
     "metadata": {},
     "output_type": "execute_result"
    }
   ],
   "source": [
    "output = mx.nd.dot(random_x, identity_m)\n",
    "output"
   ]
  },
  {
   "cell_type": "markdown",
   "metadata": {},
   "source": [
    "Problem 3: Create a 3x3x20 tensor such that at every x,y coordinate, moving through the z coordinate lists the [Fibonacci sequence](https://en.wikipedia.org/wiki/Fibonacci_number). So, at a z position of 0, the 3x3 matrix will be all 1s. At z-position 1, the 3x3 matrix will be all 1s. At z-position 2, the 3x3 matrix will be all 2s, at z-position 3, the 3x3 matrix will be all 3s and so forth.\n",
    "\n",
    "Hint: Create the first 2 matrices by hand and then use element-wise operations in a loop to construct the rest of the tensor. "
   ]
  },
  {
   "cell_type": "code",
   "execution_count": 7,
   "metadata": {},
   "outputs": [],
   "source": [
    "# Problem 3 Work Area"
   ]
  },
  {
   "cell_type": "markdown",
   "metadata": {},
   "source": [
    "Problem 4: What is the sum of the vector you created? What is the mean?"
   ]
  },
  {
   "cell_type": "code",
   "execution_count": 8,
   "metadata": {},
   "outputs": [],
   "source": [
    "# Problem 4 Work Area"
   ]
  },
  {
   "cell_type": "markdown",
   "metadata": {},
   "source": [
    "Problem 5: Create a vector [0,1], and another vector [1,0], and use mxnet to calculate the angle between them. Remember that the dot product of two vectors is equal to the cossine of the angle between the vectors, and that the arccos function is the inverse of cosine."
   ]
  },
  {
   "cell_type": "code",
   "execution_count": 9,
   "metadata": {},
   "outputs": [],
   "source": [
    "# Problem 5 Work Area"
   ]
  },
  {
   "cell_type": "markdown",
   "metadata": {},
   "source": [
    "## Problems from Probability\n",
    "\n",
    "Problem 6: In the classic game of Risk, the attacker can roll a maximum of three dice, while the defender can roll a maximum of two dice. Simulate the attacking and defending dice using `sample_multinomial` to try to estimate the odds that an attacker will win against a defender when both are rolling the maximum number of dice."
   ]
  },
  {
   "cell_type": "code",
   "execution_count": 10,
   "metadata": {},
   "outputs": [],
   "source": [
    "# Problem 6 Work Area"
   ]
  },
  {
   "cell_type": "markdown",
   "metadata": {},
   "source": [
    "## Problems from Automatic differentiation with ``autograd`` \n",
    "\n",
    "Problem 7: The formula for a parabola is y=ax^2+bx+c. If a=5 and b = 13, what is the slope of y when x=0.  How about when x=7? "
   ]
  },
  {
   "cell_type": "code",
   "execution_count": 11,
   "metadata": {},
   "outputs": [],
   "source": [
    "# Problem 7 Work Area"
   ]
  },
  {
   "cell_type": "markdown",
   "metadata": {},
   "source": [
    "Problem 8: Graph the parabola described in Problem 6 and inspect the slope of y when x = 0 and x = 7. Does it match up with your answer from Problem 6?\n"
   ]
  },
  {
   "cell_type": "code",
   "execution_count": 12,
   "metadata": {},
   "outputs": [],
   "source": [
    "# Problem 8 Work Area"
   ]
  },
  {
   "cell_type": "markdown",
   "metadata": {},
   "source": [
    "## Next\n",
    "[Chapter 2: Linear regression from scratch](../chapter02_supervised-learning/linear-regression-scratch.ipynb)"
   ]
  },
  {
   "cell_type": "markdown",
   "metadata": {},
   "source": [
    "For whinges or inquiries, [open an issue on  GitHub.](https://github.com/zackchase/mxnet-the-straight-dope)"
   ]
  }
 ],
 "metadata": {
  "kernelspec": {
   "display_name": "Python 3",
   "language": "python",
   "name": "python3"
  },
  "language_info": {
   "codemirror_mode": {
    "name": "ipython",
    "version": 3
   },
   "file_extension": ".py",
   "mimetype": "text/x-python",
   "name": "python",
   "nbconvert_exporter": "python",
   "pygments_lexer": "ipython3",
   "version": "3.6.5"
  }
 },
 "nbformat": 4,
 "nbformat_minor": 2
}
