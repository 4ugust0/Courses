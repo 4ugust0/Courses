{
 "cells": [
  {
   "cell_type": "markdown",
   "metadata": {},
   "source": [
    "# Overfitting and regularization from scratch"
   ]
  },
  {
   "cell_type": "code",
   "execution_count": 1,
   "metadata": {},
   "outputs": [
    {
     "name": "stderr",
     "output_type": "stream",
     "text": [
      "C:\\ProgramData\\Anaconda3\\lib\\site-packages\\h5py\\__init__.py:36: FutureWarning: Conversion of the second argument of issubdtype from `float` to `np.floating` is deprecated. In future, it will be treated as `np.float64 == np.dtype(float).type`.\n",
      "  from ._conv import register_converters as _register_converters\n",
      "C:\\ProgramData\\Anaconda3\\lib\\site-packages\\h5py\\tests\\old\\test_attrs_data.py:251: DeprecationWarning: invalid escape sequence \\H\n",
      "  s = b\"Hello\\x00\\Hello\"\n",
      "C:\\ProgramData\\Anaconda3\\lib\\site-packages\\sklearn\\externals\\joblib\\func_inspect.py:53: DeprecationWarning: invalid escape sequence \\<\n",
      "  '\\<doctest (.*\\.rst)\\[(.*)\\]\\>', source_file).groups()\n",
      "C:\\ProgramData\\Anaconda3\\lib\\site-packages\\sklearn\\externals\\joblib\\_memory_helpers.py:10: DeprecationWarning: invalid escape sequence \\s\n",
      "  cookie_re = re.compile(\"coding[:=]\\s*([-\\w.]+)\")\n"
     ]
    }
   ],
   "source": [
    "from __future__ import print_function\n",
    "import mxnet as mx\n",
    "import numpy as np\n",
    "from tqdm import tqdm\n",
    "ctx = mx.cpu()\n",
    "mx.random.seed(69)"
   ]
  },
  {
   "cell_type": "code",
   "execution_count": 2,
   "metadata": {},
   "outputs": [],
   "source": [
    "%matplotlib inline\n",
    "#import matplotlib\n",
    "import matplotlib.pyplot as plt"
   ]
  },
  {
   "cell_type": "markdown",
   "metadata": {},
   "source": [
    "## Loading the MNIST dataset"
   ]
  },
  {
   "cell_type": "code",
   "execution_count": 3,
   "metadata": {},
   "outputs": [],
   "source": [
    "mnist = mx.test_utils.get_mnist()\n",
    "num_examples = 1000\n",
    "batch_size = 64\n",
    "train_data = mx.gluon.data.DataLoader(\n",
    "    mx.gluon.data.ArrayDataset(mnist[\"train_data\"][:num_examples],\n",
    "                               mnist[\"train_label\"][:num_examples].astype(np.float32)),\n",
    "                               batch_size, shuffle=True)\n",
    "test_data = mx.gluon.data.DataLoader(\n",
    "    mx.gluon.data.ArrayDataset(mnist[\"test_data\"][:num_examples],\n",
    "                               mnist[\"test_label\"][:num_examples].astype(np.float32)),\n",
    "                               batch_size, shuffle=False)"
   ]
  },
  {
   "cell_type": "markdown",
   "metadata": {},
   "source": [
    "## Initializing model parameters"
   ]
  },
  {
   "cell_type": "code",
   "execution_count": 4,
   "metadata": {},
   "outputs": [],
   "source": [
    "W = mx.nd.random_normal(shape=(784,10))\n",
    "b = mx.nd.random_normal(shape=10)\n",
    "\n",
    "params = [W, b]"
   ]
  },
  {
   "cell_type": "code",
   "execution_count": 5,
   "metadata": {},
   "outputs": [],
   "source": [
    "# Gradients\n",
    "for param in params:\n",
    "    param.attach_grad()"
   ]
  },
  {
   "cell_type": "markdown",
   "metadata": {},
   "source": [
    "## Defining the model"
   ]
  },
  {
   "cell_type": "code",
   "execution_count": 6,
   "metadata": {},
   "outputs": [],
   "source": [
    "def net(X):\n",
    "    y_linear = mx.nd.dot(X, W) + b\n",
    "    yhat = mx.nd.softmax(y_linear, axis=1)\n",
    "    return yhat"
   ]
  },
  {
   "cell_type": "markdown",
   "metadata": {},
   "source": [
    "## Loss function"
   ]
  },
  {
   "cell_type": "code",
   "execution_count": 7,
   "metadata": {},
   "outputs": [],
   "source": [
    "def cross_entropy(yhat, y):\n",
    "    return - mx.nd.sum(y * mx.nd.log(yhat), \n",
    "                       axis=0, \n",
    "                       exclude=True)"
   ]
  },
  {
   "cell_type": "markdown",
   "metadata": {},
   "source": [
    "## Optimizer - Stochastic Gradient Descent"
   ]
  },
  {
   "cell_type": "code",
   "execution_count": 8,
   "metadata": {},
   "outputs": [],
   "source": [
    "def SGD(params, lr):\n",
    "    for param in params:\n",
    "        param[:] = param - lr * param.grad"
   ]
  },
  {
   "cell_type": "markdown",
   "metadata": {},
   "source": [
    "## Accuracy evaluation"
   ]
  },
  {
   "cell_type": "code",
   "execution_count": 9,
   "metadata": {},
   "outputs": [],
   "source": [
    "def evaluate_accuracy(data_iterator, net):\n",
    "    numerator = 0.\n",
    "    denominator = 0.\n",
    "    loss_avg = 0.\n",
    "    for i, (data, label) in enumerate(data_iterator):\n",
    "        data = data.as_in_context(ctx).reshape((-1,784))\n",
    "        label = label.as_in_context(ctx)\n",
    "        label_one_hot = mx.nd.one_hot(label, 10)\n",
    "        output = net(data)\n",
    "        loss = cross_entropy(output, label_one_hot)\n",
    "        predictions = mx.nd.argmax(output, axis=1)\n",
    "        numerator += mx.nd.sum(predictions == label)\n",
    "        denominator += data.shape[0]\n",
    "        loss_avg = loss_avg * i / (i + 1) + mx.nd.mean(loss).asscalar() / (i + 1)\n",
    "    return (numerator / denominator).asscalar(), loss_avg"
   ]
  },
  {
   "cell_type": "markdown",
   "metadata": {},
   "source": [
    "## Learning curves"
   ]
  },
  {
   "cell_type": "code",
   "execution_count": 10,
   "metadata": {},
   "outputs": [],
   "source": [
    "def plot_learningcurves(loss_tr,loss_ts, acc_tr,acc_ts):\n",
    "    xs = list(range(len(loss_tr)))\n",
    "\n",
    "    f = plt.figure(figsize=(12, 6))\n",
    "    fg1 = f.add_subplot(121)\n",
    "    fg2 = f.add_subplot(122)\n",
    "\n",
    "    fg1.set_xlabel('epoch', fontsize=14)\n",
    "    fg1.set_title('Comparing loss functions')\n",
    "    fg1.semilogy(xs, loss_tr)\n",
    "    fg1.semilogy(xs, loss_ts)\n",
    "    fg1.grid(True,which=\"both\")\n",
    "\n",
    "    fg1.legend(['training loss', 'testing loss'], fontsize=14)\n",
    "\n",
    "    fg2.set_title('Comparing accuracy')\n",
    "    fg1.set_xlabel('epoch', fontsize=14)\n",
    "    fg2.plot(xs, acc_tr)\n",
    "    fg2.plot(xs, acc_ts)\n",
    "    fg2.grid(True, which=\"both\")\n",
    "    fg2.legend(['training accuracy', 'testing accuracy'], fontsize=14)"
   ]
  },
  {
   "cell_type": "markdown",
   "metadata": {},
   "source": [
    "## Training loop"
   ]
  },
  {
   "cell_type": "code",
   "execution_count": 11,
   "metadata": {},
   "outputs": [],
   "source": [
    "# Hyperparameters\n",
    "epochs = 2000"
   ]
  },
  {
   "cell_type": "code",
   "execution_count": 12,
   "metadata": {},
   "outputs": [],
   "source": [
    "moving_loss = 0.\n",
    "niter=0\n",
    "\n",
    "loss_seq_train = []\n",
    "loss_seq_test = []\n",
    "acc_seq_train = []\n",
    "acc_seq_test = []"
   ]
  },
  {
   "cell_type": "code",
   "execution_count": 13,
   "metadata": {},
   "outputs": [
    {
     "name": "stderr",
     "output_type": "stream",
     "text": [
      "  5%|████████▍                                                                                                                                                                  | 98/2000 [00:05<01:51, 17.07it/s]"
     ]
    },
    {
     "name": "stdout",
     "output_type": "stream",
     "text": [
      "Completed epoch 100. Train Loss: 0.6038771346211435, Test Loss 1.599613390862942, Train_acc 0.856, Test_acc 0.686\n"
     ]
    },
    {
     "name": "stderr",
     "output_type": "stream",
     "text": [
      " 10%|████████████████▊                                                                                                                                                         | 198/2000 [00:11<01:44, 17.28it/s]"
     ]
    },
    {
     "name": "stdout",
     "output_type": "stream",
     "text": [
      "Completed epoch 200. Train Loss: 0.2768279858864844, Test Loss 1.4021890088915827, Train_acc 0.931, Test_acc 0.716\n"
     ]
    },
    {
     "name": "stderr",
     "output_type": "stream",
     "text": [
      " 15%|█████████████████████████▎                                                                                                                                                | 298/2000 [00:17<01:37, 17.53it/s]"
     ]
    },
    {
     "name": "stdout",
     "output_type": "stream",
     "text": [
      "Completed epoch 300. Train Loss: 0.1489952034316957, Test Loss 1.346388429403305, Train_acc 0.966, Test_acc 0.734\n"
     ]
    },
    {
     "name": "stderr",
     "output_type": "stream",
     "text": [
      " 20%|█████████████████████████████████▊                                                                                                                                        | 398/2000 [00:22<01:30, 17.66it/s]"
     ]
    },
    {
     "name": "stdout",
     "output_type": "stream",
     "text": [
      "Completed epoch 400. Train Loss: 0.09579754318110646, Test Loss 1.3299146555364134, Train_acc 0.985, Test_acc 0.74\n"
     ]
    },
    {
     "name": "stderr",
     "output_type": "stream",
     "text": [
      " 25%|██████████████████████████████████████████▍                                                                                                                               | 499/2000 [00:28<01:25, 17.64it/s]"
     ]
    },
    {
     "name": "stdout",
     "output_type": "stream",
     "text": [
      "Completed epoch 500. Train Loss: 0.06077140453271568, Test Loss 1.3234415017068384, Train_acc 0.994, Test_acc 0.744\n"
     ]
    },
    {
     "name": "stderr",
     "output_type": "stream",
     "text": [
      " 30%|██████████████████████████████████████████████████▊                                                                                                                       | 598/2000 [00:33<01:18, 17.84it/s]"
     ]
    },
    {
     "name": "stdout",
     "output_type": "stream",
     "text": [
      "Completed epoch 600. Train Loss: 0.04422907129628584, Test Loss 1.3154895789921284, Train_acc 0.999, Test_acc 0.747\n"
     ]
    },
    {
     "name": "stderr",
     "output_type": "stream",
     "text": [
      " 35%|███████████████████████████████████████████████████████████▍                                                                                                              | 699/2000 [00:38<01:12, 18.05it/s]"
     ]
    },
    {
     "name": "stdout",
     "output_type": "stream",
     "text": [
      "Completed epoch 700. Train Loss: 0.03473750373814256, Test Loss 1.3065832294523714, Train_acc 1.0, Test_acc 0.752\n"
     ]
    },
    {
     "name": "stderr",
     "output_type": "stream",
     "text": [
      " 40%|███████████████████████████████████████████████████████████████████▉                                                                                                      | 799/2000 [00:44<01:06, 18.14it/s]"
     ]
    },
    {
     "name": "stdout",
     "output_type": "stream",
     "text": [
      "Completed epoch 800. Train Loss: 0.028673032415099442, Test Loss 1.2999009974300861, Train_acc 1.0, Test_acc 0.754\n"
     ]
    },
    {
     "name": "stderr",
     "output_type": "stream",
     "text": [
      " 45%|████████████████████████████████████████████████████████████████████████████▍                                                                                             | 899/2000 [00:49<01:00, 18.21it/s]"
     ]
    },
    {
     "name": "stdout",
     "output_type": "stream",
     "text": [
      "Completed epoch 900. Train Loss: 0.02438156516291201, Test Loss 1.2950564920902252, Train_acc 1.0, Test_acc 0.755\n"
     ]
    },
    {
     "name": "stderr",
     "output_type": "stream",
     "text": [
      " 50%|████████████████████████████████████████████████████████████████████████████████████▉                                                                                     | 999/2000 [00:55<00:55, 17.91it/s]"
     ]
    },
    {
     "name": "stdout",
     "output_type": "stream",
     "text": [
      "Completed epoch 1000. Train Loss: 0.02146818581968546, Test Loss 1.2915939725935455, Train_acc 1.0, Test_acc 0.756\n"
     ]
    },
    {
     "name": "stderr",
     "output_type": "stream",
     "text": [
      " 55%|████████████████████████████████████████████████████████████████████████████████████████████▊                                                                            | 1099/2000 [01:02<00:50, 17.71it/s]"
     ]
    },
    {
     "name": "stdout",
     "output_type": "stream",
     "text": [
      "Completed epoch 1100. Train Loss: 0.0192582905292511, Test Loss 1.2890733741223812, Train_acc 1.0, Test_acc 0.759\n"
     ]
    },
    {
     "name": "stderr",
     "output_type": "stream",
     "text": [
      " 60%|█████████████████████████████████████████████████████████████████████████████████████████████████████▎                                                                   | 1199/2000 [01:08<00:45, 17.62it/s]"
     ]
    },
    {
     "name": "stdout",
     "output_type": "stream",
     "text": [
      "Completed epoch 1200. Train Loss: 0.017185447621159252, Test Loss 1.2872272171080112, Train_acc 1.0, Test_acc 0.763\n"
     ]
    },
    {
     "name": "stderr",
     "output_type": "stream",
     "text": [
      " 65%|█████████████████████████████████████████████████████████████████████████████████████████████████████████████▊                                                           | 1299/2000 [01:14<00:39, 17.53it/s]"
     ]
    },
    {
     "name": "stdout",
     "output_type": "stream",
     "text": [
      "Completed epoch 1300. Train Loss: 0.015476226515602317, Test Loss 1.2859580721706154, Train_acc 1.0, Test_acc 0.762\n"
     ]
    },
    {
     "name": "stderr",
     "output_type": "stream",
     "text": [
      " 70%|██████████████████████████████████████████████████████████████████████████████████████████████████████████████████████▏                                                  | 1399/2000 [01:20<00:34, 17.30it/s]"
     ]
    },
    {
     "name": "stdout",
     "output_type": "stream",
     "text": [
      "Completed epoch 1400. Train Loss: 0.014637210289947689, Test Loss 1.2850818559527393, Train_acc 1.0, Test_acc 0.764\n"
     ]
    },
    {
     "name": "stderr",
     "output_type": "stream",
     "text": [
      " 75%|██████████████████████████████████████████████████████████████████████████████████████████████████████████████████████████████▋                                          | 1499/2000 [01:27<00:29, 17.07it/s]"
     ]
    },
    {
     "name": "stdout",
     "output_type": "stream",
     "text": [
      "Completed epoch 1500. Train Loss: 0.013286375382449478, Test Loss 1.28445459716022, Train_acc 1.0, Test_acc 0.766\n"
     ]
    },
    {
     "name": "stderr",
     "output_type": "stream",
     "text": [
      " 80%|███████████████████████████████████████████████████████████████████████████████████████████████████████████████████████████████████████                                  | 1599/2000 [01:34<00:23, 16.99it/s]"
     ]
    },
    {
     "name": "stdout",
     "output_type": "stream",
     "text": [
      "Completed epoch 1600. Train Loss: 0.012350540840998294, Test Loss 1.284093173220754, Train_acc 1.0, Test_acc 0.768\n"
     ]
    },
    {
     "name": "stderr",
     "output_type": "stream",
     "text": [
      " 85%|███████████████████████████████████████████████████████████████████████████████████████████████████████████████████████████████████████████████▌                         | 1699/2000 [01:39<00:17, 17.05it/s]"
     ]
    },
    {
     "name": "stdout",
     "output_type": "stream",
     "text": [
      "Completed epoch 1700. Train Loss: 0.011432135128416124, Test Loss 1.2839696779847143, Train_acc 1.0, Test_acc 0.768\n"
     ]
    },
    {
     "name": "stderr",
     "output_type": "stream",
     "text": [
      " 90%|████████████████████████████████████████████████████████████████████████████████████████████████████████████████████████████████████████████████████████                 | 1799/2000 [01:45<00:11, 17.05it/s]"
     ]
    },
    {
     "name": "stdout",
     "output_type": "stream",
     "text": [
      "Completed epoch 1800. Train Loss: 0.010793417692184448, Test Loss 1.2838998492807152, Train_acc 1.0, Test_acc 0.767\n"
     ]
    },
    {
     "name": "stderr",
     "output_type": "stream",
     "text": [
      " 95%|████████████████████████████████████████████████████████████████████████████████████████████████████████████████████████████████████████████████████████████████▍        | 1899/2000 [01:51<00:05, 17.11it/s]"
     ]
    },
    {
     "name": "stdout",
     "output_type": "stream",
     "text": [
      "Completed epoch 1900. Train Loss: 0.010174113151151689, Test Loss 1.2840129863470795, Train_acc 1.0, Test_acc 0.768\n"
     ]
    },
    {
     "name": "stderr",
     "output_type": "stream",
     "text": [
      "100%|████████████████████████████████████████████████████████████████████████████████████████████████████████████████████████████████████████████████████████████████████████▉| 1999/2000 [01:56<00:00, 17.15it/s]"
     ]
    },
    {
     "name": "stdout",
     "output_type": "stream",
     "text": [
      "Completed epoch 2000. Train Loss: 0.009524914174107831, Test Loss 1.2842037398368116, Train_acc 1.0, Test_acc 0.77\n"
     ]
    },
    {
     "name": "stderr",
     "output_type": "stream",
     "text": [
      "100%|█████████████████████████████████████████████████████████████████████████████████████████████████████████████████████████████████████████████████████████████████████████| 2000/2000 [01:56<00:00, 17.15it/s]\n"
     ]
    }
   ],
   "source": [
    "for e in tqdm(range(epochs)):\n",
    "    for i, (data, label) in enumerate(train_data):\n",
    "        data = data.as_in_context(ctx).reshape((-1,784))\n",
    "        label = label.as_in_context(ctx)\n",
    "        label_one_hot = mx.nd.one_hot(label, 10)\n",
    "        with mx.autograd.record():\n",
    "            output = net(data)\n",
    "            loss = cross_entropy(output, label_one_hot)\n",
    "        loss.backward()\n",
    "        SGD(params, .001)\n",
    "\n",
    "        ##########################\n",
    "        #  Keep a moving average of the losses\n",
    "        ##########################\n",
    "        niter +=1\n",
    "        moving_loss = .99 * moving_loss + .01 * mx.nd.mean(loss).asscalar()\n",
    "        est_loss = moving_loss/(1-0.99**niter)\n",
    "\n",
    "    test_accuracy, test_loss = evaluate_accuracy(test_data, net)\n",
    "    train_accuracy, train_loss = evaluate_accuracy(train_data, net)\n",
    "\n",
    "    # save them for later\n",
    "    loss_seq_train.append(train_loss)\n",
    "    loss_seq_test.append(test_loss)\n",
    "    acc_seq_train.append(train_accuracy)\n",
    "    acc_seq_test.append(test_accuracy)\n",
    "\n",
    "\n",
    "    if e % 100 == 99:\n",
    "        print(\"Completed epoch %s. Train Loss: %s, Test Loss %s, Train_acc %s, Test_acc %s\" %\n",
    "              (e+1, train_loss, test_loss, train_accuracy, test_accuracy))"
   ]
  },
  {
   "cell_type": "code",
   "execution_count": 14,
   "metadata": {},
   "outputs": [
    {
     "data": {
      "image/png": "[encoded data removed]",
      "text/plain": [
       "<Figure size 864x432 with 2 Axes>"
      ]
     },
     "metadata": {},
     "output_type": "display_data"
    }
   ],
   "source": [
    "## Plotting the learning curves\n",
    "plot_learningcurves(loss_seq_train, loss_seq_test, acc_seq_train, acc_seq_test)"
   ]
  },
  {
   "cell_type": "markdown",
   "metadata": {},
   "source": [
    "## L2 Penalty"
   ]
  },
  {
   "cell_type": "code",
   "execution_count": 15,
   "metadata": {},
   "outputs": [],
   "source": [
    "def l2_penalty(params):\n",
    "    penalty = mx.nd.zeros(shape=1)\n",
    "    for param in params:\n",
    "        penalty = penalty + mx.nd.sum(param ** 2)\n",
    "    return penalty"
   ]
  },
  {
   "cell_type": "markdown",
   "metadata": {},
   "source": [
    "## Re-initializing the parameters with the penalty"
   ]
  },
  {
   "cell_type": "code",
   "execution_count": 16,
   "metadata": {},
   "outputs": [],
   "source": [
    "for param in params:\n",
    "    param[:] = mx.nd.random_normal(shape=param.shape)"
   ]
  },
  {
   "cell_type": "markdown",
   "metadata": {},
   "source": [
    "## Training with L2 Penalty"
   ]
  },
  {
   "cell_type": "code",
   "execution_count": 17,
   "metadata": {},
   "outputs": [],
   "source": [
    "epochs = 2000\n",
    "moving_loss = 0.\n",
    "l2_strength = .1"
   ]
  },
  {
   "cell_type": "code",
   "execution_count": 18,
   "metadata": {},
   "outputs": [],
   "source": [
    "niter = 0\n",
    "\n",
    "loss_seq_train = []\n",
    "loss_seq_test = []\n",
    "acc_seq_train = []\n",
    "acc_seq_test = []"
   ]
  },
  {
   "cell_type": "code",
   "execution_count": 19,
   "metadata": {},
   "outputs": [
    {
     "name": "stderr",
     "output_type": "stream",
     "text": [
      "  5%|████████▍                                                                                                                                                                  | 98/2000 [00:06<02:09, 14.70it/s]"
     ]
    },
    {
     "name": "stdout",
     "output_type": "stream",
     "text": [
      "Completed epoch 100. Train Loss: 0.3659017644822597, Test Loss 1.1831470094621181, Train_acc 0.901, Test_acc 0.713\n"
     ]
    },
    {
     "name": "stderr",
     "output_type": "stream",
     "text": [
      " 10%|████████████████▊                                                                                                                                                         | 198/2000 [00:13<02:02, 14.66it/s]"
     ]
    },
    {
     "name": "stdout",
     "output_type": "stream",
     "text": [
      "Completed epoch 200. Train Loss: 0.17370473546907306, Test Loss 0.8214248269796371, Train_acc 0.966, Test_acc 0.766\n"
     ]
    },
    {
     "name": "stderr",
     "output_type": "stream",
     "text": [
      " 15%|█████████████████████████▎                                                                                                                                                | 298/2000 [00:20<01:56, 14.60it/s]"
     ]
    },
    {
     "name": "stdout",
     "output_type": "stream",
     "text": [
      "Completed epoch 300. Train Loss: 0.1360322600230575, Test Loss 0.667118364945054, Train_acc 0.983, Test_acc 0.794\n"
     ]
    },
    {
     "name": "stderr",
     "output_type": "stream",
     "text": [
      " 20%|█████████████████████████████████▊                                                                                                                                        | 398/2000 [00:27<01:49, 14.65it/s]"
     ]
    },
    {
     "name": "stdout",
     "output_type": "stream",
     "text": [
      "Completed epoch 400. Train Loss: 0.12753395223990086, Test Loss 0.5858515463769437, Train_acc 0.989, Test_acc 0.816\n"
     ]
    },
    {
     "name": "stderr",
     "output_type": "stream",
     "text": [
      " 25%|██████████████████████████████████████████▎                                                                                                                               | 498/2000 [00:33<01:42, 14.67it/s]"
     ]
    },
    {
     "name": "stdout",
     "output_type": "stream",
     "text": [
      "Completed epoch 500. Train Loss: 0.1274819583632052, Test Loss 0.5429002176970243, Train_acc 0.993, Test_acc 0.824\n"
     ]
    },
    {
     "name": "stderr",
     "output_type": "stream",
     "text": [
      " 30%|██████████████████████████████████████████████████▊                                                                                                                       | 598/2000 [00:40<01:35, 14.67it/s]"
     ]
    },
    {
     "name": "stdout",
     "output_type": "stream",
     "text": [
      "Completed epoch 600. Train Loss: 0.12687483662739396, Test Loss 0.5220139883458617, Train_acc 0.992, Test_acc 0.83\n"
     ]
    },
    {
     "name": "stderr",
     "output_type": "stream",
     "text": [
      " 35%|███████████████████████████████████████████████████████████▎                                                                                                              | 698/2000 [00:47<01:29, 14.54it/s]"
     ]
    },
    {
     "name": "stdout",
     "output_type": "stream",
     "text": [
      "Completed epoch 700. Train Loss: 0.12834594026207927, Test Loss 0.511879913508892, Train_acc 0.994, Test_acc 0.836\n"
     ]
    },
    {
     "name": "stderr",
     "output_type": "stream",
     "text": [
      " 40%|███████████████████████████████████████████████████████████████████▊                                                                                                      | 798/2000 [00:54<01:22, 14.57it/s]"
     ]
    },
    {
     "name": "stdout",
     "output_type": "stream",
     "text": [
      "Completed epoch 800. Train Loss: 0.13077487936243415, Test Loss 0.50735848210752, Train_acc 0.993, Test_acc 0.837\n"
     ]
    },
    {
     "name": "stderr",
     "output_type": "stream",
     "text": [
      " 45%|████████████████████████████████████████████████████████████████████████████▎                                                                                             | 898/2000 [01:01<01:15, 14.60it/s]"
     ]
    },
    {
     "name": "stdout",
     "output_type": "stream",
     "text": [
      "Completed epoch 900. Train Loss: 0.1288467608392239, Test Loss 0.5036889091134071, Train_acc 0.991, Test_acc 0.839\n"
     ]
    },
    {
     "name": "stderr",
     "output_type": "stream",
     "text": [
      " 50%|████████████████████████████████████████████████████████████████████████████████████▊                                                                                     | 998/2000 [01:09<01:09, 14.45it/s]"
     ]
    },
    {
     "name": "stdout",
     "output_type": "stream",
     "text": [
      "Completed epoch 1000. Train Loss: 0.12741930061019954, Test Loss 0.5019851829856634, Train_acc 0.994, Test_acc 0.839\n"
     ]
    },
    {
     "name": "stderr",
     "output_type": "stream",
     "text": [
      " 55%|████████████████████████████████████████████████████████████████████████████████████████████▊                                                                            | 1098/2000 [01:16<01:02, 14.41it/s]"
     ]
    },
    {
     "name": "stdout",
     "output_type": "stream",
     "text": [
      "Completed epoch 1100. Train Loss: 0.12783570494502783, Test Loss 0.5008499156683683, Train_acc 0.993, Test_acc 0.839\n"
     ]
    },
    {
     "name": "stderr",
     "output_type": "stream",
     "text": [
      " 60%|█████████████████████████████████████████████████████████████████████████████████████████████████████▏                                                                   | 1198/2000 [01:23<00:55, 14.42it/s]"
     ]
    },
    {
     "name": "stdout",
     "output_type": "stream",
     "text": [
      "Completed epoch 1200. Train Loss: 0.12979424605146053, Test Loss 0.5017950646579266, Train_acc 0.993, Test_acc 0.838\n"
     ]
    },
    {
     "name": "stderr",
     "output_type": "stream",
     "text": [
      " 65%|█████████████████████████████████████████████████████████████████████████████████████████████████████████████▋                                                           | 1298/2000 [01:29<00:48, 14.43it/s]"
     ]
    },
    {
     "name": "stdout",
     "output_type": "stream",
     "text": [
      "Completed epoch 1300. Train Loss: 0.12912576040253043, Test Loss 0.5006001740694046, Train_acc 0.992, Test_acc 0.84\n"
     ]
    },
    {
     "name": "stderr",
     "output_type": "stream",
     "text": [
      " 70%|██████████████████████████████████████████████████████████████████████████████████████████████████████████████████████▏                                                  | 1398/2000 [01:36<00:41, 14.46it/s]"
     ]
    },
    {
     "name": "stdout",
     "output_type": "stream",
     "text": [
      "Completed epoch 1400. Train Loss: 0.13007821282371876, Test Loss 0.4997680727392435, Train_acc 0.992, Test_acc 0.839\n"
     ]
    },
    {
     "name": "stderr",
     "output_type": "stream",
     "text": [
      " 75%|██████████████████████████████████████████████████████████████████████████████████████████████████████████████████████████████▌                                          | 1498/2000 [01:43<00:34, 14.48it/s]"
     ]
    },
    {
     "name": "stdout",
     "output_type": "stream",
     "text": [
      "Completed epoch 1500. Train Loss: 0.1285314322449267, Test Loss 0.49972583539783955, Train_acc 0.993, Test_acc 0.841\n"
     ]
    },
    {
     "name": "stderr",
     "output_type": "stream",
     "text": [
      " 80%|███████████████████████████████████████████████████████████████████████████████████████████████████████████████████████████████████████                                  | 1598/2000 [01:50<00:27, 14.41it/s]"
     ]
    },
    {
     "name": "stdout",
     "output_type": "stream",
     "text": [
      "Completed epoch 1600. Train Loss: 0.12846492137759924, Test Loss 0.5000826939940453, Train_acc 0.991, Test_acc 0.841\n"
     ]
    },
    {
     "name": "stderr",
     "output_type": "stream",
     "text": [
      " 85%|███████████████████████████████████████████████████████████████████████████████████████████████████████████████████████████████████████████████▍                         | 1698/2000 [01:58<00:20, 14.38it/s]"
     ]
    },
    {
     "name": "stdout",
     "output_type": "stream",
     "text": [
      "Completed epoch 1700. Train Loss: 0.12928316881880164, Test Loss 0.5000155884772539, Train_acc 0.993, Test_acc 0.839\n"
     ]
    },
    {
     "name": "stderr",
     "output_type": "stream",
     "text": [
      " 90%|███████████████████████████████████████████████████████████████████████████████████████████████████████████████████████████████████████████████████████▉                 | 1798/2000 [02:05<00:14, 14.35it/s]"
     ]
    },
    {
     "name": "stdout",
     "output_type": "stream",
     "text": [
      "Completed epoch 1800. Train Loss: 0.13013487542048097, Test Loss 0.4997349977493286, Train_acc 0.992, Test_acc 0.84\n"
     ]
    },
    {
     "name": "stderr",
     "output_type": "stream",
     "text": [
      " 95%|████████████████████████████████████████████████████████████████████████████████████████████████████████████████████████████████████████████████████████████████▍        | 1898/2000 [02:12<00:07, 14.33it/s]"
     ]
    },
    {
     "name": "stdout",
     "output_type": "stream",
     "text": [
      "Completed epoch 1900. Train Loss: 0.12985176499933004, Test Loss 0.5005729533731937, Train_acc 0.993, Test_acc 0.839\n"
     ]
    },
    {
     "name": "stderr",
     "output_type": "stream",
     "text": [
      "100%|████████████████████████████████████████████████████████████████████████████████████████████████████████████████████████████████████████████████████████████████████████▊| 1998/2000 [02:19<00:00, 14.30it/s]"
     ]
    },
    {
     "name": "stdout",
     "output_type": "stream",
     "text": [
      "Completed epoch 2000. Train Loss: 0.1300811441615224, Test Loss 0.5003355573862791, Train_acc 0.991, Test_acc 0.839\n"
     ]
    },
    {
     "name": "stderr",
     "output_type": "stream",
     "text": [
      "100%|█████████████████████████████████████████████████████████████████████████████████████████████████████████████████████████████████████████████████████████████████████████| 2000/2000 [02:19<00:00, 14.30it/s]\n"
     ]
    }
   ],
   "source": [
    "for e in tqdm(range(epochs)):\n",
    "    for i, (data, label) in enumerate(train_data):\n",
    "        data = data.as_in_context(ctx).reshape((-1,784))\n",
    "        label = label.as_in_context(ctx)\n",
    "        label_one_hot = mx.nd.one_hot(label, 10)\n",
    "        with mx.autograd.record():\n",
    "            output = net(data)\n",
    "            loss = mx.nd.sum(cross_entropy(output, label_one_hot)) + l2_strength * l2_penalty(params)\n",
    "        loss.backward()\n",
    "        SGD(params, .001)\n",
    "\n",
    "        ##########################\n",
    "        #  Keep a moving average of the losses\n",
    "        ##########################\n",
    "        niter +=1\n",
    "        moving_loss = .99 * moving_loss + .01 * mx.nd.mean(loss).asscalar()\n",
    "        est_loss = moving_loss/(1-0.99**niter)\n",
    "\n",
    "\n",
    "    test_accuracy, test_loss = evaluate_accuracy(test_data, net)\n",
    "    train_accuracy, train_loss = evaluate_accuracy(train_data, net)\n",
    "\n",
    "    # save them for later\n",
    "    loss_seq_train.append(train_loss)\n",
    "    loss_seq_test.append(test_loss)\n",
    "    acc_seq_train.append(train_accuracy)\n",
    "    acc_seq_test.append(test_accuracy)\n",
    "\n",
    "    if e % 100 == 99:\n",
    "        print(\"Completed epoch %s. Train Loss: %s, Test Loss %s, Train_acc %s, Test_acc %s\" %\n",
    "              (e+1, train_loss, test_loss, train_accuracy, test_accuracy))"
   ]
  },
  {
   "cell_type": "code",
   "execution_count": 20,
   "metadata": {},
   "outputs": [
    {
     "data": {
      "image/png": "[encoded data removed]",
      "text/plain": [
       "<Figure size 864x432 with 2 Axes>"
      ]
     },
     "metadata": {},
     "output_type": "display_data"
    }
   ],
   "source": [
    "# Plotting the learning curves\n",
    "plot_learningcurves(loss_seq_train, loss_seq_test, acc_seq_train, acc_seq_test)"
   ]
  }
 ],
 "metadata": {
  "kernelspec": {
   "display_name": "Python 3",
   "language": "python",
   "name": "python3"
  },
  "language_info": {
   "codemirror_mode": {
    "name": "ipython",
    "version": 3
   },
   "file_extension": ".py",
   "mimetype": "text/x-python",
   "name": "python",
   "nbconvert_exporter": "python",
   "pygments_lexer": "ipython3",
   "version": "3.6.5"
  }
 },
 "nbformat": 4,
 "nbformat_minor": 2
}
