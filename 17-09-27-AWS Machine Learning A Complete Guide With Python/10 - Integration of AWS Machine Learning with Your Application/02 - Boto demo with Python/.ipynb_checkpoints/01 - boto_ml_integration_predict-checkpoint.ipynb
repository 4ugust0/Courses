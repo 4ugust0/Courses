{
 "cells": [
  {
   "cell_type": "code",
   "execution_count": 1,
   "metadata": {},
   "outputs": [],
   "source": [
    "import boto3"
   ]
  },
  {
   "cell_type": "code",
   "execution_count": 2,
   "metadata": {},
   "outputs": [],
   "source": [
    "ml_model_id = 'ml-HzDofty2GmI'\n",
    "end_point = 'https://realtime.machinelearning.us-east-1.amazonaws.com'"
   ]
  },
  {
   "cell_type": "code",
   "execution_count": 3,
   "metadata": {},
   "outputs": [],
   "source": [
    "session = boto3.Session(\n",
    "    region_name = 'us-east-1',\n",
    "    profile_name = 'ml_user_predict')"
   ]
  },
  {
   "cell_type": "code",
   "execution_count": 4,
   "metadata": {},
   "outputs": [],
   "source": [
    "ml = session.client('machinelearning')"
   ]
  },
  {
   "cell_type": "code",
   "execution_count": 5,
   "metadata": {},
   "outputs": [],
   "source": [
    "iris_record = \\\n",
    "    {\"Row\":\"1\",\n",
    "     \"sepal_length\":\"5.4\",\n",
    "     \"sepal_width\":\"3.0\",\n",
    "     \"petal_length\":\"4.5\",\n",
    "     \"petal_width\":\"1.5\"}"
   ]
  },
  {
   "cell_type": "code",
   "execution_count": 6,
   "metadata": {},
   "outputs": [
    {
     "data": {
      "text/plain": [
       "{'Row': '1',\n",
       " 'petal_length': '4.5',\n",
       " 'petal_width': '1.5',\n",
       " 'sepal_length': '5.4',\n",
       " 'sepal_width': '3.0'}"
      ]
     },
     "execution_count": 6,
     "metadata": {},
     "output_type": "execute_result"
    }
   ],
   "source": [
    "iris_record"
   ]
  },
  {
   "cell_type": "code",
   "execution_count": 7,
   "metadata": {},
   "outputs": [],
   "source": [
    "iris_prediction = ml.predict(MLModelId = ml_model_id, \n",
    "                             Record = iris_record, \n",
    "                             PredictEndpoint = end_point)"
   ]
  },
  {
   "cell_type": "code",
   "execution_count": 8,
   "metadata": {},
   "outputs": [
    {
     "data": {
      "text/plain": [
       "{'details': {'Algorithm': 'SGD', 'PredictiveModelType': 'MULTICLASS'},\n",
       " 'predictedLabel': 'Iris-versicolor',\n",
       " 'predictedScores': {'Iris-setosa': 0.007112426683306694,\n",
       "  'Iris-versicolor': 0.9897872805595398,\n",
       "  'Iris-virginica': 0.0031002822797745466}}"
      ]
     },
     "execution_count": 8,
     "metadata": {},
     "output_type": "execute_result"
    }
   ],
   "source": [
    "iris_prediction['Prediction']"
   ]
  },
  {
   "cell_type": "code",
   "execution_count": 9,
   "metadata": {},
   "outputs": [
    {
     "data": {
      "text/plain": [
       "'Iris-versicolor'"
      ]
     },
     "execution_count": 9,
     "metadata": {},
     "output_type": "execute_result"
    }
   ],
   "source": [
    "iris_prediction['Prediction']['predictedLabel']"
   ]
  },
  {
   "cell_type": "code",
   "execution_count": 10,
   "metadata": {},
   "outputs": [
    {
     "data": {
      "text/plain": [
       "{'Prediction': {'details': {'Algorithm': 'SGD',\n",
       "   'PredictiveModelType': 'MULTICLASS'},\n",
       "  'predictedLabel': 'Iris-versicolor',\n",
       "  'predictedScores': {'Iris-setosa': 0.007112426683306694,\n",
       "   'Iris-versicolor': 0.9897872805595398,\n",
       "   'Iris-virginica': 0.0031002822797745466}},\n",
       " 'ResponseMetadata': {'HTTPHeaders': {'content-length': '247',\n",
       "   'content-type': 'application/x-amz-json-1.1',\n",
       "   'date': 'Wed, 27 Sep 2017 01:22:27 GMT',\n",
       "   'x-amzn-requestid': '532c7fa2-a322-11e7-a3e5-8f6a7322b427'},\n",
       "  'HTTPStatusCode': 200,\n",
       "  'RequestId': '532c7fa2-a322-11e7-a3e5-8f6a7322b427',\n",
       "  'RetryAttempts': 0}}"
      ]
     },
     "execution_count": 10,
     "metadata": {},
     "output_type": "execute_result"
    }
   ],
   "source": [
    "iris_prediction"
   ]
  }
 ],
 "metadata": {
  "anaconda-cloud": {},
  "kernelspec": {
   "display_name": "Python 3",
   "language": "python",
   "name": "python3"
  },
  "language_info": {
   "codemirror_mode": {
    "name": "ipython",
    "version": 3
   },
   "file_extension": ".py",
   "mimetype": "text/x-python",
   "name": "python",
   "nbconvert_exporter": "python",
   "pygments_lexer": "ipython3",
   "version": "3.6.2"
  }
 },
 "nbformat": 4,
 "nbformat_minor": 1
}
