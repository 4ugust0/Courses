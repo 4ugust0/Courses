{
 "cells": [
  {
   "cell_type": "code",
   "execution_count": 1,
   "metadata": {
    "collapsed": true
   },
   "outputs": [],
   "source": [
    "%matplotlib inline\n",
    "import sys\n",
    "import numpy as np\n",
    "import pandas as pd\n",
    "import matplotlib.pyplot as plt\n",
    "import math\n",
    "import os"
   ]
  },
  {
   "cell_type": "code",
   "execution_count": 2,
   "metadata": {
    "collapsed": true
   },
   "outputs": [],
   "source": [
    "# Dataset: https://archive.ics.uci.edu/ml/datasets/Iris/\n",
    "# IRIS Dataset Size: 150 samples\n",
    "# Train: 70%  Eval: 30%"
   ]
  },
  {
   "cell_type": "code",
   "execution_count": 3,
   "metadata": {
    "collapsed": true
   },
   "outputs": [],
   "source": [
    "data_path = r'..\\Data\\ClassExamples\\Iris'"
   ]
  },
  {
   "cell_type": "code",
   "execution_count": 4,
   "metadata": {
    "collapsed": true
   },
   "outputs": [],
   "source": [
    "df = pd.read_csv(os.path.join(data_path, 'iris.data.csv'))"
   ]
  },
  {
   "cell_type": "code",
   "execution_count": 5,
   "metadata": {},
   "outputs": [
    {
     "data": {
      "text/html": [
       "<div>\n",
       "<style>\n",
       "    .dataframe thead tr:only-child th {\n",
       "        text-align: right;\n",
       "    }\n",
       "\n",
       "    .dataframe thead th {\n",
       "        text-align: left;\n",
       "    }\n",
       "\n",
       "    .dataframe tbody tr th {\n",
       "        vertical-align: top;\n",
       "    }\n",
       "</style>\n",
       "<table border=\"1\" class=\"dataframe\">\n",
       "  <thead>\n",
       "    <tr style=\"text-align: right;\">\n",
       "      <th></th>\n",
       "      <th>sepal_length</th>\n",
       "      <th>sepal_width</th>\n",
       "      <th>petal_length</th>\n",
       "      <th>petal_width</th>\n",
       "      <th>class</th>\n",
       "    </tr>\n",
       "  </thead>\n",
       "  <tbody>\n",
       "    <tr>\n",
       "      <th>0</th>\n",
       "      <td>5.1</td>\n",
       "      <td>3.5</td>\n",
       "      <td>1.4</td>\n",
       "      <td>0.2</td>\n",
       "      <td>Iris-setosa</td>\n",
       "    </tr>\n",
       "    <tr>\n",
       "      <th>1</th>\n",
       "      <td>4.9</td>\n",
       "      <td>3.0</td>\n",
       "      <td>1.4</td>\n",
       "      <td>0.2</td>\n",
       "      <td>Iris-setosa</td>\n",
       "    </tr>\n",
       "    <tr>\n",
       "      <th>2</th>\n",
       "      <td>4.7</td>\n",
       "      <td>3.2</td>\n",
       "      <td>1.3</td>\n",
       "      <td>0.2</td>\n",
       "      <td>Iris-setosa</td>\n",
       "    </tr>\n",
       "    <tr>\n",
       "      <th>3</th>\n",
       "      <td>4.6</td>\n",
       "      <td>3.1</td>\n",
       "      <td>1.5</td>\n",
       "      <td>0.2</td>\n",
       "      <td>Iris-setosa</td>\n",
       "    </tr>\n",
       "    <tr>\n",
       "      <th>4</th>\n",
       "      <td>5.0</td>\n",
       "      <td>3.6</td>\n",
       "      <td>1.4</td>\n",
       "      <td>0.2</td>\n",
       "      <td>Iris-setosa</td>\n",
       "    </tr>\n",
       "  </tbody>\n",
       "</table>\n",
       "</div>"
      ],
      "text/plain": [
       "   sepal_length  sepal_width  petal_length  petal_width        class\n",
       "0           5.1          3.5           1.4          0.2  Iris-setosa\n",
       "1           4.9          3.0           1.4          0.2  Iris-setosa\n",
       "2           4.7          3.2           1.3          0.2  Iris-setosa\n",
       "3           4.6          3.1           1.5          0.2  Iris-setosa\n",
       "4           5.0          3.6           1.4          0.2  Iris-setosa"
      ]
     },
     "execution_count": 5,
     "metadata": {},
     "output_type": "execute_result"
    }
   ],
   "source": [
    "df.head()"
   ]
  },
  {
   "cell_type": "code",
   "execution_count": 6,
   "metadata": {},
   "outputs": [
    {
     "data": {
      "text/html": [
       "<div>\n",
       "<style>\n",
       "    .dataframe thead tr:only-child th {\n",
       "        text-align: right;\n",
       "    }\n",
       "\n",
       "    .dataframe thead th {\n",
       "        text-align: left;\n",
       "    }\n",
       "\n",
       "    .dataframe tbody tr th {\n",
       "        vertical-align: top;\n",
       "    }\n",
       "</style>\n",
       "<table border=\"1\" class=\"dataframe\">\n",
       "  <thead>\n",
       "    <tr style=\"text-align: right;\">\n",
       "      <th></th>\n",
       "      <th>sepal_length</th>\n",
       "      <th>sepal_width</th>\n",
       "      <th>petal_length</th>\n",
       "      <th>petal_width</th>\n",
       "      <th>class</th>\n",
       "    </tr>\n",
       "  </thead>\n",
       "  <tbody>\n",
       "    <tr>\n",
       "      <th>145</th>\n",
       "      <td>6.7</td>\n",
       "      <td>3.0</td>\n",
       "      <td>5.2</td>\n",
       "      <td>2.3</td>\n",
       "      <td>Iris-virginica</td>\n",
       "    </tr>\n",
       "    <tr>\n",
       "      <th>146</th>\n",
       "      <td>6.3</td>\n",
       "      <td>2.5</td>\n",
       "      <td>5.0</td>\n",
       "      <td>1.9</td>\n",
       "      <td>Iris-virginica</td>\n",
       "    </tr>\n",
       "    <tr>\n",
       "      <th>147</th>\n",
       "      <td>6.5</td>\n",
       "      <td>3.0</td>\n",
       "      <td>5.2</td>\n",
       "      <td>2.0</td>\n",
       "      <td>Iris-virginica</td>\n",
       "    </tr>\n",
       "    <tr>\n",
       "      <th>148</th>\n",
       "      <td>6.2</td>\n",
       "      <td>3.4</td>\n",
       "      <td>5.4</td>\n",
       "      <td>2.3</td>\n",
       "      <td>Iris-virginica</td>\n",
       "    </tr>\n",
       "    <tr>\n",
       "      <th>149</th>\n",
       "      <td>5.9</td>\n",
       "      <td>3.0</td>\n",
       "      <td>5.1</td>\n",
       "      <td>1.8</td>\n",
       "      <td>Iris-virginica</td>\n",
       "    </tr>\n",
       "  </tbody>\n",
       "</table>\n",
       "</div>"
      ],
      "text/plain": [
       "     sepal_length  sepal_width  petal_length  petal_width           class\n",
       "145           6.7          3.0           5.2          2.3  Iris-virginica\n",
       "146           6.3          2.5           5.0          1.9  Iris-virginica\n",
       "147           6.5          3.0           5.2          2.0  Iris-virginica\n",
       "148           6.2          3.4           5.4          2.3  Iris-virginica\n",
       "149           5.9          3.0           5.1          1.8  Iris-virginica"
      ]
     },
     "execution_count": 6,
     "metadata": {},
     "output_type": "execute_result"
    }
   ],
   "source": [
    "df.tail()"
   ]
  },
  {
   "cell_type": "code",
   "execution_count": 7,
   "metadata": {
    "collapsed": true
   },
   "outputs": [],
   "source": [
    "np.random.seed(5)\n",
    "l = list(df.index)\n",
    "np.random.shuffle(l)"
   ]
  },
  {
   "cell_type": "code",
   "execution_count": 8,
   "metadata": {},
   "outputs": [
    {
     "data": {
      "text/plain": [
       "[82, 134, 114, 42, 109]"
      ]
     },
     "execution_count": 8,
     "metadata": {},
     "output_type": "execute_result"
    }
   ],
   "source": [
    "l[:5]"
   ]
  },
  {
   "cell_type": "code",
   "execution_count": 9,
   "metadata": {
    "collapsed": true
   },
   "outputs": [],
   "source": [
    "df = df.iloc[l]"
   ]
  },
  {
   "cell_type": "code",
   "execution_count": 10,
   "metadata": {},
   "outputs": [
    {
     "data": {
      "text/html": [
       "<div>\n",
       "<style>\n",
       "    .dataframe thead tr:only-child th {\n",
       "        text-align: right;\n",
       "    }\n",
       "\n",
       "    .dataframe thead th {\n",
       "        text-align: left;\n",
       "    }\n",
       "\n",
       "    .dataframe tbody tr th {\n",
       "        vertical-align: top;\n",
       "    }\n",
       "</style>\n",
       "<table border=\"1\" class=\"dataframe\">\n",
       "  <thead>\n",
       "    <tr style=\"text-align: right;\">\n",
       "      <th></th>\n",
       "      <th>sepal_length</th>\n",
       "      <th>sepal_width</th>\n",
       "      <th>petal_length</th>\n",
       "      <th>petal_width</th>\n",
       "      <th>class</th>\n",
       "    </tr>\n",
       "  </thead>\n",
       "  <tbody>\n",
       "    <tr>\n",
       "      <th>82</th>\n",
       "      <td>5.8</td>\n",
       "      <td>2.7</td>\n",
       "      <td>3.9</td>\n",
       "      <td>1.2</td>\n",
       "      <td>Iris-versicolor</td>\n",
       "    </tr>\n",
       "    <tr>\n",
       "      <th>134</th>\n",
       "      <td>6.1</td>\n",
       "      <td>2.6</td>\n",
       "      <td>5.6</td>\n",
       "      <td>1.4</td>\n",
       "      <td>Iris-virginica</td>\n",
       "    </tr>\n",
       "    <tr>\n",
       "      <th>114</th>\n",
       "      <td>5.8</td>\n",
       "      <td>2.8</td>\n",
       "      <td>5.1</td>\n",
       "      <td>2.4</td>\n",
       "      <td>Iris-virginica</td>\n",
       "    </tr>\n",
       "    <tr>\n",
       "      <th>42</th>\n",
       "      <td>4.4</td>\n",
       "      <td>3.2</td>\n",
       "      <td>1.3</td>\n",
       "      <td>0.2</td>\n",
       "      <td>Iris-setosa</td>\n",
       "    </tr>\n",
       "    <tr>\n",
       "      <th>109</th>\n",
       "      <td>7.2</td>\n",
       "      <td>3.6</td>\n",
       "      <td>6.1</td>\n",
       "      <td>2.5</td>\n",
       "      <td>Iris-virginica</td>\n",
       "    </tr>\n",
       "  </tbody>\n",
       "</table>\n",
       "</div>"
      ],
      "text/plain": [
       "     sepal_length  sepal_width  petal_length  petal_width            class\n",
       "82            5.8          2.7           3.9          1.2  Iris-versicolor\n",
       "134           6.1          2.6           5.6          1.4   Iris-virginica\n",
       "114           5.8          2.8           5.1          2.4   Iris-virginica\n",
       "42            4.4          3.2           1.3          0.2      Iris-setosa\n",
       "109           7.2          3.6           6.1          2.5   Iris-virginica"
      ]
     },
     "execution_count": 10,
     "metadata": {},
     "output_type": "execute_result"
    }
   ],
   "source": [
    "df.head()"
   ]
  },
  {
   "cell_type": "code",
   "execution_count": 11,
   "metadata": {
    "collapsed": true
   },
   "outputs": [],
   "source": [
    "df.to_csv(os.path.join(data_path, 'iris_data_train.csv'),\n",
    "          index = True,\n",
    "          index_label = 'Row',\n",
    "          columns = ['sepal_length', 'sepal_width', 'petal_length', 'petal_width', 'class'])"
   ]
  },
  {
   "cell_type": "code",
   "execution_count": 12,
   "metadata": {
    "collapsed": true
   },
   "outputs": [],
   "source": [
    "df.to_csv(os.path.join(data_path,'iris_data_classifier_test.csv'),\n",
    "          index = True,\n",
    "          index_label = 'Row',\n",
    "          columns = ['sepal_length','sepal_width','petal_length','petal_width'])"
   ]
  },
  {
   "cell_type": "code",
   "execution_count": 13,
   "metadata": {},
   "outputs": [
    {
     "data": {
      "text/plain": [
       "Iris-setosa        50\n",
       "Iris-versicolor    50\n",
       "Iris-virginica     50\n",
       "Name: class, dtype: int64"
      ]
     },
     "execution_count": 13,
     "metadata": {},
     "output_type": "execute_result"
    }
   ],
   "source": [
    "df['class'].value_counts()"
   ]
  },
  {
   "cell_type": "code",
   "execution_count": 14,
   "metadata": {
    "collapsed": true
   },
   "outputs": [],
   "source": [
    "setosa = df['class'] == 'Iris-setosa'\n",
    "versicolor = df['class'] == 'Iris-versicolor'\n",
    "virginica = df['class'] == 'Iris-virginica'"
   ]
  },
  {
   "cell_type": "code",
   "execution_count": 15,
   "metadata": {},
   "outputs": [
    {
     "data": {
      "text/plain": [
       "82     False\n",
       "134    False\n",
       "114    False\n",
       "42      True\n",
       "109    False\n",
       "Name: class, dtype: bool"
      ]
     },
     "execution_count": 15,
     "metadata": {},
     "output_type": "execute_result"
    }
   ],
   "source": [
    "setosa.head()"
   ]
  },
  {
   "cell_type": "code",
   "execution_count": 16,
   "metadata": {},
   "outputs": [
    {
     "data": {
      "text/plain": [
       "<matplotlib.legend.Legend at 0x237cc448ef0>"
      ]
     },
     "execution_count": 16,
     "metadata": {},
     "output_type": "execute_result"
    },
    {
     "data": {
      "image/png": "[encoded data removed]",
      "text/plain": [
       "<matplotlib.figure.Figure at 0x237cc38a208>"
      ]
     },
     "metadata": {},
     "output_type": "display_data"
    }
   ],
   "source": [
    "fig = plt.figure(figsize = (12, 8))\n",
    "plt.scatter(df[setosa].sepal_length,\n",
    "            y = df[setosa].sepal_width, \n",
    "            label = 'setosa',\n",
    "            color = 'g')\n",
    "plt.scatter(df[versicolor].sepal_length,\n",
    "            y = df[versicolor].sepal_width, \n",
    "            label = 'versicolor',\n",
    "            color = 'r')\n",
    "plt.scatter(df[virginica].sepal_length,\n",
    "            y = df[virginica].sepal_width, \n",
    "            label = 'virginica',\n",
    "            color = 'b')\n",
    "plt.xlabel('length')\n",
    "plt.ylabel('width')\n",
    "plt.title('sepal')\n",
    "plt.grid(True)\n",
    "plt.legend()"
   ]
  },
  {
   "cell_type": "code",
   "execution_count": 17,
   "metadata": {},
   "outputs": [
    {
     "data": {
      "text/plain": [
       "<matplotlib.legend.Legend at 0x237cc556be0>"
      ]
     },
     "execution_count": 17,
     "metadata": {},
     "output_type": "execute_result"
    },
    {
     "data": {
      "image/png": "[encoded data removed]",
      "text/plain": [
       "<matplotlib.figure.Figure at 0x237cc33a128>"
      ]
     },
     "metadata": {},
     "output_type": "display_data"
    }
   ],
   "source": [
    "fig = plt.figure(figsize = (12, 8))\n",
    "plt.scatter(df[setosa].petal_length,\n",
    "            y = df[setosa].petal_width, \n",
    "            label = 'setosa',\n",
    "            color = 'g')\n",
    "plt.scatter(df[versicolor].petal_length,\n",
    "            y = df[versicolor].petal_width, \n",
    "            label = 'versicolor',\n",
    "            color = 'r')\n",
    "plt.scatter(df[virginica].petal_length,\n",
    "            y = df[virginica].petal_width,\n",
    "            label = 'virginica',\n",
    "            color = 'b')\n",
    "plt.xlabel('length')\n",
    "plt.ylabel('width')\n",
    "plt.title('petal')\n",
    "plt.grid(True)\n",
    "plt.legend()"
   ]
  },
  {
   "cell_type": "code",
   "execution_count": 18,
   "metadata": {},
   "outputs": [
    {
     "data": {
      "text/plain": [
       "<matplotlib.legend.Legend at 0x237cc3a2208>"
      ]
     },
     "execution_count": 18,
     "metadata": {},
     "output_type": "execute_result"
    },
    {
     "data": {
      "image/png": "[encoded data removed]",
      "text/plain": [
       "<matplotlib.figure.Figure at 0x237cc3a2160>"
      ]
     },
     "metadata": {},
     "output_type": "display_data"
    }
   ],
   "source": [
    "fig = plt.figure(figsize = (12, 8))\n",
    "plt.hist([df[setosa].petal_length,\n",
    "          df[versicolor].petal_length,\n",
    "          df[virginica].petal_length],\n",
    "         bins = 10,\n",
    "         label = ['setosa',\n",
    "                  'versicolor',\n",
    "                  'virginica'])\n",
    "\n",
    "plt.title('petal length')\n",
    "plt.xlabel('petal length')\n",
    "plt.ylabel('count')\n",
    "plt.legend()"
   ]
  },
  {
   "cell_type": "code",
   "execution_count": 19,
   "metadata": {},
   "outputs": [
    {
     "data": {
      "text/plain": [
       "<matplotlib.legend.Legend at 0x237ccab1e80>"
      ]
     },
     "execution_count": 19,
     "metadata": {},
     "output_type": "execute_result"
    },
    {
     "data": {
      "image/png": "[encoded data removed]",
      "text/plain": [
       "<matplotlib.figure.Figure at 0x237ccab1da0>"
      ]
     },
     "metadata": {},
     "output_type": "display_data"
    }
   ],
   "source": [
    "fig = plt.figure(figsize = (12, 8))\n",
    "plt.hist([df[setosa].petal_width,\n",
    "          df[versicolor].petal_width,\n",
    "          df[virginica].petal_width],\n",
    "         bins = 10,\n",
    "        label = ['setosa',\n",
    "                 'versicolor',\n",
    "                 'virginica'])\n",
    "\n",
    "plt.title('petal width')\n",
    "plt.xlabel('petal width')\n",
    "plt.ylabel('count')\n",
    "plt.legend()"
   ]
  },
  {
   "cell_type": "code",
   "execution_count": 20,
   "metadata": {},
   "outputs": [
    {
     "data": {
      "text/plain": [
       "<matplotlib.legend.Legend at 0x237ccce21d0>"
      ]
     },
     "execution_count": 20,
     "metadata": {},
     "output_type": "execute_result"
    },
    {
     "data": {
      "image/png": "[encoded data removed]",
      "text/plain": [
       "<matplotlib.figure.Figure at 0x237cca3b7b8>"
      ]
     },
     "metadata": {},
     "output_type": "display_data"
    }
   ],
   "source": [
    "fig = plt.figure(figsize = (12, 8))\n",
    "plt.hist([df[setosa].sepal_length,\n",
    "          df[versicolor].sepal_length,\n",
    "          df[virginica].sepal_length],\n",
    "         bins = 10,\n",
    "         label = ['setosa',\n",
    "                  'versicolor',\n",
    "                  'virginica'])\n",
    "\n",
    "plt.title('sepal length')\n",
    "plt.xlabel('sepal length')\n",
    "plt.ylabel('count')\n",
    "plt.legend()"
   ]
  },
  {
   "cell_type": "code",
   "execution_count": 21,
   "metadata": {},
   "outputs": [
    {
     "data": {
      "text/plain": [
       "<matplotlib.legend.Legend at 0x237cceec128>"
      ]
     },
     "execution_count": 21,
     "metadata": {},
     "output_type": "execute_result"
    },
    {
     "data": {
      "image/png": "[encoded data removed]",
      "text/plain": [
       "<matplotlib.figure.Figure at 0x237cceec160>"
      ]
     },
     "metadata": {},
     "output_type": "display_data"
    }
   ],
   "source": [
    "fig = plt.figure(figsize = (12, 8))\n",
    "plt.hist([df[setosa].sepal_width,\n",
    "          df[versicolor].sepal_width,\n",
    "          df[virginica].sepal_width],\n",
    "         bins = 10,\n",
    "         label = ['setosa',\n",
    "                  'versicolor',\n",
    "                  'virginica'])\n",
    "\n",
    "plt.title('sepal width')\n",
    "plt.xlabel('sepal width')\n",
    "plt.ylabel('count')\n",
    "plt.legend()"
   ]
  },
  {
   "cell_type": "code",
   "execution_count": 22,
   "metadata": {
    "collapsed": true
   },
   "outputs": [],
   "source": [
    "df_predict_default = pd.read_csv(\n",
    "    os.path.join(\n",
    "        data_path,\n",
    "        'output_default',\n",
    "        'bp-yVKPO2ydD0u-iris_data_train.csv.gz'))\n",
    "df_predict_default.index = df_predict_default.tag"
   ]
  },
  {
   "cell_type": "code",
   "execution_count": 23,
   "metadata": {},
   "outputs": [
    {
     "data": {
      "text/html": [
       "<div>\n",
       "<style>\n",
       "    .dataframe thead tr:only-child th {\n",
       "        text-align: right;\n",
       "    }\n",
       "\n",
       "    .dataframe thead th {\n",
       "        text-align: left;\n",
       "    }\n",
       "\n",
       "    .dataframe tbody tr th {\n",
       "        vertical-align: top;\n",
       "    }\n",
       "</style>\n",
       "<table border=\"1\" class=\"dataframe\">\n",
       "  <thead>\n",
       "    <tr style=\"text-align: right;\">\n",
       "      <th></th>\n",
       "      <th>tag</th>\n",
       "      <th>trueLabel</th>\n",
       "      <th>Iris-virginica</th>\n",
       "      <th>Iris-versicolor</th>\n",
       "      <th>Iris-setosa</th>\n",
       "    </tr>\n",
       "    <tr>\n",
       "      <th>tag</th>\n",
       "      <th></th>\n",
       "      <th></th>\n",
       "      <th></th>\n",
       "      <th></th>\n",
       "      <th></th>\n",
       "    </tr>\n",
       "  </thead>\n",
       "  <tbody>\n",
       "    <tr>\n",
       "      <th>82</th>\n",
       "      <td>82</td>\n",
       "      <td>Iris-versicolor</td>\n",
       "      <td>0.015082</td>\n",
       "      <td>0.983628</td>\n",
       "      <td>0.001290</td>\n",
       "    </tr>\n",
       "    <tr>\n",
       "      <th>134</th>\n",
       "      <td>134</td>\n",
       "      <td>Iris-virginica</td>\n",
       "      <td>0.962326</td>\n",
       "      <td>0.037216</td>\n",
       "      <td>0.000458</td>\n",
       "    </tr>\n",
       "    <tr>\n",
       "      <th>114</th>\n",
       "      <td>114</td>\n",
       "      <td>Iris-virginica</td>\n",
       "      <td>0.985210</td>\n",
       "      <td>0.011761</td>\n",
       "      <td>0.003029</td>\n",
       "    </tr>\n",
       "    <tr>\n",
       "      <th>42</th>\n",
       "      <td>42</td>\n",
       "      <td>Iris-setosa</td>\n",
       "      <td>0.000258</td>\n",
       "      <td>0.004150</td>\n",
       "      <td>0.995592</td>\n",
       "    </tr>\n",
       "    <tr>\n",
       "      <th>109</th>\n",
       "      <td>109</td>\n",
       "      <td>Iris-virginica</td>\n",
       "      <td>0.996544</td>\n",
       "      <td>0.000627</td>\n",
       "      <td>0.002829</td>\n",
       "    </tr>\n",
       "  </tbody>\n",
       "</table>\n",
       "</div>"
      ],
      "text/plain": [
       "     tag        trueLabel  Iris-virginica  Iris-versicolor  Iris-setosa\n",
       "tag                                                                    \n",
       "82    82  Iris-versicolor        0.015082         0.983628     0.001290\n",
       "134  134   Iris-virginica        0.962326         0.037216     0.000458\n",
       "114  114   Iris-virginica        0.985210         0.011761     0.003029\n",
       "42    42      Iris-setosa        0.000258         0.004150     0.995592\n",
       "109  109   Iris-virginica        0.996544         0.000627     0.002829"
      ]
     },
     "execution_count": 23,
     "metadata": {},
     "output_type": "execute_result"
    }
   ],
   "source": [
    "df_predict_default.head()"
   ]
  },
  {
   "cell_type": "code",
   "execution_count": 24,
   "metadata": {
    "collapsed": true
   },
   "outputs": [],
   "source": [
    "def predicted_class(row):\n",
    "    if row['Iris-setosa'] >= row['Iris-versicolor'] and row['Iris-setosa'] >= row['Iris-virginica']:           \n",
    "        return \"Iris-setosa\"\n",
    "        \n",
    "    if row['Iris-versicolor'] >= row['Iris-setosa'] and row['Iris-versicolor'] >= row['Iris-virginica']:\n",
    "        return \"Iris-versicolor\"\n",
    "    \n",
    "    return \"Iris-virginica\""
   ]
  },
  {
   "cell_type": "code",
   "execution_count": 25,
   "metadata": {
    "collapsed": true
   },
   "outputs": [],
   "source": [
    "lst_predicted=[]\n",
    "for index, row in df_predict_default.iterrows():\n",
    "    lst_predicted.append(predicted_class(row))\n",
    "    \n",
    "df_predict_default['predicted_default'] = lst_predicted"
   ]
  },
  {
   "cell_type": "code",
   "execution_count": 26,
   "metadata": {},
   "outputs": [
    {
     "data": {
      "text/html": [
       "<div>\n",
       "<style>\n",
       "    .dataframe thead tr:only-child th {\n",
       "        text-align: right;\n",
       "    }\n",
       "\n",
       "    .dataframe thead th {\n",
       "        text-align: left;\n",
       "    }\n",
       "\n",
       "    .dataframe tbody tr th {\n",
       "        vertical-align: top;\n",
       "    }\n",
       "</style>\n",
       "<table border=\"1\" class=\"dataframe\">\n",
       "  <thead>\n",
       "    <tr style=\"text-align: right;\">\n",
       "      <th></th>\n",
       "      <th>tag</th>\n",
       "      <th>trueLabel</th>\n",
       "      <th>Iris-virginica</th>\n",
       "      <th>Iris-versicolor</th>\n",
       "      <th>Iris-setosa</th>\n",
       "      <th>predicted_default</th>\n",
       "    </tr>\n",
       "    <tr>\n",
       "      <th>tag</th>\n",
       "      <th></th>\n",
       "      <th></th>\n",
       "      <th></th>\n",
       "      <th></th>\n",
       "      <th></th>\n",
       "      <th></th>\n",
       "    </tr>\n",
       "  </thead>\n",
       "  <tbody>\n",
       "    <tr>\n",
       "      <th>82</th>\n",
       "      <td>82</td>\n",
       "      <td>Iris-versicolor</td>\n",
       "      <td>0.015082</td>\n",
       "      <td>0.983628</td>\n",
       "      <td>0.001290</td>\n",
       "      <td>Iris-versicolor</td>\n",
       "    </tr>\n",
       "    <tr>\n",
       "      <th>134</th>\n",
       "      <td>134</td>\n",
       "      <td>Iris-virginica</td>\n",
       "      <td>0.962326</td>\n",
       "      <td>0.037216</td>\n",
       "      <td>0.000458</td>\n",
       "      <td>Iris-virginica</td>\n",
       "    </tr>\n",
       "    <tr>\n",
       "      <th>114</th>\n",
       "      <td>114</td>\n",
       "      <td>Iris-virginica</td>\n",
       "      <td>0.985210</td>\n",
       "      <td>0.011761</td>\n",
       "      <td>0.003029</td>\n",
       "      <td>Iris-virginica</td>\n",
       "    </tr>\n",
       "    <tr>\n",
       "      <th>42</th>\n",
       "      <td>42</td>\n",
       "      <td>Iris-setosa</td>\n",
       "      <td>0.000258</td>\n",
       "      <td>0.004150</td>\n",
       "      <td>0.995592</td>\n",
       "      <td>Iris-setosa</td>\n",
       "    </tr>\n",
       "    <tr>\n",
       "      <th>109</th>\n",
       "      <td>109</td>\n",
       "      <td>Iris-virginica</td>\n",
       "      <td>0.996544</td>\n",
       "      <td>0.000627</td>\n",
       "      <td>0.002829</td>\n",
       "      <td>Iris-virginica</td>\n",
       "    </tr>\n",
       "  </tbody>\n",
       "</table>\n",
       "</div>"
      ],
      "text/plain": [
       "     tag        trueLabel  Iris-virginica  Iris-versicolor  Iris-setosa  \\\n",
       "tag                                                                       \n",
       "82    82  Iris-versicolor        0.015082         0.983628     0.001290   \n",
       "134  134   Iris-virginica        0.962326         0.037216     0.000458   \n",
       "114  114   Iris-virginica        0.985210         0.011761     0.003029   \n",
       "42    42      Iris-setosa        0.000258         0.004150     0.995592   \n",
       "109  109   Iris-virginica        0.996544         0.000627     0.002829   \n",
       "\n",
       "    predicted_default  \n",
       "tag                    \n",
       "82    Iris-versicolor  \n",
       "134    Iris-virginica  \n",
       "114    Iris-virginica  \n",
       "42        Iris-setosa  \n",
       "109    Iris-virginica  "
      ]
     },
     "execution_count": 26,
     "metadata": {},
     "output_type": "execute_result"
    }
   ],
   "source": [
    "df_predict_default.head()"
   ]
  },
  {
   "cell_type": "code",
   "execution_count": 27,
   "metadata": {
    "collapsed": true
   },
   "outputs": [],
   "source": [
    "df_predict_numeric = pd.read_csv(\n",
    "    os.path.join(\n",
    "        data_path,\n",
    "        'output_numeric',\n",
    "        'bp-K58XKrCYvk4-iris_data_train.csv.gz'))\n",
    "df_predict_numeric.index = df_predict_numeric.tag"
   ]
  },
  {
   "cell_type": "code",
   "execution_count": 28,
   "metadata": {
    "collapsed": true
   },
   "outputs": [],
   "source": [
    "lst_predicted=[]\n",
    "for index, row in df_predict_numeric.iterrows():\n",
    "    lst_predicted.append(predicted_class(row))\n",
    "    \n",
    "df_predict_numeric['predicted_numeric'] = lst_predicted"
   ]
  },
  {
   "cell_type": "code",
   "execution_count": 29,
   "metadata": {},
   "outputs": [
    {
     "data": {
      "text/html": [
       "<div>\n",
       "<style>\n",
       "    .dataframe thead tr:only-child th {\n",
       "        text-align: right;\n",
       "    }\n",
       "\n",
       "    .dataframe thead th {\n",
       "        text-align: left;\n",
       "    }\n",
       "\n",
       "    .dataframe tbody tr th {\n",
       "        vertical-align: top;\n",
       "    }\n",
       "</style>\n",
       "<table border=\"1\" class=\"dataframe\">\n",
       "  <thead>\n",
       "    <tr style=\"text-align: right;\">\n",
       "      <th></th>\n",
       "      <th>tag</th>\n",
       "      <th>trueLabel</th>\n",
       "      <th>Iris-virginica</th>\n",
       "      <th>Iris-versicolor</th>\n",
       "      <th>Iris-setosa</th>\n",
       "      <th>predicted_numeric</th>\n",
       "    </tr>\n",
       "    <tr>\n",
       "      <th>tag</th>\n",
       "      <th></th>\n",
       "      <th></th>\n",
       "      <th></th>\n",
       "      <th></th>\n",
       "      <th></th>\n",
       "      <th></th>\n",
       "    </tr>\n",
       "  </thead>\n",
       "  <tbody>\n",
       "    <tr>\n",
       "      <th>82</th>\n",
       "      <td>82</td>\n",
       "      <td>Iris-versicolor</td>\n",
       "      <td>0.432319</td>\n",
       "      <td>0.473640</td>\n",
       "      <td>0.094041</td>\n",
       "      <td>Iris-versicolor</td>\n",
       "    </tr>\n",
       "    <tr>\n",
       "      <th>134</th>\n",
       "      <td>134</td>\n",
       "      <td>Iris-virginica</td>\n",
       "      <td>0.695479</td>\n",
       "      <td>0.297776</td>\n",
       "      <td>0.006744</td>\n",
       "      <td>Iris-virginica</td>\n",
       "    </tr>\n",
       "    <tr>\n",
       "      <th>114</th>\n",
       "      <td>114</td>\n",
       "      <td>Iris-virginica</td>\n",
       "      <td>0.776126</td>\n",
       "      <td>0.217024</td>\n",
       "      <td>0.006849</td>\n",
       "      <td>Iris-virginica</td>\n",
       "    </tr>\n",
       "    <tr>\n",
       "      <th>42</th>\n",
       "      <td>42</td>\n",
       "      <td>Iris-setosa</td>\n",
       "      <td>0.020863</td>\n",
       "      <td>0.099928</td>\n",
       "      <td>0.879209</td>\n",
       "      <td>Iris-setosa</td>\n",
       "    </tr>\n",
       "    <tr>\n",
       "      <th>109</th>\n",
       "      <td>109</td>\n",
       "      <td>Iris-virginica</td>\n",
       "      <td>0.766280</td>\n",
       "      <td>0.228180</td>\n",
       "      <td>0.005540</td>\n",
       "      <td>Iris-virginica</td>\n",
       "    </tr>\n",
       "  </tbody>\n",
       "</table>\n",
       "</div>"
      ],
      "text/plain": [
       "     tag        trueLabel  Iris-virginica  Iris-versicolor  Iris-setosa  \\\n",
       "tag                                                                       \n",
       "82    82  Iris-versicolor        0.432319         0.473640     0.094041   \n",
       "134  134   Iris-virginica        0.695479         0.297776     0.006744   \n",
       "114  114   Iris-virginica        0.776126         0.217024     0.006849   \n",
       "42    42      Iris-setosa        0.020863         0.099928     0.879209   \n",
       "109  109   Iris-virginica        0.766280         0.228180     0.005540   \n",
       "\n",
       "    predicted_numeric  \n",
       "tag                    \n",
       "82    Iris-versicolor  \n",
       "134    Iris-virginica  \n",
       "114    Iris-virginica  \n",
       "42        Iris-setosa  \n",
       "109    Iris-virginica  "
      ]
     },
     "execution_count": 29,
     "metadata": {},
     "output_type": "execute_result"
    }
   ],
   "source": [
    "df_predict_numeric.head()"
   ]
  },
  {
   "cell_type": "code",
   "execution_count": 30,
   "metadata": {
    "scrolled": true
   },
   "outputs": [
    {
     "name": "stdout",
     "output_type": "stream",
     "text": [
      "Confusion matrix - Actual versus prediction with bin recipe\n"
     ]
    }
   ],
   "source": [
    "print('Confusion matrix - Actual versus prediction with bin recipe')\n",
    "cf_bin_recipe = pd.crosstab(df['class'], \n",
    "                            df_predict_default.predicted_default)"
   ]
  },
  {
   "cell_type": "code",
   "execution_count": 31,
   "metadata": {},
   "outputs": [
    {
     "data": {
      "text/html": [
       "<div>\n",
       "<style>\n",
       "    .dataframe thead tr:only-child th {\n",
       "        text-align: right;\n",
       "    }\n",
       "\n",
       "    .dataframe thead th {\n",
       "        text-align: left;\n",
       "    }\n",
       "\n",
       "    .dataframe tbody tr th {\n",
       "        vertical-align: top;\n",
       "    }\n",
       "</style>\n",
       "<table border=\"1\" class=\"dataframe\">\n",
       "  <thead>\n",
       "    <tr style=\"text-align: right;\">\n",
       "      <th>predicted_default</th>\n",
       "      <th>Iris-setosa</th>\n",
       "      <th>Iris-versicolor</th>\n",
       "      <th>Iris-virginica</th>\n",
       "    </tr>\n",
       "    <tr>\n",
       "      <th>class</th>\n",
       "      <th></th>\n",
       "      <th></th>\n",
       "      <th></th>\n",
       "    </tr>\n",
       "  </thead>\n",
       "  <tbody>\n",
       "    <tr>\n",
       "      <th>Iris-setosa</th>\n",
       "      <td>50</td>\n",
       "      <td>0</td>\n",
       "      <td>0</td>\n",
       "    </tr>\n",
       "    <tr>\n",
       "      <th>Iris-versicolor</th>\n",
       "      <td>0</td>\n",
       "      <td>49</td>\n",
       "      <td>1</td>\n",
       "    </tr>\n",
       "    <tr>\n",
       "      <th>Iris-virginica</th>\n",
       "      <td>0</td>\n",
       "      <td>4</td>\n",
       "      <td>46</td>\n",
       "    </tr>\n",
       "  </tbody>\n",
       "</table>\n",
       "</div>"
      ],
      "text/plain": [
       "predicted_default  Iris-setosa  Iris-versicolor  Iris-virginica\n",
       "class                                                          \n",
       "Iris-setosa                 50                0               0\n",
       "Iris-versicolor              0               49               1\n",
       "Iris-virginica               0                4              46"
      ]
     },
     "execution_count": 31,
     "metadata": {},
     "output_type": "execute_result"
    }
   ],
   "source": [
    "cf_bin_recipe"
   ]
  },
  {
   "cell_type": "markdown",
   "metadata": {},
   "source": [
    "Prediction with default recipe is good"
   ]
  },
  {
   "cell_type": "code",
   "execution_count": 32,
   "metadata": {},
   "outputs": [
    {
     "name": "stdout",
     "output_type": "stream",
     "text": [
      "Confusion matrix - Actual versus prediction with numeric recipe\n"
     ]
    }
   ],
   "source": [
    "print('Confusion matrix - Actual versus prediction with numeric recipe')\n",
    "cf_num_recipe = pd.crosstab(df['class'],\n",
    "                            df_predict_numeric.predicted_numeric)"
   ]
  },
  {
   "cell_type": "code",
   "execution_count": 33,
   "metadata": {},
   "outputs": [
    {
     "data": {
      "text/html": [
       "<div>\n",
       "<style>\n",
       "    .dataframe thead tr:only-child th {\n",
       "        text-align: right;\n",
       "    }\n",
       "\n",
       "    .dataframe thead th {\n",
       "        text-align: left;\n",
       "    }\n",
       "\n",
       "    .dataframe tbody tr th {\n",
       "        vertical-align: top;\n",
       "    }\n",
       "</style>\n",
       "<table border=\"1\" class=\"dataframe\">\n",
       "  <thead>\n",
       "    <tr style=\"text-align: right;\">\n",
       "      <th>predicted_numeric</th>\n",
       "      <th>Iris-setosa</th>\n",
       "      <th>Iris-versicolor</th>\n",
       "      <th>Iris-virginica</th>\n",
       "    </tr>\n",
       "    <tr>\n",
       "      <th>class</th>\n",
       "      <th></th>\n",
       "      <th></th>\n",
       "      <th></th>\n",
       "    </tr>\n",
       "  </thead>\n",
       "  <tbody>\n",
       "    <tr>\n",
       "      <th>Iris-setosa</th>\n",
       "      <td>50</td>\n",
       "      <td>0</td>\n",
       "      <td>0</td>\n",
       "    </tr>\n",
       "    <tr>\n",
       "      <th>Iris-versicolor</th>\n",
       "      <td>0</td>\n",
       "      <td>20</td>\n",
       "      <td>30</td>\n",
       "    </tr>\n",
       "    <tr>\n",
       "      <th>Iris-virginica</th>\n",
       "      <td>0</td>\n",
       "      <td>0</td>\n",
       "      <td>50</td>\n",
       "    </tr>\n",
       "  </tbody>\n",
       "</table>\n",
       "</div>"
      ],
      "text/plain": [
       "predicted_numeric  Iris-setosa  Iris-versicolor  Iris-virginica\n",
       "class                                                          \n",
       "Iris-setosa                 50                0               0\n",
       "Iris-versicolor              0               20              30\n",
       "Iris-virginica               0                0              50"
      ]
     },
     "execution_count": 33,
     "metadata": {},
     "output_type": "execute_result"
    }
   ],
   "source": [
    "cf_num_recipe"
   ]
  },
  {
   "cell_type": "markdown",
   "metadata": {},
   "source": [
    "Versicolor - 30 examples got misclassified as Virginica"
   ]
  },
  {
   "cell_type": "code",
   "execution_count": 34,
   "metadata": {
    "collapsed": true
   },
   "outputs": [],
   "source": [
    "def print_metrics(cf_matrix):\n",
    "    # Note:AWS ML computes all these for you...demo to show how these are calculated.\n",
    "    \n",
    "    # Total samples is sum of all columns in each row\n",
    "    total_samples = cf_matrix.sum(axis = 1).sum()\n",
    "    # Diagonal contains correct class predictions\n",
    "    accuracy = np.diag(cf_matrix).sum() / total_samples\n",
    "    \n",
    "    print('Accuracy: {0:0.3f}'.format(accuracy))\n",
    "    print('\\n')\n",
    "    \n",
    "    # TPR, Recall = True Positive/Actual Positive\n",
    "    recall = np.diag(cf_matrix) / cf_matrix.sum(axis = 1)\n",
    "    print('recall')\n",
    "    print(recall)\n",
    "    print('\\n')\n",
    "    \n",
    "    # Precision = True Positive/Predicted Positive\n",
    "    precision = np.diag(cf_matrix) / cf_matrix.sum(axis = 0)\n",
    "    print('precision')\n",
    "    print(precision)\n",
    "    print('\\n')\n",
    "    \n",
    "    f1_scores = 2 * recall * precision / (recall + precision)\n",
    "    print('f1 scores')\n",
    "    print(f1_scores)\n",
    "    print('\\n')\n",
    "    \n",
    "    print('average f1 score {0:0.3f}'.format(f1_scores.mean()))\n",
    "    print('\\n')    "
   ]
  },
  {
   "cell_type": "code",
   "execution_count": 35,
   "metadata": {},
   "outputs": [
    {
     "name": "stdout",
     "output_type": "stream",
     "text": [
      "Accuracy: 0.967\n",
      "\n",
      "\n",
      "recall\n",
      "class\n",
      "Iris-setosa        1.00\n",
      "Iris-versicolor    0.98\n",
      "Iris-virginica     0.92\n",
      "dtype: float64\n",
      "\n",
      "\n",
      "precision\n",
      "predicted_default\n",
      "Iris-setosa        1.000000\n",
      "Iris-versicolor    0.924528\n",
      "Iris-virginica     0.978723\n",
      "dtype: float64\n",
      "\n",
      "\n",
      "f1 scores\n",
      "class\n",
      "Iris-setosa        1.000000\n",
      "Iris-versicolor    0.951456\n",
      "Iris-virginica     0.948454\n",
      "dtype: float64\n",
      "\n",
      "\n",
      "average f1 score 0.967\n",
      "\n",
      "\n"
     ]
    }
   ],
   "source": [
    "print_metrics(cf_bin_recipe)"
   ]
  },
  {
   "cell_type": "code",
   "execution_count": 36,
   "metadata": {},
   "outputs": [
    {
     "name": "stdout",
     "output_type": "stream",
     "text": [
      "Accuracy: 0.800\n",
      "\n",
      "\n",
      "recall\n",
      "class\n",
      "Iris-setosa        1.0\n",
      "Iris-versicolor    0.4\n",
      "Iris-virginica     1.0\n",
      "dtype: float64\n",
      "\n",
      "\n",
      "precision\n",
      "predicted_numeric\n",
      "Iris-setosa        1.000\n",
      "Iris-versicolor    1.000\n",
      "Iris-virginica     0.625\n",
      "dtype: float64\n",
      "\n",
      "\n",
      "f1 scores\n",
      "class\n",
      "Iris-setosa        1.000000\n",
      "Iris-versicolor    0.571429\n",
      "Iris-virginica     0.769231\n",
      "dtype: float64\n",
      "\n",
      "\n",
      "average f1 score 0.780\n",
      "\n",
      "\n"
     ]
    }
   ],
   "source": [
    "print_metrics(cf_num_recipe)"
   ]
  },
  {
   "cell_type": "code",
   "execution_count": 37,
   "metadata": {},
   "outputs": [
    {
     "data": {
      "text/plain": [
       "Iris-virginica     80\n",
       "Iris-setosa        50\n",
       "Iris-versicolor    20\n",
       "Name: predicted_numeric, dtype: int64"
      ]
     },
     "execution_count": 37,
     "metadata": {},
     "output_type": "execute_result"
    }
   ],
   "source": [
    "df_predict_numeric.predicted_numeric.value_counts()"
   ]
  },
  {
   "cell_type": "code",
   "execution_count": 38,
   "metadata": {},
   "outputs": [
    {
     "data": {
      "text/plain": [
       "Iris-versicolor    53\n",
       "Iris-setosa        50\n",
       "Iris-virginica     47\n",
       "Name: predicted_default, dtype: int64"
      ]
     },
     "execution_count": 38,
     "metadata": {},
     "output_type": "execute_result"
    }
   ],
   "source": [
    "df_predict_default.predicted_default.value_counts()"
   ]
  },
  {
   "cell_type": "markdown",
   "metadata": {},
   "source": [
    "<h4>Multi-Class Evaluation Metric</h4>\n",
    "1. F1 Score is a binary classification metric. It is harmonic mean of precision and recall<br>\n",
    " F1 Score = 2 X Precision X Recall / (Precision + Recall)<br>\n",
    " <b>Higher F1 Score reflects better predictive accuracy<br></b>\n",
    "\n",
    "2. Multi-Class Evaluation<br>\n",
    " Average of class wise F1 Score <br>\n",
    " \n",
    "3. Baseline F1 Score = Hypothetical model that predicts only most frequent class as the answer\n",
    "\n",
    "4. Visualization - Confusion Matrix - Available on AWS ML Console<br>\n",
    "Matrix. Rows = true class. Columns = predicted class<br>\n",
    "Cell color – diagonal indicates true class prediction %<br>\n",
    "Cell color – non-diagonal indicates incorrect prediction %<br>\n",
    "Last column is F1 score for that class. Last but one column is true class distribution<br>\n",
    "Last row is predicted class distribution<br>\n",
    "Upto 10 classes are shown – listed from most frequent to least frequent<br>\n",
    "For more than 10 classes, first 9 most freq. classes are shown and 10th class will collapse rest of the classes and mark as other<br>\n",
    "You can download the confusion matrix thru url - Explore Performance page under Evaluations\n",
    "<br>\n"
   ]
  },
  {
   "cell_type": "markdown",
   "metadata": {},
   "source": [
    "<h4>Prediction Summary</h4>\n",
    "1. Eval with default recipe settings. <b>Average F1 score: 0.905</b>\n",
    "2. Eval with numeric recipe settings: <b>Average F1 score: 0.827</b>\n",
    "3. Batch prediction Results (predict all 150 example outcome):<br>\n",
    "    a. With default recipe settings: <b>Average F1 Score: 0.973</b><br>\n",
    "    b. With numeric recipe settings: <b>Average F1 Score: 0.78</b>    \n",
    "3. Classification was better with binning.  Versicolor classification was impacted when numeric setting was used\n",
    "4. Higher F1 Score implies better prediction accuracy."
   ]
  }
 ],
 "metadata": {
  "kernelspec": {
   "display_name": "Python 3",
   "language": "python",
   "name": "python3"
  },
  "language_info": {
   "codemirror_mode": {
    "name": "ipython",
    "version": 3
   },
   "file_extension": ".py",
   "mimetype": "text/x-python",
   "name": "python",
   "nbconvert_exporter": "python",
   "pygments_lexer": "ipython3",
   "version": "3.6.1"
  }
 },
 "nbformat": 4,
 "nbformat_minor": 1
}
