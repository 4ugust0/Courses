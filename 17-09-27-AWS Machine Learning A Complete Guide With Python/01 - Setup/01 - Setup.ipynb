{
 "cells": [
  {
   "cell_type": "markdown",
   "metadata": {},
   "source": [
    "# Install Anaconda\n",
    "## Step 1 - Install Anaconda (Python 3.5 or 3.6) :\n",
    "https://www.anaconda.com/download/#download\n",
    "\n",
    "## Step 2 - Install Amazon's Boto3 SDK:\n",
    "conda install -c anaconda boto3\n",
    "\n",
    "## Step 3 - Test Boto3:\n",
    "python\n",
    "\n",
    "import boto3"
   ]
  }
 ],
 "metadata": {
  "kernelspec": {
   "display_name": "Python 3",
   "language": "python",
   "name": "python3"
  },
  "language_info": {
   "codemirror_mode": {
    "name": "ipython",
    "version": 3
   },
   "file_extension": ".py",
   "mimetype": "text/x-python",
   "name": "python",
   "nbconvert_exporter": "python",
   "pygments_lexer": "ipython3",
   "version": "3.6.1"
  }
 },
 "nbformat": 4,
 "nbformat_minor": 2
}
