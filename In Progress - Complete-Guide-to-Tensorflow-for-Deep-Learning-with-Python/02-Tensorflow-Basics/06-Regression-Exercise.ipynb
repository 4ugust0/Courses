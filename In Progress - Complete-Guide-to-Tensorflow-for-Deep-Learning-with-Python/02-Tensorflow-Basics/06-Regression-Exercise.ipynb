{
 "cells": [
  {
   "cell_type": "markdown",
   "metadata": {},
   "source": [
    "# Regression Exercise \n",
    "\n",
    "California Housing Data\n",
    "\n",
    "This data set contains information about all the block groups in California from the 1990 Census. In this sample a block group on average includes 1425.5 individuals living in a geographically compact area. \n",
    "\n",
    "The task is to aproximate the median house value of each block from the values of the rest of the variables. \n",
    "\n",
    " It has been obtained from the LIACC repository. The original page where the data set can be found is: http://www.liaad.up.pt/~ltorgo/Regression/DataSets.html.\n",
    " "
   ]
  },
  {
   "cell_type": "markdown",
   "metadata": {},
   "source": [
    "The Features:\n",
    " \n",
    "* housingMedianAge: continuous. \n",
    "* totalRooms: continuous. \n",
    "* totalBedrooms: continuous. \n",
    "* population: continuous. \n",
    "* households: continuous. \n",
    "* medianIncome: continuous. \n",
    "* medianHouseValue: continuous. "
   ]
  },
  {
   "cell_type": "markdown",
   "metadata": {},
   "source": [
    "## The Data"
   ]
  },
  {
   "cell_type": "markdown",
   "metadata": {},
   "source": [
    "** Import the cal_housing_clean.csv file with pandas. Separate it into a training (70%) and testing set(30%).**"
   ]
  },
  {
   "cell_type": "code",
   "execution_count": 1,
   "metadata": {
    "collapsed": true
   },
   "outputs": [],
   "source": [
    "import pandas as pd"
   ]
  },
  {
   "cell_type": "code",
   "execution_count": 2,
   "metadata": {
    "collapsed": true
   },
   "outputs": [],
   "source": [
    "df = pd.read_csv('./data/cal_housing_clean.csv')"
   ]
  },
  {
   "cell_type": "code",
   "execution_count": 3,
   "metadata": {},
   "outputs": [
    {
     "data": {
      "text/html": [
       "<div>\n",
       "<style>\n",
       "    .dataframe thead tr:only-child th {\n",
       "        text-align: right;\n",
       "    }\n",
       "\n",
       "    .dataframe thead th {\n",
       "        text-align: left;\n",
       "    }\n",
       "\n",
       "    .dataframe tbody tr th {\n",
       "        vertical-align: top;\n",
       "    }\n",
       "</style>\n",
       "<table border=\"1\" class=\"dataframe\">\n",
       "  <thead>\n",
       "    <tr style=\"text-align: right;\">\n",
       "      <th></th>\n",
       "      <th>housingMedianAge</th>\n",
       "      <th>totalRooms</th>\n",
       "      <th>totalBedrooms</th>\n",
       "      <th>population</th>\n",
       "      <th>households</th>\n",
       "      <th>medianIncome</th>\n",
       "      <th>medianHouseValue</th>\n",
       "    </tr>\n",
       "  </thead>\n",
       "  <tbody>\n",
       "    <tr>\n",
       "      <th>0</th>\n",
       "      <td>41.0</td>\n",
       "      <td>880.0</td>\n",
       "      <td>129.0</td>\n",
       "      <td>322.0</td>\n",
       "      <td>126.0</td>\n",
       "      <td>8.3252</td>\n",
       "      <td>452600.0</td>\n",
       "    </tr>\n",
       "    <tr>\n",
       "      <th>1</th>\n",
       "      <td>21.0</td>\n",
       "      <td>7099.0</td>\n",
       "      <td>1106.0</td>\n",
       "      <td>2401.0</td>\n",
       "      <td>1138.0</td>\n",
       "      <td>8.3014</td>\n",
       "      <td>358500.0</td>\n",
       "    </tr>\n",
       "    <tr>\n",
       "      <th>2</th>\n",
       "      <td>52.0</td>\n",
       "      <td>1467.0</td>\n",
       "      <td>190.0</td>\n",
       "      <td>496.0</td>\n",
       "      <td>177.0</td>\n",
       "      <td>7.2574</td>\n",
       "      <td>352100.0</td>\n",
       "    </tr>\n",
       "    <tr>\n",
       "      <th>3</th>\n",
       "      <td>52.0</td>\n",
       "      <td>1274.0</td>\n",
       "      <td>235.0</td>\n",
       "      <td>558.0</td>\n",
       "      <td>219.0</td>\n",
       "      <td>5.6431</td>\n",
       "      <td>341300.0</td>\n",
       "    </tr>\n",
       "    <tr>\n",
       "      <th>4</th>\n",
       "      <td>52.0</td>\n",
       "      <td>1627.0</td>\n",
       "      <td>280.0</td>\n",
       "      <td>565.0</td>\n",
       "      <td>259.0</td>\n",
       "      <td>3.8462</td>\n",
       "      <td>342200.0</td>\n",
       "    </tr>\n",
       "  </tbody>\n",
       "</table>\n",
       "</div>"
      ],
      "text/plain": [
       "   housingMedianAge  totalRooms  totalBedrooms  population  households  \\\n",
       "0              41.0       880.0          129.0       322.0       126.0   \n",
       "1              21.0      7099.0         1106.0      2401.0      1138.0   \n",
       "2              52.0      1467.0          190.0       496.0       177.0   \n",
       "3              52.0      1274.0          235.0       558.0       219.0   \n",
       "4              52.0      1627.0          280.0       565.0       259.0   \n",
       "\n",
       "   medianIncome  medianHouseValue  \n",
       "0        8.3252          452600.0  \n",
       "1        8.3014          358500.0  \n",
       "2        7.2574          352100.0  \n",
       "3        5.6431          341300.0  \n",
       "4        3.8462          342200.0  "
      ]
     },
     "execution_count": 3,
     "metadata": {},
     "output_type": "execute_result"
    }
   ],
   "source": [
    "df.head()"
   ]
  },
  {
   "cell_type": "code",
   "execution_count": 4,
   "metadata": {},
   "outputs": [
    {
     "data": {
      "text/html": [
       "<div>\n",
       "<style>\n",
       "    .dataframe thead tr:only-child th {\n",
       "        text-align: right;\n",
       "    }\n",
       "\n",
       "    .dataframe thead th {\n",
       "        text-align: left;\n",
       "    }\n",
       "\n",
       "    .dataframe tbody tr th {\n",
       "        vertical-align: top;\n",
       "    }\n",
       "</style>\n",
       "<table border=\"1\" class=\"dataframe\">\n",
       "  <thead>\n",
       "    <tr style=\"text-align: right;\">\n",
       "      <th></th>\n",
       "      <th>count</th>\n",
       "      <th>mean</th>\n",
       "      <th>std</th>\n",
       "      <th>min</th>\n",
       "      <th>25%</th>\n",
       "      <th>50%</th>\n",
       "      <th>75%</th>\n",
       "      <th>max</th>\n",
       "    </tr>\n",
       "  </thead>\n",
       "  <tbody>\n",
       "    <tr>\n",
       "      <th>housingMedianAge</th>\n",
       "      <td>20640.0</td>\n",
       "      <td>28.639486</td>\n",
       "      <td>12.585558</td>\n",
       "      <td>1.0000</td>\n",
       "      <td>18.0000</td>\n",
       "      <td>29.0000</td>\n",
       "      <td>37.00000</td>\n",
       "      <td>52.0000</td>\n",
       "    </tr>\n",
       "    <tr>\n",
       "      <th>totalRooms</th>\n",
       "      <td>20640.0</td>\n",
       "      <td>2635.763081</td>\n",
       "      <td>2181.615252</td>\n",
       "      <td>2.0000</td>\n",
       "      <td>1447.7500</td>\n",
       "      <td>2127.0000</td>\n",
       "      <td>3148.00000</td>\n",
       "      <td>39320.0000</td>\n",
       "    </tr>\n",
       "    <tr>\n",
       "      <th>totalBedrooms</th>\n",
       "      <td>20640.0</td>\n",
       "      <td>537.898014</td>\n",
       "      <td>421.247906</td>\n",
       "      <td>1.0000</td>\n",
       "      <td>295.0000</td>\n",
       "      <td>435.0000</td>\n",
       "      <td>647.00000</td>\n",
       "      <td>6445.0000</td>\n",
       "    </tr>\n",
       "    <tr>\n",
       "      <th>population</th>\n",
       "      <td>20640.0</td>\n",
       "      <td>1425.476744</td>\n",
       "      <td>1132.462122</td>\n",
       "      <td>3.0000</td>\n",
       "      <td>787.0000</td>\n",
       "      <td>1166.0000</td>\n",
       "      <td>1725.00000</td>\n",
       "      <td>35682.0000</td>\n",
       "    </tr>\n",
       "    <tr>\n",
       "      <th>households</th>\n",
       "      <td>20640.0</td>\n",
       "      <td>499.539680</td>\n",
       "      <td>382.329753</td>\n",
       "      <td>1.0000</td>\n",
       "      <td>280.0000</td>\n",
       "      <td>409.0000</td>\n",
       "      <td>605.00000</td>\n",
       "      <td>6082.0000</td>\n",
       "    </tr>\n",
       "    <tr>\n",
       "      <th>medianIncome</th>\n",
       "      <td>20640.0</td>\n",
       "      <td>3.870671</td>\n",
       "      <td>1.899822</td>\n",
       "      <td>0.4999</td>\n",
       "      <td>2.5634</td>\n",
       "      <td>3.5348</td>\n",
       "      <td>4.74325</td>\n",
       "      <td>15.0001</td>\n",
       "    </tr>\n",
       "    <tr>\n",
       "      <th>medianHouseValue</th>\n",
       "      <td>20640.0</td>\n",
       "      <td>206855.816909</td>\n",
       "      <td>115395.615874</td>\n",
       "      <td>14999.0000</td>\n",
       "      <td>119600.0000</td>\n",
       "      <td>179700.0000</td>\n",
       "      <td>264725.00000</td>\n",
       "      <td>500001.0000</td>\n",
       "    </tr>\n",
       "  </tbody>\n",
       "</table>\n",
       "</div>"
      ],
      "text/plain": [
       "                    count           mean            std         min  \\\n",
       "housingMedianAge  20640.0      28.639486      12.585558      1.0000   \n",
       "totalRooms        20640.0    2635.763081    2181.615252      2.0000   \n",
       "totalBedrooms     20640.0     537.898014     421.247906      1.0000   \n",
       "population        20640.0    1425.476744    1132.462122      3.0000   \n",
       "households        20640.0     499.539680     382.329753      1.0000   \n",
       "medianIncome      20640.0       3.870671       1.899822      0.4999   \n",
       "medianHouseValue  20640.0  206855.816909  115395.615874  14999.0000   \n",
       "\n",
       "                          25%          50%           75%          max  \n",
       "housingMedianAge      18.0000      29.0000      37.00000      52.0000  \n",
       "totalRooms          1447.7500    2127.0000    3148.00000   39320.0000  \n",
       "totalBedrooms        295.0000     435.0000     647.00000    6445.0000  \n",
       "population           787.0000    1166.0000    1725.00000   35682.0000  \n",
       "households           280.0000     409.0000     605.00000    6082.0000  \n",
       "medianIncome           2.5634       3.5348       4.74325      15.0001  \n",
       "medianHouseValue  119600.0000  179700.0000  264725.00000  500001.0000  "
      ]
     },
     "execution_count": 4,
     "metadata": {},
     "output_type": "execute_result"
    }
   ],
   "source": [
    "df.describe().T"
   ]
  },
  {
   "cell_type": "code",
   "execution_count": 5,
   "metadata": {},
   "outputs": [],
   "source": [
    "y = df['medianHouseValue']\n",
    "x = df.drop('medianHouseValue', axis = 1)"
   ]
  },
  {
   "cell_type": "code",
   "execution_count": 6,
   "metadata": {
    "collapsed": true,
    "scrolled": true
   },
   "outputs": [],
   "source": [
    "from sklearn.model_selection import train_test_split"
   ]
  },
  {
   "cell_type": "code",
   "execution_count": 7,
   "metadata": {
    "collapsed": true
   },
   "outputs": [],
   "source": [
    "X_train, X_test, Y_train, Y_test = train_test_split(x, y, \n",
    "                                                    test_size = 0.3, \n",
    "                                                    random_state = 7) "
   ]
  },
  {
   "cell_type": "code",
   "execution_count": 8,
   "metadata": {
    "collapsed": true
   },
   "outputs": [
    {
     "data": {
      "text/html": [
       "<div>\n",
       "<style>\n",
       "    .dataframe thead tr:only-child th {\n",
       "        text-align: right;\n",
       "    }\n",
       "\n",
       "    .dataframe thead th {\n",
       "        text-align: left;\n",
       "    }\n",
       "\n",
       "    .dataframe tbody tr th {\n",
       "        vertical-align: top;\n",
       "    }\n",
       "</style>\n",
       "<table border=\"1\" class=\"dataframe\">\n",
       "  <thead>\n",
       "    <tr style=\"text-align: right;\">\n",
       "      <th></th>\n",
       "      <th>housingMedianAge</th>\n",
       "      <th>totalRooms</th>\n",
       "      <th>totalBedrooms</th>\n",
       "      <th>population</th>\n",
       "      <th>households</th>\n",
       "      <th>medianIncome</th>\n",
       "    </tr>\n",
       "  </thead>\n",
       "  <tbody>\n",
       "    <tr>\n",
       "      <th>7630</th>\n",
       "      <td>18.0</td>\n",
       "      <td>5923.0</td>\n",
       "      <td>1409.0</td>\n",
       "      <td>3887.0</td>\n",
       "      <td>1322.0</td>\n",
       "      <td>3.4712</td>\n",
       "    </tr>\n",
       "    <tr>\n",
       "      <th>3762</th>\n",
       "      <td>42.0</td>\n",
       "      <td>1713.0</td>\n",
       "      <td>416.0</td>\n",
       "      <td>1349.0</td>\n",
       "      <td>427.0</td>\n",
       "      <td>3.2596</td>\n",
       "    </tr>\n",
       "    <tr>\n",
       "      <th>2852</th>\n",
       "      <td>41.0</td>\n",
       "      <td>2417.0</td>\n",
       "      <td>435.0</td>\n",
       "      <td>973.0</td>\n",
       "      <td>406.0</td>\n",
       "      <td>3.0568</td>\n",
       "    </tr>\n",
       "    <tr>\n",
       "      <th>11759</th>\n",
       "      <td>12.0</td>\n",
       "      <td>3605.0</td>\n",
       "      <td>576.0</td>\n",
       "      <td>1556.0</td>\n",
       "      <td>549.0</td>\n",
       "      <td>4.9000</td>\n",
       "    </tr>\n",
       "    <tr>\n",
       "      <th>18062</th>\n",
       "      <td>29.0</td>\n",
       "      <td>2718.0</td>\n",
       "      <td>365.0</td>\n",
       "      <td>982.0</td>\n",
       "      <td>339.0</td>\n",
       "      <td>7.9234</td>\n",
       "    </tr>\n",
       "  </tbody>\n",
       "</table>\n",
       "</div>"
      ],
      "text/plain": [
       "       housingMedianAge  totalRooms  totalBedrooms  population  households  \\\n",
       "7630               18.0      5923.0         1409.0      3887.0      1322.0   \n",
       "3762               42.0      1713.0          416.0      1349.0       427.0   \n",
       "2852               41.0      2417.0          435.0       973.0       406.0   \n",
       "11759              12.0      3605.0          576.0      1556.0       549.0   \n",
       "18062              29.0      2718.0          365.0       982.0       339.0   \n",
       "\n",
       "       medianIncome  \n",
       "7630         3.4712  \n",
       "3762         3.2596  \n",
       "2852         3.0568  \n",
       "11759        4.9000  \n",
       "18062        7.9234  "
      ]
     },
     "execution_count": 8,
     "metadata": {},
     "output_type": "execute_result"
    }
   ],
   "source": [
    "X_train.head()"
   ]
  },
  {
   "cell_type": "code",
   "execution_count": 9,
   "metadata": {
    "collapsed": true
   },
   "outputs": [
    {
     "data": {
      "text/plain": [
       "7630     194400.0\n",
       "3762     191800.0\n",
       "2852      85600.0\n",
       "11759    203700.0\n",
       "18062    500001.0\n",
       "Name: medianHouseValue, dtype: float64"
      ]
     },
     "execution_count": 9,
     "metadata": {},
     "output_type": "execute_result"
    }
   ],
   "source": [
    "Y_train.head()"
   ]
  },
  {
   "cell_type": "markdown",
   "metadata": {},
   "source": [
    "### Scale the Feature Data\n",
    "\n",
    "** Use sklearn preprocessing to create a MinMaxScaler for the feature data. Fit this scaler only to the training data. Then use it to transform X_test and X_train. Then use the scaled X_test and X_train along with pd.Dataframe to re-create two dataframes of scaled data.**"
   ]
  },
  {
   "cell_type": "code",
   "execution_count": 10,
   "metadata": {
    "collapsed": true
   },
   "outputs": [],
   "source": [
    "from sklearn.preprocessing import MinMaxScaler"
   ]
  },
  {
   "cell_type": "code",
   "execution_count": 11,
   "metadata": {
    "collapsed": true
   },
   "outputs": [],
   "source": [
    "scaler = MinMaxScaler()"
   ]
  },
  {
   "cell_type": "code",
   "execution_count": 12,
   "metadata": {},
   "outputs": [
    {
     "data": {
      "text/plain": [
       "MinMaxScaler(copy=True, feature_range=(0, 1))"
      ]
     },
     "execution_count": 12,
     "metadata": {},
     "output_type": "execute_result"
    }
   ],
   "source": [
    "scaler.fit(X_train)"
   ]
  },
  {
   "cell_type": "code",
   "execution_count": 13,
   "metadata": {},
   "outputs": [],
   "source": [
    "# Keeping Pandas DataFrame format after re-scaling\n",
    "X_train = pd.DataFrame(data = scaler.transform(X_train), \n",
    "                       columns = X_train.columns,\n",
    "                       index = X_train.index)"
   ]
  },
  {
   "cell_type": "code",
   "execution_count": 14,
   "metadata": {
    "collapsed": true
   },
   "outputs": [],
   "source": [
    "X_test = pd.DataFrame(data = scaler.transform(X_test), \n",
    "                      columns = X_test.columns,\n",
    "                      index = X_test.index)"
   ]
  },
  {
   "cell_type": "code",
   "execution_count": 15,
   "metadata": {
    "collapsed": true
   },
   "outputs": [
    {
     "data": {
      "text/html": [
       "<div>\n",
       "<style>\n",
       "    .dataframe thead tr:only-child th {\n",
       "        text-align: right;\n",
       "    }\n",
       "\n",
       "    .dataframe thead th {\n",
       "        text-align: left;\n",
       "    }\n",
       "\n",
       "    .dataframe tbody tr th {\n",
       "        vertical-align: top;\n",
       "    }\n",
       "</style>\n",
       "<table border=\"1\" class=\"dataframe\">\n",
       "  <thead>\n",
       "    <tr style=\"text-align: right;\">\n",
       "      <th></th>\n",
       "      <th>housingMedianAge</th>\n",
       "      <th>totalRooms</th>\n",
       "      <th>totalBedrooms</th>\n",
       "      <th>population</th>\n",
       "      <th>households</th>\n",
       "      <th>medianIncome</th>\n",
       "    </tr>\n",
       "  </thead>\n",
       "  <tbody>\n",
       "    <tr>\n",
       "      <th>7630</th>\n",
       "      <td>0.333333</td>\n",
       "      <td>0.150506</td>\n",
       "      <td>0.218377</td>\n",
       "      <td>0.108860</td>\n",
       "      <td>0.217105</td>\n",
       "      <td>0.204914</td>\n",
       "    </tr>\n",
       "    <tr>\n",
       "      <th>3762</th>\n",
       "      <td>0.803922</td>\n",
       "      <td>0.043420</td>\n",
       "      <td>0.064256</td>\n",
       "      <td>0.037725</td>\n",
       "      <td>0.069901</td>\n",
       "      <td>0.190322</td>\n",
       "    </tr>\n",
       "    <tr>\n",
       "      <th>2852</th>\n",
       "      <td>0.784314</td>\n",
       "      <td>0.061327</td>\n",
       "      <td>0.067205</td>\n",
       "      <td>0.027187</td>\n",
       "      <td>0.066447</td>\n",
       "      <td>0.176335</td>\n",
       "    </tr>\n",
       "    <tr>\n",
       "      <th>11759</th>\n",
       "      <td>0.215686</td>\n",
       "      <td>0.091545</td>\n",
       "      <td>0.089089</td>\n",
       "      <td>0.043527</td>\n",
       "      <td>0.089967</td>\n",
       "      <td>0.303451</td>\n",
       "    </tr>\n",
       "    <tr>\n",
       "      <th>18062</th>\n",
       "      <td>0.549020</td>\n",
       "      <td>0.068983</td>\n",
       "      <td>0.056340</td>\n",
       "      <td>0.027439</td>\n",
       "      <td>0.055428</td>\n",
       "      <td>0.511958</td>\n",
       "    </tr>\n",
       "  </tbody>\n",
       "</table>\n",
       "</div>"
      ],
      "text/plain": [
       "       housingMedianAge  totalRooms  totalBedrooms  population  households  \\\n",
       "7630           0.333333    0.150506       0.218377    0.108860    0.217105   \n",
       "3762           0.803922    0.043420       0.064256    0.037725    0.069901   \n",
       "2852           0.784314    0.061327       0.067205    0.027187    0.066447   \n",
       "11759          0.215686    0.091545       0.089089    0.043527    0.089967   \n",
       "18062          0.549020    0.068983       0.056340    0.027439    0.055428   \n",
       "\n",
       "       medianIncome  \n",
       "7630       0.204914  \n",
       "3762       0.190322  \n",
       "2852       0.176335  \n",
       "11759      0.303451  \n",
       "18062      0.511958  "
      ]
     },
     "execution_count": 15,
     "metadata": {},
     "output_type": "execute_result"
    }
   ],
   "source": [
    "X_train.head()"
   ]
  },
  {
   "cell_type": "markdown",
   "metadata": {},
   "source": [
    "### Create Feature Columns\n",
    "\n",
    "** Create the necessary tf.feature_column objects for the estimator. They should all be trated as continuous numeric_columns. **"
   ]
  },
  {
   "cell_type": "code",
   "execution_count": 16,
   "metadata": {},
   "outputs": [
    {
     "data": {
      "text/plain": [
       "Index(['housingMedianAge', 'totalRooms', 'totalBedrooms', 'population',\n",
       "       'households', 'medianIncome', 'medianHouseValue'],\n",
       "      dtype='object')"
      ]
     },
     "execution_count": 16,
     "metadata": {},
     "output_type": "execute_result"
    }
   ],
   "source": [
    "df.columns"
   ]
  },
  {
   "cell_type": "code",
   "execution_count": 17,
   "metadata": {
    "collapsed": true
   },
   "outputs": [],
   "source": [
    "import tensorflow as tf"
   ]
  },
  {
   "cell_type": "code",
   "execution_count": 18,
   "metadata": {
    "collapsed": true
   },
   "outputs": [],
   "source": [
    "age = tf.feature_column.numeric_column('housingMedianAge')\n",
    "rooms = tf.feature_column.numeric_column('totalRooms')\n",
    "bedrooms = tf.feature_column.numeric_column('totalBedrooms')\n",
    "pop = tf.feature_column.numeric_column('population')\n",
    "households = tf.feature_column.numeric_column('households')\n",
    "income = tf.feature_column.numeric_column('medianIncome')"
   ]
  },
  {
   "cell_type": "code",
   "execution_count": 19,
   "metadata": {
    "collapsed": true
   },
   "outputs": [],
   "source": [
    "feature_columns = [age, rooms, bedrooms, pop, households, income]"
   ]
  },
  {
   "cell_type": "markdown",
   "metadata": {},
   "source": [
    "** Create the input function for the estimator object. (play around with batch_size and num_epochs)**"
   ]
  },
  {
   "cell_type": "code",
   "execution_count": 20,
   "metadata": {
    "collapsed": true
   },
   "outputs": [],
   "source": [
    "input_feature_func = tf.estimator.inputs.pandas_input_fn(x = X_train,\n",
    "                                                         y = Y_train, \n",
    "                                                         batch_size = 10,\n",
    "                                                         num_epochs = 1000,\n",
    "                                                         shuffle = True)"
   ]
  },
  {
   "cell_type": "markdown",
   "metadata": {},
   "source": [
    "** Create the estimator model. Use a DNNRegressor. Play around with the hidden units! **"
   ]
  },
  {
   "cell_type": "code",
   "execution_count": 21,
   "metadata": {},
   "outputs": [
    {
     "name": "stdout",
     "output_type": "stream",
     "text": [
      "INFO:tensorflow:Using default config.\n",
      "WARNING:tensorflow:Using temporary folder as model directory: C:\\Users\\ARCYFE~1\\AppData\\Local\\Temp\\tmpiljbseon\n",
      "INFO:tensorflow:Using config: {'_model_dir': 'C:\\\\Users\\\\ARCYFE~1\\\\AppData\\\\Local\\\\Temp\\\\tmpiljbseon', '_tf_random_seed': None, '_save_summary_steps': 100, '_save_checkpoints_steps': None, '_save_checkpoints_secs': 600, '_session_config': None, '_keep_checkpoint_max': 5, '_keep_checkpoint_every_n_hours': 10000, '_log_step_count_steps': 100, '_service': None, '_cluster_spec': <tensorflow.python.training.server_lib.ClusterSpec object at 0x000001B1FB18F208>, '_task_type': 'worker', '_task_id': 0, '_global_id_in_cluster': 0, '_master': '', '_evaluation_master': '', '_is_chief': True, '_num_ps_replicas': 0, '_num_worker_replicas': 1}\n"
     ]
    }
   ],
   "source": [
    "dnn_model = tf.estimator.DNNRegressor(hidden_units = [6, 5, 5], feature_columns = feature_columns)"
   ]
  },
  {
   "cell_type": "markdown",
   "metadata": {},
   "source": [
    "##### ** Train the model for ~1,000 steps. (Later come back to this and train it for more and check for improvement) **"
   ]
  },
  {
   "cell_type": "code",
   "execution_count": 22,
   "metadata": {},
   "outputs": [
    {
     "name": "stdout",
     "output_type": "stream",
     "text": [
      "INFO:tensorflow:Calling model_fn.\n",
      "INFO:tensorflow:Done calling model_fn.\n",
      "INFO:tensorflow:Create CheckpointSaverHook.\n",
      "INFO:tensorflow:Graph was finalized.\n",
      "INFO:tensorflow:Running local_init_op.\n",
      "INFO:tensorflow:Done running local_init_op.\n",
      "INFO:tensorflow:Saving checkpoints for 1 into C:\\Users\\ARCYFE~1\\AppData\\Local\\Temp\\tmpiljbseon\\model.ckpt.\n",
      "INFO:tensorflow:loss = 207973600000.0, step = 0\n",
      "INFO:tensorflow:global_step/sec: 215.313\n",
      "INFO:tensorflow:loss = 425438480000.0, step = 100 (0.466 sec)\n",
      "INFO:tensorflow:global_step/sec: 279.064\n",
      "INFO:tensorflow:loss = 845220350000.0, step = 200 (0.358 sec)\n",
      "INFO:tensorflow:global_step/sec: 249.139\n",
      "INFO:tensorflow:loss = 250733400000.0, step = 300 (0.401 sec)\n",
      "INFO:tensorflow:global_step/sec: 290.421\n",
      "INFO:tensorflow:loss = 278291780000.0, step = 400 (0.344 sec)\n",
      "INFO:tensorflow:global_step/sec: 259.493\n",
      "INFO:tensorflow:loss = 764664500000.0, step = 500 (0.385 sec)\n",
      "INFO:tensorflow:global_step/sec: 210.326\n",
      "INFO:tensorflow:loss = 725178450000.0, step = 600 (0.477 sec)\n",
      "INFO:tensorflow:global_step/sec: 138.755\n",
      "INFO:tensorflow:loss = 221782130000.0, step = 700 (0.730 sec)\n",
      "INFO:tensorflow:global_step/sec: 129.077\n",
      "INFO:tensorflow:loss = 615681100000.0, step = 800 (0.764 sec)\n",
      "INFO:tensorflow:global_step/sec: 177.768\n",
      "INFO:tensorflow:loss = 198133650000.0, step = 900 (0.566 sec)\n",
      "INFO:tensorflow:global_step/sec: 106.964\n",
      "INFO:tensorflow:loss = 178777720000.0, step = 1000 (0.933 sec)\n",
      "INFO:tensorflow:global_step/sec: 146.488\n",
      "INFO:tensorflow:loss = 254143920000.0, step = 1100 (0.688 sec)\n",
      "INFO:tensorflow:global_step/sec: 128.909\n",
      "INFO:tensorflow:loss = 21505511000.0, step = 1200 (0.771 sec)\n",
      "INFO:tensorflow:global_step/sec: 195.51\n",
      "INFO:tensorflow:loss = 126390256000.0, step = 1300 (0.513 sec)\n",
      "INFO:tensorflow:global_step/sec: 176.823\n",
      "INFO:tensorflow:loss = 50787190000.0, step = 1400 (0.565 sec)\n",
      "INFO:tensorflow:global_step/sec: 205.143\n",
      "INFO:tensorflow:loss = 218735670000.0, step = 1500 (0.487 sec)\n",
      "INFO:tensorflow:global_step/sec: 203.888\n",
      "INFO:tensorflow:loss = 47898820000.0, step = 1600 (0.489 sec)\n",
      "INFO:tensorflow:global_step/sec: 203.472\n",
      "INFO:tensorflow:loss = 249293000000.0, step = 1700 (0.491 sec)\n",
      "INFO:tensorflow:global_step/sec: 190.292\n",
      "INFO:tensorflow:loss = 213011140000.0, step = 1800 (0.524 sec)\n",
      "INFO:tensorflow:global_step/sec: 218.136\n",
      "INFO:tensorflow:loss = 33383338000.0, step = 1900 (0.458 sec)\n",
      "INFO:tensorflow:global_step/sec: 215.778\n",
      "INFO:tensorflow:loss = 109325560000.0, step = 2000 (0.463 sec)\n",
      "INFO:tensorflow:global_step/sec: 207.271\n",
      "INFO:tensorflow:loss = 50221620000.0, step = 2100 (0.482 sec)\n",
      "INFO:tensorflow:global_step/sec: 169.906\n",
      "INFO:tensorflow:loss = 161848080000.0, step = 2200 (0.589 sec)\n",
      "INFO:tensorflow:global_step/sec: 123.187\n",
      "INFO:tensorflow:loss = 81235550000.0, step = 2300 (0.813 sec)\n",
      "INFO:tensorflow:global_step/sec: 157.579\n",
      "INFO:tensorflow:loss = 175650700000.0, step = 2400 (0.634 sec)\n",
      "INFO:tensorflow:global_step/sec: 203.472\n",
      "INFO:tensorflow:loss = 65173828000.0, step = 2500 (0.491 sec)\n",
      "INFO:tensorflow:global_step/sec: 194.368\n",
      "INFO:tensorflow:loss = 149565850000.0, step = 2600 (0.515 sec)\n",
      "INFO:tensorflow:global_step/sec: 192.125\n",
      "INFO:tensorflow:loss = 97784590000.0, step = 2700 (0.519 sec)\n",
      "INFO:tensorflow:global_step/sec: 201.016\n",
      "INFO:tensorflow:loss = 105214130000.0, step = 2800 (0.496 sec)\n",
      "INFO:tensorflow:global_step/sec: 223.501\n",
      "INFO:tensorflow:loss = 37675885000.0, step = 2900 (0.447 sec)\n",
      "INFO:tensorflow:global_step/sec: 238.433\n",
      "INFO:tensorflow:loss = 96770245000.0, step = 3000 (0.420 sec)\n",
      "INFO:tensorflow:global_step/sec: 229.143\n",
      "INFO:tensorflow:loss = 303832300000.0, step = 3100 (0.435 sec)\n",
      "INFO:tensorflow:global_step/sec: 228.615\n",
      "INFO:tensorflow:loss = 107682940000.0, step = 3200 (0.438 sec)\n",
      "INFO:tensorflow:global_step/sec: 177.767\n",
      "INFO:tensorflow:loss = 45944070000.0, step = 3300 (0.564 sec)\n",
      "INFO:tensorflow:global_step/sec: 174.05\n",
      "INFO:tensorflow:loss = 93797830000.0, step = 3400 (0.577 sec)\n",
      "INFO:tensorflow:global_step/sec: 172.846\n",
      "INFO:tensorflow:loss = 208430470000.0, step = 3500 (0.575 sec)\n",
      "INFO:tensorflow:global_step/sec: 229.666\n",
      "INFO:tensorflow:loss = 42924080000.0, step = 3600 (0.436 sec)\n",
      "INFO:tensorflow:global_step/sec: 233.968\n",
      "INFO:tensorflow:loss = 181113030000.0, step = 3700 (0.428 sec)\n",
      "INFO:tensorflow:global_step/sec: 232.338\n",
      "INFO:tensorflow:loss = 74690560000.0, step = 3800 (0.430 sec)\n",
      "INFO:tensorflow:global_step/sec: 229.666\n",
      "INFO:tensorflow:loss = 100517490000.0, step = 3900 (0.435 sec)\n",
      "INFO:tensorflow:global_step/sec: 229.667\n",
      "INFO:tensorflow:loss = 36461940000.0, step = 4000 (0.436 sec)\n",
      "INFO:tensorflow:global_step/sec: 232.337\n",
      "INFO:tensorflow:loss = 55311868000.0, step = 4100 (0.429 sec)\n",
      "INFO:tensorflow:global_step/sec: 230.195\n",
      "INFO:tensorflow:loss = 87295080000.0, step = 4200 (0.434 sec)\n",
      "INFO:tensorflow:global_step/sec: 176.822\n",
      "INFO:tensorflow:loss = 174099920000.0, step = 4300 (0.566 sec)\n",
      "INFO:tensorflow:global_step/sec: 211.663\n",
      "INFO:tensorflow:loss = 200433960000.0, step = 4400 (0.470 sec)\n",
      "INFO:tensorflow:global_step/sec: 210.326\n",
      "INFO:tensorflow:loss = 65175245000.0, step = 4500 (0.476 sec)\n",
      "INFO:tensorflow:global_step/sec: 180.66\n",
      "INFO:tensorflow:loss = 49770040000.0, step = 4600 (0.554 sec)\n",
      "INFO:tensorflow:global_step/sec: 128.577\n",
      "INFO:tensorflow:loss = 152153690000.0, step = 4700 (0.784 sec)\n",
      "INFO:tensorflow:global_step/sec: 108.24\n",
      "INFO:tensorflow:loss = 154153900000.0, step = 4800 (0.920 sec)\n",
      "INFO:tensorflow:global_step/sec: 153.937\n",
      "INFO:tensorflow:loss = 157088510000.0, step = 4900 (0.649 sec)\n",
      "INFO:tensorflow:Saving checkpoints for 5000 into C:\\Users\\ARCYFE~1\\AppData\\Local\\Temp\\tmpiljbseon\\model.ckpt.\n",
      "INFO:tensorflow:Loss for final step: 171178840000.0.\n"
     ]
    },
    {
     "data": {
      "text/plain": [
       "<tensorflow.python.estimator.canned.dnn.DNNRegressor at 0x1b1fbc80a90>"
      ]
     },
     "execution_count": 22,
     "metadata": {},
     "output_type": "execute_result"
    }
   ],
   "source": [
    "dnn_model.train(input_fn = input_feature_func, steps = 5000)"
   ]
  },
  {
   "cell_type": "markdown",
   "metadata": {},
   "source": [
    "** Create a prediction input function and then use the .predict method off your estimator model to create a list or predictions on your test data. **"
   ]
  },
  {
   "cell_type": "code",
   "execution_count": 23,
   "metadata": {
    "collapsed": true
   },
   "outputs": [],
   "source": [
    "prediction_input_func = tf.estimator.inputs.pandas_input_fn(x = X_test,\n",
    "                                                            batch_size = 10,\n",
    "                                                            num_epochs = 1,\n",
    "                                                            shuffle = False)"
   ]
  },
  {
   "cell_type": "code",
   "execution_count": 24,
   "metadata": {
    "collapsed": true
   },
   "outputs": [],
   "source": [
    "prediction_generator = dnn_model.predict(prediction_input_func)"
   ]
  },
  {
   "cell_type": "code",
   "execution_count": 25,
   "metadata": {},
   "outputs": [
    {
     "name": "stdout",
     "output_type": "stream",
     "text": [
      "INFO:tensorflow:Calling model_fn.\n",
      "INFO:tensorflow:Done calling model_fn.\n",
      "INFO:tensorflow:Graph was finalized.\n",
      "INFO:tensorflow:Restoring parameters from C:\\Users\\ARCYFE~1\\AppData\\Local\\Temp\\tmpiljbseon\\model.ckpt-5000\n",
      "INFO:tensorflow:Running local_init_op.\n",
      "INFO:tensorflow:Done running local_init_op.\n"
     ]
    }
   ],
   "source": [
    "precitions = list(prediction_generator)"
   ]
  },
  {
   "cell_type": "markdown",
   "metadata": {},
   "source": [
    "** Calculate the RMSE. You should be able to get around 100,000 RMSE (remember that this is in the same units as the label.) Do this manually or use [sklearn.metrics](http://scikit-learn.org/stable/modules/generated/sklearn.metrics.mean_squared_error.html) **"
   ]
  },
  {
   "cell_type": "code",
   "execution_count": 26,
   "metadata": {
    "collapsed": true
   },
   "outputs": [],
   "source": [
    "final_pred = []\n",
    "\n",
    "for pred in precitions:\n",
    "    final_pred.append(pred['predictions'])"
   ]
  },
  {
   "cell_type": "code",
   "execution_count": 27,
   "metadata": {
    "collapsed": true
   },
   "outputs": [],
   "source": [
    "from sklearn.metrics import mean_squared_error, mean_absolute_error"
   ]
  },
  {
   "cell_type": "code",
   "execution_count": 28,
   "metadata": {},
   "outputs": [
    {
     "data": {
      "text/plain": [
       "103363.22596276859"
      ]
     },
     "execution_count": 28,
     "metadata": {},
     "output_type": "execute_result"
    }
   ],
   "source": [
    "# RMSE = sqrt(MSE) = MSE ** 0.5\n",
    "mean_squared_error(Y_test, final_pred) ** 0.5"
   ]
  },
  {
   "cell_type": "markdown",
   "metadata": {},
   "source": [
    "# Great Job!"
   ]
  }
 ],
 "metadata": {
  "kernelspec": {
   "display_name": "Python 3",
   "language": "python",
   "name": "python3"
  },
  "language_info": {
   "codemirror_mode": {
    "name": "ipython",
    "version": 3
   },
   "file_extension": ".py",
   "mimetype": "text/x-python",
   "name": "python",
   "nbconvert_exporter": "python",
   "pygments_lexer": "ipython3",
   "version": "3.6.1"
  }
 },
 "nbformat": 4,
 "nbformat_minor": 2
}
