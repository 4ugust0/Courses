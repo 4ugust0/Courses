{
 "cells": [
  {
   "cell_type": "markdown",
   "metadata": {},
   "source": [
    "# RNN with TensorFlow API"
   ]
  },
  {
   "cell_type": "code",
   "execution_count": 1,
   "metadata": {
    "collapsed": true
   },
   "outputs": [],
   "source": [
    "import numpy as np\n",
    "import tensorflow as tf\n",
    "import matplotlib.pyplot as plt\n",
    "%matplotlib inline"
   ]
  },
  {
   "cell_type": "markdown",
   "metadata": {},
   "source": [
    "### The Data"
   ]
  },
  {
   "cell_type": "code",
   "execution_count": 2,
   "metadata": {
    "collapsed": true
   },
   "outputs": [],
   "source": [
    "# Create a dataset\n",
    "class TimeSeriesData(): \n",
    "    def __init__(self,num_points,xmin,xmax):\n",
    "        self.xmin = xmin\n",
    "        self.xmax = xmax\n",
    "        self.num_points = num_points\n",
    "        self.resolution = (xmax - xmin) / num_points\n",
    "        self.x_data = np.linspace(xmin, xmax, num_points)\n",
    "        self.y_true = np.sin(self.x_data)\n",
    "    \n",
    "    def ret_true(self, x_series):\n",
    "        return np.sin(x_series)\n",
    "    \n",
    "    def next_batch(self, batch_size, steps, return_batch_ts = False):\n",
    "        \n",
    "        # Grab a random starting point for each batch\n",
    "        rand_start = np.random.rand(batch_size, 1) \n",
    "        \n",
    "        # Convert to be on time series\n",
    "        ts_start = rand_start * (self.xmax - self.xmin - (steps * self.resolution) )\n",
    "        \n",
    "        # Create batch Time Series on t axis\n",
    "        batch_ts = ts_start + np.arange(0.0, steps + 1) * self.resolution\n",
    "        \n",
    "        # Create Y data for time series in the batches\n",
    "        y_batch = np.sin(batch_ts)\n",
    "        \n",
    "        # Format for RNN\n",
    "        if return_batch_ts:\n",
    "            return y_batch[:, :-1].reshape(-1, steps, 1), y_batch[:, 1:].reshape(-1, steps, 1) , batch_ts\n",
    "        \n",
    "        else:\n",
    "            \n",
    "            return y_batch[:, :-1].reshape(-1, steps, 1), y_batch[:, 1:].reshape(-1, steps, 1) \n",
    "        "
   ]
  },
  {
   "cell_type": "code",
   "execution_count": 3,
   "metadata": {
    "collapsed": true
   },
   "outputs": [],
   "source": [
    "ts_data = TimeSeriesData(250, 0, 10)"
   ]
  },
  {
   "cell_type": "code",
   "execution_count": 4,
   "metadata": {},
   "outputs": [
    {
     "data": {
      "text/plain": [
       "[<matplotlib.lines.Line2D at 0x2c6a3412278>]"
      ]
     },
     "execution_count": 4,
     "metadata": {},
     "output_type": "execute_result"
    },
    {
     "data": {
      "image/png": "[encoded data removed]",
      "text/plain": [
       "<matplotlib.figure.Figure at 0x2c6a136ba20>"
      ]
     },
     "metadata": {},
     "output_type": "display_data"
    }
   ],
   "source": [
    "plt.plot(ts_data.x_data, ts_data.y_true)"
   ]
  },
  {
   "cell_type": "code",
   "execution_count": 5,
   "metadata": {
    "collapsed": true
   },
   "outputs": [],
   "source": [
    "# Num of steps in batch (also used for prediction steps into the future)\n",
    "num_time_steps = 30"
   ]
  },
  {
   "cell_type": "code",
   "execution_count": 6,
   "metadata": {
    "collapsed": true
   },
   "outputs": [],
   "source": [
    "y1, y2, ts = ts_data.next_batch(1, num_time_steps, True)"
   ]
  },
  {
   "cell_type": "code",
   "execution_count": 7,
   "metadata": {},
   "outputs": [
    {
     "data": {
      "text/plain": [
       "array([ 0.88934461,  0.87034861,  0.84996023,  0.8282121 ,  0.805139  ,\n",
       "        0.78077786,  0.75516763,  0.7283493 ,  0.70036577,  0.6712618 ,\n",
       "        0.64108395,  0.60988051,  0.57770138,  0.54459806,  0.5106235 ,\n",
       "        0.47583205,  0.44027937,  0.40402234,  0.36711895,  0.32962826,\n",
       "        0.29161023,  0.25312568,  0.21423619,  0.17500397,  0.13549178,\n",
       "        0.09576283,  0.05588068,  0.01590913, -0.02408787, -0.06404633])"
      ]
     },
     "execution_count": 7,
     "metadata": {},
     "output_type": "execute_result"
    }
   ],
   "source": [
    "y1.flatten()"
   ]
  },
  {
   "cell_type": "code",
   "execution_count": 8,
   "metadata": {},
   "outputs": [
    {
     "data": {
      "text/plain": [
       "[<matplotlib.lines.Line2D at 0x2c6a35036d8>]"
      ]
     },
     "execution_count": 8,
     "metadata": {},
     "output_type": "execute_result"
    },
    {
     "data": {
      "image/png": "[encoded data removed]",
      "text/plain": [
       "<matplotlib.figure.Figure at 0x2c6a3455748>"
      ]
     },
     "metadata": {},
     "output_type": "display_data"
    }
   ],
   "source": [
    "plt.plot(ts.flatten()[1:], y2.flatten(), '*')"
   ]
  },
  {
   "cell_type": "code",
   "execution_count": 9,
   "metadata": {},
   "outputs": [
    {
     "data": {
      "image/png": "[encoded data removed]",
      "text/plain": [
       "<matplotlib.figure.Figure at 0x2c6a34bd6a0>"
      ]
     },
     "metadata": {},
     "output_type": "display_data"
    }
   ],
   "source": [
    "plt.plot(ts_data.x_data,\n",
    "         ts_data.y_true,\n",
    "         label = 'Sin(t)')\n",
    "plt.plot(ts.flatten()[1:],\n",
    "         y2.flatten(),\n",
    "         '*',\n",
    "         label = 'Single Training Instance')\n",
    "plt.legend()\n",
    "plt.tight_layout()"
   ]
  },
  {
   "cell_type": "markdown",
   "metadata": {},
   "source": [
    "### A Training Instance and what to predict\n",
    "\n",
    "We are trying to predict a time series shifted over by t+1"
   ]
  },
  {
   "cell_type": "code",
   "execution_count": 10,
   "metadata": {
    "collapsed": true
   },
   "outputs": [],
   "source": [
    "train_inst = np.linspace(5,5 + ts_data.resolution * (num_time_steps + 1), num_time_steps + 1)"
   ]
  },
  {
   "cell_type": "code",
   "execution_count": 11,
   "metadata": {},
   "outputs": [
    {
     "data": {
      "text/plain": [
       "[<matplotlib.lines.Line2D at 0x2c6a366ac50>]"
      ]
     },
     "execution_count": 11,
     "metadata": {},
     "output_type": "execute_result"
    },
    {
     "data": {
      "image/png": "[encoded data removed]",
      "text/plain": [
       "<matplotlib.figure.Figure at 0x2c6a35e5748>"
      ]
     },
     "metadata": {},
     "output_type": "display_data"
    }
   ],
   "source": [
    "plt.title(\"A training instance\", fontsize=14)\n",
    "plt.plot(train_inst[:-1], ts_data.ret_true(train_inst[:-1]), \n",
    "         \"bo\", \n",
    "         markersize = 15,\n",
    "         alpha = 0.5 ,\n",
    "         label = \"instance\")\n",
    "plt.plot(train_inst[1:], ts_data.ret_true(train_inst[1:]), \n",
    "         \"ko\", \n",
    "         markersize = 7, \n",
    "         label = \"target\")"
   ]
  },
  {
   "cell_type": "markdown",
   "metadata": {},
   "source": [
    "___________"
   ]
  },
  {
   "cell_type": "markdown",
   "metadata": {},
   "source": [
    "# Creating the Model"
   ]
  },
  {
   "cell_type": "code",
   "execution_count": 12,
   "metadata": {
    "collapsed": true
   },
   "outputs": [],
   "source": [
    "tf.reset_default_graph()"
   ]
  },
  {
   "cell_type": "markdown",
   "metadata": {},
   "source": [
    "### Constants"
   ]
  },
  {
   "cell_type": "code",
   "execution_count": 13,
   "metadata": {
    "collapsed": true
   },
   "outputs": [],
   "source": [
    "# Just one feature, the time series\n",
    "num_inputs = 1\n",
    "# 100 neuron layer, play with this\n",
    "num_neurons = 100\n",
    "# Just one output, predicted time series\n",
    "num_outputs = 1\n",
    "# learning rate, 0.0001 default, but you can play with this\n",
    "learning_rate = 0.0001\n",
    "# how many iterations to go through (training steps), you can play with this\n",
    "num_train_iterations = 2000\n",
    "# Size of the batch of data\n",
    "batch_size = 1"
   ]
  },
  {
   "cell_type": "markdown",
   "metadata": {},
   "source": [
    "### Placeholders"
   ]
  },
  {
   "cell_type": "code",
   "execution_count": 14,
   "metadata": {
    "collapsed": true
   },
   "outputs": [],
   "source": [
    "X = tf.placeholder(tf.float32, [None, num_time_steps, num_inputs])\n",
    "y = tf.placeholder(tf.float32, [None, num_time_steps, num_outputs])"
   ]
  },
  {
   "cell_type": "markdown",
   "metadata": {},
   "source": [
    "____\n",
    "____\n",
    "### RNN Cell Layer\n",
    "\n",
    "Play around with the various cells in this section, compare how they perform against each other."
   ]
  },
  {
   "cell_type": "code",
   "execution_count": 15,
   "metadata": {
    "collapsed": true
   },
   "outputs": [
    {
     "name": "stdout",
     "output_type": "stream",
     "text": [
      "WARNING:tensorflow:From c:\\programdata\\anaconda3\\lib\\site-packages\\tensorflow\\contrib\\learn\\python\\learn\\datasets\\base.py:198: retry (from tensorflow.contrib.learn.python.learn.datasets.base) is deprecated and will be removed in a future version.\n",
      "Instructions for updating:\n",
      "Use the retry module or similar alternatives.\n"
     ]
    }
   ],
   "source": [
    "cell = tf.contrib.rnn.OutputProjectionWrapper(\n",
    "    tf.contrib.rnn.BasicRNNCell(num_units = num_neurons, \n",
    "                                activation = tf.nn.relu), \n",
    "    output_size = num_outputs)"
   ]
  },
  {
   "cell_type": "code",
   "execution_count": 16,
   "metadata": {
    "collapsed": true
   },
   "outputs": [],
   "source": [
    "# cell = tf.contrib.rnn.OutputProjectionWrapper(\n",
    "#     tf.contrib.rnn.BasicLSTMCell(num_units=num_neurons, activation=tf.nn.relu),\n",
    "#     output_size=num_outputs)"
   ]
  },
  {
   "cell_type": "code",
   "execution_count": 17,
   "metadata": {
    "collapsed": true
   },
   "outputs": [],
   "source": [
    "# n_neurons = 100\n",
    "# n_layers = 3\n",
    "\n",
    "# cell = tf.contrib.rnn.MultiRNNCell([tf.contrib.rnn.BasicRNNCell(num_units=n_neurons)\n",
    "#           for layer in range(n_layers)])"
   ]
  },
  {
   "cell_type": "code",
   "execution_count": 18,
   "metadata": {
    "collapsed": true
   },
   "outputs": [],
   "source": [
    "# cell = tf.contrib.rnn.BasicLSTMCell(num_units=num_neurons, activation=tf.nn.relu)"
   ]
  },
  {
   "cell_type": "code",
   "execution_count": 19,
   "metadata": {
    "collapsed": true
   },
   "outputs": [],
   "source": [
    "# n_neurons = 100\n",
    "# n_layers = 3\n",
    "\n",
    "# cell = tf.contrib.rnn.MultiRNNCell([tf.contrib.rnn.BasicLSTMCell(num_units=n_neurons)\n",
    "#           for layer in range(n_layers)])"
   ]
  },
  {
   "cell_type": "markdown",
   "metadata": {},
   "source": [
    "_____\n",
    "_____"
   ]
  },
  {
   "cell_type": "markdown",
   "metadata": {},
   "source": [
    "### Dynamic RNN Cell"
   ]
  },
  {
   "cell_type": "code",
   "execution_count": 20,
   "metadata": {
    "collapsed": true
   },
   "outputs": [],
   "source": [
    "outputs, states = tf.nn.dynamic_rnn(cell, X, dtype = tf.float32)"
   ]
  },
  {
   "cell_type": "markdown",
   "metadata": {},
   "source": [
    "### Loss Function and Optimizer"
   ]
  },
  {
   "cell_type": "code",
   "execution_count": 21,
   "metadata": {
    "collapsed": true
   },
   "outputs": [],
   "source": [
    "loss = tf.reduce_mean(tf.square(outputs - y)) # MSE\n",
    "optimizer = tf.train.AdamOptimizer(learning_rate = learning_rate)\n",
    "train = optimizer.minimize(loss)"
   ]
  },
  {
   "cell_type": "markdown",
   "metadata": {},
   "source": [
    "#### Init Variables"
   ]
  },
  {
   "cell_type": "code",
   "execution_count": 22,
   "metadata": {
    "collapsed": true
   },
   "outputs": [],
   "source": [
    "init = tf.global_variables_initializer()"
   ]
  },
  {
   "cell_type": "markdown",
   "metadata": {},
   "source": [
    "## Session"
   ]
  },
  {
   "cell_type": "code",
   "execution_count": 23,
   "metadata": {
    "collapsed": true
   },
   "outputs": [],
   "source": [
    "# ONLY FOR GPU USERS:\n",
    "# https://stackoverflow.com/questions/34199233/how-to-prevent-tensorflow-from-allocating-the-totality-of-a-gpu-memory\n",
    "gpu_options = tf.GPUOptions(per_process_gpu_memory_fraction = 0.75)"
   ]
  },
  {
   "cell_type": "code",
   "execution_count": 24,
   "metadata": {
    "collapsed": true
   },
   "outputs": [],
   "source": [
    "saver = tf.train.Saver()"
   ]
  },
  {
   "cell_type": "code",
   "execution_count": 25,
   "metadata": {},
   "outputs": [
    {
     "name": "stdout",
     "output_type": "stream",
     "text": [
      "0 \tMSE: 0.9294078\n",
      "100 \tMSE: 0.011675861\n",
      "200 \tMSE: 0.07972412\n",
      "300 \tMSE: 0.02137935\n",
      "400 \tMSE: 0.03955767\n",
      "500 \tMSE: 0.0035023512\n",
      "600 \tMSE: 0.008007446\n",
      "700 \tMSE: 0.03522445\n",
      "800 \tMSE: 0.0037258365\n",
      "900 \tMSE: 0.002079687\n",
      "1000 \tMSE: 0.027485473\n",
      "1100 \tMSE: 0.00030455377\n",
      "1200 \tMSE: 0.0061374395\n",
      "1300 \tMSE: 0.0006556301\n",
      "1400 \tMSE: 0.004187736\n",
      "1500 \tMSE: 0.0028320742\n",
      "1600 \tMSE: 0.0011921381\n",
      "1700 \tMSE: 0.015204309\n",
      "1800 \tMSE: 0.0010025915\n",
      "1900 \tMSE: 0.0004160327\n"
     ]
    }
   ],
   "source": [
    "with tf.Session(config=tf.ConfigProto(gpu_options = gpu_options)) as sess:\n",
    "    sess.run(init)\n",
    "    \n",
    "    for iteration in range(num_train_iterations):\n",
    "        X_batch, y_batch = ts_data.next_batch(batch_size, num_time_steps)\n",
    "        sess.run(train, feed_dict = {X: X_batch, \n",
    "                                   y: y_batch})\n",
    "        \n",
    "        if iteration % 100 == 0:\n",
    "            mse = loss.eval(feed_dict = {X: X_batch, y: y_batch})\n",
    "            print(iteration, \"\\tMSE:\", mse)\n",
    "    \n",
    "    # Save Model for Later\n",
    "    saver.save(sess, \"./checkpoints/rnn_time_series_model\")"
   ]
  },
  {
   "cell_type": "markdown",
   "metadata": {},
   "source": [
    "### Predicting a time series t+1"
   ]
  },
  {
   "cell_type": "code",
   "execution_count": 26,
   "metadata": {},
   "outputs": [
    {
     "name": "stdout",
     "output_type": "stream",
     "text": [
      "INFO:tensorflow:Restoring parameters from ./checkpoints/rnn_time_series_model\n"
     ]
    }
   ],
   "source": [
    "with tf.Session() as sess:                          \n",
    "    saver.restore(sess, \"./checkpoints/rnn_time_series_model\")   \n",
    "\n",
    "    X_new = np.sin(np.array(train_inst[:-1].reshape(-1, num_time_steps, num_inputs)))\n",
    "    y_pred = sess.run(outputs, feed_dict = {X: X_new})"
   ]
  },
  {
   "cell_type": "code",
   "execution_count": 27,
   "metadata": {
    "scrolled": true
   },
   "outputs": [
    {
     "data": {
      "image/png": "[encoded data removed]",
      "text/plain": [
       "<matplotlib.figure.Figure at 0x2c6a6262fd0>"
      ]
     },
     "metadata": {},
     "output_type": "display_data"
    }
   ],
   "source": [
    "plt.title(\"Testing Model\")\n",
    "\n",
    "# Training Instance\n",
    "plt.plot(train_inst[:-1], np.sin(train_inst[:-1]), \n",
    "         \"bo\", \n",
    "         markersize = 15,\n",
    "         alpha = 0.5, \n",
    "         label = \"Training Instance\")\n",
    "\n",
    "# Target to Predict\n",
    "plt.plot(train_inst[1:], np.sin(train_inst[1:]), \n",
    "         \"ko\", \n",
    "         markersize = 10, \n",
    "         label = \"target\")\n",
    "\n",
    "# Models Prediction\n",
    "plt.plot(train_inst[1:], y_pred[0,:,0], \n",
    "         \"r.\", \n",
    "         markersize = 10, \n",
    "         label = \"prediction\")\n",
    "\n",
    "plt.xlabel(\"Time\")\n",
    "plt.legend()\n",
    "plt.tight_layout()"
   ]
  },
  {
   "cell_type": "markdown",
   "metadata": {},
   "source": [
    "# Generating New Sequences\n",
    "** Note: Can give wacky results sometimes, like exponential growth**"
   ]
  },
  {
   "cell_type": "code",
   "execution_count": 28,
   "metadata": {},
   "outputs": [
    {
     "name": "stdout",
     "output_type": "stream",
     "text": [
      "INFO:tensorflow:Restoring parameters from ./checkpoints/rnn_time_series_model\n"
     ]
    }
   ],
   "source": [
    "with tf.Session() as sess:\n",
    "    saver.restore(sess, \"./checkpoints/rnn_time_series_model\")\n",
    "\n",
    "    # SEED WITH ZEROS\n",
    "    zero_seq_seed = [0. for i in range(num_time_steps)]\n",
    "    for iteration in range(len(ts_data.x_data) - num_time_steps):\n",
    "        X_batch = np.array(zero_seq_seed[-num_time_steps:]).reshape(1, num_time_steps, 1)\n",
    "        y_pred = sess.run(outputs, feed_dict={X: X_batch})\n",
    "        zero_seq_seed.append(y_pred[0, -1, 0])"
   ]
  },
  {
   "cell_type": "code",
   "execution_count": 29,
   "metadata": {},
   "outputs": [
    {
     "data": {
      "text/plain": [
       "<matplotlib.text.Text at 0x2c68e046588>"
      ]
     },
     "execution_count": 29,
     "metadata": {},
     "output_type": "execute_result"
    },
    {
     "data": {
      "image/png": "[encoded data removed]",
      "text/plain": [
       "<matplotlib.figure.Figure at 0x2c68dfd4f28>"
      ]
     },
     "metadata": {},
     "output_type": "display_data"
    }
   ],
   "source": [
    "plt.plot(ts_data.x_data, zero_seq_seed, \n",
    "         \"b-\")\n",
    "plt.plot(ts_data.x_data[:num_time_steps], \n",
    "         zero_seq_seed[:num_time_steps], \n",
    "         \"r\", \n",
    "         linewidth = 3)\n",
    "plt.xlabel(\"Time\")\n",
    "plt.ylabel(\"Value\")"
   ]
  },
  {
   "cell_type": "code",
   "execution_count": 30,
   "metadata": {},
   "outputs": [
    {
     "name": "stdout",
     "output_type": "stream",
     "text": [
      "INFO:tensorflow:Restoring parameters from ./checkpoints/rnn_time_series_model\n"
     ]
    }
   ],
   "source": [
    "with tf.Session() as sess:\n",
    "    saver.restore(sess, \"./checkpoints/rnn_time_series_model\")\n",
    "\n",
    "    # SEED WITH Training Instance\n",
    "    training_instance = list(ts_data.y_true[:30])\n",
    "    for iteration in range(len(training_instance) - num_time_steps):\n",
    "        X_batch = np.array(training_instance[-num_time_steps:]).reshape(1, num_time_steps, 1)\n",
    "        y_pred = sess.run(outputs, feed_dict={X: X_batch})\n",
    "        training_instance.append(y_pred[0, -1, 0])"
   ]
  },
  {
   "cell_type": "code",
   "execution_count": 31,
   "metadata": {},
   "outputs": [
    {
     "data": {
      "text/plain": [
       "<matplotlib.text.Text at 0x2c68dfb5cc0>"
      ]
     },
     "execution_count": 31,
     "metadata": {},
     "output_type": "execute_result"
    },
    {
     "data": {
      "image/png": "[encoded data removed]",
      "text/plain": [
       "<matplotlib.figure.Figure at 0x2c68e0dbd30>"
      ]
     },
     "metadata": {},
     "output_type": "display_data"
    }
   ],
   "source": [
    "plt.plot(ts_data.x_data, ts_data.y_true, \"b-\")\n",
    "plt.plot(ts_data.x_data[:num_time_steps],\n",
    "         training_instance[:num_time_steps], \n",
    "         \"r-\", \n",
    "         linewidth = 3)\n",
    "plt.xlabel(\"Time\")"
   ]
  },
  {
   "cell_type": "markdown",
   "metadata": {},
   "source": [
    "# Great Job!"
   ]
  }
 ],
 "metadata": {
  "kernelspec": {
   "display_name": "Python 3",
   "language": "python",
   "name": "python3"
  },
  "language_info": {
   "codemirror_mode": {
    "name": "ipython",
    "version": 3
   },
   "file_extension": ".py",
   "mimetype": "text/x-python",
   "name": "python",
   "nbconvert_exporter": "python",
   "pygments_lexer": "ipython3",
   "version": "3.6.1"
  }
 },
 "nbformat": 4,
 "nbformat_minor": 2
}
