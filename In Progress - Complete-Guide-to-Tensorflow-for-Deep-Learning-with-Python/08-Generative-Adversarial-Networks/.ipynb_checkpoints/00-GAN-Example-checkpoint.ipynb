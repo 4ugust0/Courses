{
 "cells": [
  {
   "cell_type": "markdown",
   "metadata": {},
   "source": [
    "# GAN"
   ]
  },
  {
   "cell_type": "code",
   "execution_count": 1,
   "metadata": {
    "collapsed": true
   },
   "outputs": [],
   "source": [
    "import tensorflow as tf\n",
    "import numpy as np\n",
    "import matplotlib.pyplot as plt\n",
    "%matplotlib inline"
   ]
  },
  {
   "cell_type": "markdown",
   "metadata": {},
   "source": [
    "## The Data"
   ]
  },
  {
   "cell_type": "code",
   "execution_count": 2,
   "metadata": {},
   "outputs": [
    {
     "name": "stdout",
     "output_type": "stream",
     "text": [
      "WARNING:tensorflow:From c:\\programdata\\anaconda3\\lib\\site-packages\\tensorflow\\contrib\\learn\\python\\learn\\datasets\\base.py:198: retry (from tensorflow.contrib.learn.python.learn.datasets.base) is deprecated and will be removed in a future version.\n",
      "Instructions for updating:\n",
      "Use the retry module or similar alternatives.\n",
      "WARNING:tensorflow:From <ipython-input-2-17604133e3eb>:3: read_data_sets (from tensorflow.contrib.learn.python.learn.datasets.mnist) is deprecated and will be removed in a future version.\n",
      "Instructions for updating:\n",
      "Please use alternatives such as official/mnist/dataset.py from tensorflow/models.\n",
      "WARNING:tensorflow:From c:\\programdata\\anaconda3\\lib\\site-packages\\tensorflow\\contrib\\learn\\python\\learn\\datasets\\mnist.py:260: maybe_download (from tensorflow.contrib.learn.python.learn.datasets.base) is deprecated and will be removed in a future version.\n",
      "Instructions for updating:\n",
      "Please write your own downloading logic.\n",
      "WARNING:tensorflow:From c:\\programdata\\anaconda3\\lib\\site-packages\\tensorflow\\contrib\\learn\\python\\learn\\datasets\\mnist.py:262: extract_images (from tensorflow.contrib.learn.python.learn.datasets.mnist) is deprecated and will be removed in a future version.\n",
      "Instructions for updating:\n",
      "Please use tf.data to implement this functionality.\n",
      "Extracting ./data/MNIST_data/train-images-idx3-ubyte.gz\n",
      "WARNING:tensorflow:From c:\\programdata\\anaconda3\\lib\\site-packages\\tensorflow\\contrib\\learn\\python\\learn\\datasets\\mnist.py:267: extract_labels (from tensorflow.contrib.learn.python.learn.datasets.mnist) is deprecated and will be removed in a future version.\n",
      "Instructions for updating:\n",
      "Please use tf.data to implement this functionality.\n",
      "Extracting ./data/MNIST_data/train-labels-idx1-ubyte.gz\n",
      "WARNING:tensorflow:From c:\\programdata\\anaconda3\\lib\\site-packages\\tensorflow\\contrib\\learn\\python\\learn\\datasets\\mnist.py:110: dense_to_one_hot (from tensorflow.contrib.learn.python.learn.datasets.mnist) is deprecated and will be removed in a future version.\n",
      "Instructions for updating:\n",
      "Please use tf.one_hot on tensors.\n",
      "Extracting ./data/MNIST_data/t10k-images-idx3-ubyte.gz\n",
      "Extracting ./data/MNIST_data/t10k-labels-idx1-ubyte.gz\n",
      "WARNING:tensorflow:From c:\\programdata\\anaconda3\\lib\\site-packages\\tensorflow\\contrib\\learn\\python\\learn\\datasets\\mnist.py:290: DataSet.__init__ (from tensorflow.contrib.learn.python.learn.datasets.mnist) is deprecated and will be removed in a future version.\n",
      "Instructions for updating:\n",
      "Please use alternatives such as official/mnist/dataset.py from tensorflow/models.\n"
     ]
    }
   ],
   "source": [
    "from tensorflow.examples.tutorials.mnist import input_data\n",
    "# Loading Mnist with one-hot encoded labels\n",
    "mnist = input_data.read_data_sets(\"./data/MNIST_data/\", one_hot = True)"
   ]
  },
  {
   "cell_type": "code",
   "execution_count": 3,
   "metadata": {},
   "outputs": [
    {
     "data": {
      "text/plain": [
       "<matplotlib.image.AxesImage at 0x23551f1ffd0>"
      ]
     },
     "execution_count": 3,
     "metadata": {},
     "output_type": "execute_result"
    },
    {
     "data": {
      "image/png": "[encoded data removed]",
      "text/plain": [
       "<matplotlib.figure.Figure at 0x2354fe46160>"
      ]
     },
     "metadata": {},
     "output_type": "display_data"
    }
   ],
   "source": [
    "# Plotting the image\n",
    "plt.imshow(mnist.train.images[5].reshape(28,28),\n",
    "           cmap = 'Greys')"
   ]
  },
  {
   "cell_type": "markdown",
   "metadata": {},
   "source": [
    "# The Networks\n",
    "\n",
    "Useful Links:\n",
    "\n",
    "https://stackoverflow.com/questions/45307072/using-leaky-relu-in-tensorflow"
   ]
  },
  {
   "cell_type": "markdown",
   "metadata": {},
   "source": [
    "### Activation Function"
   ]
  },
  {
   "cell_type": "markdown",
   "metadata": {},
   "source": [
    "## The Generator"
   ]
  },
  {
   "cell_type": "code",
   "execution_count": 4,
   "metadata": {
    "collapsed": true
   },
   "outputs": [],
   "source": [
    "# Creating a generator network\n",
    "# The input is a distribution (here it is 100 points)\n",
    "def generator(z, reuse = None):\n",
    "    with tf.variable_scope('gen', reuse = reuse):\n",
    "        hidden1 = tf.layers.dense(inputs = z,\n",
    "                                  units = 128)\n",
    "        # Simulating Leaky Relu\n",
    "        # It will be added in Tensorflow\n",
    "        alpha = 0.01\n",
    "        hidden1 = tf.maximum(alpha * hidden1, hidden1)\n",
    "        hidden2 = tf.layers.dense(inputs = hidden1,\n",
    "                                  units = 128)\n",
    "        \n",
    "        hidden2 = tf.maximum(alpha * hidden2, hidden2)\n",
    "        output = tf.layers.dense(hidden2,\n",
    "                                 units = 784, \n",
    "                                 activation = tf.nn.tanh)\n",
    "        return output\n",
    "    "
   ]
  },
  {
   "cell_type": "markdown",
   "metadata": {},
   "source": [
    "## The Discriminator"
   ]
  },
  {
   "cell_type": "code",
   "execution_count": 5,
   "metadata": {
    "collapsed": true
   },
   "outputs": [],
   "source": [
    "# Creating a discriminator network\n",
    "def discriminator(X, reuse = None):\n",
    "    with tf.variable_scope('dis', reuse = reuse):\n",
    "        hidden1 = tf.layers.dense(inputs = X,\n",
    "                                  units = 128)\n",
    "        # Leaky Relu\n",
    "        alpha = 0.01\n",
    "        hidden1 = tf.maximum(alpha * hidden1,hidden1)\n",
    "        \n",
    "        hidden2 = tf.layers.dense(inputs = hidden1,\n",
    "                                  units = 128)\n",
    "        hidden2 = tf.maximum(alpha * hidden2, hidden2)\n",
    "        \n",
    "        logits = tf.layers.dense(hidden2,\n",
    "                                 units = 1)\n",
    "        output = tf.sigmoid(logits)\n",
    "    \n",
    "        return output, logits"
   ]
  },
  {
   "cell_type": "markdown",
   "metadata": {},
   "source": [
    "### Placeholders"
   ]
  },
  {
   "cell_type": "code",
   "execution_count": 6,
   "metadata": {
    "collapsed": true
   },
   "outputs": [],
   "source": [
    "real_images = tf.placeholder(tf.float32,\n",
    "                             shape = [None, 784])\n",
    "z = tf.placeholder(tf.float32,\n",
    "                   shape = [None, 100])"
   ]
  },
  {
   "cell_type": "markdown",
   "metadata": {},
   "source": [
    "### Generator"
   ]
  },
  {
   "cell_type": "code",
   "execution_count": 7,
   "metadata": {
    "collapsed": true
   },
   "outputs": [],
   "source": [
    "G = generator(z)"
   ]
  },
  {
   "cell_type": "markdown",
   "metadata": {},
   "source": [
    "### Discriminator "
   ]
  },
  {
   "cell_type": "code",
   "execution_count": 8,
   "metadata": {
    "collapsed": true
   },
   "outputs": [],
   "source": [
    "D_output_real, D_logits_real = discriminator(real_images)"
   ]
  },
  {
   "cell_type": "code",
   "execution_count": 9,
   "metadata": {
    "collapsed": true
   },
   "outputs": [],
   "source": [
    "D_output_fake, D_logits_fake = discriminator(G, reuse = True)"
   ]
  },
  {
   "cell_type": "markdown",
   "metadata": {},
   "source": [
    "### Losses"
   ]
  },
  {
   "cell_type": "code",
   "execution_count": 10,
   "metadata": {
    "collapsed": true
   },
   "outputs": [],
   "source": [
    "def loss_func(logits_in, labels_in):\n",
    "    return tf.reduce_mean(tf.nn.sigmoid_cross_entropy_with_logits(logits = logits_in, \n",
    "                                                                  labels = labels_in))"
   ]
  },
  {
   "cell_type": "code",
   "execution_count": 11,
   "metadata": {
    "collapsed": true
   },
   "outputs": [],
   "source": [
    "# Encoding real values as ones with 0.9 smoothing\n",
    "D_real_loss = loss_func(D_logits_real, tf.ones_like(D_logits_real) * (0.9))"
   ]
  },
  {
   "cell_type": "code",
   "execution_count": 12,
   "metadata": {
    "collapsed": true
   },
   "outputs": [],
   "source": [
    "# Encoding values as zeros\n",
    "D_fake_loss = loss_func(D_logits_fake, tf.zeros_like(D_logits_real))"
   ]
  },
  {
   "cell_type": "code",
   "execution_count": 13,
   "metadata": {
    "collapsed": true
   },
   "outputs": [],
   "source": [
    "# Discriminator loss\n",
    "D_loss = D_real_loss + D_fake_loss"
   ]
  },
  {
   "cell_type": "code",
   "execution_count": 14,
   "metadata": {
    "collapsed": true
   },
   "outputs": [],
   "source": [
    "# Generator loss -> how successful the generator is at fooling the discriminator \n",
    "G_loss = loss_func(D_logits_fake, tf.ones_like(D_logits_fake))"
   ]
  },
  {
   "cell_type": "markdown",
   "metadata": {},
   "source": [
    "### Optimizers"
   ]
  },
  {
   "cell_type": "code",
   "execution_count": 15,
   "metadata": {
    "collapsed": true
   },
   "outputs": [],
   "source": [
    "learning_rate = 0.001"
   ]
  },
  {
   "cell_type": "code",
   "execution_count": 16,
   "metadata": {},
   "outputs": [
    {
     "name": "stdout",
     "output_type": "stream",
     "text": [
      "['dis/dense/kernel:0', 'dis/dense/bias:0', 'dis/dense_1/kernel:0', 'dis/dense_1/bias:0', 'dis/dense_2/kernel:0', 'dis/dense_2/bias:0']\n",
      "['gen/dense/kernel:0', 'gen/dense/bias:0', 'gen/dense_1/kernel:0', 'gen/dense_1/bias:0', 'gen/dense_2/kernel:0', 'gen/dense_2/bias:0']\n"
     ]
    }
   ],
   "source": [
    "# All trainable variables\n",
    "tvars = tf.trainable_variables()\n",
    "\n",
    "# Gather all variables for the discriminator\n",
    "d_vars = [var for var in tvars if 'dis' in var.name]\n",
    "# Gather all variables for the generator\n",
    "g_vars = [var for var in tvars if 'gen' in var.name]\n",
    "\n",
    "print([v.name for v in d_vars])\n",
    "print([v.name for v in g_vars])"
   ]
  },
  {
   "cell_type": "code",
   "execution_count": 17,
   "metadata": {
    "collapsed": true
   },
   "outputs": [],
   "source": [
    "D_trainer = tf.train.AdamOptimizer(learning_rate).minimize(D_loss, var_list = d_vars)\n",
    "G_trainer = tf.train.AdamOptimizer(learning_rate).minimize(G_loss, var_list = g_vars)"
   ]
  },
  {
   "cell_type": "markdown",
   "metadata": {},
   "source": [
    "## Training Session"
   ]
  },
  {
   "cell_type": "code",
   "execution_count": 18,
   "metadata": {
    "collapsed": true
   },
   "outputs": [],
   "source": [
    "batch_size = 100\n",
    "epochs = 200\n",
    "init = tf.global_variables_initializer()\n",
    "saver = tf.train.Saver(var_list = g_vars)"
   ]
  },
  {
   "cell_type": "code",
   "execution_count": 19,
   "metadata": {
    "collapsed": true
   },
   "outputs": [],
   "source": [
    "# Save a sample per epoch\n",
    "samples = []"
   ]
  },
  {
   "cell_type": "code",
   "execution_count": 20,
   "metadata": {},
   "outputs": [
    {
     "name": "stdout",
     "output_type": "stream",
     "text": [
      "Currently on Epoch 1 of 200 total...\n",
      "Currently on Epoch 2 of 200 total...\n",
      "Currently on Epoch 3 of 200 total...\n",
      "Currently on Epoch 4 of 200 total...\n",
      "Currently on Epoch 5 of 200 total...\n",
      "Currently on Epoch 6 of 200 total...\n",
      "Currently on Epoch 7 of 200 total...\n",
      "Currently on Epoch 8 of 200 total...\n",
      "Currently on Epoch 9 of 200 total...\n",
      "Currently on Epoch 10 of 200 total...\n",
      "Currently on Epoch 11 of 200 total...\n",
      "Currently on Epoch 12 of 200 total...\n",
      "Currently on Epoch 13 of 200 total...\n",
      "Currently on Epoch 14 of 200 total...\n",
      "Currently on Epoch 15 of 200 total...\n",
      "Currently on Epoch 16 of 200 total...\n",
      "Currently on Epoch 17 of 200 total...\n",
      "Currently on Epoch 18 of 200 total...\n",
      "Currently on Epoch 19 of 200 total...\n",
      "Currently on Epoch 20 of 200 total...\n",
      "Currently on Epoch 21 of 200 total...\n",
      "Currently on Epoch 22 of 200 total...\n",
      "Currently on Epoch 23 of 200 total...\n",
      "Currently on Epoch 24 of 200 total...\n",
      "Currently on Epoch 25 of 200 total...\n",
      "Currently on Epoch 26 of 200 total...\n",
      "Currently on Epoch 27 of 200 total...\n",
      "Currently on Epoch 28 of 200 total...\n",
      "Currently on Epoch 29 of 200 total...\n",
      "Currently on Epoch 30 of 200 total...\n",
      "Currently on Epoch 31 of 200 total...\n",
      "Currently on Epoch 32 of 200 total...\n",
      "Currently on Epoch 33 of 200 total...\n",
      "Currently on Epoch 34 of 200 total...\n",
      "Currently on Epoch 35 of 200 total...\n",
      "Currently on Epoch 36 of 200 total...\n",
      "Currently on Epoch 37 of 200 total...\n",
      "Currently on Epoch 38 of 200 total...\n",
      "Currently on Epoch 39 of 200 total...\n",
      "Currently on Epoch 40 of 200 total...\n",
      "Currently on Epoch 41 of 200 total...\n",
      "Currently on Epoch 42 of 200 total...\n",
      "Currently on Epoch 43 of 200 total...\n",
      "Currently on Epoch 44 of 200 total...\n",
      "Currently on Epoch 45 of 200 total...\n",
      "Currently on Epoch 46 of 200 total...\n",
      "Currently on Epoch 47 of 200 total...\n",
      "Currently on Epoch 48 of 200 total...\n",
      "Currently on Epoch 49 of 200 total...\n",
      "Currently on Epoch 50 of 200 total...\n",
      "Currently on Epoch 51 of 200 total...\n",
      "Currently on Epoch 52 of 200 total...\n",
      "Currently on Epoch 53 of 200 total...\n",
      "Currently on Epoch 54 of 200 total...\n",
      "Currently on Epoch 55 of 200 total...\n",
      "Currently on Epoch 56 of 200 total...\n",
      "Currently on Epoch 57 of 200 total...\n",
      "Currently on Epoch 58 of 200 total...\n",
      "Currently on Epoch 59 of 200 total...\n",
      "Currently on Epoch 60 of 200 total...\n",
      "Currently on Epoch 61 of 200 total...\n",
      "Currently on Epoch 62 of 200 total...\n",
      "Currently on Epoch 63 of 200 total...\n",
      "Currently on Epoch 64 of 200 total...\n",
      "Currently on Epoch 65 of 200 total...\n",
      "Currently on Epoch 66 of 200 total...\n",
      "Currently on Epoch 67 of 200 total...\n",
      "Currently on Epoch 68 of 200 total...\n",
      "Currently on Epoch 69 of 200 total...\n",
      "Currently on Epoch 70 of 200 total...\n",
      "Currently on Epoch 71 of 200 total...\n",
      "Currently on Epoch 72 of 200 total...\n",
      "Currently on Epoch 73 of 200 total...\n",
      "Currently on Epoch 74 of 200 total...\n",
      "Currently on Epoch 75 of 200 total...\n",
      "Currently on Epoch 76 of 200 total...\n",
      "Currently on Epoch 77 of 200 total...\n",
      "Currently on Epoch 78 of 200 total...\n",
      "Currently on Epoch 79 of 200 total...\n",
      "Currently on Epoch 80 of 200 total...\n",
      "Currently on Epoch 81 of 200 total...\n",
      "Currently on Epoch 82 of 200 total...\n",
      "Currently on Epoch 83 of 200 total...\n",
      "Currently on Epoch 84 of 200 total...\n",
      "Currently on Epoch 85 of 200 total...\n",
      "Currently on Epoch 86 of 200 total...\n",
      "Currently on Epoch 87 of 200 total...\n",
      "Currently on Epoch 88 of 200 total...\n",
      "Currently on Epoch 89 of 200 total...\n",
      "Currently on Epoch 90 of 200 total...\n",
      "Currently on Epoch 91 of 200 total...\n",
      "Currently on Epoch 92 of 200 total...\n",
      "Currently on Epoch 93 of 200 total...\n",
      "Currently on Epoch 94 of 200 total...\n",
      "Currently on Epoch 95 of 200 total...\n",
      "Currently on Epoch 96 of 200 total...\n",
      "Currently on Epoch 97 of 200 total...\n",
      "Currently on Epoch 98 of 200 total...\n",
      "Currently on Epoch 99 of 200 total...\n",
      "Currently on Epoch 100 of 200 total...\n",
      "Currently on Epoch 101 of 200 total...\n",
      "Currently on Epoch 102 of 200 total...\n",
      "Currently on Epoch 103 of 200 total...\n",
      "Currently on Epoch 104 of 200 total...\n",
      "Currently on Epoch 105 of 200 total...\n",
      "Currently on Epoch 106 of 200 total...\n",
      "Currently on Epoch 107 of 200 total...\n",
      "Currently on Epoch 108 of 200 total...\n",
      "Currently on Epoch 109 of 200 total...\n",
      "Currently on Epoch 110 of 200 total...\n",
      "Currently on Epoch 111 of 200 total...\n",
      "Currently on Epoch 112 of 200 total...\n",
      "Currently on Epoch 113 of 200 total...\n",
      "Currently on Epoch 114 of 200 total...\n",
      "Currently on Epoch 115 of 200 total...\n",
      "Currently on Epoch 116 of 200 total...\n",
      "Currently on Epoch 117 of 200 total...\n",
      "Currently on Epoch 118 of 200 total...\n",
      "Currently on Epoch 119 of 200 total...\n",
      "Currently on Epoch 120 of 200 total...\n",
      "Currently on Epoch 121 of 200 total...\n",
      "Currently on Epoch 122 of 200 total...\n",
      "Currently on Epoch 123 of 200 total...\n",
      "Currently on Epoch 124 of 200 total...\n",
      "Currently on Epoch 125 of 200 total...\n",
      "Currently on Epoch 126 of 200 total...\n",
      "Currently on Epoch 127 of 200 total...\n",
      "Currently on Epoch 128 of 200 total...\n",
      "Currently on Epoch 129 of 200 total...\n",
      "Currently on Epoch 130 of 200 total...\n",
      "Currently on Epoch 131 of 200 total...\n",
      "Currently on Epoch 132 of 200 total...\n",
      "Currently on Epoch 133 of 200 total...\n",
      "Currently on Epoch 134 of 200 total...\n",
      "Currently on Epoch 135 of 200 total...\n",
      "Currently on Epoch 136 of 200 total...\n",
      "Currently on Epoch 137 of 200 total...\n",
      "Currently on Epoch 138 of 200 total...\n",
      "Currently on Epoch 139 of 200 total...\n",
      "Currently on Epoch 140 of 200 total...\n",
      "Currently on Epoch 141 of 200 total...\n",
      "Currently on Epoch 142 of 200 total...\n",
      "Currently on Epoch 143 of 200 total...\n",
      "Currently on Epoch 144 of 200 total...\n",
      "Currently on Epoch 145 of 200 total...\n",
      "Currently on Epoch 146 of 200 total...\n",
      "Currently on Epoch 147 of 200 total...\n",
      "Currently on Epoch 148 of 200 total...\n",
      "Currently on Epoch 149 of 200 total...\n",
      "Currently on Epoch 150 of 200 total...\n",
      "Currently on Epoch 151 of 200 total...\n",
      "Currently on Epoch 152 of 200 total...\n",
      "Currently on Epoch 153 of 200 total...\n",
      "Currently on Epoch 154 of 200 total...\n",
      "Currently on Epoch 155 of 200 total...\n",
      "Currently on Epoch 156 of 200 total...\n",
      "Currently on Epoch 157 of 200 total...\n",
      "Currently on Epoch 158 of 200 total...\n",
      "Currently on Epoch 159 of 200 total...\n",
      "Currently on Epoch 160 of 200 total...\n",
      "Currently on Epoch 161 of 200 total...\n",
      "Currently on Epoch 162 of 200 total...\n",
      "Currently on Epoch 163 of 200 total...\n",
      "Currently on Epoch 164 of 200 total...\n",
      "Currently on Epoch 165 of 200 total...\n",
      "Currently on Epoch 166 of 200 total...\n",
      "Currently on Epoch 167 of 200 total...\n",
      "Currently on Epoch 168 of 200 total...\n",
      "Currently on Epoch 169 of 200 total...\n",
      "Currently on Epoch 170 of 200 total...\n",
      "Currently on Epoch 171 of 200 total...\n",
      "Currently on Epoch 172 of 200 total...\n",
      "Currently on Epoch 173 of 200 total...\n",
      "Currently on Epoch 174 of 200 total...\n",
      "Currently on Epoch 175 of 200 total...\n",
      "Currently on Epoch 176 of 200 total...\n",
      "Currently on Epoch 177 of 200 total...\n",
      "Currently on Epoch 178 of 200 total...\n",
      "Currently on Epoch 179 of 200 total...\n",
      "Currently on Epoch 180 of 200 total...\n",
      "Currently on Epoch 181 of 200 total...\n",
      "Currently on Epoch 182 of 200 total...\n",
      "Currently on Epoch 183 of 200 total...\n",
      "Currently on Epoch 184 of 200 total...\n",
      "Currently on Epoch 185 of 200 total...\n",
      "Currently on Epoch 186 of 200 total...\n",
      "Currently on Epoch 187 of 200 total...\n",
      "Currently on Epoch 188 of 200 total...\n",
      "Currently on Epoch 189 of 200 total...\n",
      "Currently on Epoch 190 of 200 total...\n",
      "Currently on Epoch 191 of 200 total...\n",
      "Currently on Epoch 192 of 200 total...\n",
      "Currently on Epoch 193 of 200 total...\n",
      "Currently on Epoch 194 of 200 total...\n",
      "Currently on Epoch 195 of 200 total...\n",
      "Currently on Epoch 196 of 200 total...\n",
      "Currently on Epoch 197 of 200 total...\n",
      "Currently on Epoch 198 of 200 total...\n",
      "Currently on Epoch 199 of 200 total...\n",
      "Currently on Epoch 200 of 200 total...\n"
     ]
    }
   ],
   "source": [
    "with tf.Session() as sess:\n",
    "    \n",
    "    sess.run(init)\n",
    "    \n",
    "    # Recall an epoch is an entire run through the training data\n",
    "    for e in range(epochs):\n",
    "        # // indicates classic division\n",
    "        num_batches = mnist.train.num_examples // batch_size\n",
    "        \n",
    "        for i in range(num_batches):\n",
    "            \n",
    "            # Grab batch of images\n",
    "            batch = mnist.train.next_batch(batch_size)\n",
    "            \n",
    "            # Get images, reshape and rescale to pass to D\n",
    "            batch_images = batch[0].reshape((batch_size, 784))\n",
    "            batch_images = batch_images * 2 - 1\n",
    "            \n",
    "            # Z (random latent noise data for Generator)\n",
    "            # -1 to 1 because of tanh activation\n",
    "            batch_z = np.random.uniform(-1, 1, size = (batch_size, 100))\n",
    "            \n",
    "            # Run optimizers\n",
    "            \n",
    "            # Train the discriminator on the real images \n",
    "            # and the fake images generated by the generator with random latent noise z.\n",
    "            _ = sess.run(D_trainer, feed_dict = {real_images: batch_images, \n",
    "                                               z: batch_z})\n",
    "            # Train the generator\n",
    "            _ = sess.run(G_trainer, feed_dict = {z: batch_z})\n",
    "        \n",
    "            \n",
    "        print(\"Currently on Epoch {} of {} total...\".format(e + 1, epochs))\n",
    "        \n",
    "        # Sample from generator as we're training for viewing afterwards\n",
    "        sample_z = np.random.uniform(-1, 1, size = (1, 100))\n",
    "        gen_sample = sess.run(generator(z, \n",
    "                                        reuse = True),\n",
    "                              feed_dict={z: sample_z})\n",
    "        \n",
    "        samples.append(gen_sample)\n",
    "        \n",
    "    saver.save(sess, './models/500_epoch_model.ckpt')"
   ]
  },
  {
   "cell_type": "code",
   "execution_count": 21,
   "metadata": {
    "collapsed": true
   },
   "outputs": [
    {
     "name": "stdout",
     "output_type": "stream",
     "text": [
      "INFO:tensorflow:Restoring parameters from ./models/500_epoch_model.ckpt\n"
     ]
    }
   ],
   "source": [
    "saver = tf.train.Saver(var_list = g_vars)\n",
    "\n",
    "new_samples = []\n",
    "with tf.Session() as sess:\n",
    "    \n",
    "    saver.restore(sess,'./models/500_epoch_model.ckpt')\n",
    "    \n",
    "    for x in range(5):\n",
    "        sample_z = np.random.uniform(-1, 1, \n",
    "                                     size = (1, 100))\n",
    "        gen_sample = sess.run(generator(z,\n",
    "                                        reuse = True),\n",
    "                              feed_dict = {z: sample_z})\n",
    "        \n",
    "        new_samples.append(gen_sample)"
   ]
  },
  {
   "cell_type": "code",
   "execution_count": 22,
   "metadata": {},
   "outputs": [
    {
     "data": {
      "text/plain": [
       "<matplotlib.image.AxesImage at 0x236048567f0>"
      ]
     },
     "execution_count": 22,
     "metadata": {},
     "output_type": "execute_result"
    },
    {
     "data": {
      "image/png": "[encoded data removed]",
      "text/plain": [
       "<matplotlib.figure.Figure at 0x23552763da0>"
      ]
     },
     "metadata": {},
     "output_type": "display_data"
    }
   ],
   "source": [
    "plt.imshow(new_samples[-1].reshape(28, 28),\n",
    "           cmap = 'Greys')"
   ]
  }
 ],
 "metadata": {
  "kernelspec": {
   "display_name": "Python 3",
   "language": "python",
   "name": "python3"
  },
  "language_info": {
   "codemirror_mode": {
    "name": "ipython",
    "version": 3
   },
   "file_extension": ".py",
   "mimetype": "text/x-python",
   "name": "python",
   "nbconvert_exporter": "python",
   "pygments_lexer": "ipython3",
   "version": "3.6.1"
  }
 },
 "nbformat": 4,
 "nbformat_minor": 2
}
