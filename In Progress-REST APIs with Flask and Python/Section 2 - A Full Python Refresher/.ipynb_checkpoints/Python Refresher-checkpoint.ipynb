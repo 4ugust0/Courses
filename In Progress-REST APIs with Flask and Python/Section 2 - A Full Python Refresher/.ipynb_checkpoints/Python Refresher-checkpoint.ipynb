{
 "cells": [
  {
   "cell_type": "markdown",
   "metadata": {},
   "source": [
    "# Python Refresher"
   ]
  },
  {
   "cell_type": "markdown",
   "metadata": {},
   "source": [
    "## Variables"
   ]
  },
  {
   "cell_type": "code",
   "execution_count": 1,
   "metadata": {},
   "outputs": [],
   "source": [
    "# Numbers\n",
    "a = 5\n",
    "b = 10\n",
    "my_variable = 56\n",
    "my_10_variable = 10"
   ]
  },
  {
   "cell_type": "code",
   "execution_count": 2,
   "metadata": {},
   "outputs": [],
   "source": [
    "# 10variable will not work"
   ]
  },
  {
   "cell_type": "code",
   "execution_count": 3,
   "metadata": {},
   "outputs": [],
   "source": [
    "# Strings\n",
    "string_variable = \"hello\"\n",
    "single_quote_variable = 'strings can have single quotes'"
   ]
  },
  {
   "cell_type": "code",
   "execution_count": 4,
   "metadata": {},
   "outputs": [
    {
     "name": "stdout",
     "output_type": "stream",
     "text": [
      "56\n",
      "hello\n"
     ]
    }
   ],
   "source": [
    "# Printing variables\n",
    "print(my_variable)\n",
    "print(string_variable)"
   ]
  },
  {
   "cell_type": "markdown",
   "metadata": {},
   "source": [
    "### Exercise:"
   ]
  },
  {
   "cell_type": "code",
   "execution_count": 5,
   "metadata": {},
   "outputs": [],
   "source": [
    "# Create two variables, var1 and var2, both with the same value.\n",
    "var1 = 'hello'\n",
    "var2 = var1\n",
    "# Create two variables, num1 and num2, which multiply together to give 16.\n",
    "num1 = 8\n",
    "num2 = 2"
   ]
  },
  {
   "cell_type": "markdown",
   "metadata": {},
   "source": [
    "## Methods"
   ]
  },
  {
   "cell_type": "code",
   "execution_count": 6,
   "metadata": {},
   "outputs": [],
   "source": [
    "# Replicate print method\n",
    "def my_print_method():\n",
    "    print('Hello')\n",
    "    print('World')"
   ]
  },
  {
   "cell_type": "code",
   "execution_count": 7,
   "metadata": {},
   "outputs": [
    {
     "name": "stdout",
     "output_type": "stream",
     "text": [
      "Hello\n",
      "World\n"
     ]
    }
   ],
   "source": [
    "my_print_method()"
   ]
  },
  {
   "cell_type": "code",
   "execution_count": 8,
   "metadata": {},
   "outputs": [],
   "source": [
    "def my_multiply_method(number_one, number_two):\n",
    "    return number_one * number_two"
   ]
  },
  {
   "cell_type": "code",
   "execution_count": 9,
   "metadata": {},
   "outputs": [
    {
     "name": "stdout",
     "output_type": "stream",
     "text": [
      "15\n"
     ]
    }
   ],
   "source": [
    "result = my_multiply_method(5, 3)\n",
    "print(result)"
   ]
  },
  {
   "cell_type": "code",
   "execution_count": 10,
   "metadata": {},
   "outputs": [
    {
     "name": "stdout",
     "output_type": "stream",
     "text": [
      "15\n"
     ]
    }
   ],
   "source": [
    "print(my_multiply_method(5, 3))"
   ]
  },
  {
   "cell_type": "markdown",
   "metadata": {},
   "source": [
    "### Exercise:"
   ]
  },
  {
   "cell_type": "code",
   "execution_count": 11,
   "metadata": {},
   "outputs": [],
   "source": [
    "# Complete the method by making sure it returns 42. .\n",
    "def return_42():\n",
    "    # Complete method here\n",
    "    return 42\n",
    "\n",
    "# Create a method below, called my_method, that takes two arguments and returns the result of its two arguments multiplied together.\n",
    "def my_method(n1, n2):\n",
    "    return n1 * n2"
   ]
  },
  {
   "cell_type": "code",
   "execution_count": 12,
   "metadata": {},
   "outputs": [
    {
     "name": "stdout",
     "output_type": "stream",
     "text": [
      "42\n",
      "30\n"
     ]
    }
   ],
   "source": [
    "print(return_42())\n",
    "print(my_method(5, 6))"
   ]
  },
  {
   "cell_type": "markdown",
   "metadata": {},
   "source": [
    "## List, tuplets and sets"
   ]
  },
  {
   "cell_type": "code",
   "execution_count": 13,
   "metadata": {},
   "outputs": [
    {
     "name": "stdout",
     "output_type": "stream",
     "text": [
      "5\n",
      "442\n",
      "88.4\n"
     ]
    }
   ],
   "source": [
    "# List\n",
    "grades = [77, 80, 90, 95, 100]\n",
    "print(len(grades))\n",
    "print(sum(grades))\n",
    "# Calculating average\n",
    "print(sum(grades) / len(grades))\n",
    "grades.append(199)"
   ]
  },
  {
   "cell_type": "code",
   "execution_count": 14,
   "metadata": {},
   "outputs": [],
   "source": [
    "# Tuple\n",
    "# Tuples are immutable (changed), which means we cannot increase the size of the tuple.\n",
    "grades_tuple = (77, 80, 90, 95, 100)"
   ]
  },
  {
   "cell_type": "code",
   "execution_count": 15,
   "metadata": {},
   "outputs": [
    {
     "name": "stdout",
     "output_type": "stream",
     "text": [
      "{192, 100, 77, 80, 95}\n"
     ]
    }
   ],
   "source": [
    "# Set \n",
    "# Set is a list of unique and unordered values\n",
    "grades_set = {77, 80, 192, 95, 100, 100}\n",
    "# Duplicate of 100 will be removed.\n",
    "print(grades_set)"
   ]
  },
  {
   "cell_type": "code",
   "execution_count": 16,
   "metadata": {},
   "outputs": [
    {
     "name": "stdout",
     "output_type": "stream",
     "text": [
      "(77, 80, 90, 95, 100)\n",
      "(77, 80, 90, 95, 100, 100)\n"
     ]
    }
   ],
   "source": [
    "# However, the tuple can be changed in a specific way.\n",
    "# It achieved by re-assigning value for the whole tuple\n",
    "print(grades_tuple)\n",
    "grades_tuple = grades_tuple + (100, )\n",
    "print(grades_tuple)"
   ]
  },
  {
   "cell_type": "code",
   "execution_count": 17,
   "metadata": {},
   "outputs": [
    {
     "name": "stdout",
     "output_type": "stream",
     "text": [
      "77\n",
      "[60, 80, 90, 95, 100, 199]\n"
     ]
    }
   ],
   "source": [
    "# Re-assigning values in a list\n",
    "print(grades[0])\n",
    "grades[0] = 60\n",
    "print(grades)"
   ]
  },
  {
   "cell_type": "code",
   "execution_count": 18,
   "metadata": {},
   "outputs": [
    {
     "name": "stdout",
     "output_type": "stream",
     "text": [
      "{192, 100, 77, 80, 95}\n",
      "{192, 100, 77, 80, 22, 95}\n"
     ]
    }
   ],
   "source": [
    "# It cannot be done with either tuple nor set.\n",
    "# Tuple is immutable\n",
    "# Set is unordered.\n",
    "# However, set supports adding new values.\n",
    "print(grades_set)\n",
    "grades_set.add(22)\n",
    "print(grades_set)"
   ]
  },
  {
   "cell_type": "code",
   "execution_count": 19,
   "metadata": {},
   "outputs": [
    {
     "name": "stdout",
     "output_type": "stream",
     "text": [
      "{192, 100, 77, 80, 22, 95}\n",
      "{192, 3, 100, 77, 80, 22, 95}\n"
     ]
    }
   ],
   "source": [
    "# Adding the same value to the set will not throw an error and the value will appear only once since set contains only unique values\n",
    "print(grades_set)\n",
    "grades_set.add(3)\n",
    "grades_set.add(3)\n",
    "grades_set.add(3)\n",
    "print(grades_set)"
   ]
  },
  {
   "cell_type": "code",
   "execution_count": 20,
   "metadata": {},
   "outputs": [],
   "source": [
    "# Set operations\n",
    "set_one = {1, 2, 3, 4, 5}\n",
    "set_two = {1, 3, 5, 7, 9, 11}"
   ]
  },
  {
   "cell_type": "code",
   "execution_count": 21,
   "metadata": {},
   "outputs": [
    {
     "name": "stdout",
     "output_type": "stream",
     "text": [
      "{1, 3, 5}\n"
     ]
    }
   ],
   "source": [
    "print(set_two.intersection(set_one))"
   ]
  },
  {
   "cell_type": "code",
   "execution_count": 22,
   "metadata": {},
   "outputs": [
    {
     "name": "stdout",
     "output_type": "stream",
     "text": [
      "{1, 2, 3, 4, 5, 7, 9, 11}\n"
     ]
    }
   ],
   "source": [
    "print(set_two.union(set_one))"
   ]
  },
  {
   "cell_type": "code",
   "execution_count": 23,
   "metadata": {},
   "outputs": [
    {
     "name": "stdout",
     "output_type": "stream",
     "text": [
      "{9, 11, 7}\n"
     ]
    }
   ],
   "source": [
    "print(set_two.difference(set_one))"
   ]
  },
  {
   "cell_type": "markdown",
   "metadata": {},
   "source": [
    "### Exercise:"
   ]
  },
  {
   "cell_type": "code",
   "execution_count": 24,
   "metadata": {},
   "outputs": [],
   "source": [
    "# Create a list, called my_list, with three numbers. The total of the numbers added together should be 100.\n",
    "my_list = [11, 22, 67]\n",
    "# Create a tuple, called my_tuple, with a single value in it\n",
    "my_tuple = (100, )\n",
    "# Modify set2 so that set1.intersection(set2) returns {5, 77, 9, 12}\n",
    "set1 = {14, 5, 9, 31, 12, 77, 67, 8}\n",
    "set2 = {5, 77, 9, 12, 33}"
   ]
  },
  {
   "cell_type": "markdown",
   "metadata": {},
   "source": [
    "## Loops"
   ]
  },
  {
   "cell_type": "markdown",
   "metadata": {},
   "source": [
    "#### For loop"
   ]
  },
  {
   "cell_type": "code",
   "execution_count": 25,
   "metadata": {},
   "outputs": [
    {
     "name": "stdout",
     "output_type": "stream",
     "text": [
      "h\n",
      "e\n",
      "l\n",
      "l\n",
      "o\n",
      "1\n",
      "3\n",
      "5\n",
      "7\n",
      "9\n"
     ]
    }
   ],
   "source": [
    "my_string = 'hello'\n",
    "\n",
    "# My string is iterable\n",
    "# Strings, lists, sets, tuples (and many more) are iterable.\n",
    "for character in my_string:\n",
    "    print(character)\n",
    "    \n",
    "my_list = [1, 3, 5, 7, 9]\n",
    "\n",
    "for number in my_list:\n",
    "    print(number)"
   ]
  },
  {
   "cell_type": "markdown",
   "metadata": {},
   "source": [
    "#### While loop"
   ]
  },
  {
   "cell_type": "code",
   "execution_count": 26,
   "metadata": {},
   "outputs": [
    {
     "name": "stdout",
     "output_type": "stream",
     "text": [
      "10\n",
      "10\n"
     ]
    }
   ],
   "source": [
    "user_wants_number = True\n",
    "\n",
    "while (user_wants_number == True):\n",
    "    print(10)\n",
    "    user_input = input(\"Shoudl we print again? (y/n) \")\n",
    "    if(user_input == 'n'):\n",
    "        user_wants_number = False\n",
    "    "
   ]
  },
  {
   "cell_type": "markdown",
   "metadata": {},
   "source": [
    "## If statement"
   ]
  },
  {
   "cell_type": "code",
   "execution_count": 27,
   "metadata": {},
   "outputs": [
    {
     "name": "stdout",
     "output_type": "stream",
     "text": [
      "Hello <3\n"
     ]
    }
   ],
   "source": [
    "should_continue = True\n",
    "\n",
    "if(should_continue):\n",
    "    print('Hello <3')"
   ]
  },
  {
   "cell_type": "markdown",
   "metadata": {},
   "source": [
    "\"if(should_continue)\" is equal to \"if(should_continue == True)\""
   ]
  },
  {
   "cell_type": "code",
   "execution_count": 28,
   "metadata": {},
   "outputs": [
    {
     "name": "stdout",
     "output_type": "stream",
     "text": [
      "You know Anna.\n"
     ]
    }
   ],
   "source": [
    "known_people = [\"John\", \"Anna\", \"Sara\"]\n",
    "\n",
    "person = input(\"Enter the person you know: \")\n",
    "\n",
    "if(person in known_people):\n",
    "    print(\"You know {}.\".format(person))\n",
    "else:\n",
    "    print(\"You don't know {}.\".format(person))"
   ]
  },
  {
   "cell_type": "markdown",
   "metadata": {},
   "source": [
    "### Exercise:"
   ]
  },
  {
   "cell_type": "code",
   "execution_count": 29,
   "metadata": {},
   "outputs": [],
   "source": [
    "numbers = [1, 2, 3, 4, 5, 6, 7, 8, 9]\n",
    "\n",
    "# Modify the method below to make sure only even numbers are returned.\n",
    "def even_numbers():\n",
    "    evens = []\n",
    "    for number in numbers:\n",
    "        if(number % 2 == 0):\n",
    "            evens.append(number)\n",
    "    return evens\n",
    "\n",
    "\n",
    "# Modify the below method so that \"Quit\" is returned if the choice parameter is \"q\".\n",
    "# Don't remove the existing code\n",
    "def user_menu(choice):\n",
    "    if choice == \"a\":\n",
    "        return \"Add\"\n",
    "    elif (choice == \"q\"):\n",
    "        return \"Quit\""
   ]
  },
  {
   "cell_type": "code",
   "execution_count": 30,
   "metadata": {},
   "outputs": [
    {
     "name": "stdout",
     "output_type": "stream",
     "text": [
      "[2, 4, 6, 8]\n",
      "Quit\n",
      "Add\n"
     ]
    }
   ],
   "source": [
    "print(even_numbers())\n",
    "print(user_menu(\"q\"))\n",
    "print(user_menu(\"a\"))"
   ]
  },
  {
   "cell_type": "markdown",
   "metadata": {},
   "source": [
    "## Programming exercise"
   ]
  },
  {
   "cell_type": "code",
   "execution_count": null,
   "metadata": {},
   "outputs": [],
   "source": [
    "# In progress"
   ]
  }
 ],
 "metadata": {
  "kernelspec": {
   "display_name": "Python 3",
   "language": "python",
   "name": "python3"
  },
  "language_info": {
   "codemirror_mode": {
    "name": "ipython",
    "version": 3
   },
   "file_extension": ".py",
   "mimetype": "text/x-python",
   "name": "python",
   "nbconvert_exporter": "python",
   "pygments_lexer": "ipython3",
   "version": "3.6.1"
  }
 },
 "nbformat": 4,
 "nbformat_minor": 2
}
