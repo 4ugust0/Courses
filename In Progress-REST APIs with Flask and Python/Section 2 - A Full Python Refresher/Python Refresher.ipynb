{
 "cells": [
  {
   "cell_type": "markdown",
   "metadata": {},
   "source": [
    "# Python Refresher"
   ]
  },
  {
   "cell_type": "markdown",
   "metadata": {},
   "source": [
    "## Variables"
   ]
  },
  {
   "cell_type": "code",
   "execution_count": 1,
   "metadata": {},
   "outputs": [],
   "source": [
    "# Numbers\n",
    "a = 5\n",
    "b = 10\n",
    "my_variable = 56\n",
    "my_10_variable = 10"
   ]
  },
  {
   "cell_type": "code",
   "execution_count": 2,
   "metadata": {},
   "outputs": [],
   "source": [
    "# 10variable will not work"
   ]
  },
  {
   "cell_type": "code",
   "execution_count": 3,
   "metadata": {},
   "outputs": [],
   "source": [
    "# Strings\n",
    "string_variable = \"hello\"\n",
    "single_quote_variable = 'strings can have single quotes'"
   ]
  },
  {
   "cell_type": "code",
   "execution_count": 4,
   "metadata": {},
   "outputs": [
    {
     "name": "stdout",
     "output_type": "stream",
     "text": [
      "56\n",
      "hello\n"
     ]
    }
   ],
   "source": [
    "# Printing variables\n",
    "print(my_variable)\n",
    "print(string_variable)"
   ]
  },
  {
   "cell_type": "markdown",
   "metadata": {},
   "source": [
    "### Exercise:"
   ]
  },
  {
   "cell_type": "code",
   "execution_count": 5,
   "metadata": {},
   "outputs": [],
   "source": [
    "# Create two variables, var1 and var2, both with the same value.\n",
    "var1 = 'hello'\n",
    "var2 = var1\n",
    "# Create two variables, num1 and num2, which multiply together to give 16.\n",
    "num1 = 8\n",
    "num2 = 2"
   ]
  },
  {
   "cell_type": "markdown",
   "metadata": {},
   "source": [
    "## Methods"
   ]
  },
  {
   "cell_type": "code",
   "execution_count": 6,
   "metadata": {},
   "outputs": [],
   "source": [
    "# Replicate print method\n",
    "def my_print_method():\n",
    "    print('Hello')\n",
    "    print('World')"
   ]
  },
  {
   "cell_type": "code",
   "execution_count": 7,
   "metadata": {},
   "outputs": [
    {
     "name": "stdout",
     "output_type": "stream",
     "text": [
      "Hello\n",
      "World\n"
     ]
    }
   ],
   "source": [
    "my_print_method()"
   ]
  },
  {
   "cell_type": "code",
   "execution_count": 8,
   "metadata": {},
   "outputs": [],
   "source": [
    "def my_multiply_method(number_one, number_two):\n",
    "    return number_one * number_two"
   ]
  },
  {
   "cell_type": "code",
   "execution_count": 9,
   "metadata": {},
   "outputs": [
    {
     "name": "stdout",
     "output_type": "stream",
     "text": [
      "15\n"
     ]
    }
   ],
   "source": [
    "result = my_multiply_method(5, 3)\n",
    "print(result)"
   ]
  },
  {
   "cell_type": "code",
   "execution_count": 10,
   "metadata": {},
   "outputs": [
    {
     "name": "stdout",
     "output_type": "stream",
     "text": [
      "15\n"
     ]
    }
   ],
   "source": [
    "print(my_multiply_method(5, 3))"
   ]
  },
  {
   "cell_type": "markdown",
   "metadata": {},
   "source": [
    "### Exercise:"
   ]
  },
  {
   "cell_type": "code",
   "execution_count": 11,
   "metadata": {},
   "outputs": [],
   "source": [
    "# Complete the method by making sure it returns 42. .\n",
    "def return_42():\n",
    "    # Complete method here\n",
    "    return 42\n",
    "\n",
    "# Create a method below, called my_method, that takes two arguments and returns the result of its two arguments multiplied together.\n",
    "def my_method(n1, n2):\n",
    "    return n1 * n2"
   ]
  },
  {
   "cell_type": "code",
   "execution_count": 12,
   "metadata": {},
   "outputs": [
    {
     "name": "stdout",
     "output_type": "stream",
     "text": [
      "42\n",
      "30\n"
     ]
    }
   ],
   "source": [
    "print(return_42())\n",
    "print(my_method(5, 6))"
   ]
  },
  {
   "cell_type": "markdown",
   "metadata": {},
   "source": [
    "## List, tuplets and sets"
   ]
  },
  {
   "cell_type": "code",
   "execution_count": 13,
   "metadata": {},
   "outputs": [
    {
     "name": "stdout",
     "output_type": "stream",
     "text": [
      "5\n",
      "442\n",
      "88.4\n"
     ]
    }
   ],
   "source": [
    "# List\n",
    "grades = [77, 80, 90, 95, 100]\n",
    "print(len(grades))\n",
    "print(sum(grades))\n",
    "# Calculating average\n",
    "print(sum(grades) / len(grades))\n",
    "grades.append(199)"
   ]
  },
  {
   "cell_type": "code",
   "execution_count": 14,
   "metadata": {},
   "outputs": [],
   "source": [
    "# Tuple\n",
    "# Tuples are immutable (changed), which means we cannot increase the size of the tuple.\n",
    "grades_tuple = (77, 80, 90, 95, 100)"
   ]
  },
  {
   "cell_type": "code",
   "execution_count": 15,
   "metadata": {},
   "outputs": [
    {
     "name": "stdout",
     "output_type": "stream",
     "text": [
      "{192, 100, 77, 80, 95}\n"
     ]
    }
   ],
   "source": [
    "# Set \n",
    "# Set is a list of unique and unordered values\n",
    "grades_set = {77, 80, 192, 95, 100, 100}\n",
    "# Duplicate of 100 will be removed.\n",
    "print(grades_set)"
   ]
  },
  {
   "cell_type": "code",
   "execution_count": 16,
   "metadata": {},
   "outputs": [
    {
     "name": "stdout",
     "output_type": "stream",
     "text": [
      "(77, 80, 90, 95, 100)\n",
      "(77, 80, 90, 95, 100, 100)\n"
     ]
    }
   ],
   "source": [
    "# However, the tuple can be changed in a specific way.\n",
    "# It achieved by re-assigning value for the whole tuple\n",
    "print(grades_tuple)\n",
    "grades_tuple = grades_tuple + (100, )\n",
    "print(grades_tuple)"
   ]
  },
  {
   "cell_type": "code",
   "execution_count": 17,
   "metadata": {},
   "outputs": [
    {
     "name": "stdout",
     "output_type": "stream",
     "text": [
      "77\n",
      "[60, 80, 90, 95, 100, 199]\n"
     ]
    }
   ],
   "source": [
    "# Re-assigning values in a list\n",
    "print(grades[0])\n",
    "grades[0] = 60\n",
    "print(grades)"
   ]
  },
  {
   "cell_type": "code",
   "execution_count": 18,
   "metadata": {},
   "outputs": [
    {
     "name": "stdout",
     "output_type": "stream",
     "text": [
      "{192, 100, 77, 80, 95}\n",
      "{192, 100, 77, 80, 22, 95}\n"
     ]
    }
   ],
   "source": [
    "# It cannot be done with either tuple nor set.\n",
    "# Tuple is immutable\n",
    "# Set is unordered.\n",
    "# However, set supports adding new values.\n",
    "print(grades_set)\n",
    "grades_set.add(22)\n",
    "print(grades_set)"
   ]
  },
  {
   "cell_type": "code",
   "execution_count": 19,
   "metadata": {},
   "outputs": [
    {
     "name": "stdout",
     "output_type": "stream",
     "text": [
      "{192, 100, 77, 80, 22, 95}\n",
      "{192, 3, 100, 77, 80, 22, 95}\n"
     ]
    }
   ],
   "source": [
    "# Adding the same value to the set will not throw an error and the value will appear only once since set contains only unique values\n",
    "print(grades_set)\n",
    "grades_set.add(3)\n",
    "grades_set.add(3)\n",
    "grades_set.add(3)\n",
    "print(grades_set)"
   ]
  },
  {
   "cell_type": "code",
   "execution_count": null,
   "metadata": {},
   "outputs": [],
   "source": []
  }
 ],
 "metadata": {
  "kernelspec": {
   "display_name": "Python 3",
   "language": "python",
   "name": "python3"
  },
  "language_info": {
   "codemirror_mode": {
    "name": "ipython",
    "version": 3
   },
   "file_extension": ".py",
   "mimetype": "text/x-python",
   "name": "python",
   "nbconvert_exporter": "python",
   "pygments_lexer": "ipython3",
   "version": "3.6.1"
  }
 },
 "nbformat": 4,
 "nbformat_minor": 2
}
