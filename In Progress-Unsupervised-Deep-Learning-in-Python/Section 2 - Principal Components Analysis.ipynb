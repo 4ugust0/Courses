{
 "cells": [
  {
   "cell_type": "markdown",
   "metadata": {},
   "source": [
    "# Section 2 - Principal Components Analysis"
   ]
  },
  {
   "cell_type": "markdown",
   "metadata": {},
   "source": [
    "### PCA is a linear transformation: \n",
    "\n",
    "\\begin{equation*}\n",
    "Z = XQ\n",
    "\\end{equation*}\n",
    "\n",
    "If a vector is multiplied by a scalar, the direction stays the same, however, the length can be changes.\n",
    "\n",
    "If a vector is multiplies by a matrix it can \"point\" in a new direction (rotated).\n",
    "\n",
    "Input data X is of shape (N, D).\n",
    "\n",
    "Tranformation matrix Q is of shape (D x D).\n",
    "\n",
    "Transformed data Z is of shape (N x D).\n",
    "\n",
    "Multiplying a vector by a matrix can be seen as rotating the coordinate system of the vector.\n",
    "\n",
    "### PCA is often used for dimensionality reduction.\n",
    "\n",
    "Information carried by a variable can be assesed by measuring the variance.\n",
    "\n",
    "A variable having variance equal to zero provides no information.\n",
    "\n",
    "### Another advantage of PCA is that it de-correlate the variables.\n",
    "\n",
    "High correlation between two variables means that one of them can be disregarded since they provide (approximately) very similar information. \n",
    "\n",
    "The goal of PCA is to find a matrix Q that will help us find the correlation between the variable so that we have the smallest number of the most crucial information   \n",
    "\n",
    "### PCA can help reducing the impact of noise\n",
    "\n",
    "Assuming that the noise is not a major factor in the data, it is fair to state the principal component of the noise will be somewhere down the list. Thus, the PCA transformation will perform denoising pre-processing.\n",
    "\n",
    "Furthermore, by reducing number of parameters, risk of fitting the model to the noise or overfitting is significantly reduced.\n",
    "\n",
    "### Latent variables Z can be interpreted as the underlying cause of X\n",
    "\n",
    "That examplains them being significantly uncorrelated. \n",
    " \n",
    "Very important: Uncorrelated does not necessarily mean independent, unless distribution is Gaussian.\n",
    "\n",
    "### In PCA, the linear transformation can be applied both ways:\n",
    "\n",
    "\\begin{equation*}\n",
    "Z = XQ\n",
    "\\end{equation*}\n",
    "\n",
    "\\begin{equation*}\n",
    "X = ZQ^{-1}\n",
    "\\end{equation*}\n"
   ]
  }
 ],
 "metadata": {
  "kernelspec": {
   "display_name": "Python 3",
   "language": "python",
   "name": "python3"
  },
  "language_info": {
   "codemirror_mode": {
    "name": "ipython",
    "version": 3
   },
   "file_extension": ".py",
   "mimetype": "text/x-python",
   "name": "python",
   "nbconvert_exporter": "python",
   "pygments_lexer": "ipython3",
   "version": "3.6.1"
  }
 },
 "nbformat": 4,
 "nbformat_minor": 2
}
