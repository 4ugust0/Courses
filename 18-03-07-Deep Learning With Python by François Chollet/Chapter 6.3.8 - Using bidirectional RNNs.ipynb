{
 "cells": [
  {
   "cell_type": "markdown",
   "metadata": {},
   "source": [
    "# Chapter 6.3.8 - Using bidirectional RNNs"
   ]
  },
  {
   "cell_type": "markdown",
   "metadata": {},
   "source": [
    "## LSTM with reversed sequences"
   ]
  },
  {
   "cell_type": "code",
   "execution_count": 1,
   "metadata": {
    "collapsed": true
   },
   "outputs": [],
   "source": [
    "from keras.datasets import imdb\n",
    "from keras.preprocessing.sequence import pad_sequences\n",
    "from keras.models import Sequential\n",
    "from keras.layers import Embedding, LSTM, Dense"
   ]
  },
  {
   "cell_type": "code",
   "execution_count": 2,
   "metadata": {
    "collapsed": true
   },
   "outputs": [],
   "source": [
    "# Number of words to consider as features\n",
    "max_features = 10000\n",
    "# Cut texts after this number of words\n",
    "maxlen = 500"
   ]
  },
  {
   "cell_type": "code",
   "execution_count": 3,
   "metadata": {
    "collapsed": true
   },
   "outputs": [],
   "source": [
    "# Load data\n",
    "(x_train, y_train), (x_test, y_test) = imdb.load_data(num_words=max_features)"
   ]
  },
  {
   "cell_type": "code",
   "execution_count": 4,
   "metadata": {
    "collapsed": true
   },
   "outputs": [],
   "source": [
    "# Reverse sequences\n",
    "x_train = [x[::-1] for x in x_train]\n",
    "x_test = [x[::-1] for x in x_test]"
   ]
  },
  {
   "cell_type": "code",
   "execution_count": 6,
   "metadata": {},
   "outputs": [
    {
     "data": {
      "text/plain": [
       "[32,\n",
       " 178,\n",
       " 19,\n",
       " 5345,\n",
       " 16,\n",
       " 15,\n",
       " 32,\n",
       " 103,\n",
       " 113,\n",
       " 4472,\n",
       " 16,\n",
       " 5,\n",
       " 283,\n",
       " 16,\n",
       " 12,\n",
       " 88,\n",
       " 1334,\n",
       " 38,\n",
       " 16,\n",
       " 65,\n",
       " 226,\n",
       " 4,\n",
       " 104,\n",
       " 25,\n",
       " 92,\n",
       " 224,\n",
       " 28,\n",
       " 36,\n",
       " 51,\n",
       " 18,\n",
       " 5535,\n",
       " 30,\n",
       " 144,\n",
       " 5,\n",
       " 480,\n",
       " 26,\n",
       " 476,\n",
       " 134,\n",
       " 21,\n",
       " 22,\n",
       " 226,\n",
       " 4,\n",
       " 18,\n",
       " 7486,\n",
       " 194,\n",
       " 6,\n",
       " 141,\n",
       " 26,\n",
       " 56,\n",
       " 2071,\n",
       " 32,\n",
       " 98,\n",
       " 297,\n",
       " 15,\n",
       " 381,\n",
       " 4,\n",
       " 88,\n",
       " 104,\n",
       " 13,\n",
       " 1029,\n",
       " 2,\n",
       " 4,\n",
       " 7,\n",
       " 46,\n",
       " 317,\n",
       " 400,\n",
       " 26,\n",
       " 476,\n",
       " 530,\n",
       " 43,\n",
       " 71,\n",
       " 36,\n",
       " 723,\n",
       " 5,\n",
       " 3766,\n",
       " 7,\n",
       " 2,\n",
       " 4,\n",
       " 256,\n",
       " 15,\n",
       " 5952,\n",
       " 117,\n",
       " 107,\n",
       " 4,\n",
       " 8,\n",
       " 2,\n",
       " 82,\n",
       " 16,\n",
       " 407,\n",
       " 14,\n",
       " 5,\n",
       " 52,\n",
       " 77,\n",
       " 28,\n",
       " 215,\n",
       " 12,\n",
       " 22,\n",
       " 6,\n",
       " 33,\n",
       " 1415,\n",
       " 25,\n",
       " 48,\n",
       " 135,\n",
       " 36,\n",
       " 51,\n",
       " 124,\n",
       " 25,\n",
       " 5,\n",
       " 619,\n",
       " 38,\n",
       " 16,\n",
       " 12,\n",
       " 130,\n",
       " 4,\n",
       " 33,\n",
       " 3785,\n",
       " 66,\n",
       " 480,\n",
       " 16,\n",
       " 5244,\n",
       " 2223,\n",
       " 4,\n",
       " 5,\n",
       " 106,\n",
       " 8,\n",
       " 316,\n",
       " 8,\n",
       " 12,\n",
       " 386,\n",
       " 62,\n",
       " 5,\n",
       " 2,\n",
       " 18,\n",
       " 626,\n",
       " 16,\n",
       " 12,\n",
       " 17,\n",
       " 515,\n",
       " 17,\n",
       " 22,\n",
       " 4,\n",
       " 1247,\n",
       " 13,\n",
       " 15,\n",
       " 76,\n",
       " 38,\n",
       " 530,\n",
       " 43,\n",
       " 16,\n",
       " 12,\n",
       " 87,\n",
       " 71,\n",
       " 22,\n",
       " 4,\n",
       " 469,\n",
       " 4613,\n",
       " 1920,\n",
       " 4,\n",
       " 22,\n",
       " 14,\n",
       " 19,\n",
       " 2025,\n",
       " 147,\n",
       " 6,\n",
       " 16,\n",
       " 50,\n",
       " 192,\n",
       " 4,\n",
       " 447,\n",
       " 13,\n",
       " 38,\n",
       " 546,\n",
       " 17,\n",
       " 1111,\n",
       " 4536,\n",
       " 172,\n",
       " 4,\n",
       " 39,\n",
       " 385,\n",
       " 336,\n",
       " 2,\n",
       " 167,\n",
       " 112,\n",
       " 172,\n",
       " 4,\n",
       " 150,\n",
       " 5,\n",
       " 284,\n",
       " 480,\n",
       " 35,\n",
       " 9,\n",
       " 2,\n",
       " 670,\n",
       " 50,\n",
       " 112,\n",
       " 838,\n",
       " 43,\n",
       " 100,\n",
       " 25,\n",
       " 5,\n",
       " 256,\n",
       " 36,\n",
       " 173,\n",
       " 4,\n",
       " 3941,\n",
       " 66,\n",
       " 4468,\n",
       " 458,\n",
       " 65,\n",
       " 1385,\n",
       " 1622,\n",
       " 973,\n",
       " 530,\n",
       " 43,\n",
       " 16,\n",
       " 22,\n",
       " 14,\n",
       " 1]"
      ]
     },
     "execution_count": 6,
     "metadata": {},
     "output_type": "execute_result"
    }
   ],
   "source": [
    "x_train[0]"
   ]
  },
  {
   "cell_type": "code",
   "execution_count": 7,
   "metadata": {
    "collapsed": true
   },
   "outputs": [],
   "source": [
    "# Sequence padding\n",
    "x_train = pad_sequences(x_train, maxlen = maxlen)\n",
    "x_test = pad_sequences(x_test, maxlen = maxlen)"
   ]
  },
  {
   "cell_type": "code",
   "execution_count": 8,
   "metadata": {},
   "outputs": [
    {
     "name": "stdout",
     "output_type": "stream",
     "text": [
      "Train on 20000 samples, validate on 5000 samples\n",
      "Epoch 1/10\n",
      "20000/20000 [==============================] - 218s 11ms/step - loss: 0.4859 - acc: 0.7709 - val_loss: 0.3793 - val_acc: 0.8592\n",
      "Epoch 2/10\n",
      "20000/20000 [==============================] - 207s 10ms/step - loss: 0.3115 - acc: 0.8814 - val_loss: 0.3125 - val_acc: 0.8764\n",
      "Epoch 3/10\n",
      "20000/20000 [==============================] - 209s 10ms/step - loss: 0.2604 - acc: 0.9035 - val_loss: 0.3929 - val_acc: 0.8280\n",
      "Epoch 4/10\n",
      "20000/20000 [==============================] - 188s 9ms/step - loss: 0.2224 - acc: 0.9196 - val_loss: 0.4234 - val_acc: 0.8704\n",
      "Epoch 5/10\n",
      "20000/20000 [==============================] - 198s 10ms/step - loss: 0.1944 - acc: 0.9322 - val_loss: 0.4535 - val_acc: 0.8580\n",
      "Epoch 6/10\n",
      "20000/20000 [==============================] - 189s 9ms/step - loss: 0.1753 - acc: 0.9366 - val_loss: 0.3544 - val_acc: 0.8716\n",
      "Epoch 7/10\n",
      "20000/20000 [==============================] - 189s 9ms/step - loss: 0.1555 - acc: 0.9468 - val_loss: 0.4683 - val_acc: 0.8656\n",
      "Epoch 8/10\n",
      "20000/20000 [==============================] - 179s 9ms/step - loss: 0.1463 - acc: 0.9507 - val_loss: 0.4100 - val_acc: 0.8620\n",
      "Epoch 9/10\n",
      "20000/20000 [==============================] - 196s 10ms/step - loss: 0.1305 - acc: 0.9568 - val_loss: 0.3772 - val_acc: 0.8726\n",
      "Epoch 10/10\n",
      "20000/20000 [==============================] - 194s 10ms/step - loss: 0.1174 - acc: 0.9593 - val_loss: 0.4277 - val_acc: 0.8716\n"
     ]
    }
   ],
   "source": [
    "model = Sequential()\n",
    "model.add(Embedding(input_dim = max_features, output_dim = 128))\n",
    "model.add(LSTM(units = 32))\n",
    "model.add(Dense(units = 1, activation = 'sigmoid'))\n",
    "\n",
    "model.compile(optimizer = 'rmsprop',\n",
    "              loss = 'binary_crossentropy',\n",
    "              metrics = ['acc'])\n",
    "history = model.fit(x = x_train, \n",
    "                    y = y_train,\n",
    "                    epochs = 10,\n",
    "                    batch_size = 128,\n",
    "                    validation_split = 0.2)"
   ]
  },
  {
   "cell_type": "markdown",
   "metadata": {},
   "source": [
    "## Bidirectional RNN"
   ]
  },
  {
   "cell_type": "code",
   "execution_count": 9,
   "metadata": {
    "collapsed": true
   },
   "outputs": [],
   "source": [
    "# Clearning the session\n",
    "from keras import backend as K\n",
    "K.clear_session()"
   ]
  },
  {
   "cell_type": "code",
   "execution_count": 10,
   "metadata": {
    "collapsed": true
   },
   "outputs": [],
   "source": [
    "from keras.layers import Bidirectional"
   ]
  },
  {
   "cell_type": "code",
   "execution_count": 11,
   "metadata": {},
   "outputs": [
    {
     "name": "stdout",
     "output_type": "stream",
     "text": [
      "Train on 20000 samples, validate on 5000 samples\n",
      "Epoch 1/10\n",
      "20000/20000 [==============================] - 432s 22ms/step - loss: 0.5571 - acc: 0.7197 - val_loss: 0.3622 - val_acc: 0.8662\n",
      "Epoch 2/10\n",
      "20000/20000 [==============================] - 471s 24ms/step - loss: 0.3402 - acc: 0.8692 - val_loss: 0.3410 - val_acc: 0.8806\n",
      "Epoch 3/10\n",
      "20000/20000 [==============================] - 423s 21ms/step - loss: 0.2719 - acc: 0.8981 - val_loss: 0.4115 - val_acc: 0.8172\n",
      "Epoch 4/10\n",
      "20000/20000 [==============================] - 384s 19ms/step - loss: 0.2352 - acc: 0.9152 - val_loss: 0.3288 - val_acc: 0.8768\n",
      "Epoch 5/10\n",
      "20000/20000 [==============================] - 404s 20ms/step - loss: 0.2108 - acc: 0.9253 - val_loss: 0.3727 - val_acc: 0.8814\n",
      "Epoch 6/10\n",
      "20000/20000 [==============================] - 348s 17ms/step - loss: 0.1851 - acc: 0.9353 - val_loss: 0.4753 - val_acc: 0.8028\n",
      "Epoch 7/10\n",
      "20000/20000 [==============================] - 347s 17ms/step - loss: 0.1714 - acc: 0.9397 - val_loss: 0.3587 - val_acc: 0.8806\n",
      "Epoch 8/10\n",
      "20000/20000 [==============================] - 344s 17ms/step - loss: 0.1516 - acc: 0.9487 - val_loss: 0.3914 - val_acc: 0.8492\n",
      "Epoch 9/10\n",
      "20000/20000 [==============================] - 344s 17ms/step - loss: 0.1412 - acc: 0.9529 - val_loss: 0.3413 - val_acc: 0.8656\n",
      "Epoch 10/10\n",
      "20000/20000 [==============================] - 391s 20ms/step - loss: 0.1361 - acc: 0.9562 - val_loss: 0.3552 - val_acc: 0.8732\n"
     ]
    }
   ],
   "source": [
    "model = Sequential()\n",
    "model.add(Embedding(input_dim = max_features, output_dim = 32))\n",
    "model.add(Bidirectional(LSTM(units = 32)))\n",
    "model.add(Dense(units = 1, activation='sigmoid'))\n",
    "\n",
    "model.compile(optimizer = 'rmsprop', \n",
    "              loss = 'binary_crossentropy', \n",
    "              metrics = ['acc'])\n",
    "history = model.fit(x = x_train, \n",
    "                    y = y_train, \n",
    "                    epochs = 10, \n",
    "                    batch_size = 128, \n",
    "                    validation_split = 0.2)"
   ]
  }
 ],
 "metadata": {
  "kernelspec": {
   "display_name": "Python 3",
   "language": "python",
   "name": "python3"
  },
  "language_info": {
   "codemirror_mode": {
    "name": "ipython",
    "version": 3
   },
   "file_extension": ".py",
   "mimetype": "text/x-python",
   "name": "python",
   "nbconvert_exporter": "python",
   "pygments_lexer": "ipython3",
   "version": "3.6.1"
  }
 },
 "nbformat": 4,
 "nbformat_minor": 2
}
