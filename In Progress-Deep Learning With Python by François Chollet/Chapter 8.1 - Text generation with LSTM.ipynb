{
 "cells": [
  {
   "cell_type": "markdown",
   "metadata": {},
   "source": [
    "# Chapter 8.1 - Text generation with LSTM"
   ]
  },
  {
   "cell_type": "code",
   "execution_count": 1,
   "metadata": {},
   "outputs": [
    {
     "name": "stderr",
     "output_type": "stream",
     "text": [
      "C:\\ProgramData\\Anaconda3\\lib\\site-packages\\h5py\\__init__.py:36: FutureWarning: Conversion of the second argument of issubdtype from `float` to `np.floating` is deprecated. In future, it will be treated as `np.float64 == np.dtype(float).type`.\n",
      "  from ._conv import register_converters as _register_converters\n",
      "Using TensorFlow backend.\n"
     ]
    }
   ],
   "source": [
    "import keras\n",
    "import numpy as np"
   ]
  },
  {
   "cell_type": "code",
   "execution_count": 2,
   "metadata": {},
   "outputs": [],
   "source": [
    "path = keras.utils.get_file(\n",
    "    'nietzsche.txt',\n",
    "    origin='https://s3.amazonaws.com/text-datasets/nietzsche.txt')"
   ]
  },
  {
   "cell_type": "code",
   "execution_count": 3,
   "metadata": {},
   "outputs": [
    {
     "data": {
      "text/plain": [
       "'C:\\\\Users\\\\Arcyfelix\\\\.keras\\\\datasets\\\\nietzsche.txt'"
      ]
     },
     "execution_count": 3,
     "metadata": {},
     "output_type": "execute_result"
    }
   ],
   "source": [
    "path"
   ]
  },
  {
   "cell_type": "code",
   "execution_count": 4,
   "metadata": {
    "collapsed": true
   },
   "outputs": [],
   "source": [
    "text = open(path).read().lower()"
   ]
  },
  {
   "cell_type": "code",
   "execution_count": 5,
   "metadata": {},
   "outputs": [
    {
     "data": {
      "text/plain": [
       "str"
      ]
     },
     "execution_count": 5,
     "metadata": {},
     "output_type": "execute_result"
    }
   ],
   "source": [
    "# One long string representing the whole dataset\n",
    "type(text)"
   ]
  },
  {
   "cell_type": "code",
   "execution_count": 6,
   "metadata": {},
   "outputs": [
    {
     "name": "stdout",
     "output_type": "stream",
     "text": [
      "Length: 600901\n"
     ]
    }
   ],
   "source": [
    "print('Length:', len(text))"
   ]
  },
  {
   "cell_type": "code",
   "execution_count": 7,
   "metadata": {
    "collapsed": true
   },
   "outputs": [],
   "source": [
    "# Length of extracted character sequences\n",
    "maxlen = 60\n",
    "\n",
    "# We sample a new sequence every `step` characters\n",
    "step = 3\n",
    "\n",
    "# This holds our extracted sequences\n",
    "sentences = []\n",
    "\n",
    "# This holds the targets (the follow-up characters)\n",
    "next_chars = []"
   ]
  },
  {
   "cell_type": "code",
   "execution_count": 8,
   "metadata": {},
   "outputs": [
    {
     "name": "stdout",
     "output_type": "stream",
     "text": [
      "Number of sequences: 200281\n"
     ]
    }
   ],
   "source": [
    "for i in range(0, len(text) - maxlen, step):\n",
    "    sentences.append(text[i: i + maxlen])\n",
    "    next_chars.append(text[i + maxlen])\n",
    "print('Number of sequences:', len(sentences))"
   ]
  },
  {
   "cell_type": "code",
   "execution_count": 9,
   "metadata": {},
   "outputs": [
    {
     "data": {
      "text/plain": [
       "['preface\\n\\n\\nsupposing that truth is a woman--what then? is the',\n",
       " 'face\\n\\n\\nsupposing that truth is a woman--what then? is there ',\n",
       " 'e\\n\\n\\nsupposing that truth is a woman--what then? is there not',\n",
       " '\\nsupposing that truth is a woman--what then? is there not gr',\n",
       " 'pposing that truth is a woman--what then? is there not groun',\n",
       " 'sing that truth is a woman--what then? is there not ground\\nf',\n",
       " 'g that truth is a woman--what then? is there not ground\\nfor ',\n",
       " 'hat truth is a woman--what then? is there not ground\\nfor sus',\n",
       " ' truth is a woman--what then? is there not ground\\nfor suspec',\n",
       " 'uth is a woman--what then? is there not ground\\nfor suspectin']"
      ]
     },
     "execution_count": 9,
     "metadata": {},
     "output_type": "execute_result"
    }
   ],
   "source": [
    "sentences[:10]"
   ]
  },
  {
   "cell_type": "code",
   "execution_count": 10,
   "metadata": {},
   "outputs": [
    {
     "name": "stdout",
     "output_type": "stream",
     "text": [
      "Unique characters: 59\n"
     ]
    }
   ],
   "source": [
    "# List of unique characters in the corpus\n",
    "chars = sorted(list(set(text)))\n",
    "print('Unique characters:', len(chars))"
   ]
  },
  {
   "cell_type": "code",
   "execution_count": 11,
   "metadata": {
    "collapsed": true
   },
   "outputs": [],
   "source": [
    "# Dictionary mapping unique characters to their index in `chars`\n",
    "char_indices = dict((char, chars.index(char)) for char in chars)"
   ]
  },
  {
   "cell_type": "code",
   "execution_count": 12,
   "metadata": {},
   "outputs": [
    {
     "data": {
      "text/plain": [
       "{'\\n': 0,\n",
       " ' ': 1,\n",
       " '!': 2,\n",
       " '\"': 3,\n",
       " \"'\": 4,\n",
       " '(': 5,\n",
       " ')': 6,\n",
       " ',': 7,\n",
       " '-': 8,\n",
       " '.': 9,\n",
       " '0': 10,\n",
       " '1': 11,\n",
       " '2': 12,\n",
       " '3': 13,\n",
       " '4': 14,\n",
       " '5': 15,\n",
       " '6': 16,\n",
       " '7': 17,\n",
       " '8': 18,\n",
       " '9': 19,\n",
       " ':': 20,\n",
       " ';': 21,\n",
       " '=': 22,\n",
       " '?': 23,\n",
       " '[': 24,\n",
       " ']': 25,\n",
       " '_': 26,\n",
       " 'a': 27,\n",
       " 'b': 28,\n",
       " 'c': 29,\n",
       " 'd': 30,\n",
       " 'e': 31,\n",
       " 'f': 32,\n",
       " 'g': 33,\n",
       " 'h': 34,\n",
       " 'i': 35,\n",
       " 'j': 36,\n",
       " 'k': 37,\n",
       " 'l': 38,\n",
       " 'm': 39,\n",
       " 'n': 40,\n",
       " 'o': 41,\n",
       " 'p': 42,\n",
       " 'q': 43,\n",
       " 'r': 44,\n",
       " 's': 45,\n",
       " 't': 46,\n",
       " 'u': 47,\n",
       " 'v': 48,\n",
       " 'w': 49,\n",
       " 'x': 50,\n",
       " 'y': 51,\n",
       " 'z': 52,\n",
       " '¤': 53,\n",
       " '¦': 54,\n",
       " '©': 55,\n",
       " '«': 56,\n",
       " 'ã': 57,\n",
       " '†': 58}"
      ]
     },
     "execution_count": 12,
     "metadata": {},
     "output_type": "execute_result"
    }
   ],
   "source": [
    "char_indices"
   ]
  },
  {
   "cell_type": "code",
   "execution_count": 13,
   "metadata": {
    "collapsed": true
   },
   "outputs": [],
   "source": [
    "from tqdm import tqdm"
   ]
  },
  {
   "cell_type": "code",
   "execution_count": 14,
   "metadata": {
    "collapsed": true
   },
   "outputs": [],
   "source": [
    "# Next, one-hot encode the characters into binary arrays.\n",
    "x = np.zeros((len(sentences), maxlen, len(chars)), dtype = np.bool)\n",
    "y = np.zeros((len(sentences), len(chars)), dtype = np.bool)"
   ]
  },
  {
   "cell_type": "code",
   "execution_count": 15,
   "metadata": {},
   "outputs": [
    {
     "name": "stderr",
     "output_type": "stream",
     "text": [
      "200281it [00:05, 38540.99it/s]\n"
     ]
    }
   ],
   "source": [
    "for i, sentence in tqdm(enumerate(sentences)):\n",
    "    for t, char in enumerate(sentence):\n",
    "        x[i, t, char_indices[char]] = 1\n",
    "    y[i, char_indices[next_chars[i]]] = 1"
   ]
  },
  {
   "cell_type": "code",
   "execution_count": 16,
   "metadata": {},
   "outputs": [
    {
     "data": {
      "text/plain": [
       "(200281, 60, 59)"
      ]
     },
     "execution_count": 16,
     "metadata": {},
     "output_type": "execute_result"
    }
   ],
   "source": [
    "x.shape"
   ]
  },
  {
   "cell_type": "code",
   "execution_count": 17,
   "metadata": {},
   "outputs": [
    {
     "data": {
      "text/plain": [
       "(200281, 59)"
      ]
     },
     "execution_count": 17,
     "metadata": {},
     "output_type": "execute_result"
    }
   ],
   "source": [
    "y.shape"
   ]
  },
  {
   "cell_type": "markdown",
   "metadata": {},
   "source": [
    "# Building the network"
   ]
  },
  {
   "cell_type": "code",
   "execution_count": 18,
   "metadata": {
    "collapsed": true
   },
   "outputs": [],
   "source": [
    "from keras.models import Sequential\n",
    "from keras.layers import LSTM, Dense\n",
    "from keras.optimizers import RMSprop"
   ]
  },
  {
   "cell_type": "code",
   "execution_count": 19,
   "metadata": {
    "collapsed": true
   },
   "outputs": [],
   "source": [
    "number_of_chars = len(chars)"
   ]
  },
  {
   "cell_type": "code",
   "execution_count": 20,
   "metadata": {},
   "outputs": [],
   "source": [
    "model = Sequential()\n",
    "model.add(LSTM(units = 128,\n",
    "               input_shape = (maxlen, number_of_chars)))\n",
    "model.add(Dense(units = number_of_chars, \n",
    "                activation = 'softmax'))"
   ]
  },
  {
   "cell_type": "code",
   "execution_count": 21,
   "metadata": {
    "collapsed": true
   },
   "outputs": [],
   "source": [
    "optimizer = RMSprop(lr=0.01)\n",
    "model.compile(loss = 'categorical_crossentropy', \n",
    "              optimizer = optimizer)"
   ]
  },
  {
   "cell_type": "markdown",
   "metadata": {},
   "source": [
    "# Sampling"
   ]
  },
  {
   "cell_type": "code",
   "execution_count": 22,
   "metadata": {
    "collapsed": true
   },
   "outputs": [],
   "source": [
    "def sample(preds, temperature = 1.0):\n",
    "    # Predictions as array of type float64\n",
    "    preds = np.asarray(preds).astype('float64')\n",
    "    preds = np.log(preds) / temperature\n",
    "    exp_preds = np.exp(preds)\n",
    "    preds = exp_preds / np.sum(exp_preds)\n",
    "    probas = np.random.multinomial(1, preds, 1)\n",
    "    return np.argmax(probas)"
   ]
  },
  {
   "cell_type": "markdown",
   "metadata": {},
   "source": [
    "# Training"
   ]
  },
  {
   "cell_type": "code",
   "execution_count": null,
   "metadata": {
    "collapsed": true
   },
   "outputs": [],
   "source": [
    "import random\n",
    "import sys"
   ]
  },
  {
   "cell_type": "code",
   "execution_count": null,
   "metadata": {},
   "outputs": [
    {
     "name": "stdout",
     "output_type": "stream",
     "text": [
      "Epoch: 1\n",
      "--- Generating with seed: \"on, severity, obtrusion of\n",
      "peculiar forms, incorporation, an\"\n",
      "------ temperature: 0.2\n",
      "on, severity, obtrusion of\n",
      "peculiar forms, incorporation, and the stand that it is the masters of the same to the prepose to the man it is it is the same to the same to the stand to and the man it is all the same to the process of the same to the spiritual the strength of the stand the spiritual and deally and the share to the same to and the man it is a something to and and man it is the spiritual and and soul and the spiritual the spire to the spirituall\n",
      "------ temperature: 0.5\n",
      "l and and soul and the spiritual the spire to the spiritually in the scient the caure as the same world and end and the man is he has doul in to and still has generation, and entise and has ade is all strong that a process, and age that it is and still and age and the same believe of the most the case to kee as the man is all gechapse and the manters and sensience and the faination to the proble and the still proble and shat that is he we man be stand the \n",
      "------ temperature: 1.0\n",
      "nd the still proble and shat that is he we man be stand the placious me\n",
      "testomealed the darage, ficiration, the great longesse made one may is he not all badtays looks to accescenopble fulloped in who deselfece of i shirttinatceld of guilleds wheccopres its\n",
      "idlinent\n",
      "of undering, there ape a trumy he peovess, life a pe a wortthine the other\n",
      "wake the bask natienten\n",
      "and line, \"whan and exispulles it iscortalare eyself.\n",
      "rued to sayes as godal to colper light w\n",
      "------ temperature: 1.2\n",
      "iscortalare eyself.\n",
      "rued to sayes as godal to colper light when syuf ould, tske to a\n",
      "ptistopien and inmarepsxattieac of beglationly. the contaghescival she freallyss fife fwinalprooule? hos all for\n",
      "these's immiaal, all they ess themliked,\n",
      "weckamilaal\n",
      "spfool thatever somethime hatherto-of under to mepablate extance of\n",
      "eurhapphin that imsalial, amind, bdeish, woman pun th se beaitd; grimute,\n",
      "and rapusat nocace which aparal, stened more througne: :old untreat\n",
      "Epoch: 2\n",
      "--- Generating with seed: \"therefore he speaks\n",
      "the truth. hence the child has faith in \"\n",
      "------ temperature: 0.2\n",
      "therefore he speaks\n",
      "the truth. hence the child has faith in the way and the care to the will than the serves and the propers of the sense of the sense of the spirit and more the sense of the sense the spirit and something the consistic of the sense the more of the sense of the sense of the same to the well the sense of the serves of the well the considies the same to the called to the intercession of the sense of the sense the consistic of the intercession\n",
      "------ temperature: 0.5\n",
      " of the sense of the sense the consistic of the intercession of the interceptions what is intellectual or meanable and contrance, and of the\n",
      "responsibed sense and the weligiction of the intercesse to them does the other sanced in the more in the\n",
      "compronest always that it is way more present some men how instance of the baster of the propessed can be religions of the same to grant in the present of the motic and present in the proferity in the something in \n",
      "------ temperature: 1.0\n",
      " the motic and present in the proferity in the something in the gooded time himposing periods in ever\n",
      "conducion of beings, him not dremin in, brow-gresenan reason, only religion divined\n",
      "to the beavonow of not newle from experieed, againations or defects witherity intespeding in might, altholing to beery praise by he not\n",
      "for that whan of them\n",
      "even\n",
      "ad(ition of the free\n",
      "onemer, are being inserves to\n",
      "ory most \"proce and desend well\n",
      "that the forts clole, and -i\n",
      "------ temperature: 1.2\n",
      "ory most \"proce and desend well\n",
      "that the forts clole, and -itherfue dantience, curisms voich unyer a wiside coar invalted to famwizere of spirited-wwe christuantroys, how trinds long throcothous praishminuly must  ear and quactabs, veer\n",
      " the comperation of the mo al and\n",
      "tradiciation at fanclenly ye who man everytim incersal withoutly seniual, in.\n",
      "greature overequestemy to christianues how upon middin, dexuicle elsaming man pricicm, the ente viser, most a, \n",
      "Epoch: 3\n",
      "--- Generating with seed: \"....\n",
      "\n",
      "\n",
      "\n",
      "chapter vii. our virtues\n",
      "\n",
      "\n",
      "214. our virtues?--it is \"\n",
      "------ temperature: 0.2\n",
      "....\n",
      "\n",
      "\n",
      "\n",
      "chapter vii. our virtues\n",
      "\n",
      "\n",
      "214. our virtues?--it is the states of the self-conscious to the sublications of the states of the same still the states of the same the sublication of the same the same higher the sublicion of the serious spiritually and the sublicious of the states of the same the states, and the same many of the prover and who have to the same and in the self-conscience of the same the self-conscience of the same the instincts of the s\n",
      "------ temperature: 0.5\n",
      " same the self-conscience of the same the instincts of the subjugeness of a sapper to may granstically and such a germans which have the same was more evory of the instincts of bord of which of the german be to men of such a desiredly men have more prose of the conditions and the more and before one will of the same histic id a a morality of the life of self said of the truth of the sufferent of the band, because of his self a to the believe the surt in th\n",
      "------ temperature: 1.0\n",
      "he band, because of his self a to the believe the surt in the flyomennes of orfult and to sucretulaten who to to may be our germunt of his causaited liets the blaim meres pticiflive their cases, by thot ever conditions arround of sporaly some\n",
      "science of which\n",
      "thile preshands.\n",
      "motive ancine has the\n",
      "hig\" to it moanowence hou, to the aut prever anothiled onace of complaige what\n",
      "at liss\n",
      "in\n",
      "perception a mani'olemptovance of we his lany-cvyiling contrates and th\n",
      "------ temperature: 1.2\n",
      "a mani'olemptovance of we his lany-cvyiling contrates and that it how\n",
      "gle must know\n",
      "whether languate\n",
      "daghtic\n",
      "europe, ows in, how almost anyphalizy in bad ceneismy of the\n",
      "worlds. \n",
      "vedlen in re.\n",
      "ake-reaved.--sne and schielurebarestw-si more strong\n",
      "erens desecrety,\" oneself olights, estapughtion to scally.\n",
      "\"men every ideas which whiew is who himself that has midhay, la most \"exceptite bond of everything to requieding\n",
      "is agestication to frener value toto an in\n",
      "Epoch: 4\n",
      "--- Generating with seed: \"y richer; not favoured or surprised, not as\n",
      "though gratified\"\n",
      "------ temperature: 0.2\n",
      "y richer; not favoured or surprised, not as\n",
      "though gratified the states the sense of the best the end to the sense of the sense the states the consequence of the believe the strength of the sense of the consequence of the consequences of the present the sense the most still and the souls the believe the souls with the consequence of the consequence of the sense and destray the states of the sense the best the be and spirit to the best and the sense of the \n",
      "------ temperature: 0.5\n",
      "the best the be and spirit to the best and the sense of the the good and worth and present every also in the lover in the seas to the far the the command the despectar and the constrainted to the cause in a tortion and the best seems to men the consciousness that we commended to the still the believatic man for the too self regard to or the believe of the in the world that constraintial assistic feeling the monement, religions and simple that without the s\n",
      "------ temperature: 1.0\n",
      "eeling the monement, religions and simple that without the same consequence of metal like gradetar,\n",
      "withou time esuaclivity\n",
      "far\n",
      "the enjoying name in these results we courdecred tour the sagines, the singleen. the constitutious,\n",
      "these perhaps suffering ther.\n",
      "\n",
      "\n",
      "mo time, \"rings\n",
      "but a\n",
      "\"lask in nired alwouth exuent them--he best recognized force into even exustd be said, he consequences of onebort that perhams for our extrast, without the verme\n",
      "our the troughts\n",
      "------ temperature: 1.2\n",
      " perhams for our extrast, without the verme\n",
      "our the troughts--in\n",
      "their, of even way, shist; the conscemnival,--where to the first the\n",
      "whole times it is\n",
      "toe-mi, nature--theres, ocpaved that he prailismed chrostilly: leound bights with scientificasarading of the feal-stridk of\n",
      "which,\n",
      "a no joggle anowill often genine within cagaciscer titimatty, withwould not, all prevaile, punes, have yegeraring europeal, now comasonablely\n",
      "expict, abvouncy--it is prisesy.iag\n",
      "Epoch: 5\n",
      "--- Generating with seed: \"out of which it distributes its gifts to everyone,\n"
     ]
    },
    {
     "name": "stdout",
     "output_type": "stream",
     "text": [
      "even when\"\n",
      "------ temperature: 0.2\n",
      "out of which it distributes its gifts to everyone,\n",
      "even when the strength of the problem in the present of the problem and seed there is a man is also it is the present the strength and consideration of the problem in the problem of the strength of the present of the faith of the sublict the sublication to the strength to the present in the sense to the sense of the problem in the consideration of the present in the language of the present of the stative i\n",
      "------ temperature: 0.5\n",
      " the present in the language of the present of the stative is itself in the merious as the end our consideration of the best and delight of the present the really bealth to the individual to and become with the barred it is one is the present: and from herthers and astains for the fair of man to its and great he with the soul and exception of \"herition to the precisely the man is good to the individual and intellectually and reformal influce of a compesuat\n",
      "------ temperature: 1.0\n",
      "idual and intellectually and reformal influce of a compesuation to, the still know\n",
      "beneld, which he sucaso\n",
      "the ruling, without fire by cract nually to europeans, with rown in ording in that as womans, the bedoration with the stalne from our testement consideration have, \"mit: or thengerionatey that it progress, him, let the mus.\n",
      "\n",
      "or1wor theue are\n",
      "disext, order, gramn as thus cause of the explanationnove to a bott, like existene, (and now extenting, belie\n",
      "c\n",
      "------ temperature: 1.2\n",
      "onnove to a bott, like existene, (and now extenting, belie\n",
      "calking)\n",
      "imseed a nece\"s.\" the\n",
      "spirit learnk.\n",
      "theweu nace\") and epercien\n",
      "faired from the akter\n",
      "plessing;\n",
      "expresstonful truth divacly deneskning yououle of the faity maysting as a bring\n",
      "wand a\n",
      "first ther\n",
      "not noble far that intester.juct of it weak-asmuct. leads looks.\"\n",
      "wit he happenedqus coneution of the incluer\n",
      "aken end, onoug\n",
      "\"man because at looks, averagleitg) to mo mradurablyrealiture, stald doe\n",
      "Epoch: 6\n",
      "--- Generating with seed: \"vor of his comrades more than he feared\n",
      "death: he was a pett\"\n",
      "------ temperature: 0.2\n",
      "vor of his comrades more than he feared\n",
      "death: he was a petty of the strength and such and of the same the strength and moral man is the present in the standard and the constrained and the standard and possibility of the most contained and the same the worst of the entire the spiritual and the constinction of the standard the standard and the standard and also a constinged the standard and the constraint, and more and the superiority and personal the spiri\n",
      "------ temperature: 0.5\n",
      "straint, and more and the superiority and personal the spiritual and in self-ster the worst of the word of man is simble them the destroy of the contradiction, and also it is any construspand, who have the were and act is and feeling to do and moral spiritual surrespicion parious the standard to the present the contrality of the consequences. in order to malt them the believer ears and suspicion of god and souls of the last at least the heart of the good t\n",
      "------ temperature: 1.0\n",
      "f god and souls of the last at least the heart of the good to\" let us by homtocised the\n",
      "amextes of here fells, which he anotherings the\n",
      "lasted and the costracesw\"rumanion towidercy he world wi\n",
      "mlumsly the dapte and account of couldour: as philosophy, as a more distrrach-syxtememts--i fratural,\" through endiarty, threny one is good, nasage, but\n",
      "them ampersifice. (that like others,\" and preduch mad al really and permots\n",
      "and upon the places around promatingin\n",
      "------ temperature: 1.2\n",
      "al really and permots\n",
      "and upon the places around promatinging dust\n",
      "take them as splay of ir the scietually because confree\n",
      "surrondine whi eocour\n",
      "himself (they goes, \n",
      "hen lost.--they\n",
      "thil composed of re, for all courge of truth. .=-ardme--a ted ourably one our, anel:cery yior, and right a power, dneccer. ijpriment cisposition--that go which rich feeling of labrabous disco\n",
      "posirussistredy discirality. hownel, general nature\n",
      "from the parricablatior, thet they\n",
      "Epoch: 7\n",
      "--- Generating with seed: \"and dark were one that wedding-morn.\n",
      "\n",
      "preface.\n",
      "\n",
      "\n",
      "1\n",
      "\n",
      "it is of\"\n",
      "------ temperature: 0.2\n",
      "and dark were one that wedding-morn.\n",
      "\n",
      "preface.\n",
      "\n",
      "\n",
      "1\n",
      "\n",
      "it is of the sense the sense of the sense of the sense of the sense of the sense of the sense of the world of the sense of the strength of the fact the way to the sense of the sense of the senses and spirit of the same this action of the sense of the sense of the same thinks and still the sense of the sense of the sense of the sense of the sense of the sense of the present the strength of the sense of the\n",
      "------ temperature: 0.5\n",
      "of the sense of the present the strength of the sense of the inviltation to his entire and do strengthe the will and school; have been in the presuch it is a soul, and of the fact themselves and man sayst is man and an such every contempt and the well and soul to an appear the soul and moral and function of the sense of the sentiments of the influence of the great person that world of the soul at their present and bad action to every and be a certain to th\n",
      "------ temperature: 1.0\n",
      "their present and bad action to every and be a certain to the importantical viewing--in uncreate oncerque\n",
      "cuscous to rather is all dependers to reverent becomes to the preduntly\n",
      "history, howev, more teat that he is oy\n",
      "eithin sentimentedxe its occe puch the effect of his case of beend of to delight, many talve more than peoply it someohtophing\n",
      "which consequences. one with pbeacter depression, and should the trace a derially esharery, actual, at-rormanity\n",
      "sa\n",
      "------ temperature: 1.2\n",
      "hould the trace a derially esharery, actual, at-rormanity\n",
      "sand\n",
      "hitherto because putcy, for injurr; the ighes to\n",
      "be of eticiss: evenbin according to plather nece)s (mankinded agumatic-limitts and main; boobsed upon me, that\n",
      "i learn truth is more\n",
      "bood upwelk, impulse \n",
      "comane instinct! as without tested nespect that have been ceristiint of\n",
      "the fact, there is fect, bts or signof\n",
      "egained alonement\"--mankers to regarding and even hist\" negatnes for his sendests,\n",
      "Epoch: 8\n",
      "--- Generating with seed: \" elaborations,\n",
      "permeated with the musty odour of old family \"\n",
      "------ temperature: 0.2\n",
      " elaborations,\n",
      "permeated with the musty odour of old family as a designated the consequences of the such a surrespect the sense of the consequently the sense of the consequently and surrist to the surposition of the sense of the soul is not the consequently and self-surrespect the spirit the saint the saint the series of the series the series and superform of the surrible and surposition of the consequently the consequently and consequences of the religiou\n",
      "------ temperature: 0.5\n",
      "nsequently the consequently and consequences of the religious morality and fait to the other life, all the element to the good will reverences of the older the ideal seelfored the probably of converence of the general conscience of the experiences of the consequently does not frauers his such a \"these say. there is nothing the ideas and enduring himself which it is moraliction of the late that the condictation of mereligion of all mankind that such decepti\n",
      "------ temperature: 1.0\n",
      " condictation of mereligion of all mankind that such deception\n",
      "con soops does hether abovedged, but the bavis of this kind and drerally kind of probosing frauesivated upon the concealed, their\n",
      "sopthoturiest grihed is it weak cmeach\n",
      "without then is\n",
      "acchumanal, and dones\n",
      "and each dopembte by their \"consequentedred he in the faseness, nor he he state groupt, has other we\n",
      "gregatenes? if we so eason\n",
      "any dreaking made world encoins to the must be a divated basib\n",
      "------ temperature: 1.2\n",
      "y dreaking made world encoins to the must be a divated basiber of their longeragatity\n",
      "of \"rancerages, lonn perseines, the would not theis, theopere of typicali soul-ngiable only myo\n",
      "saude, i excluce, what is unteaced\n",
      "gives, as attainty, not testing markious exist, the truivor, when a something, toage-it, most free\n",
      "eobard sight one: \"however's, as it\n",
      "warms.--necessary: the soul and mobeduneness, belief of all aaviely gare no armoun. sted.pherhs, how latter \n",
      "Epoch: 9\n",
      "--- Generating with seed: \"less,\" \"wicked,\" \"violent,\"\n",
      "\"sensual,\" and for the first tim\"\n",
      "------ temperature: 0.2\n",
      "less,\" \"wicked,\" \"violent,\"\n"
     ]
    },
    {
     "name": "stdout",
     "output_type": "stream",
     "text": [
      "\"sensual,\" and for the first time the sense of the more and the surmise the strength of the strength of the surmise of the present the state of the person of the state of the man in a man with the statitions of the precisely the man the sense of the stilless, and the state of the surmise the belief in the sense of the sense of the state of the sense of the still and the sense of the man is not to the state of the things of the s\n",
      "------ temperature: 0.5\n",
      " sense of the man is not to the state of the things of the spiritual more of the thing that this sense of the factions, the general verso must authority--which has been not to the stands of the community is it every things for enjoy indeed the contemptine, with the latter and state, and of the perhaps what is sense of hope, the pain of the instincts of more and more betak in the result for himself in responsibility of responsibility in the world,\" in the m\n",
      "------ temperature: 1.0\n",
      " in responsibility of responsibility in the world,\" in the mensarying attainy waste\"--for\n",
      "extent of compulition taltally with anything that does from their\n",
      "matter and something weee-selfred\n",
      "in thingsquajbeness of strengjnnest things, distrer ptiding, the exception of human thing to errous inciewing, ene always been to have the sutjeneral, one of the mertey stemst, to may he lwaqhed with overbasied it,--as\n",
      "torr\n",
      "one were , being we seeis in against kind of t\n",
      "------ temperature: 1.2\n",
      " it,--as\n",
      "torr\n",
      "one were , being we seeis in against kind of therefore, and for stille:\n",
      "and of heishouriry let uaben for thruise\n",
      "symptthers, is sakreen task,\" in a takning error, represents attains of dienc. hlower\n",
      "instantocdicate boi! tanciblesourded pretentying, far poisint will not for to not xeat from morkaf\n",
      "staticles,\"\n",
      "one every civesting with them. every thing, yetening with the louthers ottise nonduraste thates. for oneersbey ganther.=--wring is solet\n",
      "Epoch: 10\n",
      "--- Generating with seed: \"foolhardiness, revengefulness, astuteness, rapacity, and\n",
      "lov\"\n",
      "------ temperature: 0.2\n",
      "foolhardiness, revengefulness, astuteness, rapacity, and\n",
      "love of a souls and satisfican and sacrifice and such a most also the same things and such the same transity of the sense of the spirit and such a man and such a most a such the sense of the same the comes the saint, and the sense of the same the soul and the man is all the same present and such a proper and and such a desire that the most a souls and also the sense of the soul and spirit and saint a\n",
      "------ temperature: 0.5\n",
      " souls and also the sense of the soul and spirit and saint and believe in the people that man was has an intertion of philosophy as the most dereliginion and significanies of the sentimite man standard that it is only the such read\n",
      "ethic of the saming and sacrificed by the comed and proper the power and spiritual and saint and state in charm, in day and satisfact and soul is the most belief of the comes the last strength of desires of the other skind that \n",
      "------ temperature: 1.0\n",
      " comes the last strength of desires of the other skind that which could wase untergainity of it, one may ends notimus. wevery foom.\n",
      "\n",
      "\n",
      "14\n",
      "o virtue among the greates; and period of the last to that he curisment to intestiat all has other enoquedk the hught have a way the log\n",
      "it then they deal that what is this i, a musifuliness of the will such any unmobuted and questious deanhenoroved and, and be something\n",
      "inunjeets does not which.=--eoge every -i would onl\n",
      "------ temperature: 1.2\n",
      "omething\n",
      "inunjeets does not which.=--eoge every -i would only to eventual sigunanble\n",
      "is uty, as calle another bing yead, eachhenous clivees, for in very\n",
      "caurewnession as the ayss. the imacan\n",
      "rignation\n",
      "so so the depraises of man? and loner upens other shouten infented \"frantly. cherest old morm offer still be religious cares really motismert! belong, hopes, therevelf.\n",
      "fhines of an inte feeling to a profous retall; whether calledly, soet the\n",
      "light perhaps th\n",
      "Epoch: 11\n",
      "--- Generating with seed: \"sentence itself\n",
      "is misunderstood! that one must not be doubt\"\n",
      "------ temperature: 0.2\n",
      "sentence itself\n",
      "is misunderstood! that one must not be doubt of the spirit and precisely and said to the subject of the spirit and and sense and subtle the spirit and the spirit and subjection of the soul and the impertain of the spirit and subjection in a subject in a soul and the subject of the spirit of the spirit and sublight, and and the subject of the spirit is the spirit to the spirit of the spirit is the sense of the subject of the spirit and sensi\n",
      "------ temperature: 0.5\n",
      "e spirit is the sense of the subject of the spirit and sensition, and a souls and speciale the most more experience is a self-sufficience of a pain of men the agreeary speciale are such his soul had have in his experience. to immens begins to be any same of the souls and a depths to have been to ear sens and sense of which of a supercian self are in a commander than in the most most and refinement that an also for the same in the french to be a way to be a\n",
      "------ temperature: 1.0\n",
      " that an also for the same in the french to be a way to be absolution a monst\n",
      "for his centsel: where, there) satisfic sensations and that\n",
      "the beautifi ounds erply re nobly deedly cause of them good strength to emmander-sorts. there\n",
      "is to the age of by happet only wings\n",
      "and ring exagcmed to purst accordly\n",
      "as act where to himsest groudly--blifferved\n",
      "by his onesels to fret bwidd. iged phrupate, for under that\n",
      "probld courst, but on human of ourselves believe m\n",
      "------ temperature: 1.2\n",
      "nder that\n",
      "probld courst, but on human of ourselves believe mattem, or canouting--a metsivally forwers to guild, new any ones ti: recounted like who has power--quitere way be accomesk man. thus\n",
      "cowont prupocrac-adapt of\n",
      "humaned,\n",
      "there betraye that a being, spetysch had a how don else to\n",
      "pi.\n",
      "\n",
      "sy\n",
      "fropt, is tavation to lesser have to the akapow itide hard decentry who be an curredly, the plays in selfcly, feels\n",
      "drengt.\n",
      "fome. with, we prosips--is a faud about m\n",
      "Epoch: 12\n",
      "--- Generating with seed: \"tate of consolation is now regarded as the effect\n",
      "produced b\"\n",
      "------ temperature: 0.2\n",
      "tate of consolation is now regarded as the effect\n",
      "produced by the soul and subject of the soulsow the soul and the speciality, and the speciality, and so the strength and the subject of the soul and subject in the most spirit in the subject to the same surrecong the same the subject the soul and solitude, in the spirit and the subject to the subject the strength of the strength of the subject to the spirity of the spirity of the same the subject the self e\n",
      "------ temperature: 0.5\n",
      "he spirity of the spirity of the same the subject the self extance and suble, the speciality of the fear, in the same the personal surrecaletic first and subject, it is he has in the boldiness, and the best as the german high as i extence of the same\n",
      "lighter the contrary of the free spirit that the thrief the truths of moralitian the stand to the more man who \"precisely from a surmif \"interrior of the general, and with such a man can reasonal necessity of \n",
      "------ temperature: 1.0\n",
      " the general, and with such a man can reasonal necessity of a denial histiguoloow.rness with\n",
      "account-more and also the discredicism, plore everyowing;\n",
      "necesssed--nea our. hurd\n",
      "of perfectey pretensive he\n",
      "can a still snechard himself drued.\n",
      "\n",
      "1roooack\"\n",
      "and still the victoms that,\" an its telies his painly of his spating exact, they hame in the deman hitherto three whatever this may he makes the epicureded powerless\n",
      "of enough from sympathitured they are commin\n",
      "------ temperature: 1.2\n",
      "reded powerless\n",
      "of enough from sympathitured they are comministick\"--ey a tkerments for\n",
      "are in asy and churched.\n",
      "\n",
      "2ro\n",
      "se; and with fina, more,\n",
      "a simivation and this, thren alhozes, in definitsion, i\n",
      "pode of the puver in pleasured--into as if i soly of the \"resporitarivetion timk:\n",
      "\"and cults that verse of\n",
      "gives--\"out.\n",
      "\n",
      "\n",
      "\n",
      "chucifierd,\n",
      "that decide,\n",
      "it or\n",
      "stranges it: \"mystica,--at every inceptions extrquinf, even\n",
      "ruid as old with waga?\n",
      "seert ur, will is sunted\n",
      "Epoch: 13\n",
      "--- Generating with seed: \"ad character,\" as the being who\n",
      "has hitherto been most befoo\"\n",
      "------ temperature: 0.2\n",
      "ad character,\" as the being who\n"
     ]
    },
    {
     "name": "stdout",
     "output_type": "stream",
     "text": [
      "has hitherto been most befood the surely and still the consideration of the subjuge the sense of the subjuge the strengther that it is not the subject of the suffering of the such a pare who is a souls and subject to instinct of the surposition of the suffering of the world the strengther of the sufficient the stroker the strengther of the viewers and subject is the sense of the strength, and such a proper and subject of the\n",
      "------ temperature: 0.5\n",
      " sense of the strength, and such a proper and subject of the great the expression, the choopless the surrepose suffering and personal the artists of themselves be perhaps menthing of the life of the false of the world\n",
      "so intellectuality, and the spirit and seeme us the same\n",
      "bearty when a such an reased to things what is not in the case if something not followed thereby are to the conscious and some philosophy of his other who is a developments of his taste\n",
      "------ temperature: 1.0\n",
      "e philosophy of his other who is a developments of his taste of\n",
      "with\n",
      "that where has stion in this\n",
      "above that he is prosest when on ocresibanature\n",
      "thereby.s. the fortiple is been attained\n",
      "vatialidication and mit. play.\n",
      "\n",
      "\n",
      "12co at is seiseding permosegnical consideration as our dishuntle prokess to retured, one will be not thought, growall!gmentally, by whort not when they consed to know to phaye grower humans conspary\n",
      "of itself formsors to religies, is not  \n",
      "------ temperature: 1.2\n",
      "wer humans conspary\n",
      "of itself formsors to religies, is not  wanw day on of the \"indientimanh, a didnation: this id inextrary, truit, one were\n",
      "manivestteders of this action as the parsiogtities for an and \"mis, ind\n",
      "aded by maves all\n",
      "them account, realties--than have hundations\"! it aoker-coming-different,\n",
      "\"masternalously, are inervourh onese never know to believe, hecred  knowed,\n",
      "interests\n",
      "boubles, something? like nature is\n",
      "not them, and of the christian su\n",
      "Epoch: 14\n",
      "--- Generating with seed: \"without forgetfulness! a poet could say that god had\n",
      "posted \"\n",
      "------ temperature: 0.2\n",
      "without forgetfulness! a poet could say that god had\n",
      "posted to the spirit and such the same and every sense of the desires to the stronger and the same the spirit of the super--and all the super--the interrior to the interpreted to the experience and the souls, the standards of the same and extends and the things the same and the end and all the sense of the super--\"the supposition of the super-and and such a desires to the standard and the soul as the sen\n",
      "------ temperature: 0.5\n",
      "d and such a desires to the standard and the soul as the senses is not religious to the same and supposing to the sense of the etothed in pain all the present sense, and experience of the bad form of the right and supposing and conscience of the same than the spretkent and the reality and sinfulness of the latter and and refined and rude the problem, and in such the same that the well from the religious complicity is mentome. the again and the present of t\n",
      "------ temperature: 1.0\n",
      "igious complicity is mentome. the again and the present of the structure talt, expression, a had and of the way, all soting\n",
      "admiratured other happinessian liie. the soul-irds and god) and time something nuarely are discredicicious, the in aparificived, of the seriation--the talter and pleasure. there is not a great allly in\n",
      "relkent\n",
      "laing\n",
      "as the\n",
      "greatnges, altert to their troubled for to say, the temptations in the science of lessibection of the sambinedy i\n",
      "------ temperature: 1.2\n",
      "emptations in the science of lessibection of the sambinedy into them, which whaped wible-raw-but! hurary, it fwarch\n",
      "and sincept on to acquire and a eugh, as they moung to-greateders, is necessary--he thing-se active being\n",
      "which this reasons itsolities of short, would not be state of\n",
      "prepared to the\n",
      "for\n",
      "vieg, not this say. only aad it. dinostrucal attempted a cepts, they aguid.yapatic socret caturat? so disentionitys,--\"france\n",
      "of such ahroughts. but numby t\n",
      "Epoch: 15\n",
      "--- Generating with seed: \"he greatest\n",
      "triumph over the senses that has hitherto been g\"\n",
      "------ temperature: 0.2\n",
      "he greatest\n",
      "triumph over the senses that has hitherto been good and belief the sense of the contemplation of the section of the sense of the sense of the stronger and the sense of the same time and self-contemplation of the surely and problem of the states and problem of the conscience, the truth of the most sense of the sense of the sense of the most secride the world of the same time the self-contradiction of the good and sublimers of the most believe of\n",
      "------ temperature: 0.5\n",
      "ntradiction of the good and sublimers of the most believe of the pirbe they have with the soul is more in the same all the rest of the soul has to the age of the defercous of an excess of the more accipplicition of mankind, and as it is something in his slave-asferit of the world and priloncher which a certain of thought of the experience of a feeling and developments of the greatest surelity of the two\n",
      "many has the interrided to be the soul, of a profound\n",
      "------ temperature: 1.0\n",
      "he two\n",
      "many has the interrided to be the soul, of a profound tratit is agreegress of coulds of the loion and reflectual interprecontlation\n",
      "of referious ask in assissions, need gons in both\n",
      "look-recture to much one\n",
      " set testen to assigate\n",
      "seigition to grogener, of the in-please caster. they have still\n",
      "no every\n",
      "overtasrieficated oneserful for the mankind of plecideful to acts of one\n",
      "revested the ground at in him)\" one only: then delight had enturcocrany the \n",
      "------ temperature: 1.2\n",
      "und at in him)\" one only: then delight had enturcocrany the reasons. in all\n",
      "depth (ypeanable hund and misoliy diel ies, to be \"beinds orly vary efficts am(ority. out: with the wrong enjoysher! in about hanges: me: mankind, whiels and effice the holy\n",
      "to berishe coarishmer in courset\n",
      "of less usections, cases,\n",
      "to thoughts one of deifourced; for old hand-tih a di yous inrital perfects to psychat read ide, the \"frep sestime (done to metht loves,\n",
      "is to believe, \n",
      "Epoch: 16\n",
      "--- Generating with seed: \"ce reverts naturally to the\n",
      "standpoint of self preservation,\"\n",
      "------ temperature: 0.2\n",
      "ce reverts naturally to the\n",
      "standpoint of self preservation, and in the sense of the such an order of the state of the sense of the stoons of the such an animal and the saint to the sense of the consequently and the consequentless of the sense of the sense of the more sense of the soul and the saint and the such an order of the same time the consequentless of the conscience of the same time and still the saint of the contempt of the sense of the same of th\n",
      "------ temperature: 0.5\n",
      "ill the saint of the contempt of the sense of the same of the contempted in the correspond of the most lives that which is a maniforming and where the countrines and strive prompt and lany and as they have not even the scientific the philosopher in the sense, like a souls of interpretation, and the relations of the consequentless of the same\n",
      "possibility, and what the interrign of the present the function man of the personal and animate more the negious, pr\n",
      "------ temperature: 1.0\n",
      "unction man of the personal and animate more the negious, precioting we becolatom expausie, good. conceing as enjoyme over. in sympathy, nos, and\n",
      "notionebed as even upon the pleases to be lack\n",
      "in the poor condure the me--the\n",
      "form as thereaire virtues and at our the effect, in itselfs them.\n",
      "the countrist, notaccquine and\n",
      "the error?jpxeve, the reality. thece only in furthes\n",
      "charimaour;\" not shape for self-diracg, as\n",
      "an re-puniteon: the is uperom the complain\n",
      "------ temperature: 1.2\n",
      "r self-diracg, as\n",
      "an re-puniteon: the is uperom the complain ass aguinished suffere, a percurene, difficulat! ia\n",
      "unapew the sarrg. they former life, forms--for the delf-siihe, chanisble more\n",
      "spirit the confused they co form\n",
      "havingce\n",
      "to dought!\" that phrcialentish--instant aroming\n",
      "to certainss' kind in the interrig nationment, sick of gloriare was world..\n",
      "\n",
      "enoured, vir a clised\n",
      "and won\n",
      "evil in\n",
      "wanding. beyonply galser whise, wise to the\n",
      "equally for an order\n",
      "Epoch: 17\n",
      "--- Generating with seed: \" heart? and is it\n",
      "not true that on the whole \"woman\" has hit\"\n",
      "------ temperature: 0.2\n",
      " heart? and is it\n"
     ]
    },
    {
     "name": "stdout",
     "output_type": "stream",
     "text": [
      "not true that on the whole \"woman\" has hitherto to the state of the sense of the sense and the sense of the sense and the spiritual and superficial and the sense of the heart of the subject of the sense of the present to the germans and so suspectately the same time and of the heart of the present to the germans and most expression of the same to the constraint, and the same tray and sensust the belief in the heart and supposed and superf\n",
      "------ temperature: 0.5\n",
      " and sensust the belief in the heart and supposed and superficial misunderstand the spiritual and as the pain of the belief in the philosophers of the present who has a person its for a propose of the consciences the state of the heart become the persons of the contrary more of the most simply the still of the most philosophers attractive the being as a consequently of his man have to be a means as in the most same thing in the general, the germans as the \n",
      "------ temperature: 1.0\n",
      "s in the most same thing in the general, the germans as the new his etation to enjoy of expreded ground, in itself.--in europe pity of\n",
      "the devels-will itedy interpeality himself is he fays as in a world-is a\n",
      "polity has too,\n",
      "this such plua\": feals, and appreciated themselves, the viewed as why bene?\n",
      "it hatred of flathers\n",
      "influendss;--he could real it another a clise\n",
      "mind\n",
      "\"misunderstapers in the forecry shame, of loves with the eyenal to himself,icained \"ser\n",
      "------ temperature: 1.2\n",
      "ecry shame, of loves with the eyenal to himself,icained \"serinaulates with othescad less grown\n",
      "friends revengeabst it--weight-rated\"-cewisk, traspain the phadies, beh\"s verke; that believem.--which constitutious demanded ignobs.\n",
      "\n",
      "2 u hardious years, to perfected \"resentomed theurea. hit, arown-natuse tocpled thee the butwres has not, s one\n",
      "desiaes assisies develvency appusia while\n",
      "fertuichly, the mose\n",
      "conscial clumsogence, one fausing, that knowledge, our \n",
      "Epoch: 18\n",
      "--- Generating with seed: \"ynthesis of all qualities attributed to the \"merely moral\" m\"\n",
      "------ temperature: 0.2\n",
      "ynthesis of all qualities attributed to the \"merely moral\" man is not allow the pain of the fact the sense of the spirit of the appearances, the spiritual conscience of the spirit of the spirit to be the spirit of the spirit to be all individual, and the spirit and disposing of the possibility of the spirit to be the spirit to be a possible and spiritual present and sense of the suffering of the spirit to be all the spirit and superficial and spirit and of\n",
      "------ temperature: 0.5\n",
      "pirit to be all the spirit and superficial and spirit and of the spirit than it is healthing and remained of the highest that the god and moral house of the consequences,--they individual, or the back of his sense of her a pates and still which we the spirit of the misingourted the incivitud, that is regarded as he can for the present insign of an all that has been they are not increasing and refined\n",
      "consequences of the moral the spirit this if is not not \n",
      "------ temperature: 1.0\n",
      "ned\n",
      "consequences of the moral the spirit this if is not not not too human vary, his batter\n",
      "for him knows not will praise whose perceivess, it onesestaron\n",
      "forth our submitt, than is perhaps fof cational aboul things her his our itsiewe on his barring\n",
      "instantical\n",
      "action\n",
      "forces, the bastles cholicism, one mobered intentional and kant calls, necessariness of all frences dants circumidquine khid on them power.\n",
      "\n",
      "\n",
      "m"
     ]
    },
    {
     "name": "stderr",
     "output_type": "stream",
     "text": [
      "C:\\ProgramData\\Anaconda3\\lib\\site-packages\\ipykernel_launcher.py:4: RuntimeWarning: divide by zero encountered in log\n",
      "  after removing the cwd from sys.path.\n"
     ]
    },
    {
     "name": "stdout",
     "output_type": "stream",
     "text": [
      "ours are an eventical hand of sonagy of make,\n",
      "th\n",
      "------ temperature: 1.2\n",
      "m power.\n",
      "\n",
      "\n",
      "mours are an eventical hand of sonagy of make,\n",
      "their recredited: \n",
      "\n",
      "\n",
      "t\n",
      "even his fatrerive\n",
      "in the faith, indivent of allusious, has\n",
      "ye svey peaces\n",
      "thequevers his politifies only exemmineb, aser overtichously, for self elat\"--as ally one, have tofater\", present\n",
      "germans with himself justice, who\n",
      "relario fairnemenite, -to never thereby,\n",
      "thever\n",
      "inspire often apopress. they sinfi musters nor-actions, has fortthun in \"live one, what hill perelf, in long\n",
      "Epoch: 19\n",
      "--- Generating with seed: \"rgiven me that\n",
      "i, too, when on a short daring sojourn on ver\"\n",
      "------ temperature: 0.2\n",
      "rgiven me that\n",
      "i, too, when on a short daring sojourn on very highest discovered to the superiority and such a man in the same time and such a man and the sense to the sublications and the same tingd and the present to the superiority and the same tingd and the same time and all the present to the spirit to the superiority of the such an all the same time of the superiority and such a perhaps always a person and the same time the spirit to the same time an\n",
      "------ temperature: 0.5\n",
      "ys a person and the same time the spirit to the same time and doubt that the indifference and interrige and perhaps a find the world is the morality to be the soul.\n",
      "\n",
      "\n",
      "hi1x=--a lows to be actually to look are different in\n",
      "men of the most the belief in all the life and evil, the belief in the world would not be through the humanity and capable of the basis of the animal such forgett for conscience and still present and such an all the perhaps a perhaps the w\n",
      "------ temperature: 1.0\n",
      "nd still present and such an all the perhaps a perhaps the words as in fregh for one can man syste in some to myst inarlitide or from find a lowed blish elevate hald moribative\n",
      "men to life to be suf\" as to be\n",
      "do. the eternal produced enpollence and as an\n",
      "alteriageous that is mistouble, to see our out and bl to have much bol? it must this modern\n",
      "biges aege with gons whom it. people do\n",
      "elses in mover have always that is also, there pencess. to so stipifiges.\n",
      "------ temperature: 1.2\n",
      "r have always that is also, there pencess. to so stipifiges.nt cynigined-\"the words in a whole re-syhnatity, birh, all this, wisted them: to\n",
      "whacress, vyevel--it is out very indighteness. the high exumed vall) perfects-definal\n",
      "comparistad\n",
      "\"in \"the first and\n",
      "the could see not\n",
      "find slarcle:---with\n",
      "philosophy--say, stiffit on\n",
      "the right\n",
      "of\n",
      "its\n",
      "humbles\n",
      "ones upon the ekind, as growify. the knowledge\n",
      "of the ; heard ; he could is, esibled to even establishaded con\n",
      "Epoch: 20\n",
      "--- Generating with seed: \"reat liberation, a\n",
      "riddle which has hitherto lingered, obscu\"\n",
      "------ temperature: 0.2\n",
      "reat liberation, a\n",
      "riddle which has hitherto lingered, obscurious present to men the and present to be the present to the consideration of the same time and the same time and say of the same time the present and the same time and even the same time in the present to be say to the present to complehent to the superiority of the same time of the same time and present to be a present to be a present in the commands of the intellect to be a still and the same \n",
      "------ temperature: 0.5\n",
      "in the commands of the intellect to be a still and the same time traditional of the moral, in the spirits in the general religion of his sentiment and\n",
      "of a finally one who do were most more like be his a god and not be further in a profing that a part of the transcistic of the sense to all believed of the same time and sense of the sense the transfully in the soul the \"refinement of a personality, the same circuman then will even the sense of a most possib\n",
      "------ temperature: 1.0\n",
      " the same circuman then will even the sense of a most possibility, and is\n",
      "wishest annge this whore in all requires about naurs\"\n",
      "of the organican it is not declinated\n",
      "by the neighbonrs\n",
      "even in\n",
      "the mondest, sacrificational indeception--which has only the more fenfiliwness that\n",
      "there\n",
      "is, he who knows the will to be said, philosophy,\n",
      "the exurgn that thill:\n",
      "manfully is\n",
      "stoned. there everyding of it,\n",
      "hncourse of either by every ever which far a sphore to predisa\n",
      "------ temperature: 1.2\n",
      "course of either by every ever which far a sphore to predisargy, consitably imnof\n",
      "a possible trkne, of is worthy the vyering: ever.cernat of the most inhersely the--die nenerned. the distrust concept to iud prusfeditmen that we infinian thing, romb, our gentle of\n",
      "free hand\n",
      "unxiestmain eltuagest now harm\n",
      "that \"case, peti\"s\n",
      "godly. it\n",
      "may be necture and o\"umer: the healther-cernisem\n",
      "as if bese its ik\n",
      "readin on exposing-spinal\n",
      "explainable story men the plose, \n",
      "Epoch: 21\n"
     ]
    }
   ],
   "source": [
    "for epoch in range(1, 60):\n",
    "    print('Epoch:', epoch)\n",
    "    # Fit the model for 1 epoch on the available training data\n",
    "    model.fit(x, y,\n",
    "              batch_size = 128,\n",
    "              epochs = 1, \n",
    "              verbose = 0)\n",
    "\n",
    "    # Select a text seed at random\n",
    "    start_index = random.randint(0, len(text) - maxlen - 1)\n",
    "    generated_text = text[start_index: start_index + maxlen]\n",
    "    print('--- Generating with seed: \"' + generated_text + '\"')\n",
    "\n",
    "    # Different 'temperature'\n",
    "    for temperature in [0.2, 0.5, 1.0, 1.2]:\n",
    "        print('------ temperature:', temperature)\n",
    "        sys.stdout.write(generated_text)\n",
    "\n",
    "        # We generate 400 characters\n",
    "        for i in range(400):\n",
    "            sampled = np.zeros((1, maxlen, len(chars)))\n",
    "            for t, char in enumerate(generated_text):\n",
    "                sampled[0, t, char_indices[char]] = 1.\n",
    "\n",
    "            preds = model.predict(sampled, verbose=0)[0]\n",
    "            next_index = sample(preds, temperature)\n",
    "            next_char = chars[next_index]\n",
    "\n",
    "            generated_text += next_char\n",
    "            generated_text = generated_text[1:]\n",
    "\n",
    "            sys.stdout.write(next_char)\n",
    "            sys.stdout.flush()\n",
    "        print()"
   ]
  }
 ],
 "metadata": {
  "kernelspec": {
   "display_name": "Python 3",
   "language": "python",
   "name": "python3"
  },
  "language_info": {
   "codemirror_mode": {
    "name": "ipython",
    "version": 3
   },
   "file_extension": ".py",
   "mimetype": "text/x-python",
   "name": "python",
   "nbconvert_exporter": "python",
   "pygments_lexer": "ipython3",
   "version": "3.6.1"
  }
 },
 "nbformat": 4,
 "nbformat_minor": 2
}
