{
 "cells": [
  {
   "cell_type": "markdown",
   "metadata": {},
   "source": [
    "# Chapter 4.4 - Overfitting and underfitting"
   ]
  },
  {
   "cell_type": "code",
   "execution_count": 1,
   "metadata": {},
   "outputs": [
    {
     "name": "stderr",
     "output_type": "stream",
     "text": [
      "Using TensorFlow backend.\n"
     ]
    }
   ],
   "source": [
    "import numpy as np\n",
    "from keras.datasets import imdb"
   ]
  },
  {
   "cell_type": "code",
   "execution_count": 2,
   "metadata": {
    "collapsed": true
   },
   "outputs": [],
   "source": [
    "# Getting IMDB data\n",
    "(train_data, train_labels), (test_data, test_labels) = imdb.load_data(num_words = 10000)"
   ]
  },
  {
   "cell_type": "code",
   "execution_count": 3,
   "metadata": {
    "collapsed": true
   },
   "outputs": [],
   "source": [
    "# Vectorizing the sequence\n",
    "def vectorize_sequences(sequences, dimension = 10000):\n",
    "    # Create an all-zero matrix of shape (len(sequences), dimension)\n",
    "    results = np.zeros((len(sequences), dimension))\n",
    "    for i, sequence in enumerate(sequences):\n",
    "        results[i, sequence] = 1.  # set specific indices of results[i] to 1s\n",
    "    return results"
   ]
  },
  {
   "cell_type": "code",
   "execution_count": 4,
   "metadata": {
    "collapsed": true
   },
   "outputs": [],
   "source": [
    "# Vectorizing the input datasets\n",
    "x_train = vectorize_sequences(train_data)\n",
    "x_test = vectorize_sequences(test_data)"
   ]
  },
  {
   "cell_type": "code",
   "execution_count": 5,
   "metadata": {
    "collapsed": true
   },
   "outputs": [],
   "source": [
    "# Changing types of the to float 32\n",
    "y_train = np.asarray(train_labels)\n",
    "y_train = y_train.astype('float32')\n",
    "\n",
    "y_test = np.asarray(test_labels)\n",
    "y_test = y_test.astype('float32')"
   ]
  },
  {
   "cell_type": "markdown",
   "metadata": {},
   "source": [
    "## Defining models"
   ]
  },
  {
   "cell_type": "code",
   "execution_count": 6,
   "metadata": {
    "collapsed": true
   },
   "outputs": [],
   "source": [
    "# Keras imports\n",
    "from keras.models import Sequential\n",
    "from keras.layers import Dense"
   ]
  },
  {
   "cell_type": "code",
   "execution_count": 7,
   "metadata": {
    "collapsed": true
   },
   "outputs": [],
   "source": [
    "# Defining the original model\n",
    "def build_original_model():\n",
    "    model = Sequential()\n",
    "    model.add(Dense(units = 16, \n",
    "                    activation = 'relu', \n",
    "                    input_shape = (10000,)))\n",
    "    model.add(Dense(units = 16, \n",
    "                    activation = 'relu'))\n",
    "    model.add(Dense(units = 1, \n",
    "                    activation = 'sigmoid'))\n",
    "    model.compile(optimizer = 'rmsprop',\n",
    "                       loss = 'binary_crossentropy',\n",
    "                       metrics = ['acc'])\n",
    "    return model"
   ]
  },
  {
   "cell_type": "code",
   "execution_count": 8,
   "metadata": {
    "collapsed": true
   },
   "outputs": [],
   "source": [
    "# Defining a small model\n",
    "def build_small_model():\n",
    "    model = Sequential()\n",
    "    model.add(Dense(units = 4, \n",
    "                    activation = 'relu', \n",
    "                    input_shape = (10000,)))\n",
    "    model.add(Dense(units = 4, \n",
    "                    activation = 'relu'))\n",
    "    model.add(Dense(units = 1, \n",
    "                    activation = 'sigmoid'))\n",
    "    model.compile(optimizer = 'rmsprop',\n",
    "                       loss = 'binary_crossentropy',\n",
    "                       metrics = ['acc'])\n",
    "    return model"
   ]
  },
  {
   "cell_type": "code",
   "execution_count": 9,
   "metadata": {
    "collapsed": true
   },
   "outputs": [],
   "source": [
    "# Defining a big model\n",
    "def build_big_model():\n",
    "    model = Sequential()\n",
    "    model.add(Dense(units = 512, \n",
    "                    activation = 'relu', \n",
    "                    input_shape = (10000,)))\n",
    "    model.add(Dense(units = 512, \n",
    "                    activation = 'relu'))\n",
    "    model.add(Dense(units = 1, \n",
    "                    activation = 'sigmoid'))\n",
    "    model.compile(optimizer = 'rmsprop',\n",
    "                       loss = 'binary_crossentropy',\n",
    "                       metrics = ['acc'])\n",
    "    return model"
   ]
  },
  {
   "cell_type": "code",
   "execution_count": 10,
   "metadata": {
    "collapsed": true
   },
   "outputs": [],
   "source": [
    "# Initializing the original network\n",
    "original_network = build_original_model()"
   ]
  },
  {
   "cell_type": "code",
   "execution_count": 11,
   "metadata": {},
   "outputs": [
    {
     "name": "stdout",
     "output_type": "stream",
     "text": [
      "Train on 25000 samples, validate on 25000 samples\n",
      "Epoch 1/20\n",
      "25000/25000 [==============================] - 7s - loss: 0.4617 - acc: 0.8187 - val_loss: 0.3468 - val_acc: 0.8789\n",
      "Epoch 2/20\n",
      "25000/25000 [==============================] - 5s - loss: 0.2687 - acc: 0.9069 - val_loss: 0.2910 - val_acc: 0.8880\n",
      "Epoch 3/20\n",
      "25000/25000 [==============================] - 7s - loss: 0.2046 - acc: 0.9288 - val_loss: 0.2809 - val_acc: 0.8888\n",
      "Epoch 4/20\n",
      "25000/25000 [==============================] - 4s - loss: 0.1725 - acc: 0.9381 - val_loss: 0.2963 - val_acc: 0.8833\n",
      "Epoch 5/20\n",
      "25000/25000 [==============================] - 4s - loss: 0.1459 - acc: 0.9484 - val_loss: 0.3102 - val_acc: 0.8799\n",
      "Epoch 6/20\n",
      "25000/25000 [==============================] - 4s - loss: 0.1296 - acc: 0.9558 - val_loss: 0.3287 - val_acc: 0.8779\n",
      "Epoch 7/20\n",
      "25000/25000 [==============================] - 4s - loss: 0.1154 - acc: 0.9599 - val_loss: 0.3579 - val_acc: 0.8738\n",
      "Epoch 8/20\n",
      "25000/25000 [==============================] - 4s - loss: 0.1014 - acc: 0.9663 - val_loss: 0.3723 - val_acc: 0.8716\n",
      "Epoch 9/20\n",
      "25000/25000 [==============================] - 4s - loss: 0.0908 - acc: 0.9698 - val_loss: 0.4124 - val_acc: 0.8670\n",
      "Epoch 10/20\n",
      "25000/25000 [==============================] - 3s - loss: 0.0818 - acc: 0.9735 - val_loss: 0.4678 - val_acc: 0.8527\n",
      "Epoch 11/20\n",
      "25000/25000 [==============================] - 3s - loss: 0.0730 - acc: 0.9768 - val_loss: 0.4728 - val_acc: 0.8625\n",
      "Epoch 12/20\n",
      "25000/25000 [==============================] - 3s - loss: 0.0647 - acc: 0.9796 - val_loss: 0.4802 - val_acc: 0.8619\n",
      "Epoch 13/20\n",
      "25000/25000 [==============================] - 4s - loss: 0.0558 - acc: 0.9829 - val_loss: 0.5112 - val_acc: 0.8592\n",
      "Epoch 14/20\n",
      "25000/25000 [==============================] - 4s - loss: 0.0472 - acc: 0.9862 - val_loss: 0.6020 - val_acc: 0.8540\n",
      "Epoch 15/20\n",
      "25000/25000 [==============================] - 4s - loss: 0.0435 - acc: 0.9872 - val_loss: 0.5830 - val_acc: 0.8531\n",
      "Epoch 16/20\n",
      "25000/25000 [==============================] - 4s - loss: 0.0372 - acc: 0.9892 - val_loss: 0.6242 - val_acc: 0.8564\n",
      "Epoch 17/20\n",
      "25000/25000 [==============================] - 3s - loss: 0.0306 - acc: 0.9918 - val_loss: 0.6533 - val_acc: 0.8554\n",
      "Epoch 18/20\n",
      "25000/25000 [==============================] - 4s - loss: 0.0288 - acc: 0.9916 - val_loss: 0.6984 - val_acc: 0.8532\n",
      "Epoch 19/20\n",
      "25000/25000 [==============================] - 4s - loss: 0.0218 - acc: 0.9949 - val_loss: 0.7242 - val_acc: 0.8526\n",
      "Epoch 20/20\n",
      "25000/25000 [==============================] - 4s - loss: 0.0200 - acc: 0.9954 - val_loss: 0.7537 - val_acc: 0.8506\n"
     ]
    }
   ],
   "source": [
    "# Training the original network\n",
    "original_network_history = original_network.fit(x_train, \n",
    "                     y_train,\n",
    "                     epochs = 20,\n",
    "                     batch_size = 512,\n",
    "                     validation_data = (x_test, y_test))"
   ]
  },
  {
   "cell_type": "code",
   "execution_count": 12,
   "metadata": {
    "collapsed": true
   },
   "outputs": [],
   "source": [
    "small_network = build_small_model()"
   ]
  },
  {
   "cell_type": "code",
   "execution_count": 13,
   "metadata": {},
   "outputs": [
    {
     "name": "stdout",
     "output_type": "stream",
     "text": [
      "Train on 25000 samples, validate on 25000 samples\n",
      "Epoch 1/20\n",
      "25000/25000 [==============================] - 6s - loss: 0.5178 - acc: 0.7892 - val_loss: 0.4157 - val_acc: 0.8693\n",
      "Epoch 2/20\n",
      "25000/25000 [==============================] - 4s - loss: 0.3292 - acc: 0.8989 - val_loss: 0.3240 - val_acc: 0.8853\n",
      "Epoch 3/20\n",
      "25000/25000 [==============================] - 4s - loss: 0.2468 - acc: 0.9206 - val_loss: 0.2929 - val_acc: 0.8879\n",
      "Epoch 4/20\n",
      "25000/25000 [==============================] - 4s - loss: 0.2030 - acc: 0.9337 - val_loss: 0.2824 - val_acc: 0.8887\n",
      "Epoch 5/20\n",
      "25000/25000 [==============================] - 4s - loss: 0.1766 - acc: 0.9416 - val_loss: 0.2887 - val_acc: 0.8856\n",
      "Epoch 6/20\n",
      "25000/25000 [==============================] - 4s - loss: 0.1563 - acc: 0.9482 - val_loss: 0.2910 - val_acc: 0.8839\n",
      "Epoch 7/20\n",
      "25000/25000 [==============================] - 4s - loss: 0.1418 - acc: 0.9534 - val_loss: 0.3010 - val_acc: 0.8819\n",
      "Epoch 8/20\n",
      "25000/25000 [==============================] - 4s - loss: 0.1286 - acc: 0.9572 - val_loss: 0.3127 - val_acc: 0.8783\n",
      "Epoch 9/20\n",
      "25000/25000 [==============================] - 4s - loss: 0.1182 - acc: 0.9622 - val_loss: 0.3303 - val_acc: 0.8760\n",
      "Epoch 10/20\n",
      "25000/25000 [==============================] - 4s - loss: 0.1083 - acc: 0.9664 - val_loss: 0.3400 - val_acc: 0.8742\n",
      "Epoch 11/20\n",
      "25000/25000 [==============================] - 3s - loss: 0.0989 - acc: 0.9696 - val_loss: 0.3629 - val_acc: 0.8708\n",
      "Epoch 12/20\n",
      "25000/25000 [==============================] - 4s - loss: 0.0916 - acc: 0.9717 - val_loss: 0.3753 - val_acc: 0.8690\n",
      "Epoch 13/20\n",
      "25000/25000 [==============================] - 4s - loss: 0.0844 - acc: 0.9748 - val_loss: 0.3927 - val_acc: 0.8685\n",
      "Epoch 14/20\n",
      "25000/25000 [==============================] - 4s - loss: 0.0780 - acc: 0.9764 - val_loss: 0.4081 - val_acc: 0.8655\n",
      "Epoch 15/20\n",
      "25000/25000 [==============================] - 4s - loss: 0.0719 - acc: 0.9795 - val_loss: 0.4290 - val_acc: 0.8647\n",
      "Epoch 16/20\n",
      "25000/25000 [==============================] - 4s - loss: 0.0663 - acc: 0.9813 - val_loss: 0.4460 - val_acc: 0.8628\n",
      "Epoch 17/20\n",
      "25000/25000 [==============================] - 4s - loss: 0.0609 - acc: 0.9827 - val_loss: 0.4744 - val_acc: 0.8602\n",
      "Epoch 18/20\n",
      "25000/25000 [==============================] - 4s - loss: 0.0563 - acc: 0.9846 - val_loss: 0.5025 - val_acc: 0.8583\n",
      "Epoch 19/20\n",
      "25000/25000 [==============================] - 4s - loss: 0.0529 - acc: 0.9868 - val_loss: 0.5121 - val_acc: 0.8584\n",
      "Epoch 20/20\n",
      "25000/25000 [==============================] - 4s - loss: 0.0476 - acc: 0.9878 - val_loss: 0.5338 - val_acc: 0.8572\n"
     ]
    }
   ],
   "source": [
    "small_network_history = small_network.fit(x_train,  \n",
    "                                          y_train,\n",
    "                                          epochs = 20,\n",
    "                                          batch_size = 512,\n",
    "                                          validation_data = (x_test, y_test))"
   ]
  },
  {
   "cell_type": "code",
   "execution_count": 14,
   "metadata": {},
   "outputs": [],
   "source": [
    "epochs = range(1, 21)\n",
    "original_val_loss = original_network_history.history['val_loss']\n",
    "small_model_val_loss = small_network_history.history['val_loss']"
   ]
  },
  {
   "cell_type": "code",
   "execution_count": 15,
   "metadata": {},
   "outputs": [
    {
     "data": {
      "image/png": "[encoded data removed]",
      "text/plain": [
       "<matplotlib.figure.Figure at 0x2034e866e80>"
      ]
     },
     "metadata": {},
     "output_type": "display_data"
    }
   ],
   "source": [
    "import matplotlib.pyplot as plt\n",
    "plt.figure(figsize = (10, 6))\n",
    "\n",
    "# Plotting the validation loss of the original network\n",
    "# b+ is for \"blue cross\"\n",
    "plt.plot(epochs, \n",
    "         original_val_loss, \n",
    "         'b+', \n",
    "         label='Original model')\n",
    "# Plotting the validation loss of the small network\n",
    "# \"bo\" is for \"blue dot\"\n",
    "plt.plot(epochs, \n",
    "         small_model_val_loss, 'bo', label='Small model')\n",
    "plt.xlabel('Epochs')\n",
    "plt.ylabel('Validation loss')\n",
    "plt.legend()\n",
    "\n",
    "plt.show()"
   ]
  },
  {
   "cell_type": "markdown",
   "metadata": {},
   "source": [
    "### Conclusions"
   ]
  },
  {
   "cell_type": "markdown",
   "metadata": {},
   "source": [
    "The smaller network overfits later than the bigger network. \n",
    "Let's investigate other scenario."
   ]
  },
  {
   "cell_type": "code",
   "execution_count": null,
   "metadata": {
    "collapsed": true
   },
   "outputs": [],
   "source": []
  }
 ],
 "metadata": {
  "kernelspec": {
   "display_name": "Python 3",
   "language": "python",
   "name": "python3"
  },
  "language_info": {
   "codemirror_mode": {
    "name": "ipython",
    "version": 3
   },
   "file_extension": ".py",
   "mimetype": "text/x-python",
   "name": "python",
   "nbconvert_exporter": "python",
   "pygments_lexer": "ipython3",
   "version": "3.6.1"
  }
 },
 "nbformat": 4,
 "nbformat_minor": 2
}
