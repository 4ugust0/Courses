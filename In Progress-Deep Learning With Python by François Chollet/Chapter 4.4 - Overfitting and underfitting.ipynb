{
 "cells": [
  {
   "cell_type": "markdown",
   "metadata": {},
   "source": [
    "# Chapter 4.4 - Overfitting and underfitting"
   ]
  },
  {
   "cell_type": "code",
   "execution_count": 1,
   "metadata": {},
   "outputs": [
    {
     "name": "stderr",
     "output_type": "stream",
     "text": [
      "Using TensorFlow backend.\n"
     ]
    }
   ],
   "source": [
    "import numpy as np\n",
    "from keras.datasets import imdb"
   ]
  },
  {
   "cell_type": "code",
   "execution_count": 2,
   "metadata": {
    "collapsed": true
   },
   "outputs": [],
   "source": [
    "# Getting IMDB data\n",
    "(train_data, train_labels), (test_data, test_labels) = imdb.load_data(num_words = 10000)"
   ]
  },
  {
   "cell_type": "code",
   "execution_count": 3,
   "metadata": {
    "collapsed": true
   },
   "outputs": [],
   "source": [
    "# Vectorizing the sequence\n",
    "def vectorize_sequences(sequences, dimension = 10000):\n",
    "    # Create an all-zero matrix of shape (len(sequences), dimension)\n",
    "    results = np.zeros((len(sequences), dimension))\n",
    "    for i, sequence in enumerate(sequences):\n",
    "        results[i, sequence] = 1.  # set specific indices of results[i] to 1s\n",
    "    return results"
   ]
  },
  {
   "cell_type": "code",
   "execution_count": 4,
   "metadata": {
    "collapsed": true
   },
   "outputs": [],
   "source": [
    "# Vectorizing the input datasets\n",
    "x_train = vectorize_sequences(train_data)\n",
    "x_test = vectorize_sequences(test_data)"
   ]
  },
  {
   "cell_type": "code",
   "execution_count": 5,
   "metadata": {
    "collapsed": true
   },
   "outputs": [],
   "source": [
    "# Changing types of the to float 32\n",
    "y_train = np.asarray(train_labels)\n",
    "y_train = y_train.astype('float32')\n",
    "\n",
    "y_test = np.asarray(test_labels)\n",
    "y_test = y_test.astype('float32')"
   ]
  },
  {
   "cell_type": "markdown",
   "metadata": {},
   "source": [
    "## Defining models"
   ]
  },
  {
   "cell_type": "code",
   "execution_count": 6,
   "metadata": {
    "collapsed": true
   },
   "outputs": [],
   "source": [
    "# Keras imports\n",
    "from keras.models import Sequential\n",
    "from keras.layers import Dense"
   ]
  },
  {
   "cell_type": "code",
   "execution_count": 7,
   "metadata": {
    "collapsed": true
   },
   "outputs": [],
   "source": [
    "# Defining the original model\n",
    "def build_original_model():\n",
    "    model = Sequential()\n",
    "    model.add(Dense(units = 16, \n",
    "                    activation = 'relu', \n",
    "                    input_shape = (10000,)))\n",
    "    model.add(Dense(units = 16, \n",
    "                    activation = 'relu'))\n",
    "    model.add(Dense(units = 1, \n",
    "                    activation = 'sigmoid'))\n",
    "    model.compile(optimizer = 'rmsprop',\n",
    "                       loss = 'binary_crossentropy',\n",
    "                       metrics = ['acc'])\n",
    "    return model"
   ]
  },
  {
   "cell_type": "code",
   "execution_count": 8,
   "metadata": {
    "collapsed": true
   },
   "outputs": [],
   "source": [
    "# Defining a small model\n",
    "def build_small_model():\n",
    "    model = Sequential()\n",
    "    model.add(Dense(units = 4, \n",
    "                    activation = 'relu', \n",
    "                    input_shape = (10000,)))\n",
    "    model.add(Dense(units = 4, \n",
    "                    activation = 'relu'))\n",
    "    model.add(Dense(units = 1, \n",
    "                    activation = 'sigmoid'))\n",
    "    model.compile(optimizer = 'rmsprop',\n",
    "                       loss = 'binary_crossentropy',\n",
    "                       metrics = ['acc'])\n",
    "    return model"
   ]
  },
  {
   "cell_type": "code",
   "execution_count": 9,
   "metadata": {
    "collapsed": true
   },
   "outputs": [],
   "source": [
    "# Defining a big model\n",
    "def build_big_model():\n",
    "    model = Sequential()\n",
    "    model.add(Dense(units = 512, \n",
    "                    activation = 'relu', \n",
    "                    input_shape = (10000,)))\n",
    "    model.add(Dense(units = 512, \n",
    "                    activation = 'relu'))\n",
    "    model.add(Dense(units = 1, \n",
    "                    activation = 'sigmoid'))\n",
    "    model.compile(optimizer = 'rmsprop',\n",
    "                       loss = 'binary_crossentropy',\n",
    "                       metrics = ['acc'])\n",
    "    return model"
   ]
  },
  {
   "cell_type": "markdown",
   "metadata": {},
   "source": [
    "## Comparison between the original and the small network"
   ]
  },
  {
   "cell_type": "code",
   "execution_count": 10,
   "metadata": {
    "collapsed": true
   },
   "outputs": [],
   "source": [
    "# Initializing the original network\n",
    "original_network = build_original_model()"
   ]
  },
  {
   "cell_type": "code",
   "execution_count": 11,
   "metadata": {},
   "outputs": [
    {
     "name": "stdout",
     "output_type": "stream",
     "text": [
      "Train on 25000 samples, validate on 25000 samples\n",
      "Epoch 1/20\n",
      "25000/25000 [==============================] - 7s - loss: 0.4617 - acc: 0.8187 - val_loss: 0.3468 - val_acc: 0.8789\n",
      "Epoch 2/20\n",
      "25000/25000 [==============================] - 4s - loss: 0.2687 - acc: 0.9069 - val_loss: 0.2910 - val_acc: 0.8880\n",
      "Epoch 3/20\n",
      "25000/25000 [==============================] - 4s - loss: 0.2046 - acc: 0.9288 - val_loss: 0.2809 - val_acc: 0.8888\n",
      "Epoch 4/20\n",
      "25000/25000 [==============================] - 4s - loss: 0.1725 - acc: 0.9381 - val_loss: 0.2963 - val_acc: 0.8833\n",
      "Epoch 5/20\n",
      "25000/25000 [==============================] - 4s - loss: 0.1459 - acc: 0.9484 - val_loss: 0.3102 - val_acc: 0.8799\n",
      "Epoch 6/20\n",
      "25000/25000 [==============================] - 4s - loss: 0.1296 - acc: 0.9558 - val_loss: 0.3287 - val_acc: 0.8779\n",
      "Epoch 7/20\n",
      "25000/25000 [==============================] - 4s - loss: 0.1154 - acc: 0.9599 - val_loss: 0.3579 - val_acc: 0.8738\n",
      "Epoch 8/20\n",
      "25000/25000 [==============================] - 4s - loss: 0.1014 - acc: 0.9663 - val_loss: 0.3723 - val_acc: 0.8716\n",
      "Epoch 9/20\n",
      "25000/25000 [==============================] - 4s - loss: 0.0908 - acc: 0.9698 - val_loss: 0.4124 - val_acc: 0.8670\n",
      "Epoch 10/20\n",
      "25000/25000 [==============================] - 4s - loss: 0.0818 - acc: 0.9735 - val_loss: 0.4678 - val_acc: 0.8527\n",
      "Epoch 11/20\n",
      "25000/25000 [==============================] - 4s - loss: 0.0730 - acc: 0.9768 - val_loss: 0.4728 - val_acc: 0.8625\n",
      "Epoch 12/20\n",
      "25000/25000 [==============================] - 4s - loss: 0.0647 - acc: 0.9796 - val_loss: 0.4802 - val_acc: 0.8619\n",
      "Epoch 13/20\n",
      "25000/25000 [==============================] - 4s - loss: 0.0558 - acc: 0.9829 - val_loss: 0.5112 - val_acc: 0.8592\n",
      "Epoch 14/20\n",
      "25000/25000 [==============================] - 4s - loss: 0.0472 - acc: 0.9862 - val_loss: 0.6020 - val_acc: 0.8540\n",
      "Epoch 15/20\n",
      "25000/25000 [==============================] - 4s - loss: 0.0435 - acc: 0.9872 - val_loss: 0.5830 - val_acc: 0.8531\n",
      "Epoch 16/20\n",
      "25000/25000 [==============================] - 4s - loss: 0.0372 - acc: 0.9892 - val_loss: 0.6242 - val_acc: 0.8564\n",
      "Epoch 17/20\n",
      "25000/25000 [==============================] - 4s - loss: 0.0305 - acc: 0.9919 - val_loss: 0.6532 - val_acc: 0.8554\n",
      "Epoch 18/20\n",
      "25000/25000 [==============================] - 4s - loss: 0.0288 - acc: 0.9916 - val_loss: 0.6988 - val_acc: 0.8531\n",
      "Epoch 19/20\n",
      "25000/25000 [==============================] - 4s - loss: 0.0218 - acc: 0.9949 - val_loss: 0.7236 - val_acc: 0.8527\n",
      "Epoch 20/20\n",
      "25000/25000 [==============================] - 4s - loss: 0.0206 - acc: 0.9955 - val_loss: 0.7522 - val_acc: 0.8502\n"
     ]
    }
   ],
   "source": [
    "# Training the original network\n",
    "original_network_history = original_network.fit(x_train, \n",
    "                     y_train,\n",
    "                     epochs = 20,\n",
    "                     batch_size = 512,\n",
    "                     validation_data = (x_test, y_test))"
   ]
  },
  {
   "cell_type": "code",
   "execution_count": 12,
   "metadata": {
    "collapsed": true
   },
   "outputs": [],
   "source": [
    "small_network = build_small_model()"
   ]
  },
  {
   "cell_type": "code",
   "execution_count": 13,
   "metadata": {},
   "outputs": [
    {
     "name": "stdout",
     "output_type": "stream",
     "text": [
      "Train on 25000 samples, validate on 25000 samples\n",
      "Epoch 1/20\n",
      "25000/25000 [==============================] - 4s - loss: 0.5178 - acc: 0.7892 - val_loss: 0.4157 - val_acc: 0.8693\n",
      "Epoch 2/20\n",
      "25000/25000 [==============================] - 4s - loss: 0.3292 - acc: 0.8989 - val_loss: 0.3240 - val_acc: 0.8853\n",
      "Epoch 3/20\n",
      "25000/25000 [==============================] - 4s - loss: 0.2468 - acc: 0.9206 - val_loss: 0.2929 - val_acc: 0.8879\n",
      "Epoch 4/20\n",
      "25000/25000 [==============================] - 4s - loss: 0.2030 - acc: 0.9337 - val_loss: 0.2824 - val_acc: 0.8887\n",
      "Epoch 5/20\n",
      "25000/25000 [==============================] - 4s - loss: 0.1766 - acc: 0.9416 - val_loss: 0.2887 - val_acc: 0.8856\n",
      "Epoch 6/20\n",
      "25000/25000 [==============================] - 4s - loss: 0.1563 - acc: 0.9482 - val_loss: 0.2910 - val_acc: 0.8839\n",
      "Epoch 7/20\n",
      "25000/25000 [==============================] - 4s - loss: 0.1418 - acc: 0.9534 - val_loss: 0.3010 - val_acc: 0.8819\n",
      "Epoch 8/20\n",
      "25000/25000 [==============================] - 5s - loss: 0.1286 - acc: 0.9572 - val_loss: 0.3127 - val_acc: 0.8783\n",
      "Epoch 9/20\n",
      "25000/25000 [==============================] - 4s - loss: 0.1182 - acc: 0.9622 - val_loss: 0.3303 - val_acc: 0.8760\n",
      "Epoch 10/20\n",
      "25000/25000 [==============================] - 4s - loss: 0.1083 - acc: 0.9664 - val_loss: 0.3400 - val_acc: 0.8742\n",
      "Epoch 11/20\n",
      "25000/25000 [==============================] - 4s - loss: 0.0989 - acc: 0.9696 - val_loss: 0.3629 - val_acc: 0.8708\n",
      "Epoch 12/20\n",
      "25000/25000 [==============================] - 4s - loss: 0.0916 - acc: 0.9717 - val_loss: 0.3753 - val_acc: 0.8690\n",
      "Epoch 13/20\n",
      "25000/25000 [==============================] - 4s - loss: 0.0844 - acc: 0.9748 - val_loss: 0.3927 - val_acc: 0.8685\n",
      "Epoch 14/20\n",
      "25000/25000 [==============================] - 4s - loss: 0.0780 - acc: 0.9764 - val_loss: 0.4081 - val_acc: 0.8655\n",
      "Epoch 15/20\n",
      "25000/25000 [==============================] - 4s - loss: 0.0719 - acc: 0.9795 - val_loss: 0.4290 - val_acc: 0.8647\n",
      "Epoch 16/20\n",
      "25000/25000 [==============================] - 4s - loss: 0.0663 - acc: 0.9813 - val_loss: 0.4460 - val_acc: 0.8628\n",
      "Epoch 17/20\n",
      "25000/25000 [==============================] - 4s - loss: 0.0609 - acc: 0.9827 - val_loss: 0.4744 - val_acc: 0.8602\n",
      "Epoch 18/20\n",
      "25000/25000 [==============================] - 4s - loss: 0.0563 - acc: 0.9846 - val_loss: 0.5025 - val_acc: 0.8583\n",
      "Epoch 19/20\n",
      "25000/25000 [==============================] - 4s - loss: 0.0529 - acc: 0.9868 - val_loss: 0.5121 - val_acc: 0.8584\n",
      "Epoch 20/20\n",
      "25000/25000 [==============================] - 4s - loss: 0.0476 - acc: 0.9878 - val_loss: 0.5338 - val_acc: 0.8572\n"
     ]
    }
   ],
   "source": [
    "small_network_history = small_network.fit(x_train,  \n",
    "                                          y_train,\n",
    "                                          epochs = 20,\n",
    "                                          batch_size = 512,\n",
    "                                          validation_data = (x_test, y_test))"
   ]
  },
  {
   "cell_type": "code",
   "execution_count": 14,
   "metadata": {
    "collapsed": true
   },
   "outputs": [],
   "source": [
    "epochs = range(1, 21)\n",
    "original_val_loss = original_network_history.history['val_loss']\n",
    "small_model_val_loss = small_network_history.history['val_loss']"
   ]
  },
  {
   "cell_type": "code",
   "execution_count": 15,
   "metadata": {},
   "outputs": [
    {
     "data": {
      "image/png": "[encoded data removed]",
      "text/plain": [
       "<matplotlib.figure.Figure at 0x2370d6b8e10>"
      ]
     },
     "metadata": {},
     "output_type": "display_data"
    }
   ],
   "source": [
    "import matplotlib.pyplot as plt\n",
    "plt.figure(figsize = (10, 6))\n",
    "\n",
    "# Plotting the validation loss of the original network\n",
    "# b+ is for \"blue cross\"\n",
    "plt.plot(epochs, \n",
    "         original_val_loss, \n",
    "         'b+', \n",
    "         label='Original model')\n",
    "# Plotting the validation loss of the small network\n",
    "# \"bo\" is for \"blue dot\"\n",
    "plt.plot(epochs, \n",
    "         small_model_val_loss, 'bo', label='Small model')\n",
    "plt.xlabel('Epochs')\n",
    "plt.ylabel('Validation loss')\n",
    "plt.legend()\n",
    "\n",
    "plt.show()"
   ]
  },
  {
   "cell_type": "markdown",
   "metadata": {},
   "source": [
    "### Conclusions"
   ]
  },
  {
   "cell_type": "markdown",
   "metadata": {},
   "source": [
    "The smaller network overfits later than the bigger network. \n",
    "Let's investigate other scenario."
   ]
  },
  {
   "cell_type": "markdown",
   "metadata": {
    "collapsed": true
   },
   "source": [
    "## Comparison between the original and the big network"
   ]
  },
  {
   "cell_type": "code",
   "execution_count": 16,
   "metadata": {
    "collapsed": true
   },
   "outputs": [],
   "source": [
    "# Initializing the big network\n",
    "big_network = build_big_model()"
   ]
  },
  {
   "cell_type": "code",
   "execution_count": 17,
   "metadata": {},
   "outputs": [
    {
     "name": "stdout",
     "output_type": "stream",
     "text": [
      "Train on 25000 samples, validate on 25000 samples\n",
      "Epoch 1/20\n",
      "25000/25000 [==============================] - 5s - loss: 0.4550 - acc: 0.7944 - val_loss: 0.3653 - val_acc: 0.8388\n",
      "Epoch 2/20\n",
      "25000/25000 [==============================] - 5s - loss: 0.2174 - acc: 0.9133 - val_loss: 0.3120 - val_acc: 0.8735\n",
      "Epoch 3/20\n",
      "25000/25000 [==============================] - 7s - loss: 0.1303 - acc: 0.9528 - val_loss: 0.3331 - val_acc: 0.8856\n",
      "Epoch 4/20\n",
      "25000/25000 [==============================] - 4s - loss: 0.0612 - acc: 0.9798 - val_loss: 0.3894 - val_acc: 0.8831\n",
      "Epoch 5/20\n",
      "25000/25000 [==============================] - 4s - loss: 0.0582 - acc: 0.9880 - val_loss: 0.5048 - val_acc: 0.8826\n",
      "Epoch 6/20\n",
      "25000/25000 [==============================] - 4s - loss: 0.0668 - acc: 0.9885 - val_loss: 0.4805 - val_acc: 0.8807\n",
      "Epoch 7/20\n",
      "25000/25000 [==============================] - 4s - loss: 0.0014 - acc: 1.0000 - val_loss: 0.6924 - val_acc: 0.8812\n",
      "Epoch 8/20\n",
      "25000/25000 [==============================] - 5s - loss: 0.0804 - acc: 0.9895 - val_loss: 0.6798 - val_acc: 0.8670\n",
      "Epoch 9/20\n",
      "25000/25000 [==============================] - 4s - loss: 4.0498e-04 - acc: 1.0000 - val_loss: 0.7492 - val_acc: 0.8804\n",
      "Epoch 10/20\n",
      "25000/25000 [==============================] - 4s - loss: 0.0621 - acc: 0.9912 - val_loss: 0.6472 - val_acc: 0.8805\n",
      "Epoch 11/20\n",
      "25000/25000 [==============================] - 4s - loss: 0.0317 - acc: 0.9941 - val_loss: 0.6362 - val_acc: 0.8742\n",
      "Epoch 12/20\n",
      "25000/25000 [==============================] - 5s - loss: 5.1698e-04 - acc: 1.0000 - val_loss: 0.7481 - val_acc: 0.8781\n",
      "Epoch 13/20\n",
      "25000/25000 [==============================] - 5s - loss: 0.0591 - acc: 0.9929 - val_loss: 0.7631 - val_acc: 0.8794\n",
      "Epoch 14/20\n",
      "25000/25000 [==============================] - 5s - loss: 0.0392 - acc: 0.9941 - val_loss: 0.6872 - val_acc: 0.8776\n",
      "Epoch 15/20\n",
      "25000/25000 [==============================] - 5s - loss: 5.7577e-04 - acc: 0.9999 - val_loss: 0.7824 - val_acc: 0.8778\n",
      "Epoch 16/20\n",
      "25000/25000 [==============================] - 5s - loss: 0.0400 - acc: 0.9948 - val_loss: 0.8146 - val_acc: 0.8710\n",
      "Epoch 17/20\n",
      "25000/25000 [==============================] - 5s - loss: 0.0370 - acc: 0.9952 - val_loss: 0.7615 - val_acc: 0.8741\n",
      "Epoch 18/20\n",
      "25000/25000 [==============================] - 5s - loss: 0.0041 - acc: 0.9993 - val_loss: 2.1480 - val_acc: 0.7342\n",
      "Epoch 19/20\n",
      "25000/25000 [==============================] - 5s - loss: 0.0233 - acc: 0.9962 - val_loss: 0.7797 - val_acc: 0.8762\n",
      "Epoch 20/20\n",
      "25000/25000 [==============================] - 5s - loss: 0.0409 - acc: 0.9945 - val_loss: 0.7715 - val_acc: 0.8748\n"
     ]
    }
   ],
   "source": [
    "big_network_history = big_network.fit(x_train,  \n",
    "                                      y_train,\n",
    "                                      epochs = 20,\n",
    "                                      batch_size = 512,\n",
    "                                      validation_data = (x_test, y_test))"
   ]
  },
  {
   "cell_type": "code",
   "execution_count": 18,
   "metadata": {
    "scrolled": true
   },
   "outputs": [
    {
     "data": {
      "image/png": "[encoded data removed]",
      "text/plain": [
       "<matplotlib.figure.Figure at 0x2370e761908>"
      ]
     },
     "metadata": {},
     "output_type": "display_data"
    }
   ],
   "source": [
    "# Comparison of validation losses\n",
    "big_model_val_loss = big_network_history.history['val_loss']\n",
    "\n",
    "plt.figure(figsize = (10, 6))\n",
    "plt.plot(epochs, \n",
    "         original_val_loss, \n",
    "         'b+', \n",
    "         label = 'Original model')\n",
    "plt.plot(epochs, \n",
    "         big_model_val_loss, \n",
    "         'bo', \n",
    "         label = 'Big model')\n",
    "plt.xlabel('Epochs')\n",
    "plt.ylabel('Validation loss')\n",
    "plt.legend()\n",
    "\n",
    "plt.show()"
   ]
  },
  {
   "cell_type": "code",
   "execution_count": 19,
   "metadata": {},
   "outputs": [
    {
     "data": {
      "image/png": "[encoded data removed]",
      "text/plain": [
       "<matplotlib.figure.Figure at 0x2370e8f6b70>"
      ]
     },
     "metadata": {},
     "output_type": "display_data"
    }
   ],
   "source": [
    "# Comparison of traning losses\n",
    "original_train_loss = original_network_history.history['loss']\n",
    "bigger_model_train_loss = big_network_history.history['loss']\n",
    "\n",
    "plt.figure(figsize = (10, 6))\n",
    "plt.plot(epochs, \n",
    "         original_train_loss, \n",
    "         'b+', \n",
    "         label = 'Original model')\n",
    "plt.plot(epochs, \n",
    "         bigger_model_train_loss, \n",
    "         'bo', \n",
    "         label = 'Big model')\n",
    "plt.xlabel('Epochs')\n",
    "plt.ylabel('Training loss')\n",
    "plt.legend()\n",
    "\n",
    "plt.show()"
   ]
  },
  {
   "cell_type": "markdown",
   "metadata": {},
   "source": [
    "### Conclusions"
   ]
  },
  {
   "cell_type": "markdown",
   "metadata": {},
   "source": [
    "The bigger network adpats faster, but it results in more severe overfitting issues."
   ]
  },
  {
   "cell_type": "markdown",
   "metadata": {},
   "source": [
    "## Weight regularization"
   ]
  },
  {
   "cell_type": "code",
   "execution_count": 20,
   "metadata": {
    "collapsed": true
   },
   "outputs": [],
   "source": [
    "from keras.regularizers import l2"
   ]
  },
  {
   "cell_type": "code",
   "execution_count": 21,
   "metadata": {
    "collapsed": true
   },
   "outputs": [],
   "source": [
    "# Building the original network with weight regularization\n",
    "def build_original_model_with_l2():\n",
    "    model = Sequential()\n",
    "    model.add(Dense(units = 16, \n",
    "                    activation = 'relu', \n",
    "                    # Parameter l -> weight loss\n",
    "                    kernel_regularizer = l2(l = 0.001),\n",
    "                    input_shape = (10000,)))\n",
    "    model.add(Dense(units = 16, \n",
    "                    activation = 'relu', \n",
    "                    kernel_regularizer = l2(l = 0.001)))\n",
    "    model.add(Dense(units = 1, \n",
    "                    activation = 'sigmoid'))\n",
    "    model.compile(optimizer = 'rmsprop',\n",
    "                       loss = 'binary_crossentropy',\n",
    "                       metrics = ['acc'])\n",
    "    return model"
   ]
  },
  {
   "cell_type": "code",
   "execution_count": 22,
   "metadata": {},
   "outputs": [],
   "source": [
    "original_network_with_l2 = build_original_model_with_l2()"
   ]
  },
  {
   "cell_type": "code",
   "execution_count": 23,
   "metadata": {},
   "outputs": [
    {
     "name": "stdout",
     "output_type": "stream",
     "text": [
      "Train on 25000 samples, validate on 25000 samples\n",
      "Epoch 1/20\n",
      "25000/25000 [==============================] - 5s - loss: 0.4807 - acc: 0.8271 - val_loss: 0.3787 - val_acc: 0.8814\n",
      "Epoch 2/20\n",
      "25000/25000 [==============================] - 4s - loss: 0.3150 - acc: 0.9066 - val_loss: 0.3350 - val_acc: 0.8899\n",
      "Epoch 3/20\n",
      "25000/25000 [==============================] - 4s - loss: 0.2741 - acc: 0.9187 - val_loss: 0.3310 - val_acc: 0.8899\n",
      "Epoch 4/20\n",
      "25000/25000 [==============================] - 4s - loss: 0.2519 - acc: 0.9272 - val_loss: 0.3435 - val_acc: 0.8828\n",
      "Epoch 5/20\n",
      "25000/25000 [==============================] - 4s - loss: 0.2409 - acc: 0.9329 - val_loss: 0.3478 - val_acc: 0.8818\n",
      "Epoch 6/20\n",
      "25000/25000 [==============================] - 4s - loss: 0.2327 - acc: 0.9367 - val_loss: 0.3572 - val_acc: 0.8781\n",
      "Epoch 7/20\n",
      "25000/25000 [==============================] - 4s - loss: 0.2260 - acc: 0.9387 - val_loss: 0.3643 - val_acc: 0.8788\n",
      "Epoch 8/20\n",
      "25000/25000 [==============================] - 4s - loss: 0.2224 - acc: 0.9382 - val_loss: 0.3640 - val_acc: 0.8785\n",
      "Epoch 9/20\n",
      "25000/25000 [==============================] - 4s - loss: 0.2162 - acc: 0.9432 - val_loss: 0.3713 - val_acc: 0.8761\n",
      "Epoch 10/20\n",
      "25000/25000 [==============================] - 5s - loss: 0.2137 - acc: 0.9445 - val_loss: 0.4122 - val_acc: 0.8650\n",
      "Epoch 11/20\n",
      "25000/25000 [==============================] - 7s - loss: 0.2103 - acc: 0.9444 - val_loss: 0.3921 - val_acc: 0.8720\n",
      "Epoch 12/20\n",
      "25000/25000 [==============================] - 5s - loss: 0.2068 - acc: 0.9443 - val_loss: 0.3884 - val_acc: 0.8738\n",
      "Epoch 13/20\n",
      "25000/25000 [==============================] - 4s - loss: 0.2069 - acc: 0.9452 - val_loss: 0.4029 - val_acc: 0.8725\n",
      "Epoch 14/20\n",
      "25000/25000 [==============================] - 4s - loss: 0.2016 - acc: 0.9491 - val_loss: 0.4037 - val_acc: 0.8703\n",
      "Epoch 15/20\n",
      "25000/25000 [==============================] - 4s - loss: 0.1959 - acc: 0.9505 - val_loss: 0.4918 - val_acc: 0.8524\n",
      "Epoch 16/20\n",
      "25000/25000 [==============================] - 4s - loss: 0.2014 - acc: 0.9463 - val_loss: 0.4144 - val_acc: 0.8718\n",
      "Epoch 17/20\n",
      "25000/25000 [==============================] - 4s - loss: 0.1958 - acc: 0.9494 - val_loss: 0.4198 - val_acc: 0.8697\n",
      "Epoch 18/20\n",
      "25000/25000 [==============================] - 4s - loss: 0.1934 - acc: 0.9520 - val_loss: 0.4378 - val_acc: 0.8670\n",
      "Epoch 19/20\n",
      "25000/25000 [==============================] - 4s - loss: 0.1924 - acc: 0.9498 - val_loss: 0.4174 - val_acc: 0.8695\n",
      "Epoch 20/20\n",
      "25000/25000 [==============================] - 4s - loss: 0.1909 - acc: 0.9514 - val_loss: 0.4286 - val_acc: 0.8706\n"
     ]
    }
   ],
   "source": [
    "original_network_with_l2_history = original_network_with_l2.fit(x_train,\n",
    "                                                                y_train,\n",
    "                                                                epochs = 20,\n",
    "                                                                batch_size = 512,\n",
    "                                                                validation_data = (x_test, y_test))"
   ]
  },
  {
   "cell_type": "code",
   "execution_count": 24,
   "metadata": {},
   "outputs": [
    {
     "data": {
      "image/png": "[encoded data removed]",
      "text/plain": [
       "<matplotlib.figure.Figure at 0x23768d42470>"
      ]
     },
     "metadata": {},
     "output_type": "display_data"
    }
   ],
   "source": [
    "original_network_with_l2_val_loss = original_network_with_l2_history.history['val_loss']\n",
    "\n",
    "plt.figure(figsize = (10, 6))\n",
    "plt.plot(epochs, \n",
    "         original_val_loss, \n",
    "         'b+', \n",
    "         label = 'Original model')\n",
    "plt.plot(epochs, \n",
    "         original_network_with_l2_val_loss, \n",
    "         'bo', \n",
    "         label = 'L2-regularized model')\n",
    "plt.xlabel('Epochs')\n",
    "plt.ylabel('Validation loss')\n",
    "plt.legend()\n",
    "\n",
    "plt.show()"
   ]
  },
  {
   "cell_type": "markdown",
   "metadata": {},
   "source": [
    "## Dropout"
   ]
  },
  {
   "cell_type": "code",
   "execution_count": 25,
   "metadata": {
    "collapsed": true
   },
   "outputs": [],
   "source": [
    "from keras.layers import Dropout"
   ]
  },
  {
   "cell_type": "code",
   "execution_count": 26,
   "metadata": {
    "collapsed": true
   },
   "outputs": [],
   "source": [
    "# Defining the original model with dropout\n",
    "def build_original_model_with_dropout():\n",
    "    model = Sequential()\n",
    "    model.add(Dense(units = 16, \n",
    "                    activation = 'relu', \n",
    "                    input_shape = (10000,)))\n",
    "    # Parameter rate -> fraction of the input units to drop\n",
    "    model.add(Dropout(rate = 0.5))\n",
    "    model.add(Dense(units = 16, \n",
    "                    activation = 'relu'))\n",
    "    model.add(Dropout(rate = 0.5))\n",
    "    model.add(Dense(units = 1, \n",
    "                    activation = 'sigmoid'))\n",
    "    model.compile(optimizer = 'rmsprop',\n",
    "                       loss = 'binary_crossentropy',\n",
    "                       metrics = ['acc'])\n",
    "    return model"
   ]
  },
  {
   "cell_type": "code",
   "execution_count": 27,
   "metadata": {},
   "outputs": [],
   "source": [
    "original_model_with_dropout = build_original_model_with_dropout()"
   ]
  },
  {
   "cell_type": "code",
   "execution_count": 28,
   "metadata": {},
   "outputs": [
    {
     "name": "stdout",
     "output_type": "stream",
     "text": [
      "Train on 25000 samples, validate on 25000 samples\n",
      "Epoch 1/20\n",
      "25000/25000 [==============================] - 4s - loss: 0.5982 - acc: 0.6751 - val_loss: 0.4552 - val_acc: 0.8656\n",
      "Epoch 2/20\n",
      "25000/25000 [==============================] - 4s - loss: 0.4562 - acc: 0.8033 - val_loss: 0.3582 - val_acc: 0.8738\n",
      "Epoch 3/20\n",
      "25000/25000 [==============================] - 4s - loss: 0.3696 - acc: 0.8579 - val_loss: 0.2955 - val_acc: 0.8886\n",
      "Epoch 4/20\n",
      "25000/25000 [==============================] - 4s - loss: 0.3131 - acc: 0.8887 - val_loss: 0.2770 - val_acc: 0.8904\n",
      "Epoch 5/20\n",
      "25000/25000 [==============================] - 4s - loss: 0.2728 - acc: 0.9066 - val_loss: 0.2768 - val_acc: 0.8889\n",
      "Epoch 6/20\n",
      "25000/25000 [==============================] - 4s - loss: 0.2429 - acc: 0.9198 - val_loss: 0.2849 - val_acc: 0.8878\n",
      "Epoch 7/20\n",
      "25000/25000 [==============================] - 4s - loss: 0.2149 - acc: 0.9298 - val_loss: 0.2973 - val_acc: 0.8862\n",
      "Epoch 8/20\n",
      "25000/25000 [==============================] - 4s - loss: 0.1973 - acc: 0.9370 - val_loss: 0.3113 - val_acc: 0.8867\n",
      "Epoch 9/20\n",
      "25000/25000 [==============================] - 4s - loss: 0.1805 - acc: 0.9422 - val_loss: 0.3369 - val_acc: 0.8848\n",
      "Epoch 10/20\n",
      "25000/25000 [==============================] - 4s - loss: 0.1668 - acc: 0.9462 - val_loss: 0.3536 - val_acc: 0.8821\n",
      "Epoch 11/20\n",
      "25000/25000 [==============================] - 4s - loss: 0.1588 - acc: 0.9489 - val_loss: 0.3793 - val_acc: 0.8818\n",
      "Epoch 12/20\n",
      "25000/25000 [==============================] - 4s - loss: 0.1485 - acc: 0.9517 - val_loss: 0.4112 - val_acc: 0.8807\n",
      "Epoch 13/20\n",
      "25000/25000 [==============================] - 4s - loss: 0.1394 - acc: 0.9554 - val_loss: 0.4100 - val_acc: 0.8784\n",
      "Epoch 14/20\n",
      "25000/25000 [==============================] - 4s - loss: 0.1338 - acc: 0.9585 - val_loss: 0.4579 - val_acc: 0.8780\n",
      "Epoch 15/20\n",
      "25000/25000 [==============================] - 4s - loss: 0.1272 - acc: 0.9586 - val_loss: 0.4584 - val_acc: 0.8786\n",
      "Epoch 16/20\n",
      "25000/25000 [==============================] - 4s - loss: 0.1219 - acc: 0.9593 - val_loss: 0.4745 - val_acc: 0.8780\n",
      "Epoch 17/20\n",
      "25000/25000 [==============================] - 4s - loss: 0.1207 - acc: 0.9615 - val_loss: 0.4875 - val_acc: 0.8756\n",
      "Epoch 18/20\n",
      "25000/25000 [==============================] - 4s - loss: 0.1205 - acc: 0.9618 - val_loss: 0.5011 - val_acc: 0.8754\n",
      "Epoch 19/20\n",
      "25000/25000 [==============================] - 4s - loss: 0.1125 - acc: 0.9633 - val_loss: 0.5368 - val_acc: 0.8740\n",
      "Epoch 20/20\n",
      "25000/25000 [==============================] - 4s - loss: 0.1161 - acc: 0.9604 - val_loss: 0.5335 - val_acc: 0.8730\n"
     ]
    }
   ],
   "source": [
    "original_model_with_dropout_history = original_model_with_dropout.fit(x_train,\n",
    "                                                                      y_train,\n",
    "                                                                      epochs = 20,\n",
    "                                                                      batch_size = 512,\n",
    "                                                                      validation_data = (x_test, y_test))"
   ]
  },
  {
   "cell_type": "code",
   "execution_count": 29,
   "metadata": {},
   "outputs": [
    {
     "data": {
      "image/png": "[encoded data removed]",
      "text/plain": [
       "<matplotlib.figure.Figure at 0x23769963c50>"
      ]
     },
     "metadata": {},
     "output_type": "display_data"
    }
   ],
   "source": [
    "original_model_with_dropout_val_loss = original_model_with_dropout_history.history['val_loss']\n",
    "\n",
    "plt.figure(figsize = (10, 6))\n",
    "plt.plot(epochs, original_val_loss, 'b+', label='Original model')\n",
    "plt.plot(epochs, original_model_with_dropout_val_loss, 'bo', label='Dropout-regularized model')\n",
    "plt.xlabel('Epochs')\n",
    "plt.ylabel('Validation loss')\n",
    "plt.legend()\n",
    "\n",
    "plt.show()"
   ]
  },
  {
   "cell_type": "markdown",
   "metadata": {},
   "source": [
    "### Conclusion"
   ]
  },
  {
   "cell_type": "markdown",
   "metadata": {},
   "source": [
    "Model with droupout overfits later."
   ]
  }
 ],
 "metadata": {
  "kernelspec": {
   "display_name": "Python 3",
   "language": "python",
   "name": "python3"
  },
  "language_info": {
   "codemirror_mode": {
    "name": "ipython",
    "version": 3
   },
   "file_extension": ".py",
   "mimetype": "text/x-python",
   "name": "python",
   "nbconvert_exporter": "python",
   "pygments_lexer": "ipython3",
   "version": "3.6.1"
  }
 },
 "nbformat": 4,
 "nbformat_minor": 2
}
