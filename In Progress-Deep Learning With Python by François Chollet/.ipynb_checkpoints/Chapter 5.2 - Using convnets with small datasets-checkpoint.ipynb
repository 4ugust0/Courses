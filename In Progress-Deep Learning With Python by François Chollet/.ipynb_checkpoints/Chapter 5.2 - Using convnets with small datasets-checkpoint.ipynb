{
 "cells": [
  {
   "cell_type": "markdown",
   "metadata": {},
   "source": [
    "# Chapter 5.2 - Using convnets with small datasets"
   ]
  },
  {
   "cell_type": "markdown",
   "metadata": {},
   "source": [
    "## Import data from Kaggle (requires an account):\n",
    "https://www.kaggle.com/c/dogs-vs-cats/data"
   ]
  },
  {
   "cell_type": "code",
   "execution_count": 1,
   "metadata": {
    "collapsed": true
   },
   "outputs": [],
   "source": [
    "# Importing necessary tools\n",
    "import os, shutil"
   ]
  },
  {
   "cell_type": "code",
   "execution_count": 2,
   "metadata": {},
   "outputs": [],
   "source": [
    "# Replace the values with correct directory for you setup\n",
    "\n",
    "# The path to the directory where the original\n",
    "# dataset was uncompressed\n",
    "original_dataset_dir = 'E:/1_GitHub/arcyfelix/datasets/Dogs_vs_cats'\n",
    "\n",
    "# The directory where we will\n",
    "# store our smaller dataset\n",
    "base_dir = 'E:/1_GitHub/arcyfelix/Courses/In Progress-Deep Learning With Python by François Chollet/data/Chapter 5.2 - Using convets with small datasets'"
   ]
  },
  {
   "cell_type": "code",
   "execution_count": 3,
   "metadata": {},
   "outputs": [],
   "source": [
    "# Directories for our training,\n",
    "# validation and test splits\n",
    "\n",
    "# Creating train folder\n",
    "train_dir = os.path.join(base_dir, 'train')\n",
    "try:\n",
    "    os.mkdir(train_dir)\n",
    "except:\n",
    "    print('Folder train already exists')\n",
    "    \n",
    "# Creating validation folder\n",
    "validation_dir = os.path.join(base_dir, 'validation')\n",
    "try:\n",
    "    os.mkdir(validation_dir)\n",
    "except:\n",
    "    print('Folder validation already exists')\n",
    "    \n",
    "# Creating test folder\n",
    "test_dir = os.path.join(base_dir, 'test')\n",
    "try:\n",
    "    os.mkdir(test_dir)\n",
    "except:\n",
    "    print('Folder test already exists')"
   ]
  },
  {
   "cell_type": "code",
   "execution_count": 4,
   "metadata": {},
   "outputs": [],
   "source": [
    "# Directory with our training cat pictures\n",
    "train_cats_dir = os.path.join(train_dir, 'cats')\n",
    "try:\n",
    "    os.mkdir(train_cats_dir)\n",
    "except:\n",
    "    print('Train: Folder cats already exists')\n",
    "\n",
    "# Directory with our training dog pictures\n",
    "train_dogs_dir = os.path.join(train_dir, 'dogs')\n",
    "try:\n",
    "    os.mkdir(train_dogs_dir)\n",
    "except:\n",
    "    print('Train: Folder dogs already exists')\n",
    "\n",
    "# Directory with our validation cat pictures\n",
    "validation_cats_dir = os.path.join(validation_dir, 'cats')\n",
    "try:\n",
    "    os.mkdir(validation_cats_dir)\n",
    "except:\n",
    "    print('Validation: Folder cats already exists')\n",
    "\n",
    "# Directory with our validation dog pictures\n",
    "validation_dogs_dir = os.path.join(validation_dir, 'dogs')\n",
    "try:    \n",
    "    os.mkdir(validation_dogs_dir)\n",
    "except:\n",
    "    print('Validation: Folder dogs already exists')\n",
    "\n",
    "# Directory with our validation cat pictures\n",
    "test_cats_dir = os.path.join(test_dir, 'cats')\n",
    "try:\n",
    "    os.mkdir(test_cats_dir)\n",
    "except:\n",
    "    print('Test: Folder cats already exists')\n",
    "\n",
    "# Directory with our validation dog pictures\n",
    "test_dogs_dir = os.path.join(test_dir, 'dogs')\n",
    "try:\n",
    "    os.mkdir(test_dogs_dir)\n",
    "except:\n",
    "    print('Test: Folder dogs already exists')"
   ]
  },
  {
   "cell_type": "code",
   "execution_count": 5,
   "metadata": {},
   "outputs": [],
   "source": [
    "# Importing tqdm to show the progress bar\n",
    "from tqdm import tqdm"
   ]
  },
  {
   "cell_type": "markdown",
   "metadata": {},
   "source": [
    "### Copying cat images"
   ]
  },
  {
   "cell_type": "code",
   "execution_count": 9,
   "metadata": {},
   "outputs": [
    {
     "name": "stderr",
     "output_type": "stream",
     "text": [
      "100%|####################################################################################################################################################################| 1000/1000 [00:05<00:00, 175.91it/s]\n",
      "100%|######################################################################################################################################################################| 500/500 [00:03<00:00, 152.66it/s]\n",
      "100%|######################################################################################################################################################################| 500/500 [00:02<00:00, 174.57it/s]\n"
     ]
    }
   ],
   "source": [
    "# Copy first 1000 cat images to train_cats_dir from the original train folder\n",
    "fnames = ['cat.{}.jpg'.format(i) for i in range(1000)]\n",
    "for fname in tqdm(fnames, ascii = True):\n",
    "    src = os.path.join(original_dataset_dir, 'train',  fname)\n",
    "    dst = os.path.join(train_cats_dir, fname)\n",
    "    shutil.copyfile(src, dst)\n",
    "\n",
    "# Copy next 500 cat images to validation_cats_dir from the original train folder\n",
    "fnames = ['cat.{}.jpg'.format(i) for i in range(1000, 1500)]\n",
    "for fname in tqdm(fnames, ascii = True):\n",
    "    src = os.path.join(original_dataset_dir, 'train',  fname)\n",
    "    dst = os.path.join(validation_cats_dir, fname)\n",
    "    shutil.copyfile(src, dst)\n",
    "    \n",
    "# Copy next 500 cat images to test_cats_dir from the original train folder\n",
    "fnames = ['cat.{}.jpg'.format(i) for i in range(1500, 2000)]\n",
    "for fname in tqdm(fnames, ascii = True):\n",
    "    src = os.path.join(original_dataset_dir, 'train',  fname)\n",
    "    dst = os.path.join(test_cats_dir, fname)\n",
    "    shutil.copyfile(src, dst)"
   ]
  },
  {
   "cell_type": "code",
   "execution_count": 10,
   "metadata": {},
   "outputs": [
    {
     "name": "stderr",
     "output_type": "stream",
     "text": [
      "100%|####################################################################################################################################################################| 1000/1000 [00:05<00:00, 176.96it/s]\n",
      "100%|######################################################################################################################################################################| 500/500 [00:03<00:00, 156.68it/s]\n",
      "100%|######################################################################################################################################################################| 500/500 [00:02<00:00, 170.26it/s]\n"
     ]
    }
   ],
   "source": [
    "# Copy first 1000 dog images to train_dogs_dir from the original train folder\n",
    "fnames = ['dog.{}.jpg'.format(i) for i in range(1000)]\n",
    "for fname in tqdm(fnames, ascii = True):\n",
    "    src = os.path.join(original_dataset_dir, 'train', fname)\n",
    "    dst = os.path.join(train_dogs_dir, fname)\n",
    "    shutil.copyfile(src, dst)\n",
    "    \n",
    "# Copy next 500 dog images to validation_dogs_dir from the original train folder\n",
    "fnames = ['dog.{}.jpg'.format(i) for i in range(1000, 1500)]\n",
    "for fname in tqdm(fnames, ascii = True):\n",
    "    src = os.path.join(original_dataset_dir, 'train', fname)\n",
    "    dst = os.path.join(validation_dogs_dir, fname)\n",
    "    shutil.copyfile(src, dst)\n",
    "    \n",
    "# Copy next 500 dog images to test_dogs_dir from the original train folder\n",
    "fnames = ['dog.{}.jpg'.format(i) for i in range(1500, 2000)]\n",
    "for fname in tqdm(fnames, ascii = True):\n",
    "    src = os.path.join(original_dataset_dir, 'train', fname)\n",
    "    dst = os.path.join(test_dogs_dir, fname)\n",
    "    shutil.copyfile(src, dst)"
   ]
  },
  {
   "cell_type": "code",
   "execution_count": 11,
   "metadata": {},
   "outputs": [
    {
     "name": "stdout",
     "output_type": "stream",
     "text": [
      "Train -> Total training cat images: 1000\n",
      "Train -> Total training dog images: 1000\n",
      "Validation -> Total training cat images: 500\n",
      "Validation -> Total training dog images: 500\n",
      "Test -> Total training cat images: 500\n",
      "Test -> Total training dog images: 500\n"
     ]
    }
   ],
   "source": [
    "# Prompting how many pictures has been copied to the folders for debugging purposes\n",
    "print('Train -> Total training cat images:', len(os.listdir(train_cats_dir)))\n",
    "print('Train -> Total training dog images:', len(os.listdir(train_dogs_dir)))\n",
    "\n",
    "print('Validation -> Total training cat images:', len(os.listdir(validation_cats_dir)))\n",
    "print('Validation -> Total training dog images:', len(os.listdir(validation_dogs_dir)))\n",
    "\n",
    "print('Test -> Total training cat images:', len(os.listdir(test_cats_dir)))\n",
    "print('Test -> Total training dog images:', len(os.listdir(test_dogs_dir)))"
   ]
  },
  {
   "cell_type": "code",
   "execution_count": null,
   "metadata": {
    "collapsed": true
   },
   "outputs": [],
   "source": []
  }
 ],
 "metadata": {
  "kernelspec": {
   "display_name": "Python 3",
   "language": "python",
   "name": "python3"
  },
  "language_info": {
   "codemirror_mode": {
    "name": "ipython",
    "version": 3
   },
   "file_extension": ".py",
   "mimetype": "text/x-python",
   "name": "python",
   "nbconvert_exporter": "python",
   "pygments_lexer": "ipython3",
   "version": "3.6.1"
  }
 },
 "nbformat": 4,
 "nbformat_minor": 2
}
