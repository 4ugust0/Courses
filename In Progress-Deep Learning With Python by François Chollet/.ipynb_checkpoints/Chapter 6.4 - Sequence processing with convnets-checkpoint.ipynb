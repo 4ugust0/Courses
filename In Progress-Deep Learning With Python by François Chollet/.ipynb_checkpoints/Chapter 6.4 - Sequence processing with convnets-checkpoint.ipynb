{
 "cells": [
  {
   "cell_type": "markdown",
   "metadata": {},
   "source": [
    "# Chapter 6.4 - Sequence processing with convnets"
   ]
  },
  {
   "cell_type": "code",
   "execution_count": 1,
   "metadata": {
    "collapsed": true
   },
   "outputs": [],
   "source": [
    "from keras.datasets import imdb\n",
    "from keras.preprocessing.sequence import pad_sequences"
   ]
  },
  {
   "cell_type": "code",
   "execution_count": 2,
   "metadata": {
    "collapsed": true
   },
   "outputs": [],
   "source": [
    "max_features = 10000  \n",
    "max_len = 500 "
   ]
  },
  {
   "cell_type": "code",
   "execution_count": 3,
   "metadata": {},
   "outputs": [
    {
     "name": "stdout",
     "output_type": "stream",
     "text": [
      "Loading data...\n",
      "25000 train sequences\n",
      "25000 test sequences\n"
     ]
    }
   ],
   "source": [
    "print('Loading data...')\n",
    "(x_train, y_train), (x_test, y_test) = imdb.load_data(num_words=max_features)\n",
    "print(len(x_train), 'train sequences')\n",
    "print(len(x_test), 'test sequences')"
   ]
  },
  {
   "cell_type": "code",
   "execution_count": 4,
   "metadata": {},
   "outputs": [
    {
     "name": "stdout",
     "output_type": "stream",
     "text": [
      "Pad sequences (samples x time)\n",
      "x_train shape: (25000, 500)\n",
      "x_test shape: (25000, 500)\n"
     ]
    }
   ],
   "source": [
    "print('Pad sequences (samples x time)')\n",
    "x_train = pad_sequences(x_train, maxlen=max_len)\n",
    "x_test = pad_sequences(x_test, maxlen=max_len)\n",
    "print('x_train shape:', x_train.shape)\n",
    "print('x_test shape:', x_test.shape)"
   ]
  },
  {
   "cell_type": "code",
   "execution_count": 5,
   "metadata": {
    "collapsed": true
   },
   "outputs": [],
   "source": [
    "from keras.models import Sequential\n",
    "from keras.layers import Embedding, Conv1D, MaxPooling1D, GlobalMaxPooling1D, Dense\n",
    "from keras.optimizers import RMSprop"
   ]
  },
  {
   "cell_type": "code",
   "execution_count": 9,
   "metadata": {},
   "outputs": [
    {
     "name": "stdout",
     "output_type": "stream",
     "text": [
      "_________________________________________________________________\n",
      "Layer (type)                 Output Shape              Param #   \n",
      "=================================================================\n",
      "embedding_3 (Embedding)      (None, 500, 128)          1280000   \n",
      "_________________________________________________________________\n",
      "conv1d_5 (Conv1D)            (None, 494, 32)           28704     \n",
      "_________________________________________________________________\n",
      "max_pooling1d_3 (MaxPooling1 (None, 98, 32)            0         \n",
      "_________________________________________________________________\n",
      "conv1d_6 (Conv1D)            (None, 92, 32)            7200      \n",
      "_________________________________________________________________\n",
      "global_max_pooling1d_3 (Glob (None, 32)                0         \n",
      "_________________________________________________________________\n",
      "dense_3 (Dense)              (None, 1)                 33        \n",
      "=================================================================\n",
      "Total params: 1,315,937\n",
      "Trainable params: 1,315,937\n",
      "Non-trainable params: 0\n",
      "_________________________________________________________________\n"
     ]
    }
   ],
   "source": [
    "model = Sequential()\n",
    "model.add(Embedding(input_dim = max_features, \n",
    "                    output_dim = 128, \n",
    "                    input_length = max_len))\n",
    "model.add(Conv1D(filters = 32, \n",
    "                 kernel_size = 7, \n",
    "                 activation = 'relu'))\n",
    "model.add(MaxPooling1D(pool_size = 5))\n",
    "model.add(Conv1D(filters = 32, \n",
    "                 kernel_size = 7, \n",
    "                 activation = 'relu'))\n",
    "model.add(GlobalMaxPooling1D())\n",
    "model.add(Dense(units = 1))\n",
    "\n",
    "model.summary()\n",
    "\n",
    "model.compile(optimizer = RMSprop(lr = 1e-4),\n",
    "              loss = 'binary_crossentropy',\n",
    "              metrics = ['acc'])"
   ]
  },
  {
   "cell_type": "code",
   "execution_count": 10,
   "metadata": {},
   "outputs": [
    {
     "name": "stdout",
     "output_type": "stream",
     "text": [
      "Train on 20000 samples, validate on 5000 samples\n",
      "Epoch 1/10\n",
      "20000/20000 [==============================] - 4s 187us/step - loss: 0.7432 - acc: 0.5174 - val_loss: 0.6853 - val_acc: 0.5652\n",
      "Epoch 2/10\n",
      "20000/20000 [==============================] - 3s 157us/step - loss: 0.6685 - acc: 0.6577 - val_loss: 0.6641 - val_acc: 0.6682\n",
      "Epoch 3/10\n",
      "20000/20000 [==============================] - 3s 168us/step - loss: 0.6265 - acc: 0.7504 - val_loss: 0.6139 - val_acc: 0.7404\n",
      "Epoch 4/10\n",
      "20000/20000 [==============================] - 3s 160us/step - loss: 0.5364 - acc: 0.8092 - val_loss: 0.5009 - val_acc: 0.7966\n",
      "Epoch 5/10\n",
      "20000/20000 [==============================] - 3s 157us/step - loss: 0.4126 - acc: 0.8483 - val_loss: 0.4213 - val_acc: 0.8364\n",
      "Epoch 6/10\n",
      "20000/20000 [==============================] - 3s 155us/step - loss: 0.3432 - acc: 0.8668 - val_loss: 0.4144 - val_acc: 0.8392\n",
      "Epoch 7/10\n",
      "20000/20000 [==============================] - 3s 161us/step - loss: 0.3053 - acc: 0.8687 - val_loss: 0.4266 - val_acc: 0.8274\n",
      "Epoch 8/10\n",
      "20000/20000 [==============================] - 3s 161us/step - loss: 0.2722 - acc: 0.8547 - val_loss: 0.4394 - val_acc: 0.8094\n",
      "Epoch 9/10\n",
      "20000/20000 [==============================] - 3s 154us/step - loss: 0.2462 - acc: 0.8347 - val_loss: 0.4436 - val_acc: 0.7898\n",
      "Epoch 10/10\n",
      "20000/20000 [==============================] - 3s 154us/step - loss: 0.2241 - acc: 0.8096 - val_loss: 0.4646 - val_acc: 0.7542\n"
     ]
    }
   ],
   "source": [
    "history = model.fit(x = x_train,\n",
    "                    y = y_train,\n",
    "                    epochs = 10,\n",
    "                    batch_size = 128,\n",
    "                    validation_split = 0.2)"
   ]
  },
  {
   "cell_type": "markdown",
   "metadata": {},
   "source": [
    "## Plotting the results"
   ]
  },
  {
   "cell_type": "code",
   "execution_count": 11,
   "metadata": {},
   "outputs": [
    {
     "data": {
      "image/png": "[encoded data removed]",
      "text/plain": [
       "<matplotlib.figure.Figure at 0x1f08d701fd0>"
      ]
     },
     "metadata": {},
     "output_type": "display_data"
    },
    {
     "data": {
      "image/png": "[encoded data removed]",
      "text/plain": [
       "<matplotlib.figure.Figure at 0x1f09a74dcc0>"
      ]
     },
     "metadata": {},
     "output_type": "display_data"
    }
   ],
   "source": [
    "import matplotlib.pyplot as plt\n",
    "\n",
    "acc = history.history['acc']\n",
    "val_acc = history.history['val_acc']\n",
    "loss = history.history['loss']\n",
    "val_loss = history.history['val_loss']\n",
    "\n",
    "epochs = range(len(acc))\n",
    "\n",
    "plt.plot(epochs, acc, 'bo', label='Training acc')\n",
    "plt.plot(epochs, val_acc, 'b', label='Validation acc')\n",
    "plt.title('Training and validation accuracy')\n",
    "plt.legend()\n",
    "\n",
    "plt.figure()\n",
    "\n",
    "plt.plot(epochs, loss, 'bo', label='Training loss')\n",
    "plt.plot(epochs, val_loss, 'b', label='Validation loss')\n",
    "plt.title('Training and validation loss')\n",
    "plt.legend()\n",
    "\n",
    "plt.show()"
   ]
  },
  {
   "cell_type": "code",
   "execution_count": null,
   "metadata": {
    "collapsed": true
   },
   "outputs": [],
   "source": []
  }
 ],
 "metadata": {
  "kernelspec": {
   "display_name": "Python 3",
   "language": "python",
   "name": "python3"
  },
  "language_info": {
   "codemirror_mode": {
    "name": "ipython",
    "version": 3
   },
   "file_extension": ".py",
   "mimetype": "text/x-python",
   "name": "python",
   "nbconvert_exporter": "python",
   "pygments_lexer": "ipython3",
   "version": "3.6.1"
  }
 },
 "nbformat": 4,
 "nbformat_minor": 2
}
