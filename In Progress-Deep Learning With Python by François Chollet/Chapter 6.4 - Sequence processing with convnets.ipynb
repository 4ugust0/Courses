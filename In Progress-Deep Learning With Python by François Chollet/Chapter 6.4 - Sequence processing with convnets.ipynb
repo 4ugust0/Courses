{
 "cells": [
  {
   "cell_type": "markdown",
   "metadata": {},
   "source": [
    "# Chapter 6.4 - Sequence processing with convnets"
   ]
  },
  {
   "cell_type": "code",
   "execution_count": 1,
   "metadata": {},
   "outputs": [
    {
     "name": "stderr",
     "output_type": "stream",
     "text": [
      "C:\\ProgramData\\Anaconda3\\lib\\site-packages\\h5py\\__init__.py:36: FutureWarning: Conversion of the second argument of issubdtype from `float` to `np.floating` is deprecated. In future, it will be treated as `np.float64 == np.dtype(float).type`.\n",
      "  from ._conv import register_converters as _register_converters\n",
      "Using TensorFlow backend.\n"
     ]
    }
   ],
   "source": [
    "from keras.datasets import imdb\n",
    "from keras.preprocessing.sequence import pad_sequences"
   ]
  },
  {
   "cell_type": "code",
   "execution_count": 2,
   "metadata": {
    "collapsed": true
   },
   "outputs": [],
   "source": [
    "max_features = 10000  \n",
    "max_len = 500 "
   ]
  },
  {
   "cell_type": "code",
   "execution_count": 3,
   "metadata": {},
   "outputs": [
    {
     "name": "stdout",
     "output_type": "stream",
     "text": [
      "Loading data...\n",
      "25000 train sequences\n",
      "25000 test sequences\n"
     ]
    }
   ],
   "source": [
    "print('Loading data...')\n",
    "(x_train, y_train), (x_test, y_test) = imdb.load_data(num_words=max_features)\n",
    "print(len(x_train), 'train sequences')\n",
    "print(len(x_test), 'test sequences')"
   ]
  },
  {
   "cell_type": "code",
   "execution_count": 4,
   "metadata": {},
   "outputs": [
    {
     "name": "stdout",
     "output_type": "stream",
     "text": [
      "Pad sequences (samples x time)\n",
      "x_train shape: (25000, 500)\n",
      "x_test shape: (25000, 500)\n"
     ]
    }
   ],
   "source": [
    "print('Pad sequences (samples x time)')\n",
    "x_train = pad_sequences(x_train, maxlen=max_len)\n",
    "x_test = pad_sequences(x_test, maxlen=max_len)\n",
    "print('x_train shape:', x_train.shape)\n",
    "print('x_test shape:', x_test.shape)"
   ]
  },
  {
   "cell_type": "code",
   "execution_count": 5,
   "metadata": {
    "collapsed": true
   },
   "outputs": [],
   "source": [
    "from keras.models import Sequential\n",
    "from keras.layers import Embedding, Conv1D, MaxPooling1D, GlobalMaxPooling1D, Dense\n",
    "from keras.optimizers import RMSprop"
   ]
  },
  {
   "cell_type": "code",
   "execution_count": 6,
   "metadata": {},
   "outputs": [
    {
     "name": "stdout",
     "output_type": "stream",
     "text": [
      "_________________________________________________________________\n",
      "Layer (type)                 Output Shape              Param #   \n",
      "=================================================================\n",
      "embedding_1 (Embedding)      (None, 500, 128)          1280000   \n",
      "_________________________________________________________________\n",
      "conv1d_1 (Conv1D)            (None, 494, 32)           28704     \n",
      "_________________________________________________________________\n",
      "max_pooling1d_1 (MaxPooling1 (None, 98, 32)            0         \n",
      "_________________________________________________________________\n",
      "conv1d_2 (Conv1D)            (None, 92, 32)            7200      \n",
      "_________________________________________________________________\n",
      "global_max_pooling1d_1 (Glob (None, 32)                0         \n",
      "_________________________________________________________________\n",
      "dense_1 (Dense)              (None, 1)                 33        \n",
      "=================================================================\n",
      "Total params: 1,315,937\n",
      "Trainable params: 1,315,937\n",
      "Non-trainable params: 0\n",
      "_________________________________________________________________\n"
     ]
    }
   ],
   "source": [
    "model = Sequential()\n",
    "model.add(Embedding(input_dim = max_features, \n",
    "                    output_dim = 128, \n",
    "                    input_length = max_len))\n",
    "model.add(Conv1D(filters = 32, \n",
    "                 kernel_size = 7, \n",
    "                 activation = 'relu'))\n",
    "model.add(MaxPooling1D(pool_size = 5))\n",
    "model.add(Conv1D(filters = 32, \n",
    "                 kernel_size = 7, \n",
    "                 activation = 'relu'))\n",
    "model.add(GlobalMaxPooling1D())\n",
    "model.add(Dense(units = 1))\n",
    "\n",
    "model.summary()\n",
    "\n",
    "model.compile(optimizer = RMSprop(lr = 1e-4),\n",
    "              loss = 'binary_crossentropy',\n",
    "              metrics = ['acc'])"
   ]
  },
  {
   "cell_type": "code",
   "execution_count": 7,
   "metadata": {},
   "outputs": [
    {
     "name": "stdout",
     "output_type": "stream",
     "text": [
      "Train on 20000 samples, validate on 5000 samples\n",
      "Epoch 1/10\n",
      "20000/20000 [==============================] - 6s 295us/step - loss: 0.8337 - acc: 0.5096 - val_loss: 0.6874 - val_acc: 0.5652\n",
      "Epoch 2/10\n",
      "20000/20000 [==============================] - 3s 162us/step - loss: 0.6699 - acc: 0.6386 - val_loss: 0.6640 - val_acc: 0.6582\n",
      "Epoch 3/10\n",
      "20000/20000 [==============================] - 3s 165us/step - loss: 0.6234 - acc: 0.7529 - val_loss: 0.6075 - val_acc: 0.7442\n",
      "Epoch 4/10\n",
      "20000/20000 [==============================] - 3s 163us/step - loss: 0.5252 - acc: 0.8080 - val_loss: 0.4837 - val_acc: 0.8054\n",
      "Epoch 5/10\n",
      "20000/20000 [==============================] - 3s 165us/step - loss: 0.4093 - acc: 0.8489 - val_loss: 0.4300 - val_acc: 0.8312\n",
      "Epoch 6/10\n",
      "20000/20000 [==============================] - 3s 163us/step - loss: 0.3471 - acc: 0.8672 - val_loss: 0.4117 - val_acc: 0.8406\n",
      "Epoch 7/10\n",
      "20000/20000 [==============================] - 3s 162us/step - loss: 0.3062 - acc: 0.8659 - val_loss: 0.4303 - val_acc: 0.8256\n",
      "Epoch 8/10\n",
      "20000/20000 [==============================] - 3s 167us/step - loss: 0.2795 - acc: 0.8563 - val_loss: 0.4267 - val_acc: 0.8052\n",
      "Epoch 9/10\n",
      "20000/20000 [==============================] - 4s 176us/step - loss: 0.2540 - acc: 0.8298 - val_loss: 0.4421 - val_acc: 0.7910\n",
      "Epoch 10/10\n",
      "20000/20000 [==============================] - 3s 168us/step - loss: 0.2295 - acc: 0.8096 - val_loss: 0.4858 - val_acc: 0.7586\n"
     ]
    }
   ],
   "source": [
    "history = model.fit(x = x_train,\n",
    "                    y = y_train,\n",
    "                    epochs = 10,\n",
    "                    batch_size = 128,\n",
    "                    validation_split = 0.2)"
   ]
  },
  {
   "cell_type": "markdown",
   "metadata": {},
   "source": [
    "## Plotting the results"
   ]
  },
  {
   "cell_type": "code",
   "execution_count": 8,
   "metadata": {},
   "outputs": [
    {
     "data": {
      "image/png": "[encoded data removed]",
      "text/plain": [
       "<matplotlib.figure.Figure at 0x1cfa88fbe10>"
      ]
     },
     "metadata": {},
     "output_type": "display_data"
    },
    {
     "data": {
      "image/png": "[encoded data removed]",
      "text/plain": [
       "<matplotlib.figure.Figure at 0x1cf99795780>"
      ]
     },
     "metadata": {},
     "output_type": "display_data"
    }
   ],
   "source": [
    "import matplotlib.pyplot as plt\n",
    "\n",
    "acc = history.history['acc']\n",
    "val_acc = history.history['val_acc']\n",
    "loss = history.history['loss']\n",
    "val_loss = history.history['val_loss']\n",
    "\n",
    "epochs = range(len(acc))\n",
    "\n",
    "plt.plot(epochs, acc, 'bo', label='Training acc')\n",
    "plt.plot(epochs, val_acc, 'b', label='Validation acc')\n",
    "plt.title('Training and validation accuracy')\n",
    "plt.legend()\n",
    "\n",
    "plt.figure()\n",
    "\n",
    "plt.plot(epochs, loss, 'bo', label='Training loss')\n",
    "plt.plot(epochs, val_loss, 'b', label='Validation loss')\n",
    "plt.title('Training and validation loss')\n",
    "plt.legend()\n",
    "\n",
    "plt.show()"
   ]
  },
  {
   "cell_type": "markdown",
   "metadata": {
    "collapsed": true
   },
   "source": [
    "## Combining CNNs and RNNs to process long sequences"
   ]
  },
  {
   "cell_type": "code",
   "execution_count": 9,
   "metadata": {
    "collapsed": true
   },
   "outputs": [],
   "source": [
    "import os\n",
    "import numpy as np\n",
    "\n",
    "data_dir = './data/Chapter 6.3 - Advanced use of recurrent neural networks/'\n",
    "fname = os.path.join(data_dir, 'jena_climate_2009_2016.csv')\n",
    "\n",
    "# Reading the CSV file\n",
    "f = open(fname)\n",
    "data = f.read()\n",
    "f.close()\n",
    "\n",
    "# Splitting the file line by line\n",
    "lines = data.split('\\n')\n",
    "# Splitting the line by comma\n",
    "header = lines[0].split(',')\n",
    "lines = lines[1:]\n",
    "\n",
    "float_data = np.zeros((len(lines), len(header) - 1))\n",
    "for i, line in enumerate(lines):\n",
    "    values = [float(x) for x in line.split(',')[1:]]\n",
    "    float_data[i, :] = values\n",
    "    \n",
    "mean = float_data[:200000].mean(axis=0)\n",
    "float_data -= mean\n",
    "std = float_data[:200000].std(axis=0)\n",
    "float_data /= std"
   ]
  },
  {
   "cell_type": "code",
   "execution_count": 10,
   "metadata": {
    "collapsed": true
   },
   "outputs": [],
   "source": [
    "# Generator\n",
    "def generator(data, lookback, delay, min_index, max_index,\n",
    "              shuffle=False, batch_size=128, step=6):\n",
    "    if max_index is None:\n",
    "        max_index = len(data) - delay - 1\n",
    "    i = min_index + lookback\n",
    "    while 1:\n",
    "        if shuffle:\n",
    "            rows = np.random.randint(\n",
    "                min_index + lookback, max_index, size=batch_size)\n",
    "        else:\n",
    "            if i + batch_size >= max_index:\n",
    "                i = min_index + lookback\n",
    "            rows = np.arange(i, min(i + batch_size, max_index))\n",
    "            i += len(rows)\n",
    "\n",
    "        samples = np.zeros((len(rows),\n",
    "                           lookback // step,\n",
    "                           data.shape[-1]))\n",
    "        targets = np.zeros((len(rows),))\n",
    "        for j, row in enumerate(rows):\n",
    "            indices = range(rows[j] - lookback, rows[j], step)\n",
    "            samples[j] = data[indices]\n",
    "            targets[j] = data[rows[j] + delay][1]\n",
    "        yield samples, targets"
   ]
  },
  {
   "cell_type": "code",
   "execution_count": 11,
   "metadata": {
    "collapsed": true
   },
   "outputs": [],
   "source": [
    "lookback = 1440\n",
    "step = 6\n",
    "delay = 144\n",
    "batch_size = 128"
   ]
  },
  {
   "cell_type": "code",
   "execution_count": 12,
   "metadata": {
    "collapsed": true
   },
   "outputs": [],
   "source": [
    "train_gen = generator(float_data,\n",
    "                      lookback = lookback,\n",
    "                      delay = delay,\n",
    "                      min_index = 0,\n",
    "                      max_index = 200000,\n",
    "                      shuffle = True,\n",
    "                      step = step, \n",
    "                      batch_size = batch_size)\n",
    "val_gen = generator(float_data,\n",
    "                    lookback = lookback,\n",
    "                    delay = delay,\n",
    "                    min_index = 200001,\n",
    "                    max_index = 300000,\n",
    "                    step = step,\n",
    "                    batch_size = batch_size)\n",
    "test_gen = generator(float_data,\n",
    "                     lookback = lookback,\n",
    "                     delay = delay,\n",
    "                     min_index = 300001,\n",
    "                     max_index = None,\n",
    "                     step = step,\n",
    "                     batch_size = batch_size)"
   ]
  },
  {
   "cell_type": "code",
   "execution_count": 13,
   "metadata": {},
   "outputs": [],
   "source": [
    "# Number of step to be drawn to see whole validation dataset\n",
    "val_steps = (300000 - 200001 - lookback) // batch_size\n",
    "\n",
    "# Number of step to be drawn to see whole test dataset\n",
    "test_steps = (len(float_data) - 300001 - lookback) // batch_size"
   ]
  },
  {
   "cell_type": "markdown",
   "metadata": {},
   "source": [
    "## Conv1D Model"
   ]
  },
  {
   "cell_type": "code",
   "execution_count": 14,
   "metadata": {},
   "outputs": [
    {
     "name": "stdout",
     "output_type": "stream",
     "text": [
      "_________________________________________________________________\n",
      "Layer (type)                 Output Shape              Param #   \n",
      "=================================================================\n",
      "conv1d_3 (Conv1D)            (None, None, 32)          3168      \n",
      "_________________________________________________________________\n",
      "max_pooling1d_2 (MaxPooling1 (None, None, 32)          0         \n",
      "_________________________________________________________________\n",
      "conv1d_4 (Conv1D)            (None, None, 32)          5152      \n",
      "_________________________________________________________________\n",
      "max_pooling1d_3 (MaxPooling1 (None, None, 32)          0         \n",
      "_________________________________________________________________\n",
      "conv1d_5 (Conv1D)            (None, None, 32)          5152      \n",
      "_________________________________________________________________\n",
      "global_max_pooling1d_2 (Glob (None, 32)                0         \n",
      "_________________________________________________________________\n",
      "dense_2 (Dense)              (None, 1)                 33        \n",
      "=================================================================\n",
      "Total params: 13,505\n",
      "Trainable params: 13,505\n",
      "Non-trainable params: 0\n",
      "_________________________________________________________________\n"
     ]
    }
   ],
   "source": [
    "model = Sequential()\n",
    "model.add(Conv1D(filters = 32, \n",
    "                 kernel_size = 7, \n",
    "                 activation = 'relu', \n",
    "                 input_shape = (None, float_data.shape[-1])))\n",
    "model.add(MaxPooling1D(pool_size = 3))\n",
    "model.add(Conv1D(filters = 32, \n",
    "                 kernel_size = 5, \n",
    "                 activation = 'relu'))\n",
    "model.add(MaxPooling1D(pool_size = 3))\n",
    "model.add(Conv1D(filters = 32, \n",
    "                 kernel_size = 5, \n",
    "                 activation = 'relu'))\n",
    "model.add(GlobalMaxPooling1D())\n",
    "model.add(Dense(units = 1))\n",
    "\n",
    "model.summary()\n",
    "\n",
    "model.compile(optimizer = RMSprop(),\n",
    "              loss = 'mae')"
   ]
  },
  {
   "cell_type": "code",
   "execution_count": 15,
   "metadata": {},
   "outputs": [
    {
     "name": "stdout",
     "output_type": "stream",
     "text": [
      "Epoch 1/20\n",
      "500/500 [==============================] - 18s 35ms/step - loss: 0.4182 - val_loss: 0.4301\n",
      "Epoch 2/20\n",
      "500/500 [==============================] - 17s 34ms/step - loss: 0.3587 - val_loss: 0.4368\n",
      "Epoch 3/20\n",
      "500/500 [==============================] - 17s 34ms/step - loss: 0.3333 - val_loss: 0.4383\n",
      "Epoch 4/20\n",
      "500/500 [==============================] - 17s 35ms/step - loss: 0.3184 - val_loss: 0.4525\n",
      "Epoch 5/20\n",
      "500/500 [==============================] - 17s 34ms/step - loss: 0.3034 - val_loss: 0.4458\n",
      "Epoch 6/20\n",
      "500/500 [==============================] - 17s 34ms/step - loss: 0.2966 - val_loss: 0.4567\n",
      "Epoch 7/20\n",
      "500/500 [==============================] - 17s 34ms/step - loss: 0.2885 - val_loss: 0.4574\n",
      "Epoch 8/20\n",
      "500/500 [==============================] - 17s 34ms/step - loss: 0.2832 - val_loss: 0.4712\n",
      "Epoch 9/20\n",
      "500/500 [==============================] - 17s 34ms/step - loss: 0.2756 - val_loss: 0.4634\n",
      "Epoch 10/20\n",
      "500/500 [==============================] - 17s 34ms/step - loss: 0.2710 - val_loss: 0.4472\n",
      "Epoch 11/20\n",
      "500/500 [==============================] - 17s 34ms/step - loss: 0.2674 - val_loss: 0.4638\n",
      "Epoch 12/20\n",
      "500/500 [==============================] - 17s 34ms/step - loss: 0.2648 - val_loss: 0.4510\n",
      "Epoch 13/20\n",
      "500/500 [==============================] - 17s 35ms/step - loss: 0.2585 - val_loss: 0.4664\n",
      "Epoch 14/20\n",
      "500/500 [==============================] - 18s 35ms/step - loss: 0.2569 - val_loss: 0.4452\n",
      "Epoch 15/20\n",
      "500/500 [==============================] - 17s 34ms/step - loss: 0.2538 - val_loss: 0.4480\n",
      "Epoch 16/20\n",
      "500/500 [==============================] - 17s 34ms/step - loss: 0.2494 - val_loss: 0.4491\n",
      "Epoch 17/20\n",
      "500/500 [==============================] - 17s 34ms/step - loss: 0.2471 - val_loss: 0.4569\n",
      "Epoch 18/20\n",
      "500/500 [==============================] - 17s 34ms/step - loss: 0.2449 - val_loss: 0.4554\n",
      "Epoch 19/20\n",
      "500/500 [==============================] - 17s 34ms/step - loss: 0.2430 - val_loss: 0.4705\n",
      "Epoch 20/20\n",
      "500/500 [==============================] - 18s 36ms/step - loss: 0.2421 - val_loss: 0.4523\n"
     ]
    }
   ],
   "source": [
    "history = model.fit_generator(train_gen,\n",
    "                              steps_per_epoch = 500,\n",
    "                              epochs = 20,\n",
    "                              validation_data = val_gen,\n",
    "                              validation_steps = val_steps)"
   ]
  },
  {
   "cell_type": "code",
   "execution_count": 16,
   "metadata": {},
   "outputs": [
    {
     "data": {
      "image/png": "[encoded data removed]",
      "text/plain": [
       "<matplotlib.figure.Figure at 0x1d0a94186d8>"
      ]
     },
     "metadata": {},
     "output_type": "display_data"
    }
   ],
   "source": [
    "import matplotlib.pyplot as plt\n",
    "\n",
    "loss = history.history['loss']\n",
    "val_loss = history.history['val_loss']\n",
    "\n",
    "epochs = range(len(loss))\n",
    "\n",
    "plt.figure()\n",
    "\n",
    "plt.plot(epochs, loss, 'bo', label = 'Training loss')\n",
    "plt.plot(epochs, val_loss, 'b', label = 'Validation loss')\n",
    "plt.title('Training and validation loss')\n",
    "plt.legend()\n",
    "\n",
    "plt.show()"
   ]
  },
  {
   "cell_type": "markdown",
   "metadata": {},
   "source": [
    "## Convolutional and Recurrent Layers Combined"
   ]
  },
  {
   "cell_type": "code",
   "execution_count": 18,
   "metadata": {
    "collapsed": true
   },
   "outputs": [],
   "source": [
    "from keras.layers import GRU"
   ]
  },
  {
   "cell_type": "code",
   "execution_count": 20,
   "metadata": {},
   "outputs": [
    {
     "name": "stdout",
     "output_type": "stream",
     "text": [
      "_________________________________________________________________\n",
      "Layer (type)                 Output Shape              Param #   \n",
      "=================================================================\n",
      "conv1d_10 (Conv1D)           (None, None, 32)          3168      \n",
      "_________________________________________________________________\n",
      "max_pooling1d_6 (MaxPooling1 (None, None, 32)          0         \n",
      "_________________________________________________________________\n",
      "conv1d_11 (Conv1D)           (None, None, 32)          5152      \n",
      "_________________________________________________________________\n",
      "gru_2 (GRU)                  (None, 32)                6240      \n",
      "_________________________________________________________________\n",
      "dense_3 (Dense)              (None, 1)                 33        \n",
      "=================================================================\n",
      "Total params: 14,593\n",
      "Trainable params: 14,593\n",
      "Non-trainable params: 0\n",
      "_________________________________________________________________\n"
     ]
    }
   ],
   "source": [
    "model = Sequential()\n",
    "model.add(Conv1D(filters = 32, \n",
    "                 kernel_size = 7, \n",
    "                 activation = 'relu', \n",
    "                 input_shape = (None, float_data.shape[-1])))\n",
    "model.add(MaxPooling1D(pool_size = 3))\n",
    "model.add(Conv1D(filters = 32, \n",
    "                 kernel_size = 5, \n",
    "                 activation = 'relu'))\n",
    "model.add(GRU(units = 32, \n",
    "              dropout = 0.1, \n",
    "              recurrent_dropout = 0.5))\n",
    "model.add(Dense(units = 1))\n",
    "\n",
    "model.summary()\n",
    "\n",
    "model.compile(optimizer = RMSprop(),\n",
    "              loss = 'mae')"
   ]
  },
  {
   "cell_type": "code",
   "execution_count": 21,
   "metadata": {},
   "outputs": [
    {
     "name": "stdout",
     "output_type": "stream",
     "text": [
      "Epoch 1/20\n",
      "500/500 [==============================] - 119s 238ms/step - loss: 0.3291 - val_loss: 0.2862\n",
      "Epoch 2/20\n",
      "500/500 [==============================] - 125s 251ms/step - loss: 0.2965 - val_loss: 0.2718\n",
      "Epoch 3/20\n",
      "500/500 [==============================] - 129s 258ms/step - loss: 0.2831 - val_loss: 0.2712\n",
      "Epoch 4/20\n",
      "500/500 [==============================] - 123s 246ms/step - loss: 0.2750 - val_loss: 0.2927\n",
      "Epoch 5/20\n",
      "500/500 [==============================] - 120s 241ms/step - loss: 0.2668 - val_loss: 0.2819\n",
      "Epoch 6/20\n",
      "500/500 [==============================] - 117s 233ms/step - loss: 0.2641 - val_loss: 0.2842\n",
      "Epoch 7/20\n",
      "500/500 [==============================] - 119s 239ms/step - loss: 0.2560 - val_loss: 0.2712\n",
      "Epoch 8/20\n",
      "500/500 [==============================] - 115s 230ms/step - loss: 0.2496 - val_loss: 0.2680\n",
      "Epoch 9/20\n",
      "500/500 [==============================] - 126s 251ms/step - loss: 0.2444 - val_loss: 0.2691\n",
      "Epoch 10/20\n",
      "500/500 [==============================] - 125s 251ms/step - loss: 0.2415 - val_loss: 0.2790\n",
      "Epoch 11/20\n",
      "500/500 [==============================] - 117s 233ms/step - loss: 0.2365 - val_loss: 0.2799\n",
      "Epoch 12/20\n",
      "500/500 [==============================] - 117s 233ms/step - loss: 0.2310 - val_loss: 0.2820\n",
      "Epoch 13/20\n",
      "500/500 [==============================] - 117s 233ms/step - loss: 0.2299 - val_loss: 0.2812\n",
      "Epoch 14/20\n",
      "500/500 [==============================] - 117s 235ms/step - loss: 0.2240 - val_loss: 0.2863\n",
      "Epoch 15/20\n",
      "500/500 [==============================] - 119s 237ms/step - loss: 0.2212 - val_loss: 0.2868\n",
      "Epoch 16/20\n",
      "500/500 [==============================] - 116s 232ms/step - loss: 0.2184 - val_loss: 0.2798\n",
      "Epoch 17/20\n",
      "500/500 [==============================] - 131s 261ms/step - loss: 0.2157 - val_loss: 0.2915\n",
      "Epoch 18/20\n",
      "500/500 [==============================] - 125s 250ms/step - loss: 0.2118 - val_loss: 0.2886\n",
      "Epoch 19/20\n",
      "500/500 [==============================] - 119s 238ms/step - loss: 0.2104 - val_loss: 0.2973\n",
      "Epoch 20/20\n",
      "500/500 [==============================] - 128s 255ms/step - loss: 0.2080 - val_loss: 0.2918\n"
     ]
    }
   ],
   "source": [
    "history = model.fit_generator(train_gen,\n",
    "                              steps_per_epoch = 500,\n",
    "                              epochs = 20,\n",
    "                              validation_data = val_gen,\n",
    "                              validation_steps = val_steps)"
   ]
  },
  {
   "cell_type": "code",
   "execution_count": 22,
   "metadata": {},
   "outputs": [
    {
     "data": {
      "image/png": "[encoded data removed]",
      "text/plain": [
       "<matplotlib.figure.Figure at 0x1d0a9ca1630>"
      ]
     },
     "metadata": {},
     "output_type": "display_data"
    }
   ],
   "source": [
    "import matplotlib.pyplot as plt\n",
    "\n",
    "loss = history.history['loss']\n",
    "val_loss = history.history['val_loss']\n",
    "\n",
    "epochs = range(len(loss))\n",
    "\n",
    "plt.figure()\n",
    "\n",
    "plt.plot(epochs, loss, 'bo', label = 'Training loss')\n",
    "plt.plot(epochs, val_loss, 'b', label = 'Validation loss')\n",
    "plt.title('Training and validation loss')\n",
    "plt.legend()\n",
    "\n",
    "plt.show()"
   ]
  }
 ],
 "metadata": {
  "kernelspec": {
   "display_name": "Python 3",
   "language": "python",
   "name": "python3"
  },
  "language_info": {
   "codemirror_mode": {
    "name": "ipython",
    "version": 3
   },
   "file_extension": ".py",
   "mimetype": "text/x-python",
   "name": "python",
   "nbconvert_exporter": "python",
   "pygments_lexer": "ipython3",
   "version": "3.6.1"
  }
 },
 "nbformat": 4,
 "nbformat_minor": 2
}
